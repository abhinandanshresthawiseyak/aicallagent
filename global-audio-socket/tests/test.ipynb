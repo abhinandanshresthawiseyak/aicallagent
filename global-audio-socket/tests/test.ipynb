{
 "cells": [
  {
   "cell_type": "code",
   "execution_count": 1,
   "metadata": {},
   "outputs": [
    {
     "name": "stdout",
     "output_type": "stream",
     "text": [
      "Status Code: 200\n",
      "Response Text: {\"id\":\"1729138946.185\",\"name\":\"PJSIP/fusionPBX-Trunk-015970296-00000062\",\"state\":\"Down\",\"protocol_id\":\"085905fe-dc11-4d10-a389-a92511539464\",\"caller\":{\"name\":\"CallerID\",\"number\":\"+9779863800249\"},\"connected\":{\"name\":\"CallerID\",\"number\":\"\"},\"accountcode\":\"\",\"dialplan\":{\"context\":\"from-trunk\",\"exten\":\"s\",\"priority\":1,\"app_name\":\"AppDial2\",\"app_data\":\"(Outgoing Line)\"},\"creationtime\":\"2024-10-17T04:22:26.438+0000\",\"language\":\"en\"}\n"
     ]
    }
   ],
   "source": [
    "import requests\n",
    "from requests.auth import HTTPBasicAuth\n",
    "\n",
    "# Define the URL and authentication\n",
    "url = \"http://192.168.89.100:8088/ari/channels\"\n",
    "auth = HTTPBasicAuth('test', 'test123')\n",
    "\n",
    "def call(number):\n",
    "    # Define the data payload\n",
    "    data = {\n",
    "        'endpoint': f'PJSIP/{number}@fusionPBX-Trunk-015970296',\n",
    "        'extension': '101',\n",
    "        'context': 'internal',\n",
    "        'priority': '1',\n",
    "        'callerId': 'CallerID'\n",
    "    }\n",
    "\n",
    "    response = requests.post(url, auth=auth, data=data)\n",
    "    return response\n",
    "    \n",
    "# Make the POST request\n",
    "response = call('9843500346')\n",
    "\n",
    "# Print the response\n",
    "print(\"Status Code:\", response.status_code)\n",
    "print(\"Response Text:\", response.text)\n"
   ]
  },
  {
   "cell_type": "code",
   "execution_count": 5,
   "metadata": {},
   "outputs": [
    {
     "data": {
      "text/plain": [
       "<Response [200]>"
      ]
     },
     "execution_count": 5,
     "metadata": {},
     "output_type": "execute_result"
    }
   ],
   "source": [
    "call('9868205040')"
   ]
  },
  {
   "cell_type": "code",
   "execution_count": 45,
   "metadata": {},
   "outputs": [
    {
     "name": "stdout",
     "output_type": "stream",
     "text": [
      "Status Code: 200\n",
      "Response Text: {\"id\":\"1728462583.191\",\"name\":\"PJSIP/fusionPBX-Trunk-015970296-00000066\",\"state\":\"Down\",\"protocol_id\":\"68588227-f79a-494f-a4a7-0b336a1d87a7\",\"caller\":{\"name\":\"CallerID\",\"number\":\"+9779863800249\"},\"connected\":{\"name\":\"CallerID\",\"number\":\"\"},\"accountcode\":\"\",\"dialplan\":{\"context\":\"from-trunk\",\"exten\":\"s\",\"priority\":1,\"app_name\":\"AppDial2\",\"app_data\":\"(Outgoing Line)\"},\"creationtime\":\"2024-10-09T08:29:43.949+0000\",\"language\":\"en\"}\n"
     ]
    }
   ],
   "source": [
    "import requests\n",
    "from requests.auth import HTTPBasicAuth\n",
    "\n",
    "# Define the URL and authentication\n",
    "url = \"http://192.168.89.100:8088/ari/channels\"\n",
    "auth = HTTPBasicAuth('test', 'test123')\n",
    "\n",
    "def call(number):\n",
    "    # Define the data payload\n",
    "    data = {\n",
    "        'endpoint': f'PJSIP/{number}@fusionPBX-Trunk-015970296',\n",
    "        'extension': '5',\n",
    "        'context': 'internal',\n",
    "        'priority': '1',\n",
    "        'callerId': 'CallerID'\n",
    "    }\n",
    "\n",
    "    response = requests.post(url, auth=auth, data=data)\n",
    "    return response\n",
    "    \n",
    "# Make the POST request\n",
    "# response = call('9863800249')\n",
    "# response = call('9868205040')\n",
    "\n",
    "# Print the response\n",
    "print(\"Status Code:\", response.status_code)\n",
    "print(\"Response Text:\", response.text)\n"
   ]
  },
  {
   "cell_type": "code",
   "execution_count": 58,
   "metadata": {},
   "outputs": [],
   "source": [
    "response = call('9865201957')\n",
    "response = call('9863800249')\n",
    "# response = call('9865201957')"
   ]
  },
  {
   "cell_type": "code",
   "execution_count": 6,
   "metadata": {},
   "outputs": [
    {
     "name": "stdout",
     "output_type": "stream",
     "text": [
      "Status Code: 200\n",
      "Response Text: {\"id\":\"1729057804.16\",\"name\":\"PJSIP/fusionPBX-Trunk-015970296-00000008\",\"state\":\"Down\",\"protocol_id\":\"c65c56a5-f940-49d0-a60e-cf24d27f5a91\",\"caller\":{\"name\":\"CallerID\",\"number\":\"+9779863800249\"},\"connected\":{\"name\":\"CallerID\",\"number\":\"\"},\"accountcode\":\"\",\"dialplan\":{\"context\":\"from-trunk\",\"exten\":\"s\",\"priority\":1,\"app_name\":\"AppDial2\",\"app_data\":\"(Outgoing Line)\"},\"creationtime\":\"2024-10-16T05:50:04.501+0000\",\"language\":\"en\"}\n"
     ]
    }
   ],
   "source": [
    "import requests\n",
    "from requests.auth import HTTPBasicAuth\n",
    "\n",
    "# Define the URL and authentication\n",
    "url = \"http://192.168.89.100:8088/ari/channels\"\n",
    "auth = HTTPBasicAuth('test', 'test123')\n",
    "\n",
    "def call(number):\n",
    "    # Define the data payload\n",
    "    data = {\n",
    "        'endpoint': f'PJSIP/{number}@fusionPBX-Trunk-015970296',\n",
    "        'extension': '6',\n",
    "        'context': 'internal',\n",
    "        'priority': '1',\n",
    "        'callerId': 'CallerID'\n",
    "    }\n",
    "\n",
    "    response = requests.post(url, auth=auth, data=data)\n",
    "    return response\n",
    "    \n",
    "# Make the POST request\n",
    "response = call('9868205040')\n",
    "# response = call('9868205040')\n",
    "\n",
    "# Print the response\n",
    "print(\"Status Code:\", response.status_code)\n",
    "print(\"Response Text:\", response.text)\n"
   ]
  },
  {
   "cell_type": "code",
   "execution_count": null,
   "metadata": {},
   "outputs": [],
   "source": [
    "call('9849999280')"
   ]
  },
  {
   "cell_type": "markdown",
   "metadata": {},
   "source": [
    "# Call Logs through websockets"
   ]
  },
  {
   "cell_type": "code",
   "execution_count": 41,
   "metadata": {},
   "outputs": [
    {
     "ename": "RuntimeError",
     "evalue": "asyncio.run() cannot be called from a running event loop",
     "output_type": "error",
     "traceback": [
      "\u001b[0;31m---------------------------------------------------------------------------\u001b[0m",
      "\u001b[0;31mRuntimeError\u001b[0m                              Traceback (most recent call last)",
      "Cell \u001b[0;32mIn[41], line 49\u001b[0m\n\u001b[1;32m     46\u001b[0m                 \u001b[38;5;28;01mbreak\u001b[39;00m\n\u001b[1;32m     48\u001b[0m \u001b[38;5;28;01mif\u001b[39;00m \u001b[38;5;18m__name__\u001b[39m \u001b[38;5;241m==\u001b[39m \u001b[38;5;124m\"\u001b[39m\u001b[38;5;124m__main__\u001b[39m\u001b[38;5;124m\"\u001b[39m:\n\u001b[0;32m---> 49\u001b[0m     \u001b[43masyncio\u001b[49m\u001b[38;5;241;43m.\u001b[39;49m\u001b[43mrun\u001b[49m\u001b[43m(\u001b[49m\u001b[43mlisten_events\u001b[49m\u001b[43m(\u001b[49m\u001b[43m)\u001b[49m\u001b[43m)\u001b[49m\n",
      "File \u001b[0;32m/usr/lib/python3.10/asyncio/runners.py:33\u001b[0m, in \u001b[0;36mrun\u001b[0;34m(main, debug)\u001b[0m\n\u001b[1;32m      9\u001b[0m \u001b[38;5;124;03m\"\"\"Execute the coroutine and return the result.\u001b[39;00m\n\u001b[1;32m     10\u001b[0m \n\u001b[1;32m     11\u001b[0m \u001b[38;5;124;03mThis function runs the passed coroutine, taking care of\u001b[39;00m\n\u001b[0;32m   (...)\u001b[0m\n\u001b[1;32m     30\u001b[0m \u001b[38;5;124;03m    asyncio.run(main())\u001b[39;00m\n\u001b[1;32m     31\u001b[0m \u001b[38;5;124;03m\"\"\"\u001b[39;00m\n\u001b[1;32m     32\u001b[0m \u001b[38;5;28;01mif\u001b[39;00m events\u001b[38;5;241m.\u001b[39m_get_running_loop() \u001b[38;5;129;01mis\u001b[39;00m \u001b[38;5;129;01mnot\u001b[39;00m \u001b[38;5;28;01mNone\u001b[39;00m:\n\u001b[0;32m---> 33\u001b[0m     \u001b[38;5;28;01mraise\u001b[39;00m \u001b[38;5;167;01mRuntimeError\u001b[39;00m(\n\u001b[1;32m     34\u001b[0m         \u001b[38;5;124m\"\u001b[39m\u001b[38;5;124masyncio.run() cannot be called from a running event loop\u001b[39m\u001b[38;5;124m\"\u001b[39m)\n\u001b[1;32m     36\u001b[0m \u001b[38;5;28;01mif\u001b[39;00m \u001b[38;5;129;01mnot\u001b[39;00m coroutines\u001b[38;5;241m.\u001b[39miscoroutine(main):\n\u001b[1;32m     37\u001b[0m     \u001b[38;5;28;01mraise\u001b[39;00m \u001b[38;5;167;01mValueError\u001b[39;00m(\u001b[38;5;124m\"\u001b[39m\u001b[38;5;124ma coroutine was expected, got \u001b[39m\u001b[38;5;132;01m{!r}\u001b[39;00m\u001b[38;5;124m\"\u001b[39m\u001b[38;5;241m.\u001b[39mformat(main))\n",
      "\u001b[0;31mRuntimeError\u001b[0m: asyncio.run() cannot be called from a running event loop"
     ]
    }
   ],
   "source": [
    "import asyncio\n",
    "import websockets\n",
    "import json\n",
    "import logging\n",
    "\n",
    "# Set up logging configuration\n",
    "logging.basicConfig(\n",
    "    filename='asterisk_events.log',  # File to write the logs\n",
    "    filemode='a',                    # Append to the file\n",
    "    format='%(asctime)s - %(levelname)s - %(message)s',  # Log format\n",
    "    level=logging.INFO                # Log level\n",
    ")\n",
    "\n",
    "CALL_ANSWERED = False\n",
    "CALL_ENDED = False\n",
    "\n",
    "async def listen_events():\n",
    "    global CALL_ANSWERED, CALL_ENDED\n",
    "    url = \"ws://192.168.89.100:8088/ari/events?api_key=test:test123&subscribeAll=yes&app=test\"  # Adjust the app name as necessary\n",
    "\n",
    "    async with websockets.connect(url) as websocket:\n",
    "        print(\"Connected to Asterisk events WebSocket\")\n",
    "\n",
    "        while True:\n",
    "            try:\n",
    "                event = await websocket.recv()\n",
    "                logs=json.loads(event)\n",
    "                # print(logs)\n",
    "                logging.info(f\"Received event: {logs}\")\n",
    "                if 'type' in logs and logs['type']=='ChannelCreated' and logs['channel']['caller']['number'] !='':\n",
    "                    print(f\"Calling from extension:{logs['channel']['caller']['number']} to {logs['channel']['dialplan']['exten']}\" ,)\n",
    "\n",
    "                if 'channel' in logs and logs['channel']['state'] == 'Up':\n",
    "                    print('Call Answered: ')\n",
    "                    CALL_ANSWERED = True\n",
    "\n",
    "                if 'type' in logs and logs['type'] == 'ChannelDestroyed':\n",
    "                    CALL_ENDED=True\n",
    "                    print('Call Ended with reason:',logs['cause_txt'])\n",
    "\n",
    "            except websockets.ConnectionClosed:\n",
    "                print(\"Connection closed, reconnecting...\")\n",
    "                break\n",
    "            except Exception as e:\n",
    "                print(f\"An error occurred: {e}\")\n",
    "                break\n",
    "\n",
    "if __name__ == \"__main__\":\n",
    "    asyncio.run(listen_events())"
   ]
  },
  {
   "cell_type": "code",
   "execution_count": 3,
   "metadata": {},
   "outputs": [
    {
     "data": {
      "text/plain": [
       "0"
      ]
     },
     "execution_count": 3,
     "metadata": {},
     "output_type": "execute_result"
    }
   ],
   "source": [
    "\n",
    "def fun(inc: int):\n",
    "    a=1\n",
    "    a+=inc\n",
    "    return a\n",
    "\n",
    "fun(-1)"
   ]
  },
  {
   "cell_type": "markdown",
   "metadata": {},
   "source": [
    "# For Controller.ipynb\n"
   ]
  },
  {
   "cell_type": "markdown",
   "metadata": {},
   "source": [
    "### #1 Check Container Status"
   ]
  },
  {
   "cell_type": "code",
   "execution_count": 68,
   "metadata": {},
   "outputs": [
    {
     "data": {
      "text/html": [
       "<div>\n",
       "<style scoped>\n",
       "    .dataframe tbody tr th:only-of-type {\n",
       "        vertical-align: middle;\n",
       "    }\n",
       "\n",
       "    .dataframe tbody tr th {\n",
       "        vertical-align: top;\n",
       "    }\n",
       "\n",
       "    .dataframe thead th {\n",
       "        text-align: right;\n",
       "    }\n",
       "</style>\n",
       "<table border=\"1\" class=\"dataframe\">\n",
       "  <thead>\n",
       "    <tr style=\"text-align: right;\">\n",
       "      <th></th>\n",
       "      <th>client_id</th>\n",
       "      <th>extension</th>\n",
       "      <th>container_name</th>\n",
       "      <th>active</th>\n",
       "      <th>modified_on_utc</th>\n",
       "      <th>id</th>\n",
       "      <th>container_ip</th>\n",
       "      <th>max_clients</th>\n",
       "      <th>data_json</th>\n",
       "    </tr>\n",
       "  </thead>\n",
       "  <tbody>\n",
       "    <tr>\n",
       "      <th>0</th>\n",
       "      <td>1</td>\n",
       "      <td>102</td>\n",
       "      <td>audiosocket-102</td>\n",
       "      <td>False</td>\n",
       "      <td>2024-10-18T06:32:26.075703</td>\n",
       "      <td>3</td>\n",
       "      <td>192.168.89.102</td>\n",
       "      <td>2</td>\n",
       "      <td>None</td>\n",
       "    </tr>\n",
       "    <tr>\n",
       "      <th>1</th>\n",
       "      <td>2</td>\n",
       "      <td>102</td>\n",
       "      <td>audiosocket-102</td>\n",
       "      <td>False</td>\n",
       "      <td>2024-10-18T06:32:26.076583</td>\n",
       "      <td>4</td>\n",
       "      <td>192.168.89.102</td>\n",
       "      <td>2</td>\n",
       "      <td>None</td>\n",
       "    </tr>\n",
       "    <tr>\n",
       "      <th>2</th>\n",
       "      <td>1</td>\n",
       "      <td>103</td>\n",
       "      <td>audiosocket-103</td>\n",
       "      <td>False</td>\n",
       "      <td>2024-10-18T06:32:26.077418</td>\n",
       "      <td>5</td>\n",
       "      <td>192.168.89.103</td>\n",
       "      <td>2</td>\n",
       "      <td>None</td>\n",
       "    </tr>\n",
       "    <tr>\n",
       "      <th>3</th>\n",
       "      <td>2</td>\n",
       "      <td>103</td>\n",
       "      <td>audiosocket-103</td>\n",
       "      <td>False</td>\n",
       "      <td>2024-10-18T06:32:26.078238</td>\n",
       "      <td>6</td>\n",
       "      <td>192.168.89.103</td>\n",
       "      <td>2</td>\n",
       "      <td>None</td>\n",
       "    </tr>\n",
       "    <tr>\n",
       "      <th>4</th>\n",
       "      <td>2</td>\n",
       "      <td>101</td>\n",
       "      <td>audiosocket-101</td>\n",
       "      <td>False</td>\n",
       "      <td>2024-10-18T07:29:17.005146</td>\n",
       "      <td>2</td>\n",
       "      <td>192.168.89.101</td>\n",
       "      <td>2</td>\n",
       "      <td>None</td>\n",
       "    </tr>\n",
       "    <tr>\n",
       "      <th>5</th>\n",
       "      <td>1</td>\n",
       "      <td>101</td>\n",
       "      <td>audiosocket-101</td>\n",
       "      <td>False</td>\n",
       "      <td>2024-10-18T07:31:00.359402</td>\n",
       "      <td>1</td>\n",
       "      <td>192.168.89.101</td>\n",
       "      <td>2</td>\n",
       "      <td>None</td>\n",
       "    </tr>\n",
       "  </tbody>\n",
       "</table>\n",
       "</div>"
      ],
      "text/plain": [
       "   client_id  extension   container_name  active             modified_on_utc  \\\n",
       "0          1        102  audiosocket-102   False  2024-10-18T06:32:26.075703   \n",
       "1          2        102  audiosocket-102   False  2024-10-18T06:32:26.076583   \n",
       "2          1        103  audiosocket-103   False  2024-10-18T06:32:26.077418   \n",
       "3          2        103  audiosocket-103   False  2024-10-18T06:32:26.078238   \n",
       "4          2        101  audiosocket-101   False  2024-10-18T07:29:17.005146   \n",
       "5          1        101  audiosocket-101   False  2024-10-18T07:31:00.359402   \n",
       "\n",
       "   id    container_ip  max_clients data_json  \n",
       "0   3  192.168.89.102            2      None  \n",
       "1   4  192.168.89.102            2      None  \n",
       "2   5  192.168.89.103            2      None  \n",
       "3   6  192.168.89.103            2      None  \n",
       "4   2  192.168.89.101            2      None  \n",
       "5   1  192.168.89.101            2      None  "
      ]
     },
     "execution_count": 68,
     "metadata": {},
     "output_type": "execute_result"
    }
   ],
   "source": [
    "# !pip install pandas\n",
    "import requests\n",
    "import pandas as pd\n",
    "\n",
    "# Make the request\n",
    "url = \"http://192.168.89.109:8001/get_container_status\"\n",
    "headers = {\"accept\": \"application/json\"}\n",
    "response = requests.get(url, headers=headers)\n",
    "\n",
    "# Check if the request was successful\n",
    "if response.status_code == 200:\n",
    "    data = response.json()\n",
    "    df = pd.DataFrame(data)\n",
    "else:\n",
    "    print(f\"Request failed with status code: {response.status_code}\")\n",
    "\n",
    "df"
   ]
  },
  {
   "cell_type": "code",
   "execution_count": 47,
   "metadata": {},
   "outputs": [
    {
     "data": {
      "text/html": [
       "<div>\n",
       "<style scoped>\n",
       "    .dataframe tbody tr th:only-of-type {\n",
       "        vertical-align: middle;\n",
       "    }\n",
       "\n",
       "    .dataframe tbody tr th {\n",
       "        vertical-align: top;\n",
       "    }\n",
       "\n",
       "    .dataframe thead th {\n",
       "        text-align: right;\n",
       "    }\n",
       "</style>\n",
       "<table border=\"1\" class=\"dataframe\">\n",
       "  <thead>\n",
       "    <tr style=\"text-align: right;\">\n",
       "      <th></th>\n",
       "      <th>extension</th>\n",
       "      <th>client_id</th>\n",
       "    </tr>\n",
       "  </thead>\n",
       "  <tbody>\n",
       "    <tr>\n",
       "      <th>0</th>\n",
       "      <td>102</td>\n",
       "      <td>1</td>\n",
       "    </tr>\n",
       "  </tbody>\n",
       "</table>\n",
       "</div>"
      ],
      "text/plain": [
       "   extension  client_id\n",
       "0        102          1"
      ]
     },
     "execution_count": 47,
     "metadata": {},
     "output_type": "execute_result"
    }
   ],
   "source": [
    "# gives me first extension that is not active or the call is ended to make it inactive\n",
    "df[df['active']==False][['extension','client_id']].head(1)"
   ]
  },
  {
   "cell_type": "markdown",
   "metadata": {},
   "source": [
    "### #2 Choose inactive container's extension and client_id"
   ]
  },
  {
   "cell_type": "code",
   "execution_count": 58,
   "metadata": {},
   "outputs": [
    {
     "data": {
      "text/plain": [
       "(102, 1)"
      ]
     },
     "execution_count": 58,
     "metadata": {},
     "output_type": "execute_result"
    }
   ],
   "source": [
    "df[df['active']==False][['extension','client_id']].head(1)['extension'].item(), df[df['active']==False][['extension','client_id']].head(1)['client_id'].item()"
   ]
  },
  {
   "cell_type": "markdown",
   "metadata": {},
   "source": [
    "### #3 Check Scheduled User Calls"
   ]
  },
  {
   "cell_type": "code",
   "execution_count": 59,
   "metadata": {},
   "outputs": [
    {
     "data": {
      "text/html": [
       "<div>\n",
       "<style scoped>\n",
       "    .dataframe tbody tr th:only-of-type {\n",
       "        vertical-align: middle;\n",
       "    }\n",
       "\n",
       "    .dataframe tbody tr th {\n",
       "        vertical-align: top;\n",
       "    }\n",
       "\n",
       "    .dataframe thead th {\n",
       "        text-align: right;\n",
       "    }\n",
       "</style>\n",
       "<table border=\"1\" class=\"dataframe\">\n",
       "  <thead>\n",
       "    <tr style=\"text-align: right;\">\n",
       "      <th></th>\n",
       "      <th>name</th>\n",
       "      <th>call_type</th>\n",
       "      <th>status</th>\n",
       "      <th>modified_on_utc</th>\n",
       "      <th>phone_number</th>\n",
       "      <th>id</th>\n",
       "      <th>tts_folder_location</th>\n",
       "      <th>scheduled_for_utc</th>\n",
       "    </tr>\n",
       "  </thead>\n",
       "  <tbody>\n",
       "    <tr>\n",
       "      <th>0</th>\n",
       "      <td>Abhinandan Shrestha</td>\n",
       "      <td>tv_subscription</td>\n",
       "      <td>pending</td>\n",
       "      <td>None</td>\n",
       "      <td>9868205040</td>\n",
       "      <td>1</td>\n",
       "      <td>/app/audios</td>\n",
       "      <td>2024-10-18T11:47:49.007694</td>\n",
       "    </tr>\n",
       "    <tr>\n",
       "      <th>1</th>\n",
       "      <td>Binit</td>\n",
       "      <td>tv_subscription</td>\n",
       "      <td>failed</td>\n",
       "      <td>2024-10-18T06:21:51.311895</td>\n",
       "      <td>9840906760</td>\n",
       "      <td>2</td>\n",
       "      <td>/app/audios</td>\n",
       "      <td>2024-10-25T13:21:03</td>\n",
       "    </tr>\n",
       "  </tbody>\n",
       "</table>\n",
       "</div>"
      ],
      "text/plain": [
       "                  name        call_type   status             modified_on_utc  \\\n",
       "0  Abhinandan Shrestha  tv_subscription  pending                        None   \n",
       "1                Binit  tv_subscription   failed  2024-10-18T06:21:51.311895   \n",
       "\n",
       "  phone_number  id tts_folder_location           scheduled_for_utc  \n",
       "0   9868205040   1         /app/audios  2024-10-18T11:47:49.007694  \n",
       "1   9840906760   2         /app/audios         2024-10-25T13:21:03  "
      ]
     },
     "execution_count": 59,
     "metadata": {},
     "output_type": "execute_result"
    }
   ],
   "source": [
    "# Make the request\n",
    "url = \"http://192.168.89.109:8001/users\"\n",
    "headers = {\"accept\": \"application/json\"}\n",
    "response = requests.get(url, headers=headers)\n",
    "\n",
    "# Check if the request was successful\n",
    "if response.status_code == 200:\n",
    "    data = response.json()\n",
    "    df = pd.DataFrame(data)\n",
    "else:\n",
    "    print(f\"Request failed with status code: {response.status_code}\")\n",
    "\n",
    "df"
   ]
  },
  {
   "cell_type": "code",
   "execution_count": 67,
   "metadata": {},
   "outputs": [
    {
     "data": {
      "text/plain": [
       "'[{\"name\":\"Abhinandan Shrestha\",\"call_type\":\"tv_subscription\",\"status\":\"pending\",\"modified_on_utc\":null,\"phone_number\":\"9868205040\",\"id\":1,\"tts_folder_location\":\"\\\\/app\\\\/audios\",\"scheduled_for_utc\":\"2024-10-18T11:47:49.007694\"}]'"
      ]
     },
     "execution_count": 67,
     "metadata": {},
     "output_type": "execute_result"
    }
   ],
   "source": [
    "df[df['status']=='pending'].to_json(orient='records')"
   ]
  },
  {
   "cell_type": "code",
   "execution_count": 109,
   "metadata": {},
   "outputs": [
    {
     "name": "stdout",
     "output_type": "stream",
     "text": [
      "Status Code: 200\n",
      "Response Text: {\"id\":\"1729247352.473\",\"name\":\"PJSIP/fusionPBX-Trunk-015970296-000000f4\",\"state\":\"Down\",\"protocol_id\":\"0c15c986-cf3d-4e1d-aa29-9035696c56ef\",\"caller\":{\"name\":\"CallerID\",\"number\":\"+9779863800249\"},\"connected\":{\"name\":\"CallerID\",\"number\":\"\"},\"accountcode\":\"\",\"dialplan\":{\"context\":\"from-trunk\",\"exten\":\"s\",\"priority\":1,\"app_name\":\"AppDial2\",\"app_data\":\"(Outgoing Line)\"},\"creationtime\":\"2024-10-18T10:29:12.629+0000\",\"language\":\"en\"}\n"
     ]
    }
   ],
   "source": [
    "import requests\n",
    "from requests.auth import HTTPBasicAuth\n",
    "\n",
    "# Define the URL and authentication\n",
    "url = \"http://192.168.89.100:8088/ari/channels\"\n",
    "auth = HTTPBasicAuth('test', 'test123')\n",
    "\n",
    "def call(number):\n",
    "    # Define the data payload\n",
    "    data = {\n",
    "        'endpoint': f'PJSIP/{number}@fusionPBX-Trunk-015970296',\n",
    "        'extension': '1041',\n",
    "        'context': 'internal',\n",
    "        'priority': '1',\n",
    "        'callerId': 'CallerID'\n",
    "    }\n",
    "\n",
    "    response = requests.post(url, auth=auth, data=data)\n",
    "    return response\n",
    "    \n",
    "# Make the POST request\n",
    "response = call('9863800249')\n",
    "\n",
    "# Print the response\n",
    "print(\"Status Code:\", response.status_code)\n",
    "print(\"Response Text:\", response.text)"
   ]
  },
  {
   "cell_type": "code",
   "execution_count": 110,
   "metadata": {},
   "outputs": [
    {
     "name": "stdout",
     "output_type": "stream",
     "text": [
      "Status Code: 200\n",
      "Response Text: {\"id\":\"1729247352.474\",\"name\":\"PJSIP/fusionPBX-Trunk-015970296-000000f5\",\"state\":\"Down\",\"protocol_id\":\"e960d585-9343-4a06-84bc-215778146ed6\",\"caller\":{\"name\":\"CallerID\",\"number\":\"+9779863800249\"},\"connected\":{\"name\":\"CallerID\",\"number\":\"\"},\"accountcode\":\"\",\"dialplan\":{\"context\":\"from-trunk\",\"exten\":\"s\",\"priority\":1,\"app_name\":\"AppDial2\",\"app_data\":\"(Outgoing Line)\"},\"creationtime\":\"2024-10-18T10:29:12.928+0000\",\"language\":\"en\"}\n"
     ]
    }
   ],
   "source": [
    "import requests\n",
    "from requests.auth import HTTPBasicAuth\n",
    "\n",
    "# Define the URL and authentication\n",
    "url = \"http://192.168.89.100:8088/ari/channels\"\n",
    "auth = HTTPBasicAuth('test', 'test123')\n",
    "\n",
    "def call(number):\n",
    "    # Define the data payload\n",
    "    data = {\n",
    "        'endpoint': f'PJSIP/{number}@fusionPBX-Trunk-015970296',\n",
    "        'extension': '1042',\n",
    "        'context': 'internal',\n",
    "        'priority': '1',\n",
    "        'callerId': 'CallerID'\n",
    "    }\n",
    "\n",
    "    response = requests.post(url, auth=auth, data=data)\n",
    "    return response\n",
    "    \n",
    "# Make the POST request\n",
    "response = call('9868205040')\n",
    "\n",
    "# Print the response\n",
    "print(\"Status Code:\", response.status_code)\n",
    "print(\"Response Text:\", response.text)"
   ]
  },
  {
   "cell_type": "code",
   "execution_count": null,
   "metadata": {},
   "outputs": [],
   "source": []
  },
  {
   "cell_type": "markdown",
   "metadata": {},
   "source": [
    "## Cut off audio"
   ]
  },
  {
   "cell_type": "code",
   "execution_count": 4,
   "metadata": {},
   "outputs": [
    {
     "name": "stdout",
     "output_type": "stream",
     "text": [
      "Defaulting to user installation because normal site-packages is not writeable\n",
      "Requirement already satisfied: pydub in /home/bumblebee/.local/lib/python3.10/site-packages (0.25.1)\n",
      "Audio trimmed to 5.5 seconds successfully!\n"
     ]
    }
   ],
   "source": [
    "# !pip install pydub\n",
    "# from pydub import AudioSegment\n",
    "\n",
    "# # Load the audio file (you can specify the path to your audio file here)\n",
    "# audio = AudioSegment.from_file(\"/home/bumblebee/kumar/aiAgentAudioSocket/audio-socket/audios/isp3_no (2).wav\")\n",
    "\n",
    "# # Set the desired length to 5.5 seconds (5500 milliseconds)\n",
    "# new_audio_duration = 5800  # 5.5 seconds in milliseconds\n",
    "\n",
    "# # Slice the audio to keep only the first 5.5 seconds\n",
    "# trimmed_audio = audio[:new_audio_duration]\n",
    "\n",
    "# # Export the trimmed audio to a new file\n",
    "# trimmed_audio.export(\"trimmed_audio.wav\", format=\"wav\")\n",
    "\n",
    "# print(\"Audio trimmed to 5.8 seconds successfully!\")\n"
   ]
  },
  {
   "cell_type": "code",
   "execution_count": 3,
   "metadata": {},
   "outputs": [
    {
     "name": "stdout",
     "output_type": "stream",
     "text": [
      "<pydub.audio_segment.AudioSegment object at 0x79ec543bca00>\n",
      "[<pydub.audio_segment.AudioSegment object at 0x79ec543bf610>, <pydub.audio_segment.AudioSegment object at 0x79ec543bf250>, <pydub.audio_segment.AudioSegment object at 0x79ec543bdcc0>]\n"
     ]
    },
    {
     "data": {
      "text/plain": [
       "<_io.BufferedRandom name='output.mp3'>"
      ]
     },
     "execution_count": 3,
     "metadata": {},
     "output_type": "execute_result"
    }
   ],
   "source": [
    "# Write to a temporary file\n",
    "import tempfile, wave\n",
    "from pydub import AudioSegment\n",
    "from pydub.silence import split_on_silence\n",
    "import tempfile\n",
    "\n",
    "temp_file = tempfile.NamedTemporaryFile(delete=False, suffix='.wav')\n",
    "with wave.open(temp_file.name, 'wb') as wav_file:\n",
    "    # Assume you know the format or extract/format it from your data\n",
    "    num_channels = 1  # Stereo\n",
    "    sample_width = 2  # 16 bits per sample\n",
    "    frame_rate = 8000  # Sample rate\n",
    "\n",
    "    # Set parameters required for the WAV file\n",
    "    wav_file.setnchannels(num_channels)\n",
    "    wav_file.setsampwidth(sample_width)\n",
    "    wav_file.setframerate(frame_rate)\n",
    "\n",
    "    # Write audio data\n",
    "    wav_file.writeframes(audio_bytes)\n",
    "\n",
    "logging.info(temp_file.name)\n",
    "sound = AudioSegment.from_file(temp_file.name, format='wav')\n",
    "\n",
    "# Split on silence\n",
    "chunks = split_on_silence(\n",
    "    sound,\n",
    "    min_silence_len = 100\n",
    "    ,silence_thresh = -45\n",
    "    ,keep_silence = 50\n",
    ")\n",
    "logging.info(chunks)\n",
    "\n",
    "if chunks:\n",
    "    # Concatenate the chunks back together\n",
    "    processed_audio = chunks[0]\n",
    "    for chunk in chunks[1:]:\n",
    "        processed_audio += chunk\n",
    "else:\n",
    "    processed_audio=audio_bytes\n",
    "\n"
   ]
  },
  {
   "cell_type": "markdown",
   "metadata": {},
   "source": [
    "# test asr"
   ]
  },
  {
   "cell_type": "code",
   "execution_count": 1,
   "metadata": {},
   "outputs": [
    {
     "data": {
      "text/plain": [
       "\" I don't think so.\""
      ]
     },
     "execution_count": 1,
     "metadata": {},
     "output_type": "execute_result"
    }
   ],
   "source": [
    "import wave, requests\n",
    "\n",
    "# Function to open a wave file and extract audio bytes\n",
    "def extract_audio_bytes(file_path):\n",
    "    # Open the wave file in read mode\n",
    "    with wave.open(file_path, 'rb') as wave_file:\n",
    "        # Read the audio frames as bytes\n",
    "        audio_bytes = wave_file.readframes(wave_file.getnframes())\n",
    "        \n",
    "        # Return the audio bytes\n",
    "        return audio_bytes\n",
    "\n",
    "asr_base_url='http://192.168.88.10:8028/transcribe_sip_en'\n",
    "\n",
    "# # 14 second audio\n",
    "# files = {\n",
    "#     \"audio_file\": (\"audio.wav\", extract_audio_bytes('audio-socket/2024-10-21 16:35:15___e17209d6-af7e-48d6-8d7a-17ce77801a2c__7.wav'), \"audio/wav\")\n",
    "# }\n",
    "\n",
    "# # 2 second audio\n",
    "# files = {\n",
    "#     \"audio_file\": (\"audio.wav\", extract_audio_bytes('/home/bumblebee/kumar/aiAgentAudioSocket/audio-socket/2024-10-21 16:35:00___e17209d6-af7e-48d6-8d7a-17ce77801a2c__6.wav'), \"audio/wav\")\n",
    "# }\n",
    "\n",
    "# # 10 second audio\n",
    "# files = {\n",
    "#     \"audio_file\": (\"audio.wav\", extract_audio_bytes('/home/bumblebee/kumar/aiAgentAudioSocket/audio-socket/2024-10-21 16:34:58___e17209d6-af7e-48d6-8d7a-17ce77801a2c__5.wav'), \"audio/wav\")\n",
    "# }\n",
    "\n",
    "# 27 sec\n",
    "files = {\n",
    "    \"audio_file\": (\"audio.wav\", extract_audio_bytes('/home/bumblebee/kumar/aiAgentAudioSocket/audio-socket/vad_output/332018f1-74f6-4def-8913-4f46997d13e3__7.wav'), \"audio/wav\")\n",
    "}\n",
    "\n",
    "\n",
    "response = requests.post(asr_base_url, files=files)\n",
    "asr_output_text=response.json()\n",
    "asr_output_text"
   ]
  },
  {
   "cell_type": "markdown",
   "metadata": {},
   "source": [
    "# Up Sampling 8000 Hz audio to 16000 Hz"
   ]
  },
  {
   "cell_type": "code",
   "execution_count": 1,
   "metadata": {},
   "outputs": [],
   "source": [
    "# !pip install scipy\n",
    "import numpy as np\n",
    "from scipy.signal import resample\n",
    "\n",
    "def upsample_audio_stream(audio_bytes, sample_rate=8000, new_sample_rate=16000):\n",
    "    audio_data = np.frombuffer(audio_bytes, dtype=np.int16)  # Assuming 16-bit PCM\n",
    "    num_samples = int(len(audio_data) * new_sample_rate / sample_rate) # Calculate the number of samples after upsampling\n",
    "    upsampled_data = resample(audio_data, num_samples) # Resample the audio data\n",
    "    upsampled_bytes = upsampled_data.astype(np.int16).tobytes() # Convert the numpy array back to bytes\n",
    "    return upsampled_bytes"
   ]
  },
  {
   "cell_type": "code",
   "execution_count": 2,
   "metadata": {},
   "outputs": [
    {
     "data": {
      "text/plain": [
       "(1, 8000, 2)"
      ]
     },
     "execution_count": 2,
     "metadata": {},
     "output_type": "execute_result"
    }
   ],
   "source": [
    "import wave\n",
    "\n",
    "# File path\n",
    "file_path = \"/home/bumblebee/kumar/aiAgentAudioSocket/audio-socket/2024-10-21 16:35:00___e17209d6-af7e-48d6-8d7a-17ce77801a2c__6.wav\"\n",
    "# file_path = \"./upsampled_audio_16000hz.wav\"\n",
    "\n",
    "# Open the wave file and read audio bytes\n",
    "with wave.open(file_path, 'rb') as f:\n",
    "    channels = f.getnchannels()\n",
    "    sample_width = f.getsampwidth()\n",
    "    sample_rate = f.getframerate()\n",
    "    audio_bytes = f.readframes(f.getnframes())\n",
    "\n",
    "channels, sample_rate, sample_width"
   ]
  },
  {
   "cell_type": "code",
   "execution_count": 3,
   "metadata": {},
   "outputs": [],
   "source": [
    "audio_bytes16000hz = upsample_audio_stream(audio_bytes, sample_rate=8000, new_sample_rate=16000)"
   ]
  },
  {
   "cell_type": "code",
   "execution_count": 46,
   "metadata": {},
   "outputs": [],
   "source": [
    "# Saving the audio as a new wave file (16000Hz, 16-bit, mono)\n",
    "output_file_path = \"./upsampled_audio_16000hz.wav\"\n",
    "\n",
    "with wave.open(output_file_path, 'wb') as wave_out:\n",
    "    wave_out.setnchannels(1)  # Mono\n",
    "    wave_out.setsampwidth(2)  # 16-bit (2 bytes)\n",
    "    wave_out.setframerate(16000)  # 16000 Hz sample rate\n",
    "    wave_out.writeframes(audio_bytes16000hz)"
   ]
  },
  {
   "cell_type": "code",
   "execution_count": 49,
   "metadata": {},
   "outputs": [
    {
     "data": {
      "text/plain": [
       "' Hello.'"
      ]
     },
     "execution_count": 49,
     "metadata": {},
     "output_type": "execute_result"
    }
   ],
   "source": [
    "import requests\n",
    "asr_base_url='http://192.168.88.10:8028/transcribe_sip_en16000/'\n",
    "\n",
    "files = {\n",
    "    \"audio_file\": (\"audio.wav\", audio_bytes16000hz, \"audio/wav\")\n",
    "}\n",
    "\n",
    "response = requests.post(asr_base_url, files=files)\n",
    "response.json()"
   ]
  },
  {
   "cell_type": "markdown",
   "metadata": {},
   "source": [
    "# VAD Test for \"No\""
   ]
  },
  {
   "cell_type": "code",
   "execution_count": 102,
   "metadata": {},
   "outputs": [],
   "source": [
    "import torch\n",
    "torch.set_num_threads(1)\n",
    "\n",
    "model, utils = torch.hub.load(repo_or_dir='./audio-socket/silero-vad',\n",
    "                              source='local',\n",
    "                              model='silero_vad',\n",
    "                              force_reload=True,\n",
    "                              onnx=False)\n",
    "\n",
    "\n",
    "# Check if a GPU is available\n",
    "device = torch.device('cuda' if torch.cuda.is_available() else 'cpu')\n",
    "# logging.info(f'Using device: {device}')\n",
    "\n",
    "model = model.to(device)\n",
    "\n",
    "# (get_speech_timestamps, _, read_audio, _, _) = utils\n",
    "\n",
    "# wav = read_audio('./testing.wav')\n",
    "# speech_timestamps = get_speech_timestamps(\n",
    "#   wav,\n",
    "#   model,\n",
    "#   threshold=0.6,\n",
    "#   return_seconds=True,  # Return speech timestamps in seconds (default is samples)\n",
    "# )"
   ]
  },
  {
   "cell_type": "code",
   "execution_count": 103,
   "metadata": {},
   "outputs": [
    {
     "data": {
      "text/plain": [
       "[{'start': 0.3, 'end': 1.1},\n",
       " {'start': 5.9, 'end': 6.3},\n",
       " {'start': 10.1, 'end': 10.8}]"
      ]
     },
     "execution_count": 103,
     "metadata": {},
     "output_type": "execute_result"
    }
   ],
   "source": [
    "speech_timestamps"
   ]
  },
  {
   "cell_type": "code",
   "execution_count": 86,
   "metadata": {},
   "outputs": [],
   "source": [
    "prob_data=[]\n",
    "vad_dictionary={}\n",
    "speech_threshold=0.0\n",
    "voiced_chunk_count=0\n",
    "silence_count=0\n",
    "\n",
    "def VAD(chunk, threshold_weight=0.85):\n",
    "    global voiced_chunk_count, silence_count, speech_threshold, prob_data, vad_dictionary\n",
    "    # logging.info('Vad Function Started')\n",
    "    np_chunk = np.frombuffer(chunk, dtype=np.int16)\n",
    "    np_chunk = np_chunk.astype(np.float32) / 32768.0\n",
    "    chunk_audio = torch.from_numpy(np_chunk).to(device)\n",
    "\n",
    "    speech_prob = model(chunk_audio, 8000).item()\n",
    "    prob_data.append(speech_prob)\n",
    "\n",
    "    if speech_prob >= threshold_weight:\n",
    "        voiced_chunk_count += 1\n",
    "        silence_count = 0\n",
    "        vad_dictionary[chunk] = 1\n",
    "    else:\n",
    "        vad_dictionary[chunk] = 0\n",
    "        silence_count += 1\n",
    "\n",
    "    # # logging.info(vad_dictionary)\n",
    "    # if prob_data:\n",
    "    #     speech_threshold = threshold_weight * max([i**2 for i in prob_data]) + (1 - threshold_weight) * min([i**2 for i in prob_data])\n"
   ]
  },
  {
   "cell_type": "code",
   "execution_count": 87,
   "metadata": {},
   "outputs": [],
   "source": [
    "SAMPLE_RATE = 8000  # Note: Sample rate of received audio bytes is 8000 and we are upsampling to 16000 for VAD because VAD couldn't detect small speech like \"No\", \"Noooo\" etc.\n",
    "SILENCE_TIME = 2  # seconds\n",
    "CHUNK_SAMPLES = 256\n",
    "CHANNELS = 1\n",
    "BIT_DEPTH = 2\n",
    "CHUNK_SIZE = int(CHUNK_SAMPLES * CHANNELS * BIT_DEPTH) # amt of bytes per chunk\n",
    "\n",
    "import wave\n",
    "\n",
    "# Open the WAV file\n",
    "file_path = './testing.wav'\n",
    "wav = wave.open(file_path, 'rb')\n",
    "\n",
    "# Extract raw audio from file\n",
    "n_channels = wav.getnchannels()\n",
    "sample_width = wav.getsampwidth()\n",
    "framerate = wav.getframerate()\n",
    "n_frames = wav.getnframes()\n",
    "audio_data = wav.readframes(n_frames)"
   ]
  },
  {
   "cell_type": "code",
   "execution_count": 88,
   "metadata": {},
   "outputs": [
    {
     "data": {
      "text/plain": [
       "(1, 2, 8000)"
      ]
     },
     "execution_count": 88,
     "metadata": {},
     "output_type": "execute_result"
    }
   ],
   "source": [
    "n_channels, sample_width, framerate"
   ]
  },
  {
   "cell_type": "code",
   "execution_count": 89,
   "metadata": {},
   "outputs": [],
   "source": [
    "import numpy as np\n",
    "# Iterate over audio_data in chunks of CHUNK_SIZE\n",
    "for i in range(0, len(audio_data), CHUNK_SIZE):\n",
    "    chunk = audio_data[i:i+CHUNK_SIZE]\n",
    "    \n",
    "    # If the last chunk is smaller than CHUNK_SIZE, handle it\n",
    "    if len(chunk) < CHUNK_SIZE:\n",
    "        chunk = chunk.ljust(CHUNK_SIZE, b'\\0')  # Pad with silence (zeros)\n",
    "\n",
    "    # Pass the chunk into the VAD function\n",
    "    VAD(chunk)"
   ]
  },
  {
   "cell_type": "code",
   "execution_count": 90,
   "metadata": {},
   "outputs": [
    {
     "data": {
      "text/plain": [
       "0"
      ]
     },
     "execution_count": 90,
     "metadata": {},
     "output_type": "execute_result"
    }
   ],
   "source": [
    "voiced_chunk_count"
   ]
  },
  {
   "cell_type": "code",
   "execution_count": 91,
   "metadata": {},
   "outputs": [
    {
     "name": "stdout",
     "output_type": "stream",
     "text": [
      "No keys in vad_dictionary have a value of 1 (no voiced chunks detected).\n"
     ]
    }
   ],
   "source": [
    "# Check if there are any keys with a value of 1 in vad_dictionary\n",
    "has_voiced_chunks = any(value == 1 for value in vad_dictionary.values())\n",
    "\n",
    "# Print the result\n",
    "if has_voiced_chunks:\n",
    "    print(\"There are keys in vad_dictionary with a value of 1 (voiced chunks).\")\n",
    "else:\n",
    "    print(\"No keys in vad_dictionary have a value of 1 (no voiced chunks detected).\")\n"
   ]
  },
  {
   "cell_type": "code",
   "execution_count": 2,
   "metadata": {},
   "outputs": [
    {
     "data": {
      "text/plain": [
       "4.362666666666667"
      ]
     },
     "execution_count": 2,
     "metadata": {},
     "output_type": "execute_result"
    }
   ],
   "source": [
    "import wave\n",
    "with wave.open('/home/bumblebee/kumar/aiAgentAudioSocket/audio-socket/audios/isp1 (2).wav', 'r') as wav_file:\n",
    "    frames = wav_file.getnframes()\n",
    "    rate = wav_file.getframerate()\n",
    "    duration = frames / float(rate)\n",
    "\n",
    "duration"
   ]
  },
  {
   "cell_type": "markdown",
   "metadata": {},
   "source": [
    "# Dynamic TTS"
   ]
  },
  {
   "cell_type": "code",
   "execution_count": null,
   "metadata": {},
   "outputs": [],
   "source": [
    "call_type = {\n",
    "    \"states\": {\n",
    "        \"1\": {\n",
    "            \"yes\": {\"next_state\": 2, \"audio_file\": \"atm2yes.wav\"},\n",
    "            \"no\": {\"next_state\": \"out_state\", \"audio_file\": \"atm2no.wav\"},\n",
    "            \"repeat\": {\"next_state\": 1, \"audio_file\": \"atm1.wav\"}\n",
    "        },\n",
    "        \"2\": {\n",
    "            \"yes\": {\"next_state\": 3, \"audio_file\": \"atm3yes.wav\"},\n",
    "            \"no\": {\"next_state\": \"out_state\", \"audio_file\": \"atm3no.wav\"},\n",
    "            \"repeat\": {\"next_state\": 2, \"audio_file\": \"atm2yes.wav\"}\n",
    "        },\n",
    "        \"3\": {\n",
    "            \"yes\": {\"next_state\": 4, \"audio_file\": \"atm5.wav\"},\n",
    "            \"no\": {\"next_state\": \"out_state\", \"audio_file\": \"atm4no.wav\"},\n",
    "            \"repeat\": {\"next_state\": 3, \"audio_file\": \"atm3yes.wav\"}\n",
    "        },\n",
    "        \"4\": {\n",
    "            \"yes\": {\"audio_file\": \"atm5.wav\"},\n",
    "            \"no\": {\"audio_file\": \"atm5.wav\"},\n",
    "            \"repeat\": {\"next_state\": 4, \"audio_file\": \"atm5.wav\"}\n",
    "        }\n",
    "    }\n",
    "}"
   ]
  },
  {
   "cell_type": "code",
   "execution_count": null,
   "metadata": {},
   "outputs": [],
   "source": [
    "def tts_dynamic(state, call_type, llm_output):\n",
    "\n",
    "    if state==call_type['states']['1']:\n",
    "        if llm_output=='yes':\n",
    "            print(\"play \", call_type['states']['1']['yes']['audio_file'])\n",
    "            print(\"state\", call_type['states']['1']['yes']['next_state'])\n",
    "        elif llm_output=='no':\n",
    "            print(\"play \", call_type['states']['1']['no']['audio_file'])\n",
    "            print(\"state\", call_type['states']['1']['no']['next_state'])\n",
    "        elif llm_output=='repeat':\n",
    "            print(\"play \", call_type['states']['1']['repeat']['audio_file'])\n",
    "            print(\"state\", call_type['states']['1']['repeat']['next_state'])\n",
    "\n",
    "    if state==2:\n",
    "        if llm_output=='yes':\n",
    "            print(\"play \", call_type['states']['2']['yes']['audio_file'])\n",
    "            print(\"state\", call_type['states']['2']['yes']['next_state'])\n",
    "        elif llm_output=='no':\n",
    "            print(\"play \", call_type['states']['2']['no']['audio_file'])\n",
    "            print(\"state\", call_type['states']['2']['no']['next_state'])\n",
    "        elif llm_output=='repeat':\n",
    "            print(\"play \", call_type['states']['2']['repeat']['audio_file'])\n",
    "            print(\"state\", call_type['states']['2']['repeat']['next_state'])\n",
    "\n",
    "    if state==3:\n",
    "        if llm_output=='yes':\n",
    "            print(\"play \", call_type['states']['3']['yes']['audio_file'])\n",
    "            print(\"state\", call_type['states']['3']['yes']['next_state'])\n",
    "        elif llm_output=='no':\n",
    "            print(\"play \", call_type['states']['3']['no']['audio_file'])\n",
    "            print(\"state\", call_type['states']['3']['no']['next_state'])\n",
    "        elif llm_output=='repeat':\n",
    "            print(\"play \", call_type['states']['3']['repeat']['audio_file'])\n",
    "            print(\"state\", call_type['states']['3']['repeat']['next_state'])\n",
    "\n",
    "    if state==4:\n",
    "        if llm_output=='yes':\n",
    "            print(\"play \", call_type['states']['4']['yes']['audio_file'])\n",
    "            print(\"state\", call_type['states']['4']['yes']['next_state'])\n",
    "        elif llm_output=='no':\n",
    "            print(\"play \", call_type['states']['4']['no']['audio_file'])\n",
    "            print(\"state\", call_type['states']['4']['no']['next_state'])\n",
    "        elif llm_output=='repeat':\n",
    "            print(\"play \", call_type['states']['4']['repeat']['audio_file'])\n",
    "            print(\"state\", call_type['states']['4']['repeat']['next_state'])\n"
   ]
  },
  {
   "cell_type": "markdown",
   "metadata": {},
   "source": [
    "# Dynamic State Building and Audio Playbacks"
   ]
  },
  {
   "cell_type": "code",
   "execution_count": null,
   "metadata": {},
   "outputs": [],
   "source": [
    "import requests\n",
    "import socket\n",
    "\n",
    "# Define the endpoint and parameters\n",
    "url = \"http://192.168.89.109/assigned_container_user\"\n",
    "params = {\"assigned_container\": socket.gethostname()}\n",
    "\n",
    "# Make the GET request\n",
    "response = requests.get(url, params=params, headers={\"accept\": \"application/json\"})\n",
    "response.json()"
   ]
  },
  {
   "cell_type": "code",
   "execution_count": 2,
   "metadata": {},
   "outputs": [],
   "source": [
    "row={'caller_id': 'fdafasdf123412sadfsadf', 'phone_number': '9868205040', 'tts_folder_location': 'audios/abhinandan', 'assigned_container': 'audiosocket-ne-106-global', 'modified_on_utc': '2024-11-21T07:12:55.732837', 'name': 'Abhinandan Shrestha', 'id': 8, 'call_type': '{     \"type\": \"atm_capture\",     \"out_state\": 4,     \"question_audio_for_tts\":{         \"1\":{             \"yes\": \"नमस्ते! म ग्लोबल बैंकबाट प्रतिवा बोल्दैछु! के तपाईं बिज्ञान अधिकारी जी बोल्दै हुनुहुन्छ!\"         },         \"2\":{             \"yes\":\"तपाईंको एटीएम कार्ड क्याप्चर भएको विषयमा कुरा गर्नु थियो। अहिले हजुरसँग कुरा गर्न मिल्छ?\",             \"no\": \"तपाईंको समयको लागि धन्यवाद। म कुनै पनि अवरोधको लागि क्षमा चाहन्छु।\"         },         \"3\":{             \"yes\":\"हामीले तपाईंको कार्डलाई अस्थायी रूपमा ब्लक गरेका छौं। तपाईंको कार्ड एक हप्ता पछि मात्र बैंकमा आउनेछ र कार्ड फिर्ता लिनको लागि तपाईं आफ्नो नागरिकता वा ड्राइभिङ लाइसेन्स वा पासपोर्ट लिएर ग्लोबल बैंकको कमलादी शाखामा जानुहोला।\",             \"no\": \"मैले तपाईंको प्रतिक्रिया रेकर्ड गरेकी छु। तपाईंको समयको लागि धन्यवाद।\"         },         \"4\":{             \"no\": \"मैले तपाईंको प्रतिक्रिया रेकर्ड गरेकी छु, तपाईंको समयको लागि धन्यवाद।\"         },         \"5\":{             \"yes\":\"हुन्छ, तपाईंको समयको लागि धन्यवाद। केही गार्हो पर्यो भने सम्पर्क गर्नुहोला।\"         }     },     \"llm_states\":{         \"1\":{             \"positive\": [\"हो म {name} बोल्दै छु \", \"हजुर हो \", \"हजुर बोल्दै छु \", \"के कुरा को लागि हो\", \"हजुर भन्नुस म सुनिरहेको छु\", \"ओभाओ भन्नुस् न\", \"हजार भनोस् न के काम पर्\\u200dयो\",\"हजार भनोस् न\"],             \"negative\": [\"हैन\",  \"हैन नि\", \"म त अर्कै मान्छे हो\", \"मेरो नाम त रमेश हो\", \"रंग नम्बर पर्यो\", \"रङ नम्बर पर्\\u200dयो\", \"होइन\"]         },         \"2\":{             \"positive\" : [\"मिल्छ\",\"मिल्छ मिल्छ\",\"हजुर भन्नुस न\", \"अहिले मिल्छ\", \"हजुर मिल छ\"],             \"negative\" : [ \"अहिले त मिल्दैन\", \"मिल्दैन\", \"भोलि मात्रै मिल्छ\", \"एकै छिन पछि मात्रै मिल्छ\", \"अहिले मिल्दैन\", \"हजुर मिल दैन\"]         },         \"3\":{             \"positive\" : [\"हुन्छ\", \"हुन्छ, समय मिलाएर जान पर्ला\", \"धन्यवाद, म जान्छु\", \"म छिट्टै जान्छु\"],             \"negative\" : [\"हुँदैन\", \"अलि छिटो गर्न मिल्दैन?\", \"मलाई हतार छ, अलि चाँडो मिल्छ कि?\", \"म सँग अहिले डकुमेन्टहरू केही पनि छैन\",\"अलि समय पछि जाँदा पनि हुन्छ?\"]         },         \"4\":{             \"positive\" : [\"बुझे\",\"राम्ररी बुझे\",\"बुझे नि, धन्यवाद\"],             \"negative\" : [\"बुझिन\", \"बुझिएन\"]         },         \"repeat\": [[\"could you speak louder\",\"i can\\'t hear you\",\"repeat\",\"repeat please\",\"can you speak alittle louder?\", \"pardon?\", \"can you repeat?\", \"could you repeat?\",\"मैले बुझिन\", \"मलाई फेरी भनि दिनुस न\", \"हजुरले के भन्नु भएको मैले बुझिन\", \"हजुर के भन्नु भाको?\"]]     },     \"tts_next_states\": {       \"1\": {         \"yes\": {           \"next_state\": 2,           \"audio_file\": \"atm_capture2yes.wav\"         },         \"no\": {           \"next_state\": \"out_state\",           \"audio_file\": \"atm_capture2no.wav\"         },         \"repeat\": {           \"next_state\": 1,           \"audio_file\": \"atm_capture1.wav\"         }       },       \"2\": {         \"yes\": {           \"next_state\": 3,           \"audio_file\": \"atm_capture3yes.wav\"         },         \"no\": {           \"next_state\": \"out_state\",           \"audio_file\": \"atm_capture3no.wav\"         },         \"repeat\": {           \"next_state\": 2,           \"audio_file\": \"atm_capture2yes.wav\"         }       },       \"3\": {         \"yes\": {           \"next_state\": 4,           \"audio_file\": \"atm_capture5.wav\"         },         \"no\": {           \"next_state\": \"out_state\",           \"audio_file\": \"atm_capture4no.wav\"         },         \"repeat\": {           \"next_state\": 3,           \"audio_file\": \"atm_capture3yes.wav\"         }       },       \"4\": {         \"yes\": {           \"audio_file\": \"atm_capture5.wav\"         },         \"no\": {           \"audio_file\": \"atm_capture5.wav\"         },         \"repeat\": {           \"next_state\": 4,           \"audio_file\": \"atm_capture5.wav\"         }       }     }   }   ', 'status': 'called', 'scheduled_for_utc': '2024-11-21T09:12:16'}"
   ]
  },
  {
   "cell_type": "code",
   "execution_count": 3,
   "metadata": {},
   "outputs": [],
   "source": [
    "import json\n",
    "call_template=json.loads(row['call_type'])"
   ]
  },
  {
   "cell_type": "code",
   "execution_count": 4,
   "metadata": {},
   "outputs": [],
   "source": [
    "out_state=call_template['out_state']\n",
    "question_audio_for_tts=call_template['question_audio_for_tts']\n",
    "llm_states=call_template['llm_states']\n",
    "tts_next_states=call_template['tts_next_states']"
   ]
  },
  {
   "cell_type": "code",
   "execution_count": 5,
   "metadata": {},
   "outputs": [
    {
     "data": {
      "text/plain": [
       "{'1': {'yes': {'next_state': 2, 'audio_file': 'atm_capture2yes.wav'},\n",
       "  'no': {'next_state': 'out_state', 'audio_file': 'atm_capture2no.wav'},\n",
       "  'repeat': {'next_state': 1, 'audio_file': 'atm_capture1.wav'}},\n",
       " '2': {'yes': {'next_state': 3, 'audio_file': 'atm_capture3yes.wav'},\n",
       "  'no': {'next_state': 'out_state', 'audio_file': 'atm_capture3no.wav'},\n",
       "  'repeat': {'next_state': 2, 'audio_file': 'atm_capture2yes.wav'}},\n",
       " '3': {'yes': {'next_state': 4, 'audio_file': 'atm_capture5.wav'},\n",
       "  'no': {'next_state': 'out_state', 'audio_file': 'atm_capture4no.wav'},\n",
       "  'repeat': {'next_state': 3, 'audio_file': 'atm_capture3yes.wav'}},\n",
       " '4': {'yes': {'audio_file': 'atm_capture5.wav'},\n",
       "  'no': {'audio_file': 'atm_capture5.wav'},\n",
       "  'repeat': {'next_state': 4, 'audio_file': 'atm_capture5.wav'}}}"
      ]
     },
     "execution_count": 5,
     "metadata": {},
     "output_type": "execute_result"
    }
   ],
   "source": [
    "tts_next_states"
   ]
  },
  {
   "cell_type": "code",
   "execution_count": 7,
   "metadata": {},
   "outputs": [
    {
     "data": {
      "text/plain": [
       "{'next_state': 1, 'audio_file': 'atm_capture1.wav'}"
      ]
     },
     "execution_count": 7,
     "metadata": {},
     "output_type": "execute_result"
    }
   ],
   "source": [
    "tts_next_states['1']['repeat']"
   ]
  },
  {
   "cell_type": "code",
   "execution_count": 19,
   "metadata": {},
   "outputs": [
    {
     "name": "stdout",
     "output_type": "stream",
     "text": [
      "atm_capture2no.wav\n",
      "text converted to audio %s 4\n",
      "pushed audio array to audio_sender_queue\n"
     ]
    }
   ],
   "source": [
    "def tts(llm_output, state):\n",
    "    current_state = tts_next_states[str(state)]\n",
    "    if llm_output in current_state:\n",
    "        action = current_state[llm_output]\n",
    "        audio_file = action['audio_file']\n",
    "        print(audio_file)\n",
    "        \n",
    "        next_state = action.get('next_state', state)  # Default to current state if not specified\n",
    "        if isinstance(next_state, str) and next_state == 'out_state':\n",
    "            state = out_state\n",
    "        else:\n",
    "            state = next_state\n",
    "        \n",
    "        print('text converted to audio %s', state)\n",
    "        print('pushed audio array to audio_sender_queue')\n",
    "\n",
    "tts('no',1)"
   ]
  },
  {
   "cell_type": "code",
   "execution_count": 10,
   "metadata": {},
   "outputs": [
    {
     "data": {
      "text/plain": [
       "'atm1.wav'"
      ]
     },
     "execution_count": 10,
     "metadata": {},
     "output_type": "execute_result"
    }
   ],
   "source": [
    "call_type['states']['1']['repeat']['audio_file']"
   ]
  },
  {
   "cell_type": "code",
   "execution_count": null,
   "metadata": {},
   "outputs": [],
   "source": [
    "import wave\n",
    "from threading import Thread\n",
    "from audiosocket import Audiosocket\n",
    "from call_handler import *\n",
    "import time\n",
    "import threading\n",
    "import socket, json, requests\n",
    "\n",
    "\n",
    "audiosocket = Audiosocket((\"0.0.0.0\", 5001))\n",
    "\n",
    "def handle_connection(conn):\n",
    "\n",
    "    logging.info(\"Peer Address: \",conn.peer_addr)\n",
    "    \n",
    "    # Make the GET request\n",
    "    response = requests.get(\"http://192.168.89.109:8001/assigned_container_user\", params={\"assigned_container\": socket.gethostname()}, headers={\"accept\": \"application/json\"})\n",
    "\n",
    "    call_type=json.loads(response.json()['call_type'])\n",
    "    file_location=response.json()['tts_folder_location']\n",
    "\n",
    "    with wave.open(f'./{file_location}/{call_type['states']['1']['repeat']['audio_file']}', 'r') as wav_file:\n",
    "        frames = wav_file.getnframes()\n",
    "        rate = wav_file.getframerate()\n",
    "        duration = frames / float(rate)\n",
    "\n",
    "    callHandler=CallHandler(initial_audio_in_seconds=duration)\n",
    "    callHandler.caller=True\n",
    "    callHandler.nepali=True\n",
    "    start_thread=False\n",
    "\n",
    "    while conn.connected:\n",
    "        \n",
    "        # print('connected')\n",
    "        audio_bytes = conn.read()\n",
    "        callHandler.audio_buffer.write(audio_bytes)\n",
    "        \n",
    "        # callHandler.audio_buffer.write(upsample_audio_stream(audio_bytes))\n",
    "        if start_thread!=True:\n",
    "            requests.post(callHandler.call_logs_url, params={'caller_id': callHandler.caller_id,'event_type': 'Call Started','event_detail': ''}, headers={'accept': 'application/json'})\n",
    "            time.sleep(1)\n",
    "            conn.write_audio(get_audio_bytes(f'./{file_location}/{call_type['states']['1']['repeat']['audio_file']}'))\n",
    "            threading.Thread(target=callHandler.read_buffer_chunks, daemon=True).start()\n",
    "            threading.Thread(target=callHandler.read_vad_dictionary, daemon=True).start()\n",
    "            threading.Thread(target=callHandler.asr, daemon=True).start()\n",
    "            threading.Thread(target=callHandler.llm_ne, daemon=True).start()\n",
    "            threading.Thread(target=callHandler.tts_ne, daemon=True).start()\n",
    "            threading.Thread(target=callHandler.send_audio_back, daemon=True, args=(conn,)).start()\n",
    "            threading.Thread(target=callHandler.call_hangup, daemon=True, args=(conn,)).start()\n",
    "            start_thread=True\n",
    "    \n",
    "    logging.info(conn, \"Exited from while loop\")\n",
    "    callHandler.run_threads=False\n",
    "    logging.info(callHandler.run_threads, \"Stopping all threads by setting run_threads=\")\n",
    "    conn.hangup()\n",
    "    \n",
    "\n",
    "while True:\n",
    "    conn = audiosocket.listen()\n",
    "    # handle_connection(conn)\n",
    "    connection_thread = Thread(target=handle_connection, args=(conn,))\n",
    "    connection_thread.start()\n"
   ]
  },
  {
   "cell_type": "markdown",
   "metadata": {},
   "source": [
    "# Dynamic call_type json"
   ]
  },
  {
   "cell_type": "code",
   "execution_count": 9,
   "metadata": {},
   "outputs": [
    {
     "data": {
      "text/plain": [
       "{'type': 'atm_capture',\n",
       " 'out_state': 4,\n",
       " 'question_audio_for_tts': {'1': {'yes': 'नमस्ते! म ग्लोबल बैंकबाट प्रतिवा बोल्दैछु! के तपाईं {name} जी बोल्दै हुनुहुन्छ!'},\n",
       "  '2': {'yes': 'तपाईंको एटीएम कार्ड क्याप्चर भएको विषयमा कुरा गर्नु थियो। अहिले हजुरसँग कुरा गर्न मिल्छ?',\n",
       "   'no': 'तपाईंको समयको लागि धन्यवाद। म कुनै पनि अवरोधको लागि क्षमा चाहन्छु।'},\n",
       "  '3': {'yes': 'हामीले तपाईंको कार्डलाई अस्थायी रूपमा ब्लक गरेका छौं। तपाईंको कार्ड एक हप्ता पछि मात्र बैंकमा आउनेछ र कार्ड फिर्ता लिनको लागि तपाईं आफ्नो नागरिकता वा ड्राइभिङ लाइसेन्स वा पासपोर्ट लिएर ग्लोबल बैंकको कमलादी शाखामा जानुहोला।',\n",
       "   'no': 'मैले तपाईंको प्रतिक्रिया रेकर्ड गरेकी छु। तपाईंको समयको लागि धन्यवाद।'},\n",
       "  '4': {'no': 'मैले तपाईंको प्रतिक्रिया रेकर्ड गरेकी छु, तपाईंको समयको लागि धन्यवाद।'},\n",
       "  '5': {'yes': 'हुन्छ, तपाईंको समयको लागि धन्यवाद। केही गार्हो पर्यो भने सम्पर्क गर्नुहोला।'}},\n",
       " 'llm_states': {'1': {'positive': ['हो म {name} बोल्दै छु ',\n",
       "    'हजुर हो ',\n",
       "    'हजुर बोल्दै छु ',\n",
       "    'के कुरा को लागि हो',\n",
       "    'हजुर भन्नुस म सुनिरहेको छु',\n",
       "    'ओभाओ भन्नुस् न',\n",
       "    'हजार भनोस् न के काम पर्\\u200dयो',\n",
       "    'हजार भनोस् न'],\n",
       "   'negative': ['हैन',\n",
       "    'हैन नि',\n",
       "    'म त अर्कै मान्छे हो',\n",
       "    'मेरो नाम त रमेश हो',\n",
       "    'रंग नम्बर पर्यो',\n",
       "    'रङ नम्बर पर्\\u200dयो',\n",
       "    'होइन']},\n",
       "  '2': {'positive': ['मिल्छ',\n",
       "    'मिल्छ मिल्छ',\n",
       "    'हजुर भन्नुस न',\n",
       "    'अहिले मिल्छ',\n",
       "    'हजुर मिल छ'],\n",
       "   'negative': ['अहिले त मिल्दैन',\n",
       "    'मिल्दैन',\n",
       "    'भोलि मात्रै मिल्छ',\n",
       "    'एकै छिन पछि मात्रै मिल्छ',\n",
       "    'अहिले मिल्दैन',\n",
       "    'हजुर मिल दैन']},\n",
       "  '3': {'positive': ['हुन्छ',\n",
       "    'हुन्छ, समय मिलाएर जान पर्ला',\n",
       "    'धन्यवाद, म जान्छु',\n",
       "    'म छिट्टै जान्छु'],\n",
       "   'negative': ['हुँदैन',\n",
       "    'अलि छिटो गर्न मिल्दैन?',\n",
       "    'मलाई हतार छ, अलि चाँडो मिल्छ कि?',\n",
       "    'म सँग अहिले डकुमेन्टहरू केही पनि छैन',\n",
       "    'अलि समय पछि जाँदा पनि हुन्छ?']},\n",
       "  '4': {'positive': ['बुझे', 'राम्ररी बुझे', 'बुझे नि, धन्यवाद'],\n",
       "   'negative': ['बुझिन', 'बुझिएन']},\n",
       "  'repeat': [['could you speak louder',\n",
       "    \"i can't hear you\",\n",
       "    'repeat',\n",
       "    'repeat please',\n",
       "    'can you speak alittle louder?',\n",
       "    'pardon?',\n",
       "    'can you repeat?',\n",
       "    'could you repeat?',\n",
       "    'मैले बुझिन',\n",
       "    'मलाई फेरी भनि दिनुस न',\n",
       "    'हजुरले के भन्नु भएको मैले बुझिन',\n",
       "    'हजुर के भन्नु भाको?']]},\n",
       " 'tts_next_states': {'1': {'yes': {'next_state': 2,\n",
       "    'audio_file': 'atm_capture2yes.wav'},\n",
       "   'no': {'next_state': 'out_state', 'audio_file': 'atm_capture2no.wav'},\n",
       "   'repeat': {'next_state': 1, 'audio_file': 'atm_capture1.wav'}},\n",
       "  '2': {'yes': {'next_state': 3, 'audio_file': 'atm_capture3yes.wav'},\n",
       "   'no': {'next_state': 'out_state', 'audio_file': 'atm_capture3no.wav'},\n",
       "   'repeat': {'next_state': 2, 'audio_file': 'atm_capture2yes.wav'}},\n",
       "  '3': {'yes': {'next_state': 4, 'audio_file': 'atm_capture5.wav'},\n",
       "   'no': {'next_state': 'out_state', 'audio_file': 'atm_capture4no.wav'},\n",
       "   'repeat': {'next_state': 3, 'audio_file': 'atm_capture3yes.wav'}},\n",
       "  '4': {'yes': {'audio_file': 'atm_capture5.wav'},\n",
       "   'no': {'audio_file': 'atm_capture5.wav'},\n",
       "   'repeat': {'next_state': 4, 'audio_file': 'atm_capture5.wav'}}}}"
      ]
     },
     "execution_count": 9,
     "metadata": {},
     "output_type": "execute_result"
    }
   ],
   "source": [
    "import json\n",
    "\n",
    "with open('/home/bumblebee/wiseyak/abhi/global/audio-socket/calltype_json_template/atm_template.json','r') as f:\n",
    "    call_template=json.loads(f.read())\n",
    "\n",
    "call_template"
   ]
  },
  {
   "cell_type": "code",
   "execution_count": null,
   "metadata": {},
   "outputs": [],
   "source": [
    "# Recursive function to replace all occurrences of {name} with 'Abhinandan Ji'\n",
    "def replace_name(obj):\n",
    "    if isinstance(obj, dict):\n",
    "        for key, value in obj.items():\n",
    "            obj[key] = replace_name(value)\n",
    "    elif isinstance(obj, list):\n",
    "        for i in range(len(obj)):\n",
    "            obj[i] = replace_name(obj[i])\n",
    "    elif isinstance(obj, str):\n",
    "        obj = obj.replace('{name}', 'Abhinandan')\n",
    "    return obj\n"
   ]
  },
  {
   "cell_type": "code",
   "execution_count": 13,
   "metadata": {},
   "outputs": [
    {
     "data": {
      "text/plain": [
       "{'type': 'atm_capture',\n",
       " 'out_state': 4,\n",
       " 'question_audio_for_tts': {'1': {'yes': 'नमस्ते! म ग्लोबल बैंकबाट प्रतिवा बोल्दैछु! के तपाईं Abhinandan Ji जी बोल्दै हुनुहुन्छ!'},\n",
       "  '2': {'yes': 'तपाईंको एटीएम कार्ड क्याप्चर भएको विषयमा कुरा गर्नु थियो। अहिले हजुरसँग कुरा गर्न मिल्छ?',\n",
       "   'no': 'तपाईंको समयको लागि धन्यवाद। म कुनै पनि अवरोधको लागि क्षमा चाहन्छु।'},\n",
       "  '3': {'yes': 'हामीले तपाईंको कार्डलाई अस्थायी रूपमा ब्लक गरेका छौं। तपाईंको कार्ड एक हप्ता पछि मात्र बैंकमा आउनेछ र कार्ड फिर्ता लिनको लागि तपाईं आफ्नो नागरिकता वा ड्राइभिङ लाइसेन्स वा पासपोर्ट लिएर ग्लोबल बैंकको कमलादी शाखामा जानुहोला।',\n",
       "   'no': 'मैले तपाईंको प्रतिक्रिया रेकर्ड गरेकी छु। तपाईंको समयको लागि धन्यवाद।'},\n",
       "  '4': {'no': 'मैले तपाईंको प्रतिक्रिया रेकर्ड गरेकी छु, तपाईंको समयको लागि धन्यवाद।'},\n",
       "  '5': {'yes': 'हुन्छ, तपाईंको समयको लागि धन्यवाद। केही गार्हो पर्यो भने सम्पर्क गर्नुहोला।'}},\n",
       " 'llm_states': {'1': {'positive': ['हो म Abhinandan Ji बोल्दै छु ',\n",
       "    'हजुर हो ',\n",
       "    'हजुर बोल्दै छु ',\n",
       "    'के कुरा को लागि हो',\n",
       "    'हजुर भन्नुस म सुनिरहेको छु',\n",
       "    'ओभाओ भन्नुस् न',\n",
       "    'हजार भनोस् न के काम पर्\\u200dयो',\n",
       "    'हजार भनोस् न'],\n",
       "   'negative': ['हैन',\n",
       "    'हैन नि',\n",
       "    'म त अर्कै मान्छे हो',\n",
       "    'मेरो नाम त रमेश हो',\n",
       "    'रंग नम्बर पर्यो',\n",
       "    'रङ नम्बर पर्\\u200dयो',\n",
       "    'होइन']},\n",
       "  '2': {'positive': ['मिल्छ',\n",
       "    'मिल्छ मिल्छ',\n",
       "    'हजुर भन्नुस न',\n",
       "    'अहिले मिल्छ',\n",
       "    'हजुर मिल छ'],\n",
       "   'negative': ['अहिले त मिल्दैन',\n",
       "    'मिल्दैन',\n",
       "    'भोलि मात्रै मिल्छ',\n",
       "    'एकै छिन पछि मात्रै मिल्छ',\n",
       "    'अहिले मिल्दैन',\n",
       "    'हजुर मिल दैन']},\n",
       "  '3': {'positive': ['हुन्छ',\n",
       "    'हुन्छ, समय मिलाएर जान पर्ला',\n",
       "    'धन्यवाद, म जान्छु',\n",
       "    'म छिट्टै जान्छु'],\n",
       "   'negative': ['हुँदैन',\n",
       "    'अलि छिटो गर्न मिल्दैन?',\n",
       "    'मलाई हतार छ, अलि चाँडो मिल्छ कि?',\n",
       "    'म सँग अहिले डकुमेन्टहरू केही पनि छैन',\n",
       "    'अलि समय पछि जाँदा पनि हुन्छ?']},\n",
       "  '4': {'positive': ['बुझे', 'राम्ररी बुझे', 'बुझे नि, धन्यवाद'],\n",
       "   'negative': ['बुझिन', 'बुझिएन']},\n",
       "  'repeat': [['could you speak louder',\n",
       "    \"i can't hear you\",\n",
       "    'repeat',\n",
       "    'repeat please',\n",
       "    'can you speak alittle louder?',\n",
       "    'pardon?',\n",
       "    'can you repeat?',\n",
       "    'could you repeat?',\n",
       "    'मैले बुझिन',\n",
       "    'मलाई फेरी भनि दिनुस न',\n",
       "    'हजुरले के भन्नु भएको मैले बुझिन',\n",
       "    'हजुर के भन्नु भाको?']]},\n",
       " 'tts_next_states': {'1': {'yes': {'next_state': 2,\n",
       "    'audio_file': 'atm_capture2yes.wav'},\n",
       "   'no': {'next_state': 'out_state', 'audio_file': 'atm_capture2no.wav'},\n",
       "   'repeat': {'next_state': 1, 'audio_file': 'atm_capture1.wav'}},\n",
       "  '2': {'yes': {'next_state': 3, 'audio_file': 'atm_capture3yes.wav'},\n",
       "   'no': {'next_state': 'out_state', 'audio_file': 'atm_capture3no.wav'},\n",
       "   'repeat': {'next_state': 2, 'audio_file': 'atm_capture2yes.wav'}},\n",
       "  '3': {'yes': {'next_state': 4, 'audio_file': 'atm_capture5.wav'},\n",
       "   'no': {'next_state': 'out_state', 'audio_file': 'atm_capture4no.wav'},\n",
       "   'repeat': {'next_state': 3, 'audio_file': 'atm_capture3yes.wav'}},\n",
       "  '4': {'yes': {'audio_file': 'atm_capture5.wav'},\n",
       "   'no': {'audio_file': 'atm_capture5.wav'},\n",
       "   'repeat': {'next_state': 4, 'audio_file': 'atm_capture5.wav'}}}}"
      ]
     },
     "execution_count": 13,
     "metadata": {},
     "output_type": "execute_result"
    }
   ],
   "source": [
    "replace_name(call_template)"
   ]
  },
  {
   "cell_type": "markdown",
   "metadata": {},
   "source": [
    "# YAML TO JSON AND VICE VERSA"
   ]
  },
  {
   "cell_type": "code",
   "execution_count": 4,
   "metadata": {},
   "outputs": [],
   "source": [
    "import yaml\n",
    "import json\n",
    "\n",
    "with open('/home/bumblebee/wiseyak/abhi/global/audio-socket/calltype_json_template/atm_template.json') as f:\n",
    "    json_data=json.loads(f.read())\n",
    "\n",
    "with open('/home/bumblebee/wiseyak/abhi/global/audio-socket/calltype_json_template/atm_template.yaml', 'w') as yaml_file:\n",
    "    yaml.safe_dump(json_data, yaml_file, default_flow_style=False,allow_unicode=True)"
   ]
  },
  {
   "cell_type": "code",
   "execution_count": 17,
   "metadata": {},
   "outputs": [
    {
     "name": "stdout",
     "output_type": "stream",
     "text": [
      "{\n",
      "    \"llm_states\": {\n",
      "        \"1\": {\n",
      "            \"negative\": [\n",
      "                \"हैन\",\n",
      "                \"हैन नि\",\n",
      "                \"म त अर्कै मान्छे हो\",\n",
      "                \"मेरो नाम त रमेश हो\",\n",
      "                \"रंग नम्बर पर्यो\",\n",
      "                \"रङ नम्बर पर्‍यो\",\n",
      "                \"होइन\"\n",
      "            ],\n",
      "            \"positive\": [\n",
      "                \"हो म {name} बोल्दै छु\",\n",
      "                \"हजुर हो\",\n",
      "                \"हजुर बोल्दै छु\",\n",
      "                \"के कुरा को लागि हो\",\n",
      "                \"हजुर भन्नुस म सुनिरहेको छु\",\n",
      "                \"ओभाओ भन्नुस् न\",\n",
      "                \"हजार भनोस् न के काम पर्‍यो\",\n",
      "                \"हजार भनोस् न\"\n",
      "            ]\n",
      "        },\n",
      "        \"2\": {\n",
      "            \"negative\": [\n",
      "                \"अहिले त मिल्दैन\",\n",
      "                \"मिल्दैन\",\n",
      "                \"भोलि मात्रै मिल्छ\",\n",
      "                \"एकै छिन पछि मात्रै मिल्छ\",\n",
      "                \"अहिले मिल्दैन\",\n",
      "                \"हजुर मिल दैन\"\n",
      "            ],\n",
      "            \"positive\": [\n",
      "                \"मिल्छ\",\n",
      "                \"मिल्छ मिल्छ\",\n",
      "                \"हजुर भन्नुस न\",\n",
      "                \"अहिले मिल्छ\",\n",
      "                \"हजुर मिल छ\"\n",
      "            ]\n",
      "        },\n",
      "        \"3\": {\n",
      "            \"negative\": [\n",
      "                \"हुँदैन\",\n",
      "                \"अलि छिटो गर्न मिल्दैन?\",\n",
      "                \"मलाई हतार छ, अलि चाँडो मिल्छ कि?\",\n",
      "                \"म सँग अहिले डकुमेन्टहरू केही पनि छैन\",\n",
      "                \"अलि समय पछि जाँदा पनि हुन्छ?\"\n",
      "            ],\n",
      "            \"positive\": [\n",
      "                \"हुन्छ\",\n",
      "                \"हुन्छ, समय मिलाएर जान पर्ला\",\n",
      "                \"धन्यवाद, म जान्छु\",\n",
      "                \"म छिट्टै जान्छु\"\n",
      "            ]\n",
      "        },\n",
      "        \"4\": {\n",
      "            \"negative\": [\n",
      "                \"बुझिन\",\n",
      "                \"बुझिएन\"\n",
      "            ],\n",
      "            \"positive\": [\n",
      "                \"बुझे\",\n",
      "                \"राम्ररी बुझे\",\n",
      "                \"बुझे नि, धन्यवाद\"\n",
      "            ]\n",
      "        },\n",
      "        \"repeat\": [\n",
      "            [\n",
      "                \"could you speak louder\",\n",
      "                \"i can't hear you\",\n",
      "                \"repeat\",\n",
      "                \"repeat please\",\n",
      "                \"can you speak alittle louder?\",\n",
      "                \"pardon?\",\n",
      "                \"can you repeat?\",\n",
      "                \"could you repeat?\",\n",
      "                \"मैले बुझिन\",\n",
      "                \"मलाई फेरी भनि दिनुस न\",\n",
      "                \"हजुरले के भन्नु भएको मैले बुझिन\",\n",
      "                \"हजुर के भन्नु भाको?\"\n",
      "            ]\n",
      "        ]\n",
      "    },\n",
      "    \"out_state\": 4,\n",
      "    \"question_audio_for_tts\": {\n",
      "        \"1\": {\n",
      "            \"true\": \"नमस्ते! म ग्लोबल बैंकबाट प्रतिवा बोल्दैछु! के तपाईं {name} जी बोल्दै हुनुहुन्छ!\"\n",
      "        },\n",
      "        \"2\": {\n",
      "            \"false\": \"तपाईंको समयको लागि धन्यवाद। म कुनै पनि अवरोधको लागि क्षमा चाहन्छु।\",\n",
      "            \"true\": \"तपाईंको एटीएम कार्ड क्याप्चर भएको विषयमा कुरा गर्नु थियो। अहिले हजुरसँग कुरा गर्न मिल्छ?\"\n",
      "        },\n",
      "        \"3\": {\n",
      "            \"false\": \"मैले तपाईंको प्रतिक्रिया रेकर्ड गरेकी छु। तपाईंको समयको लागि धन्यवाद।\",\n",
      "            \"true\": \"हामीले तपाईंको कार्डलाई अस्थायी रूपमा ब्लक गरेका छौं। तपाईंको कार्ड एक हप्ता पछि मात्र बैंकमा आउनेछ र कार्ड फिर्ता लिनको लागि तपाईं आफ्नो नागरिकता वा ड्राइभिङ लाइसेन्स वा पासपोर्ट लिएर ग्लोबल बैंकको कमलादी शाखामा जानुहोला।\"\n",
      "        },\n",
      "        \"4\": {\n",
      "            \"false\": \"मैले तपाईंको प्रतिक्रिया रेकर्ड गरेकी छु, तपाईंको समयको लागि धन्यवाद।\"\n",
      "        },\n",
      "        \"5\": {\n",
      "            \"true\": \"हुन्छ, तपाईंको समयको लागि धन्यवाद। केही गार्हो पर्यो भने सम्पर्क गर्नुहोला।\"\n",
      "        }\n",
      "    },\n",
      "    \"tts_next_states\": {\n",
      "        \"1\": {\n",
      "            \"false\": {\n",
      "                \"audio_file\": \"atm_capture2no.wav\",\n",
      "                \"next_state\": \"out_state\"\n",
      "            },\n",
      "            \"repeat\": {\n",
      "                \"audio_file\": \"atm_capture1.wav\",\n",
      "                \"next_state\": 1\n",
      "            },\n",
      "            \"true\": {\n",
      "                \"audio_file\": \"atm_capture2yes.wav\",\n",
      "                \"next_state\": 2\n",
      "            }\n",
      "        },\n",
      "        \"2\": {\n",
      "            \"false\": {\n",
      "                \"audio_file\": \"atm_capture3no.wav\",\n",
      "                \"next_state\": \"out_state\"\n",
      "            },\n",
      "            \"repeat\": {\n",
      "                \"audio_file\": \"atm_capture2yes.wav\",\n",
      "                \"next_state\": 2\n",
      "            },\n",
      "            \"true\": {\n",
      "                \"audio_file\": \"atm_capture3yes.wav\",\n",
      "                \"next_state\": 3\n",
      "            }\n",
      "        },\n",
      "        \"3\": {\n",
      "            \"false\": {\n",
      "                \"audio_file\": \"atm_capture4no.wav\",\n",
      "                \"next_state\": \"out_state\"\n",
      "            },\n",
      "            \"repeat\": {\n",
      "                \"audio_file\": \"atm_capture3yes.wav\",\n",
      "                \"next_state\": 3\n",
      "            },\n",
      "            \"true\": {\n",
      "                \"audio_file\": \"atm_capture5.wav\",\n",
      "                \"next_state\": 4\n",
      "            }\n",
      "        },\n",
      "        \"4\": {\n",
      "            \"false\": {\n",
      "                \"audio_file\": \"atm_capture5.wav\"\n",
      "            },\n",
      "            \"repeat\": {\n",
      "                \"audio_file\": \"atm_capture5.wav\",\n",
      "                \"next_state\": 4\n",
      "            },\n",
      "            \"true\": {\n",
      "                \"audio_file\": \"atm_capture5.wav\"\n",
      "            }\n",
      "        }\n",
      "    },\n",
      "    \"type\": \"atm_capture\"\n",
      "}\n"
     ]
    }
   ],
   "source": [
    "# Convert YAML to Python dictionary\n",
    "with open('/home/bumblebee/wiseyak/abhi/global/audio-socket/calltype_json_template/atm_template.yaml', 'r') as yaml_file:\n",
    "    data = yaml.safe_load(yaml_file, )\n",
    "\n",
    "# Convert dictionary to JSON and print\n",
    "json_data = json.dumps(data, indent=4, ensure_ascii=False)\n",
    "print(json_data)"
   ]
  },
  {
   "cell_type": "code",
   "execution_count": 18,
   "metadata": {},
   "outputs": [
    {
     "data": {
      "text/plain": [
       "{'llm_states': {'1': {'negative': ['हैन',\n",
       "    'हैन नि',\n",
       "    'म त अर्कै मान्छे हो',\n",
       "    'मेरो नाम त रमेश हो',\n",
       "    'रंग नम्बर पर्यो',\n",
       "    'रङ नम्बर पर्\\u200dयो',\n",
       "    'होइन'],\n",
       "   'positive': ['हो म {name} बोल्दै छु',\n",
       "    'हजुर हो',\n",
       "    'हजुर बोल्दै छु',\n",
       "    'के कुरा को लागि हो',\n",
       "    'हजुर भन्नुस म सुनिरहेको छु',\n",
       "    'ओभाओ भन्नुस् न',\n",
       "    'हजार भनोस् न के काम पर्\\u200dयो',\n",
       "    'हजार भनोस् न']},\n",
       "  '2': {'negative': ['अहिले त मिल्दैन',\n",
       "    'मिल्दैन',\n",
       "    'भोलि मात्रै मिल्छ',\n",
       "    'एकै छिन पछि मात्रै मिल्छ',\n",
       "    'अहिले मिल्दैन',\n",
       "    'हजुर मिल दैन'],\n",
       "   'positive': ['मिल्छ',\n",
       "    'मिल्छ मिल्छ',\n",
       "    'हजुर भन्नुस न',\n",
       "    'अहिले मिल्छ',\n",
       "    'हजुर मिल छ']},\n",
       "  '3': {'negative': ['हुँदैन',\n",
       "    'अलि छिटो गर्न मिल्दैन?',\n",
       "    'मलाई हतार छ, अलि चाँडो मिल्छ कि?',\n",
       "    'म सँग अहिले डकुमेन्टहरू केही पनि छैन',\n",
       "    'अलि समय पछि जाँदा पनि हुन्छ?'],\n",
       "   'positive': ['हुन्छ',\n",
       "    'हुन्छ, समय मिलाएर जान पर्ला',\n",
       "    'धन्यवाद, म जान्छु',\n",
       "    'म छिट्टै जान्छु']},\n",
       "  '4': {'negative': ['बुझिन', 'बुझिएन'],\n",
       "   'positive': ['बुझे', 'राम्ररी बुझे', 'बुझे नि, धन्यवाद']},\n",
       "  'repeat': [['could you speak louder',\n",
       "    \"i can't hear you\",\n",
       "    'repeat',\n",
       "    'repeat please',\n",
       "    'can you speak alittle louder?',\n",
       "    'pardon?',\n",
       "    'can you repeat?',\n",
       "    'could you repeat?',\n",
       "    'मैले बुझिन',\n",
       "    'मलाई फेरी भनि दिनुस न',\n",
       "    'हजुरले के भन्नु भएको मैले बुझिन',\n",
       "    'हजुर के भन्नु भाको?']]},\n",
       " 'out_state': 4,\n",
       " 'question_audio_for_tts': {'1': {True: 'नमस्ते! म ग्लोबल बैंकबाट प्रतिवा बोल्दैछु! के तपाईं {name} जी बोल्दै हुनुहुन्छ!'},\n",
       "  '2': {False: 'तपाईंको समयको लागि धन्यवाद। म कुनै पनि अवरोधको लागि क्षमा चाहन्छु।',\n",
       "   True: 'तपाईंको एटीएम कार्ड क्याप्चर भएको विषयमा कुरा गर्नु थियो। अहिले हजुरसँग कुरा गर्न मिल्छ?'},\n",
       "  '3': {False: 'मैले तपाईंको प्रतिक्रिया रेकर्ड गरेकी छु। तपाईंको समयको लागि धन्यवाद।',\n",
       "   True: 'हामीले तपाईंको कार्डलाई अस्थायी रूपमा ब्लक गरेका छौं। तपाईंको कार्ड एक हप्ता पछि मात्र बैंकमा आउनेछ र कार्ड फिर्ता लिनको लागि तपाईं आफ्नो नागरिकता वा ड्राइभिङ लाइसेन्स वा पासपोर्ट लिएर ग्लोबल बैंकको कमलादी शाखामा जानुहोला।'},\n",
       "  '4': {False: 'मैले तपाईंको प्रतिक्रिया रेकर्ड गरेकी छु, तपाईंको समयको लागि धन्यवाद।'},\n",
       "  '5': {True: 'हुन्छ, तपाईंको समयको लागि धन्यवाद। केही गार्हो पर्यो भने सम्पर्क गर्नुहोला।'}},\n",
       " 'tts_next_states': {'1': {False: {'audio_file': 'atm_capture2no.wav',\n",
       "    'next_state': 'out_state'},\n",
       "   'repeat': {'audio_file': 'atm_capture1.wav', 'next_state': 1},\n",
       "   True: {'audio_file': 'atm_capture2yes.wav', 'next_state': 2}},\n",
       "  '2': {False: {'audio_file': 'atm_capture3no.wav', 'next_state': 'out_state'},\n",
       "   'repeat': {'audio_file': 'atm_capture2yes.wav', 'next_state': 2},\n",
       "   True: {'audio_file': 'atm_capture3yes.wav', 'next_state': 3}},\n",
       "  '3': {False: {'audio_file': 'atm_capture4no.wav', 'next_state': 'out_state'},\n",
       "   'repeat': {'audio_file': 'atm_capture3yes.wav', 'next_state': 3},\n",
       "   True: {'audio_file': 'atm_capture5.wav', 'next_state': 4}},\n",
       "  '4': {False: {'audio_file': 'atm_capture5.wav'},\n",
       "   'repeat': {'audio_file': 'atm_capture5.wav', 'next_state': 4},\n",
       "   True: {'audio_file': 'atm_capture5.wav'}}},\n",
       " 'type': 'atm_capture'}"
      ]
     },
     "execution_count": 18,
     "metadata": {},
     "output_type": "execute_result"
    }
   ],
   "source": [
    "data"
   ]
  },
  {
   "cell_type": "code",
   "execution_count": null,
   "metadata": {},
   "outputs": [],
   "source": [
    "'''\n",
    "    select\n",
    "        *\n",
    "    from user_details\n",
    "    where \n",
    "        scheduled_for_utc is null and\n",
    "        call_type is null\n",
    "'''"
   ]
  },
  {
   "cell_type": "markdown",
   "metadata": {},
   "source": [
    "# Response Type JSON"
   ]
  },
  {
   "cell_type": "code",
   "execution_count": 2,
   "metadata": {},
   "outputs": [],
   "source": [
    "import json\n",
    "\n",
    "python_dict=json.loads(\"{\\\"type\\\": \\\"atm_capture\\\", \\\"out_state\\\": 4, \\\"question_audio_for_tts\\\": {\\\"1\\\": {\\\"yes\\\": \\\"\\u0928\\u092e\\u0938\\u094d\\u0924\\u0947! \\u092e \\u0928\\u092c\\u093f\\u0932 \\u092c\\u0948\\u0902\\u0915 \\u0932\\u093f\\u092e\\u093f\\u091f\\u0947\\u0921 \\u092c\\u093e\\u091f \\u092a\\u094d\\u0930\\u0924\\u093f\\u0935\\u093e \\u092c\\u094b\\u0932\\u094d\\u0926\\u0948\\u091b\\u0941\\u0964 \\u0915\\u0947 \\u0924\\u092a\\u093e\\u0908\\u0902 \\u091c\\u094d\\u091e\\u093e\\u0928\\u0947\\u0928\\u094d\\u0926\\u094d\\u0930 \\u091c\\u0940 \\u092c\\u094b\\u0932\\u094d\\u0926\\u0948 \\u0939\\u0941\\u0928\\u0941\\u0939\\u0941\\u0928\\u094d\\u091b?\\\"}, \\\"2\\\": {\\\"yes\\\": \\\"\\u0924\\u092a\\u093e\\u0908\\u0902\\u0915\\u094b \\u090f\\u091f\\u0940\\u090f\\u092e \\u0915\\u093e\\u0930\\u094d\\u0921 \\u0915\\u094d\\u092f\\u093e\\u092a\\u094d\\u091a\\u0930 \\u092d\\u090f\\u0915\\u094b \\u0935\\u093f\\u0937\\u092f\\u092e\\u093e \\u0915\\u0941\\u0930\\u093e \\u0917\\u0930\\u094d\\u0928\\u0941 \\u0925\\u093f\\u092f\\u094b\\u0964 \\u0905\\u0939\\u093f\\u0932\\u0947 \\u0939\\u091c\\u0941\\u0930\\u0938\\u0901\\u0917 \\u0915\\u0941\\u0930\\u093e \\u0917\\u0930\\u094d\\u0928 \\u092e\\u093f\\u0932\\u094d\\u091b?\\\", \\\"no\\\": \\\"\\u0924\\u092a\\u093e\\u0908\\u0902\\u0915\\u094b \\u0938\\u092e\\u092f\\u0915\\u094b \\u0932\\u093e\\u0917\\u093f \\u0927\\u0928\\u094d\\u092f\\u0935\\u093e\\u0926\\u0964 \\u092e \\u0915\\u0941\\u0928\\u0948 \\u092a\\u0928\\u093f \\u0905\\u0935\\u0930\\u094b\\u0927\\u0915\\u094b \\u0932\\u093e\\u0917\\u093f \\u0915\\u094d\\u0937\\u092e\\u093e \\u091a\\u093e\\u0939\\u0928\\u094d\\u091b\\u0941\\u0964\\\"}, \\\"3\\\": {\\\"yes\\\": \\\"\\u0924\\u092a\\u093e\\u0908\\u0902\\u0915\\u094b \\u0915\\u093e\\u0930\\u094d\\u0921 \\u0924\\u092f\\u093e\\u0930 \\u092d\\u090f\\u0915\\u094b \\u091b \\u0930 \\u0915\\u093e\\u0930\\u094d\\u0921 \\u092b\\u093f\\u0930\\u094d\\u0924\\u093e \\u0932\\u093f\\u0928\\u0915\\u094b \\u0932\\u093e\\u0917\\u093f \\u0924\\u092a\\u093e\\u0908\\u0902\\u0932\\u0947 \\u0906\\u092b\\u094d\\u0928\\u094b \\u0928\\u093e\\u0917\\u0930\\u093f\\u0915\\u0924\\u093e, \\u0921\\u094d\\u0930\\u093e\\u0907\\u092d\\u093f\\u0919 \\u0932\\u093e\\u0907\\u0938\\u0947\\u0928\\u094d\\u0938 \\u0935\\u093e \\u092a\\u093e\\u0938\\u092a\\u094b\\u0930\\u094d\\u091f \\u0932\\u093f\\u090f\\u0930 \\u0928\\u092c\\u093f\\u0932 \\u092c\\u0948\\u0902\\u0915\\u0915\\u094b \\u0915\\u092e\\u0932\\u093e\\u0926\\u0940 \\u0936\\u093e\\u0916\\u093e\\u092e\\u093e \\u091c\\u093e\\u0928\\u0941\\u0939\\u094b\\u0932\\u093e\\u0964\\\", \\\"no\\\": \\\"\\u092e\\u0948\\u0932\\u0947 \\u0924\\u092a\\u093e\\u0908\\u0902\\u0915\\u094b \\u092a\\u094d\\u0930\\u0924\\u093f\\u0915\\u094d\\u0930\\u093f\\u092f\\u093e \\u0930\\u0947\\u0915\\u0930\\u094d\\u0921 \\u0917\\u0930\\u0947\\u0915\\u0940 \\u091b\\u0941\\u0964 \\u0924\\u092a\\u093e\\u0908\\u0902\\u0915\\u094b \\u0938\\u092e\\u092f\\u0915\\u094b \\u0932\\u093e\\u0917\\u093f \\u0927\\u0928\\u094d\\u092f\\u0935\\u093e\\u0926\\u0964\\\"}, \\\"4\\\": {\\\"no\\\": \\\"\\u092e\\u0948\\u0932\\u0947 \\u0924\\u092a\\u093e\\u0908\\u0902\\u0915\\u094b \\u092a\\u094d\\u0930\\u0924\\u093f\\u0915\\u094d\\u0930\\u093f\\u092f\\u093e \\u0930\\u0947\\u0915\\u0930\\u094d\\u0921 \\u0917\\u0930\\u0947\\u0915\\u0940 \\u091b\\u0941, \\u0924\\u092a\\u093e\\u0908\\u0902\\u0915\\u094b \\u0938\\u092e\\u092f\\u0915\\u094b \\u0932\\u093e\\u0917\\u093f \\u0927\\u0928\\u094d\\u092f\\u0935\\u093e\\u0926\\u0964\\\"}, \\\"5\\\": {\\\"yes\\\": \\\"\\u0939\\u0941\\u0928\\u094d\\u091b, \\u0924\\u092a\\u093e\\u0908\\u0902\\u0915\\u094b \\u0938\\u092e\\u092f\\u0915\\u094b \\u0932\\u093e\\u0917\\u093f \\u0927\\u0928\\u094d\\u092f\\u0935\\u093e\\u0926\\u0964 \\u0915\\u0947\\u0939\\u0940 \\u0917\\u093e\\u0930\\u094d\\u0939\\u094b \\u092a\\u0930\\u094d\\u092f\\u094b \\u092d\\u0928\\u0947 \\u0938\\u092e\\u094d\\u092a\\u0930\\u094d\\u0915 \\u0917\\u0930\\u094d\\u0928\\u0941\\u0939\\u094b\\u0932\\u093e\\u0964\\\"}}, \\\"llm_states\\\": {\\\"1\\\": {\\\"positive\\\": [\\\"\\u0939\\u094b \\u092e \\u091c\\u094d\\u091e\\u093e\\u0928\\u0947\\u0928\\u094d\\u0926\\u094d\\u0930 \\u092c\\u094b\\u0932\\u094d\\u0926\\u0948 \\u091b\\u0941 \\\", \\\"\\u0939\\u091c\\u0941\\u0930 \\u0939\\u094b \\\", \\\"\\u0939\\u091c\\u0941\\u0930 \\u092c\\u094b\\u0932\\u094d\\u0926\\u0948 \\u091b\\u0941 \\\", \\\"\\u0915\\u0947 \\u0915\\u0941\\u0930\\u093e \\u0915\\u094b \\u0932\\u093e\\u0917\\u093f \\u0939\\u094b\\\", \\\"\\u0939\\u091c\\u0941\\u0930 \\u092d\\u0928\\u094d\\u0928\\u0941\\u0938 \\u092e \\u0938\\u0941\\u0928\\u093f\\u0930\\u0939\\u0947\\u0915\\u094b \\u091b\\u0941\\\", \\\"\\u0913\\u092d\\u093e\\u0913 \\u092d\\u0928\\u094d\\u0928\\u0941\\u0938\\u094d \\u0928\\\", \\\"\\u0939\\u091c\\u093e\\u0930 \\u092d\\u0928\\u094b\\u0938\\u094d \\u0928 \\u0915\\u0947 \\u0915\\u093e\\u092e \\u092a\\u0930\\u094d\\u200d\\u092f\\u094b\\\", \\\"\\u0939\\u091c\\u093e\\u0930 \\u092d\\u0928\\u094b\\u0938\\u094d \\u0928\\\"], \\\"negative\\\": [\\\"\\u0939\\u0948\\u0928\\\", \\\"\\u0939\\u0948\\u0928 \\u0928\\u093f\\\", \\\"\\u092e \\u0924 \\u0905\\u0930\\u094d\\u0915\\u0948 \\u092e\\u093e\\u0928\\u094d\\u091b\\u0947 \\u0939\\u094b\\\", \\\"\\u092e\\u0947\\u0930\\u094b \\u0928\\u093e\\u092e \\u0924 \\u0930\\u092e\\u0947\\u0936 \\u0939\\u094b\\\", \\\"\\u0930\\u0902\\u0917 \\u0928\\u092e\\u094d\\u092c\\u0930 \\u092a\\u0930\\u094d\\u092f\\u094b\\\", \\\"\\u0930\\u0919 \\u0928\\u092e\\u094d\\u092c\\u0930 \\u092a\\u0930\\u094d\\u200d\\u092f\\u094b\\\", \\\"\\u0939\\u094b\\u0907\\u0928\\\"]}, \\\"2\\\": {\\\"positive\\\": [\\\"\\u092e\\u093f\\u0932\\u094d\\u091b\\\", \\\"\\u092e\\u093f\\u0932\\u094d\\u091b \\u092e\\u093f\\u0932\\u094d\\u091b\\\", \\\"\\u0939\\u091c\\u0941\\u0930 \\u092d\\u0928\\u094d\\u0928\\u0941\\u0938 \\u0928\\\", \\\"\\u0905\\u0939\\u093f\\u0932\\u0947 \\u092e\\u093f\\u0932\\u094d\\u091b\\\", \\\"\\u0939\\u091c\\u0941\\u0930 \\u092e\\u093f\\u0932 \\u091b\\\"], \\\"negative\\\": [\\\"\\u0905\\u0939\\u093f\\u0932\\u0947 \\u0924 \\u092e\\u093f\\u0932\\u094d\\u0926\\u0948\\u0928\\\", \\\"\\u092e\\u093f\\u0932\\u094d\\u0926\\u0948\\u0928\\\", \\\"\\u092d\\u094b\\u0932\\u093f \\u092e\\u093e\\u0924\\u094d\\u0930\\u0948 \\u092e\\u093f\\u0932\\u094d\\u091b\\\", \\\"\\u090f\\u0915\\u0948 \\u091b\\u093f\\u0928 \\u092a\\u091b\\u093f \\u092e\\u093e\\u0924\\u094d\\u0930\\u0948 \\u092e\\u093f\\u0932\\u094d\\u091b\\\", \\\"\\u0905\\u0939\\u093f\\u0932\\u0947 \\u092e\\u093f\\u0932\\u094d\\u0926\\u0948\\u0928\\\", \\\"\\u0939\\u091c\\u0941\\u0930 \\u092e\\u093f\\u0932 \\u0926\\u0948\\u0928\\\"]}, \\\"3\\\": {\\\"positive\\\": [\\\"\\u0939\\u0941\\u0928\\u094d\\u091b\\\", \\\"\\u0939\\u0941\\u0928\\u094d\\u091b, \\u0938\\u092e\\u092f \\u092e\\u093f\\u0932\\u093e\\u090f\\u0930 \\u091c\\u093e\\u0928 \\u092a\\u0930\\u094d\\u0932\\u093e\\\", \\\"\\u0927\\u0928\\u094d\\u092f\\u0935\\u093e\\u0926, \\u092e \\u091c\\u093e\\u0928\\u094d\\u091b\\u0941\\\", \\\"\\u092e \\u091b\\u093f\\u091f\\u094d\\u091f\\u0948 \\u091c\\u093e\\u0928\\u094d\\u091b\\u0941\\\"], \\\"negative\\\": [\\\"\\u0939\\u0941\\u0901\\u0926\\u0948\\u0928\\\", \\\"\\u0905\\u0932\\u093f \\u091b\\u093f\\u091f\\u094b \\u0917\\u0930\\u094d\\u0928 \\u092e\\u093f\\u0932\\u094d\\u0926\\u0948\\u0928?\\\", \\\"\\u092e\\u0932\\u093e\\u0908 \\u0939\\u0924\\u093e\\u0930 \\u091b, \\u0905\\u0932\\u093f \\u091a\\u093e\\u0901\\u0921\\u094b \\u092e\\u093f\\u0932\\u094d\\u091b \\u0915\\u093f?\\\", \\\"\\u092e \\u0938\\u0901\\u0917 \\u0905\\u0939\\u093f\\u0932\\u0947 \\u0921\\u0915\\u0941\\u092e\\u0947\\u0928\\u094d\\u091f\\u0939\\u0930\\u0942 \\u0915\\u0947\\u0939\\u0940 \\u092a\\u0928\\u093f \\u091b\\u0948\\u0928\\\", \\\"\\u0905\\u0932\\u093f \\u0938\\u092e\\u092f \\u092a\\u091b\\u093f \\u091c\\u093e\\u0901\\u0926\\u093e \\u092a\\u0928\\u093f \\u0939\\u0941\\u0928\\u094d\\u091b?\\\"]}, \\\"4\\\": {\\\"positive\\\": [\\\"\\u092c\\u0941\\u091d\\u0947\\\", \\\"\\u0930\\u093e\\u092e\\u094d\\u0930\\u0930\\u0940 \\u092c\\u0941\\u091d\\u0947\\\", \\\"\\u092c\\u0941\\u091d\\u0947 \\u0928\\u093f, \\u0927\\u0928\\u094d\\u092f\\u0935\\u093e\\u0926\\\"], \\\"negative\\\": [\\\"\\u092c\\u0941\\u091d\\u093f\\u0928\\\", \\\"\\u092c\\u0941\\u091d\\u093f\\u090f\\u0928\\\"]}, \\\"repeat\\\": [[\\\"could you speak louder\\\", \\\"i can't hear you\\\", \\\"repeat\\\", \\\"repeat please\\\", \\\"can you speak alittle louder?\\\", \\\"pardon?\\\", \\\"can you repeat?\\\", \\\"could you repeat?\\\", \\\"\\u092e\\u0948\\u0932\\u0947 \\u092c\\u0941\\u091d\\u093f\\u0928\\\", \\\"\\u092e\\u0932\\u093e\\u0908 \\u092b\\u0947\\u0930\\u0940 \\u092d\\u0928\\u093f \\u0926\\u093f\\u0928\\u0941\\u0938 \\u0928\\\", \\\"\\u0939\\u091c\\u0941\\u0930\\u0932\\u0947 \\u0915\\u0947 \\u092d\\u0928\\u094d\\u0928\\u0941 \\u092d\\u090f\\u0915\\u094b \\u092e\\u0948\\u0932\\u0947 \\u092c\\u0941\\u091d\\u093f\\u0928\\\", \\\"\\u0939\\u091c\\u0941\\u0930 \\u0915\\u0947 \\u092d\\u0928\\u094d\\u0928\\u0941 \\u092d\\u093e\\u0915\\u094b?\\\"]]}, \\\"tts_next_states\\\": {\\\"1\\\": {\\\"yes\\\": {\\\"next_state\\\": 2, \\\"audio_file\\\": \\\"atm_capture2yes.wav\\\"}, \\\"no\\\": {\\\"next_state\\\": \\\"out_state\\\", \\\"audio_file\\\": \\\"atm_capture2no.wav\\\"}, \\\"repeat\\\": {\\\"next_state\\\": 1, \\\"audio_file\\\": \\\"atm_capture1.wav\\\"}}, \\\"2\\\": {\\\"yes\\\": {\\\"next_state\\\": 3, \\\"audio_file\\\": \\\"atm_capture3yes.wav\\\"}, \\\"no\\\": {\\\"next_state\\\": \\\"out_state\\\", \\\"audio_file\\\": \\\"atm_capture3no.wav\\\"}, \\\"repeat\\\": {\\\"next_state\\\": 2, \\\"audio_file\\\": \\\"atm_capture2yes.wav\\\"}}, \\\"3\\\": {\\\"yes\\\": {\\\"next_state\\\": 4, \\\"audio_file\\\": \\\"atm_capture5.wav\\\"}, \\\"no\\\": {\\\"next_state\\\": \\\"out_state\\\", \\\"audio_file\\\": \\\"atm_capture4no.wav\\\"}, \\\"repeat\\\": {\\\"next_state\\\": 3, \\\"audio_file\\\": \\\"atm_capture3yes.wav\\\"}}, \\\"4\\\": {\\\"yes\\\": {\\\"audio_file\\\": \\\"atm_capture5.wav\\\"}, \\\"no\\\": {\\\"audio_file\\\": \\\"atm_capture5.wav\\\"}, \\\"repeat\\\": {\\\"next_state\\\": 4, \\\"audio_file\\\": \\\"atm_capture5.wav\\\"}}}}\")"
   ]
  },
  {
   "cell_type": "code",
   "execution_count": 7,
   "metadata": {},
   "outputs": [],
   "source": [
    "with open('/home/bumblebee/wiseyak/abhi/global/audio-socket/response_template/atm_response.json','w') as f:\n",
    "    f.write(json.dumps(python_dict['question_audio_for_tts'],ensure_ascii=False))"
   ]
  },
  {
   "cell_type": "markdown",
   "metadata": {},
   "source": [
    "# Doctor Appointment / Insurance Template generation"
   ]
  },
  {
   "cell_type": "markdown",
   "metadata": {},
   "source": [
    "### Doctor"
   ]
  },
  {
   "cell_type": "code",
   "execution_count": 1,
   "metadata": {},
   "outputs": [],
   "source": [
    "import requests, json\n",
    "\n",
    "with open('/home/bumblebee/wiseyak/abhi/global/global-audio-socket/calltype_template/doctor_appointment.json','r') as f:\n",
    "    json_file=f.read()\n",
    "    call_template=json.loads(json_file.replace('{हस्पिटल}','बियनबि हस्पिटल').replace('{name}','अर्जुन खत्री').replace('{doctor_name}','अर्जुन सिंह').replace('[दिनांक]','आइतबार ३ बजे'))\n",
    "\n",
    "call_type=call_template['type']\n",
    "question_for_tts=call_template['question_audio_for_tts']"
   ]
  },
  {
   "cell_type": "code",
   "execution_count": 2,
   "metadata": {},
   "outputs": [
    {
     "data": {
      "text/plain": [
       "{'type': 'doctor_appointment',\n",
       " 'out_state': 4,\n",
       " 'question_audio_for_tts': {'1': {'yes': 'नमस्ते! म बियनबि हस्पिटल बाट निर्मला बोल्दै छु! के तपाईं अर्जुन खत्रीजी बोल्दै हुनुहुन्छ!'},\n",
       "  '2': {'yes': 'तपाईंको डाक्टरको अपोइन्टमेन्टको बारेमा कुरा गर्नु थियो। अहिले हजुरसँग कुरा गर्न मिल्छ?',\n",
       "   'no': 'तपाईंको समयको लागि धन्यवाद। म कुनै पनि अवरोधको लागि क्षमा चाहन्छु।'},\n",
       "  '3': {'yes': 'हामीले तपाईंको अपोइन्टमेन्ट सफलतापूर्वक बुक गरेका छौं। तपाईंको डाक्टर अर्जुन सिंहसंगको अपोइन्टमेन्ट आइतबार ३ बजेमा छ। कृपया समयमा अस्पतालमा आउने सुनिश्चित गर्नुहोस्।',\n",
       "   'no': 'मैले तपाईंको प्रतिक्रिया रेकर्ड गरेकी छु। तपाईंको समयको लागि धन्यवाद।'},\n",
       "  '4': {'no': 'मैले तपाईंको प्रतिक्रिया रेकर्ड गरेकी छु, तपाईंको समयको लागि धन्यवाद।'},\n",
       "  '5': {'yes': 'हुन्छ, तपाईंको समयको लागि धन्यवाद। केही गार्हो पर्यो भने सम्पर्क गर्नुहोला।'}},\n",
       " 'llm_states': {'1': {'positive': ['हो म अर्जुन खत्री बोल्दै छु',\n",
       "    'हो अर्जुन खत्री हो',\n",
       "    'हजुर हो',\n",
       "    'हजुर बोल्दै छु',\n",
       "    'के कुरा को लागि हो',\n",
       "    'हजुर भन्नुस म सुनिरहेको छु',\n",
       "    'ओभाओ भन्नुस् न',\n",
       "    'हजार भनोस् न के काम पर्\\u200dयो',\n",
       "    'हजार भनोस् न'],\n",
       "   'negative': ['हैन',\n",
       "    'हैन नि',\n",
       "    'म त अर्कै मान्छे हो',\n",
       "    'मेरो नाम त रमेश हो',\n",
       "    'रंग नम्बर पर्यो',\n",
       "    'रङ नम्बर पर्\\u200dयो',\n",
       "    'होइन']},\n",
       "  '2': {'positive': ['मिल्छ',\n",
       "    'मिल्छ मिल्छ',\n",
       "    'हजुर भन्नुस न',\n",
       "    'अहिले मिल्छ',\n",
       "    'हजुर मिल छ'],\n",
       "   'negative': ['अहिले त मिल्दैन',\n",
       "    'मिल्दैन',\n",
       "    'भोलि मात्रै मिल्छ',\n",
       "    'एकै छिन पछि मात्रै मिल्छ',\n",
       "    'अहिले मिल्दैन',\n",
       "    'हजुर मिल दैन']},\n",
       "  '3': {'positive': ['हुन्छ, म आउँछु।',\n",
       "    'हुन्छ, समयमै आउँछु।',\n",
       "    'धन्यवाद, म आउँछु।',\n",
       "    'म छिट्टै आउँछु।'],\n",
       "   'negative': ['हुँदैन',\n",
       "    'अलि छिटो गर्न मिल्दैन?',\n",
       "    'मलाई हतार छ, अलि चाँडो मिल्छ कि?',\n",
       "    'म सँग अहिले डकुमेन्टहरू केही पनि छैन',\n",
       "    'अलि समय पछि जाँदा पनि हुन्छ?',\n",
       "    'म आउन सक्दिन, माफ गर्नुहोस्।',\n",
       "    'म आउन सक्दिन, अर्को पटकको लागि तय गर्न सक्छौं।']},\n",
       "  '4': {'positive': ['बुझे', 'राम्ररी बुझे', 'बुझे नि, धन्यवाद'],\n",
       "   'negative': ['बुझिन', 'बुझिएन']},\n",
       "  'repeat': [['could you speak louder',\n",
       "    \"i can't hear you\",\n",
       "    'repeat',\n",
       "    'repeat please',\n",
       "    'can you speak a little louder?',\n",
       "    'pardon?',\n",
       "    'can you repeat?',\n",
       "    'could you repeat?',\n",
       "    'मैले बुझिन',\n",
       "    'मलाई फेरी भनि दिनुस न',\n",
       "    'हजुरले के भन्नु भएको मैले बुझिन',\n",
       "    'हजुर के भन्नु भाको?']]},\n",
       " 'tts_next_states': {'1': {'yes': {'next_state': 2,\n",
       "    'audio_file': 'doctor_appointment2yes.wav'},\n",
       "   'no': {'next_state': 'out_state',\n",
       "    'audio_file': 'doctor_appointment2no.wav'},\n",
       "   'repeat': {'next_state': 1, 'audio_file': 'doctor_appointment1.wav'}},\n",
       "  '2': {'yes': {'next_state': 3, 'audio_file': 'doctor_appointment3yes.wav'},\n",
       "   'no': {'next_state': 'out_state',\n",
       "    'audio_file': 'doctor_appointment3no.wav'},\n",
       "   'repeat': {'next_state': 2, 'audio_file': 'doctor_appointment2yes.wav'}},\n",
       "  '3': {'yes': {'next_state': 4, 'audio_file': 'doctor_appointment5.wav'},\n",
       "   'no': {'next_state': 'out_state',\n",
       "    'audio_file': 'doctor_appointment4no.wav'},\n",
       "   'repeat': {'next_state': 3, 'audio_file': 'doctor_appointment3yes.wav'}},\n",
       "  '4': {'yes': {'audio_file': 'doctor_appointment5.wav'},\n",
       "   'no': {'audio_file': 'doctor_appointment5.wav'},\n",
       "   'repeat': {'next_state': 4, 'audio_file': 'doctor_appointment5.wav'}}}}"
      ]
     },
     "execution_count": 2,
     "metadata": {},
     "output_type": "execute_result"
    }
   ],
   "source": [
    "call_template"
   ]
  },
  {
   "cell_type": "code",
   "execution_count": 3,
   "metadata": {},
   "outputs": [
    {
     "data": {
      "text/plain": [
       "{'1': {'yes': 'नमस्ते! म बियनबि हस्पिटल बाट निर्मला बोल्दै छु! के तपाईं अर्जुन खत्रीजी बोल्दै हुनुहुन्छ!'},\n",
       " '2': {'yes': 'तपाईंको डाक्टरको अपोइन्टमेन्टको बारेमा कुरा गर्नु थियो। अहिले हजुरसँग कुरा गर्न मिल्छ?',\n",
       "  'no': 'तपाईंको समयको लागि धन्यवाद। म कुनै पनि अवरोधको लागि क्षमा चाहन्छु।'},\n",
       " '3': {'yes': 'हामीले तपाईंको अपोइन्टमेन्ट सफलतापूर्वक बुक गरेका छौं। तपाईंको डाक्टर अर्जुन सिंहसंगको अपोइन्टमेन्ट आइतबार ३ बजेमा छ। कृपया समयमा अस्पतालमा आउने सुनिश्चित गर्नुहोस्।',\n",
       "  'no': 'मैले तपाईंको प्रतिक्रिया रेकर्ड गरेकी छु। तपाईंको समयको लागि धन्यवाद।'},\n",
       " '4': {'no': 'मैले तपाईंको प्रतिक्रिया रेकर्ड गरेकी छु, तपाईंको समयको लागि धन्यवाद।'},\n",
       " '5': {'yes': 'हुन्छ, तपाईंको समयको लागि धन्यवाद। केही गार्हो पर्यो भने सम्पर्क गर्नुहोला।'}}"
      ]
     },
     "execution_count": 3,
     "metadata": {},
     "output_type": "execute_result"
    }
   ],
   "source": [
    "question_for_tts"
   ]
  },
  {
   "cell_type": "code",
   "execution_count": 5,
   "metadata": {},
   "outputs": [
    {
     "name": "stdout",
     "output_type": "stream",
     "text": [
      "Audio file saved as: doctor_appointment1.wav\n",
      "Audio file saved as: doctor_appointment2yes.wav\n",
      "Audio file saved as: doctor_appointment2no.wav\n",
      "Audio file saved as: doctor_appointment3yes.wav\n",
      "Audio file saved as: doctor_appointment3no.wav\n",
      "Audio file saved as: doctor_appointment4no.wav\n",
      "Audio file saved as: doctor_appointment5.wav\n"
     ]
    }
   ],
   "source": [
    "# Function to find where the phrase lies in the dictionary\n",
    "def find_phrase_location(dictionary, phrase):\n",
    "    for key, sub_dict in dictionary.items():\n",
    "        for sub_key, value in sub_dict.items():\n",
    "            if value == phrase:\n",
    "                return f\"{call_type}{key}{sub_key}.wav\"\n",
    "\n",
    "    return \"Phrase not found\"\n",
    "\n",
    "# TTS endpoint and API key (example)\n",
    "TTS_API_ENDPOINT = \"http://192.168.88.10:8026/xtts_text\"\n",
    "\n",
    "# Function to send request to TTS API and save audio file\n",
    "def text_to_speech(file_name,text):\n",
    "    payload = {\n",
    "        'text': text,\n",
    "        'language': 'nepali',  # Assuming Nepali text\n",
    "    }\n",
    "    \n",
    "    # Send the request to TTS API (using POST or GET based on your API spec)\n",
    "    response = requests.post(TTS_API_ENDPOINT, data=payload)\n",
    "\n",
    "    if response.status_code == 200:\n",
    "        # Save the audio content to a file\n",
    "        with open(\"/home/bumblebee/wiseyak/abhi/global/global-audio-socket/audios/Arjun/\"+file_name, 'wb') as f:\n",
    "            f.write(response.content)\n",
    "        print(f\"Audio file saved as: {file_name}\")\n",
    "    else:\n",
    "        print(f\"Failed to convert text to speech: {response.text}\")\n",
    "\n",
    "for k, v in question_for_tts.items():\n",
    "    for yesno, text in v.items():\n",
    "        audio_file_name=find_phrase_location(question_for_tts, text)\n",
    "        if '1' in audio_file_name or '5' in audio_file_name:\n",
    "            audio_file_name=audio_file_name.replace('yes','')\n",
    "        \n",
    "        text_to_speech(audio_file_name, text)\n",
    "    #     break\n",
    "    # break"
   ]
  },
  {
   "cell_type": "code",
   "execution_count": 6,
   "metadata": {},
   "outputs": [
    {
     "name": "stdout",
     "output_type": "stream",
     "text": [
      "Trimmed audio saved to: /home/bumblebee/wiseyak/abhi/global/global-audio-socket/audios/Arjun/doctor_appointment3yes_trimmed.wav\n"
     ]
    }
   ],
   "source": [
    "from pydub import AudioSegment\n",
    "\n",
    "# Load the WAV file\n",
    "audio_path = '/home/bumblebee/wiseyak/abhi/global/global-audio-socket/audios/Arjun/doctor_appointment3yes.wav'\n",
    "audio = AudioSegment.from_wav(audio_path)\n",
    "\n",
    "# Trim the audio to 14 seconds (14,000 milliseconds)\n",
    "trimmed_audio = audio[:14000]  # 14000 ms = 14 seconds\n",
    "\n",
    "# Export the trimmed audio\n",
    "trimmed_audio_path = '/home/bumblebee/wiseyak/abhi/global/global-audio-socket/audios/Arjun/doctor_appointment3yes_trimmed.wav'\n",
    "trimmed_audio.export(trimmed_audio_path, format=\"wav\")\n",
    "\n",
    "print(f\"Trimmed audio saved to: {trimmed_audio_path}\")\n"
   ]
  },
  {
   "cell_type": "code",
   "execution_count": null,
   "metadata": {},
   "outputs": [],
   "source": []
  },
  {
   "cell_type": "markdown",
   "metadata": {},
   "source": [
    "# Insurance"
   ]
  },
  {
   "cell_type": "code",
   "execution_count": 119,
   "metadata": {},
   "outputs": [],
   "source": [
    "import requests, json\n",
    "\n",
    "with open('/home/bumblebee/wiseyak/abhi/global/global-audio-socket/calltype_template/insurance_claim.json','r') as f:\n",
    "    json_file=f.read()\n",
    "    call_template=json.loads(json_file.replace('{insurance_name}','शिखर').replace('{name}','रवि बस्याल'))\n",
    "\n",
    "call_type=call_template['type']\n",
    "question_for_tts=call_template['question_audio_for_tts']"
   ]
  },
  {
   "cell_type": "code",
   "execution_count": 120,
   "metadata": {},
   "outputs": [
    {
     "data": {
      "text/plain": [
       "{'type': 'insurance_claim',\n",
       " 'out_state': 4,\n",
       " 'question_audio_for_tts': {'1': {'yes': 'नमस्ते! म शिखर इन्स्योरेन्सबाट निर्मला बोल्दैछु। के तपाईं रवि बस्याल जी बोल्दै हुनुहुन्छ?'},\n",
       "  '2': {'yes': 'हामीलाई तपाईंको गाडीको बीमा दावीको बारेमा कुरा गर्नु थियो। अहिले हजुरसँग कुरा गर्न मिल्छ?',\n",
       "   'no': 'तपाईंको समयको लागि धन्यवाद। म कुनै पनि अवरोधको लागि क्षमा चाहन्छु।'},\n",
       "  '3': {'yes': 'तपाईंको बीमा दावीको प्रक्रिया सुरू गरिएको छ। ५ दिनको भित्र हामीले तपाईंलाई अपडेट पठाउनेछौं, हुन्छ?',\n",
       "   'no': 'मैले तपाईंको प्रतिक्रिया रेकर्ड गरेकी छु। तपाईंको समयको लागि धन्यवाद।'},\n",
       "  '4': {'no': 'हुन्छ, मैले तपाईंको प्रतिक्रिया रेकर्ड गरेकी छु। तपाईंको समयको लागि धन्यवाद।'},\n",
       "  '5': {'yes': 'हुन्छ, तपाईंको समयको लागि धन्यवाद। कुनै पनि समस्या आएमा हामीलाई सम्पर्क गर्नुहोस्।'}},\n",
       " 'llm_states': {'1': {'positive': ['हो म रवि बस्याल बोल्दै छु',\n",
       "    'हो रवि बस्याल हो',\n",
       "    'हजुर हो',\n",
       "    'हजुर बोल्दै छु',\n",
       "    'के कुरा को लागि हो',\n",
       "    'हजुर भन्नुस म सुनिरहेको छु',\n",
       "    'ओभाओ भन्नुस न',\n",
       "    'हजार भनोस् न के काम पर्\\u200dयो',\n",
       "    'हजार भनोस् न'],\n",
       "   'negative': ['हैन',\n",
       "    'हैन नि',\n",
       "    'म त अर्कै मान्छे हो',\n",
       "    'मेरो नाम त रमेश हो',\n",
       "    'रंग नम्बर पर्यो',\n",
       "    'रङ नम्बर पर्\\u200dयो',\n",
       "    'होइन']},\n",
       "  '2': {'positive': ['मिल्छ',\n",
       "    'मिल्छ मिल्छ',\n",
       "    'हजुर भन्नुस न',\n",
       "    'अहिले मिल्छ',\n",
       "    'हजुर मिल छ'],\n",
       "   'negative': ['अहिले त मिल्दैन',\n",
       "    'मिल्दैन',\n",
       "    'भोलि मात्रै मिल्छ',\n",
       "    'एकै छिन पछि मात्रै मिल्छ',\n",
       "    'अहिले मिल्दैन',\n",
       "    'हजुर मिल दैन']},\n",
       "  '3': {'positive': ['हुन्छ',\n",
       "    'हुन्छ, समय मिलाएर जान पर्ला',\n",
       "    'धन्यवाद, म जान्छु',\n",
       "    'म छिट्टै जान्छु'],\n",
       "   'negative': ['हुँदैन',\n",
       "    'अलि छिटो गर्न मिल्दैन?',\n",
       "    'मलाई हतार छ, अलि चाँडो मिल्छ कि?',\n",
       "    'म सँग अहिले डकुमेन्टहरू केही पनि छैन',\n",
       "    'अलि समय पछि जाँदा पनि हुन्छ?']},\n",
       "  '4': {'positive': ['बुझे', 'राम्ररी बुझे', 'बुझे नि, धन्यवाद'],\n",
       "   'negative': ['बुझिन', 'बुझिएन']},\n",
       "  'repeat': [['could you speak louder',\n",
       "    \"i can't hear you\",\n",
       "    'repeat',\n",
       "    'repeat please',\n",
       "    'can you speak alittle louder?',\n",
       "    'pardon?',\n",
       "    'can you repeat?',\n",
       "    'could you repeat?',\n",
       "    'मैले बुझिन',\n",
       "    'मलाई फेरी भनि दिनुस न',\n",
       "    'हजुरले के भन्नु भएको मैले बुझिन',\n",
       "    'हजुर के भन्नु भाको?']]},\n",
       " 'tts_next_states': {'1': {'yes': {'next_state': 2,\n",
       "    'audio_file': 'insurance_claim2yes.wav'},\n",
       "   'no': {'next_state': 'out_state', 'audio_file': 'insurance_claim2no.wav'},\n",
       "   'repeat': {'next_state': 1, 'audio_file': 'insurance_claim1.wav'}},\n",
       "  '2': {'yes': {'next_state': 3, 'audio_file': 'insurance_claim3yes.wav'},\n",
       "   'no': {'next_state': 'out_state', 'audio_file': 'insurance_claim3no.wav'},\n",
       "   'repeat': {'next_state': 2, 'audio_file': 'insurance_claim2yes.wav'}},\n",
       "  '3': {'yes': {'next_state': 4, 'audio_file': 'insurance_claim5.wav'},\n",
       "   'no': {'next_state': 'out_state', 'audio_file': 'insurance_claim4no.wav'},\n",
       "   'repeat': {'next_state': 3, 'audio_file': 'insurance_claim3yes.wav'}},\n",
       "  '4': {'yes': {'audio_file': 'insurance_claim5.wav'},\n",
       "   'no': {'audio_file': 'insurance_claim5.wav'},\n",
       "   'repeat': {'next_state': 4, 'audio_file': 'insurance_claim5.wav'}}}}"
      ]
     },
     "execution_count": 120,
     "metadata": {},
     "output_type": "execute_result"
    }
   ],
   "source": [
    "call_template"
   ]
  },
  {
   "cell_type": "code",
   "execution_count": null,
   "metadata": {},
   "outputs": [
    {
     "name": "stdout",
     "output_type": "stream",
     "text": [
      "Audio file saved as: insurance_claim1.wav\n",
      "Audio file saved as: insurance_claim2yes.wav\n",
      "Audio file saved as: insurance_claim2no.wav\n",
      "Audio file saved as: insurance_claim3yes.wav\n",
      "Audio file saved as: insurance_claim3no.wav\n",
      "Audio file saved as: insurance_claim4no.wav\n",
      "Audio file saved as: insurance_claim5.wav\n"
     ]
    }
   ],
   "source": [
    "# TTS endpoint and API key (example)\n",
    "TTS_API_ENDPOINT = \"http://192.168.88.10:8026/xtts_text\"\n",
    "\n",
    "# Function to find where the phrase lies in the dictionary\n",
    "def find_phrase_location(dictionary, phrase):\n",
    "    for key, sub_dict in dictionary.items():\n",
    "        for sub_key, value in sub_dict.items():\n",
    "            if value == phrase:\n",
    "                return f\"{call_type}{key}{sub_key}.wav\"\n",
    "\n",
    "    return \"Phrase not found\"\n",
    "\n",
    "# Function to send request to TTS API and save audio file\n",
    "def text_to_speech(file_name,text):\n",
    "    payload = {\n",
    "        'text': text,\n",
    "        'language': 'nepali',  # Assuming Nepali text\n",
    "    }\n",
    "    \n",
    "    # Send the request to TTS API (using POST or GET based on your API spec)\n",
    "    response = requests.post(TTS_API_ENDPOINT, data=payload)\n",
    "\n",
    "    if response.status_code == 200:\n",
    "        # Save the audio content to a file\n",
    "        with open(\"/home/bumblebee/wiseyak/abhi/global/global-audio-socket/audios/Ravi Basyal/\"+file_name, 'wb') as f:\n",
    "            f.write(response.content)\n",
    "        print(f\"Audio file saved as: {file_name}\")\n",
    "    else:\n",
    "        print(f\"Failed to convert text to speech: {response.text}\")\n",
    "\n",
    "for k, v in question_for_tts.items():\n",
    "    for yesno, text in v.items():\n",
    "        audio_file_name=find_phrase_location(question_for_tts, text)\n",
    "        if '1' in audio_file_name or '5' in audio_file_name:\n",
    "            audio_file_name=audio_file_name.replace('yes','')\n",
    "        \n",
    "        text_to_speech(audio_file_name, text)\n",
    "    #     break\n",
    "    # break"
   ]
  },
  {
   "cell_type": "markdown",
   "metadata": {},
   "source": [
    "## TTS "
   ]
  },
  {
   "cell_type": "code",
   "execution_count": 35,
   "metadata": {},
   "outputs": [],
   "source": [
    "import requests\n",
    "from IPython.display import Audio\n",
    "from pydub import AudioSegment\n",
    "from io import BytesIO\n",
    "\n",
    "def tts(text_input):\n",
    "    url = 'http://fs.wiseyak.com:8026/tts_text'\n",
    "    headers = {\n",
    "        'accept': 'application/json',\n",
    "        'Content-Type': 'application/x-www-form-urlencoded',\n",
    "    }\n",
    "    data = {\n",
    "        'language': 'english',\n",
    "        'text': text_input\n",
    "    }\n",
    "\n",
    "    response = requests.post(url, headers=headers, data=data)\n",
    "\n",
    "    # Check if the response is audio content\n",
    "    if response.status_code == 200:\n",
    "        # Load the audio into a pydub AudioSegment\n",
    "        audio_data = response.content\n",
    "        audio = AudioSegment.from_file(BytesIO(audio_data))\n",
    "\n",
    "        # Convert to 8000Hz sample rate and mono channel\n",
    "        audio = audio.set_frame_rate(8000).set_channels(1)\n",
    "\n",
    "        # Export the processed audio to a BytesIO object\n",
    "        processed_audio_data = BytesIO()\n",
    "        audio.export(processed_audio_data, format='wav')\n",
    "        processed_audio_data.seek(0)  # Move cursor to the beginning of the audio data\n",
    "\n",
    "        # print(processed_audio_data.getvalue())\n",
    "        # Play the processed audio, passing raw audio data and specifying the rate (8000Hz)\n",
    "        return display(Audio(processed_audio_data.getvalue(), autoplay=True, rate=8000))\n",
    "    else:\n",
    "        print(f\"Error: {response.status_code}\")\n",
    "        print(response.text)\n"
   ]
  },
  {
   "cell_type": "code",
   "execution_count": 37,
   "metadata": {},
   "outputs": [
    {
     "data": {
      "text/html": [
       "\n",
       "                <audio  controls=\"controls\" autoplay=\"autoplay\">\n",
       "                    <source src=\"data:audio/wav;base64,UklGRvByAQBXQVZFZm10IBAAAAABAAEAQB8AAIA+AAACABAAZGF0YcxyAQDl/9b/1f/R/9b/6P/y//r//f/8/wMABQANAAsACgAKAAgA///9//r/9//v//L/+P8HAA8AEgAWABcAFAAPAAgAAAD5//D/8f/5//r/AAACAAMABgAFAAcAAwADAP3/+v/1//P/+v/5//z/+v/6//z/AQABAPz/+//3/+7/8//u//X/+v8EAAkACAADAAQAAAACAAUABQABAAEA9//4/wMA7v/6/+r/8v/7/yYADwDM//L/7P+4/4cAXQAIAKn/hQCw/9j/qP8X/+L/wf8WAAIAAgB9AG0ATACMADYAo/9JARAAoP8FAPz9qf6k/vX/t/+GAVEC0AHtAbj+l/7S/bT+g/+8/1j/u/+SAHoBCQS6As0Bbv5O/fb7bf9n/1j/Yf+t/Wf+qP8LAo0B4gHU/y7/8v/uAGcCUAIGBKMDBgVlBNUD6wCc/jX8gPrj+oD6gPte+7v7wfym/K/9RP46/2EA8QCeALv/dP8l/4oB8gKpBB4FMQX1CAEKtg4cC4MIcAB0+4T3NfaI96z3VPkY+r382/5XALb/0fxX+qP4rPku+zD9Pf5k/kz/tf8jAZ0CBwQKBQAGfQcNC5UO8xLjD9UKWALz+af2w/Sy9r33X/nc+o38pf/RAbgCyQCr/Vb6SviL+Av6k/ss/OP8gf1r/80B/wIGAw8CZAArAIQAWwM+C9sOwxaoEn4P1gXj/Y/3pvMx8xXzP/Sd9pT5ov5/AUgFkwPiAQD+bfvX+lH7tvw7/CT8Tfvp+679FP7x/jH+sP2T/EH9+P//DmAVmyW1HpAahAbU+knuSurg6hDtK/AM9SP45QEgB9QQug6FDWADzvzV9ln1+Paf91H5Gfmm+b/7JPxi/vf9RP4x/fr7iPyFAFINdRdSJAsinh58DMwALPJa7PHpiOnQ7BXvRPS/+78CbgwID/sQYQv5Bdn+aPoO98701PNb84/0nfb6+Ab7d/2J/gEAff8IAFcGVw44HDkiviIUG9YLkf/u8Qbt7OjS6P3qjuyC8+X4mALVCTcPCRDODYYJDATG/136vfYi83vxhvFx8jv1XPdj+wn+PAC1ADkBLQsQEAUg6R7yIWwVGg0b/wH2se8X68LqAepn7HjwlvVP/nYDwQrdCxkOogtmCvkGqwIz/kv4CPVF8pjxKfJ/80v2uviL+zH94v87CBgOHhvyHP4gPBiGEwsH7gDP+AD0EPBM7OXrxOqK7mrybPhY/tIC5gcXCpIMsAsLCn4GkAHX/YT4kPbh8hfzjvIM9Bn1mPXe+jIA0QsVE5gZBRt3GM4UFA80C2wFPgCO+qD0yfAi7IHs5OwU8fP06fkR/uYBhgVcBxsJzwc6BpwC2/6M+6r4A/ec9dn0WfTp9ZH87AIPDi8SExiYFrMW7hHTDvgKYAUYAQr6xfQP77DsTeyy7V7x/vO8+C780ACHBCoHnAicB9cF3wGz/iz78/gM98/1K/VJ9Aj5xfy2BzANUBV+F84XahZ6Eo0PhwppBX3/Gvg48mXs9ur56tHt6PDY9Jb4o/xOAdMExQiJCYAJeAYDA1n/vPt0+cD2QfVN87/z2/jD/8sJ8BAoFrMWsBbnEuIQNg2bCNsDK/zF9fHugusZ6yXs9u/I8UT2K/kf/qsCJAc3CrUKSwmLBaABxf26+n/4lfUm9O/xBfje/CYIfw7ZFAEXtBbYFE4R+g3rCFYERf329sPw1+sC62bryO7G8Yn1Q/l3/TUCLga5CXgKGAmBBX8Bdv3T+mH4uvYY9Z30+/fO/XIGRg5PFI4XvxaoFDEQAg1UCBAEP/7x92ryDe3Y6/brJe958jP1y/hB/LAA9ARzCKoJeAhKBScBQv3S+pP45Pf29dX2U/e0/pIFtQ5TFPkXQBZ9FPcPZgzZCLQDi/7C9wzySO2L603sP+858xn2xPma/M4AGwVJCOkJpAilBWYBM/1V+u73JfcU9iv2s/Y8/ZYCwA45E78YMBd+FWURkw1XCr4E/f+c+DHyCO2q6hbrtu3d8AL06Pds+9v/iwQdCJAKyQlpB+YCHv8l+3f4vPbl9cT2ovUY/DQApArNEKIX2hd1F1oTzg9QDFcHIwLx+g/0de4m6gbq5OuP7zrzrvZj+s3+MwQqCB0LuQqfCG4EpAAk/JL5VfYC9Rz0OvVe+Rj+PwmFDrYXRBgzGA0UMBEuDRUJnQMK/Rj1Zu/A6aTpXeob7lzx/PSn+eP94APHB8YL7AvYCkwGaAI5/dz5XfbZ9Kzy5fLh8Yv6eQLhD2sXnBzfGukYCxSJEKoLvAWa/rT2ku/C6Qznd+fJ6h3voPNt93f8lQF6B1MLpA1PDDYJIwRE/zD6HPdF9JLy7/F38v330f3zCJ4SsxqLHhAduRnqEwsPKQrBAkT8mPFj6+zkwOSK5jvrV/Dh9GH6FQAUBrgLqQ6PD0cMrgc7AZH7Pfcj9FPycvDA8O3xWvvOBGURxBklH6AehBx4FoERFAsLBAn8AfMh6y7lvOI85HfoJ+6Y82r5e/+kBQ0MixBKEkcQWgvcBA/++/fd8+zwwu6P7hzuXvek/bcMSBZ2IG4iHCHMG6AUlg7+Bzz/jfdN6yTlCd/D4I/kXev18TT4WP/BBWgMqhHLE/cT7A5uCJcAMvgb8/vt4uwD7FbtYexF9kb7TxBtGjgngylqJUsfeBRiDjwFPfq682vkwuBb2endUOOQ7SL1kfyEA3UKzhAPFbQV4xNWDfgGG/4d91zwtutY6nHqjezi7Zr23/seD8wbhSe0L74nAyJHFHkKKwGU9Hntk9873qPZCuCD6Kb03f96BjEOJxNHFT4WdQ/lCi4AD/m48e3trevH6d/qSe7H83f4W/ylBCMUviNgOK8zQjLeFowHcu8I5tLf59lA2/DZkuX48hEHmBdjHu0h9RlMES8Hw/kb8Sjm5OX26X31iP+YAtkBw/tn+qz7N/3+/e33JvPt9FkP9iPyPTA4iy7vDN76Zug24djgJNoN3drfevBoBWgYaSPsHqsWBgtk/6P6Ye2H6ejkZ+2E+yQIiA3yBaX70PLx88v3Hvt1+X7zYvIB8ZkTQCPFR4E4Li0dDfLzIOmb3fHcbdiq15Dn7/RAEqkesiU6IB4RUgjX+CPzyOdV5RTnUPFfAnIO9BMCDq//BvdC79nybfHb8jXvwPCc+LsAbCIwLLJH5DGnJj0G4e7z4ejTQtSL1WPfevXuBWUdgyQ0JSscZgoP/cPr0eXx4LPlUvAD/BcNmBQQF0MNaf7F8xvsr+3i6qTso+0S9eEAyQonIm0wGD7RNsggtQbc6S/bPtFd0p/bvOXZ+hQLaR0yKKgj7xwIBRz18eUM4BHljewU+EsElw38FqwVCQ9I/uDysOlP6Vzpx+oA73v1YwLKDTYSmCRbKpM3XyzqFZL7Yt+v1PPRXdnf6ef06gdcFcQfSiZmG3UOMvZc5qfgk+LW7h36kQM8D7sSbxg8EDcFO/XO6nfnmufp6iTtIvP6/EsIuxB1ElsOniNWH+4z0hb1CTDon9gg1jbdWutu+lj/OBMSFJQj7RuHD1D8G+ix40vnx/BI/h0C9AwVD6kUmREXBS34pOqY5rznzOpS72TyC/mgAnAL/hBBDjgQzyCLIT4xjBOdBbHl6tuT3Jbk/PFx+8n+TA+yEoUgGhhyCl/3luZN5gbt+/arA38Dxg1nDR4RsQvJ/d/xC+h+59frxu7B9J73Jv+5B/gMZhDQCoUCTxZzFFsxvBrFDgrxUeBA3wblk+7c+Bv5owcfDuwbUBuyDkn/luwa6IntZ/SwAGwEQQpDDUgMTQj6+8Pxuetq6lHwQvLS+Gr7mQBHBZ0JmQmJBg4AiAJfGRQfZDBlFkkIpepU4mnjO+kk8JH3U/m1DMASRiAkGZsJNfct6I7mne4/9cMByQEwC4EJjgxbBjn85/Kq7S3vMfRt9dv4W/go/nIDZwptC3MIlv/NBeMUASEYLA0UHAQM5yDiE+YD8L336P3R+8kKEQ/RG94STwTU8p7nBurH9Ej8tgVnA8MITQiQCE8EQ/kA85LvsfIC97v2t/eO+d78xwTIBggI2AIB/Rz8fBWOHPAyYBtSDjXwwOdU55ns4+8H9Sr2uQaZDzobZRa9ByD4g+vp63ryfflgAbsCxAYDCc8HygQH+/vzRPKz84T4E/e+9n72I/rnAB8GgAceBHH/fPtoFrEdITixIlwQjPWR4u7hZ+ZF7CH20PiABmkRFBkxGloJI/ss6+HnAu++93X/5gX1BBcLCgiVB4P+w/T478nuivHU8//zjPlF/RgFNwqoC8EKOgXm/d4LHxbvJRgkLA/P/V7oHOZh6YPwY/bW++z8nQuEDZUVlQqC/o3xHutc7x35gf7mBvwC1AgyBU4FOgF7+Jf0fvIJ9PL4EfhV+3r9gwBpBkoHTwZCAR/8kv31FR0baTGvGioOYvNK5+nkQOim7e73U/r4CKwMRxOWD/kDA/tF8dnviPXW99YAwQAQBnsHjwU/A4H7bvcV9hL23/jz9wf4Xvq5+woBSgMRBRUFzAE+/6wU3hkHLqMglBDz+l7mluM65DfrHPby+vsEOA2cEPQTzgdF/knx5es58Bf4Yv9rBzcE0QmHBDkGlgAa+4v2d/Gn8Ivyj/Ra+/7+jwPjBiEHxQfwA7f/zwVJFjAeaSgWE9EGEe0B517lUezL81/83v1iCRUJXhCkCtsCsPkQ8kjzGfks/SgFQwLwBnoEqQTEAc/5evWu8aDxwPUZ98T8y/6YAaUEbgQ4BesB6P36ALAVTxpVLEkWqwtY8pboOuUN627xnvsf/KMHqAmMETgQfAc2/prxue9z84n4gwHqAXgGAwbHBEoDHfzy9yX0a/LY9Xb2Jvts/Gj+bQHgAWgEFAP8ANYBIBYrGDssQhg6DyT24ek/5s7qBPFe/cb+zAjxCLsNhwz9BDb9s/JU7wLzQvlpAUUFnAaeB1wD7AFh+r72m/Kn8Zbzw/Wy+Wr+UABwBM0EkgXXBFMCT/+PE7oUdSl1GKkOA/md6rXnuOsj8sD9lf4RB/EHywp6C3IEHf7N9Lvx6vWi+tgBGgNpAh4Dsv9bAWH7jvjw86vy+PP895P8KgECApkEnAMRBuYExgG/CWEUIB5/I8YTrQfu73bpLOap7SH1+P45AAYIXwYQDKkIxwOa+u7yKfEn9ij7JAJGAToD1AELAtMBpP3F+Tz0FvIH88D3Lf0bAsAENQbwBSIGHgSlAwEVnhRZJWoUXQx+93bs3uk67h/07v2t/uYE1gTrBooIkQN5//b39fNf9iz5W/6S/9X/5wEPAeYC9P5V+9n1xvIU8xT4RfwLAV4ClwO0BKUFewWpBwQXBRcIJLkS6wq292fs8Olc7Kby5/wa/UoFjARtCL0JtQWeAXH4A/OD8yj2WP0WAbQD6wTWAvwCBv5Q+o/00PFo8vz3jfzZAfICPQWpBb4HaAQBEpYUhCCJGkYOeP+b7UnpMumL74L4sP9WAiIIugYACx0HwAJK+5jz9O8S8yb34QBFAlwH6wThBEIBMfyK9mbyjvHT9dX6LQB9AisDEQVGBRgG5xZ0GDIlLxeqCkP5G+rz6FTq5fFk+qn/cgQ4Cp8KDQ84CCIDgvmw8ZbvafB/9jH+0wF/B2IG1gbTAZ77efXr8V/ym/Y2+QP+Zf/hA5YFAwb7ERIYzSGXH7ERJgN37mrn4+QU7Mj0iP64ARcKDQtSEAQQOwrQARz1V+wG7DrvDfpOAC0GBgjQBf4CJv3J98P0SfMB9Xv3/Pkj/rv/QwSIBcsW9Br0Jzseug8C/tTqz+Wa5tnsxvik/osEGgugDDETOhAEC7P/p/Gp65fq8/Ac+y8AvQZDBkwFSgFu+rL08vKW8Wr21vgp/v3/uQHcAo0TohuQKd8jNhUdAkzrsuOH4oTpsfPE+8L/+gmZDZEYjBfYER0DLvGV5YzluetA+WABOAcTCCcFZQP2/qH73/it9Zv1aPbD+Ff8Df4cCpkWVyHUJ8wcuA94+HnqAePR5BLs8PSL+BgALAVtEHQYIBcBEaD+2/GL6mXq6PJT+D/+uAHEAS8EDQPpAiQCtP71/e/5H/iZ91v5BgofEzwhgR7kFMIFRvVd7HfpMet28TL1r/nK/yQGtBCtE4gSTggL/PLyiu+Q8hj5nvwdAOj+yf3S/BD8bf4lAT8D/QPXABv+rv5RDEgTXiDKGG0NxvsD64TnFun18PH4AvoX/EMA9wRYDzwQlw35AjP2A/Np8qb52/5ZAP7/L/tn+Ab5evoeAXgEOAdlBn0C3wBZCIwNfxrPGGsSlAVR9cftdOrH7YXzg/YQ+Ir8Wv8QCm4O0w8dCpj9NPSt7oXwb/gY/x8DewEm/Mv5fPk9//4Ebwc3Blf/pwHvCNsThh7OGxASjACq7obmL+aD7T/4CP0IAm4DWgaZCloKXwep/n/0oe7a7cHzEPtVAIIBk/3K+5T6IACZBQkKQAn0AzYCaQZ3DlsZ5hhIEngC8vGg6V7pn/B2+/H/VgKYATEAZAUIBnoJkwRv/W72y/Dv8Qr2NPpN/Sz8Zvpa+sv70AJOCLoMpQ+eD1YQGBGuDtQLOwLr96Huoenw7CH05v29BSMJrwliBl0DnP/b/Kr5J/f+9Lv1Dvfk+tr9+P8vAdwAFQGnAS8D3QlmD2YVHhZcEUIJOv7/9HfuIe2O7y71FvuJAEYFsQj+CccIAQSK/tH4evTX8zX1q/ib+6b8PP08/Wf+wAH1BL0Imw62EEQWqBSZEn4KcP7r8yDqAujh66nyQ/zxArsGDQlSBloEjP93+mj3iPQY9gr4rPvu/R3/sP9mAIADsgetDKMSKxVdFmYSkwrNAST3aPCE6xHsSvBx9g3+TgOSB4kIZAZ8Ajf8GPcA9HzzOvZN+Z/7i/1y/Y4AwwWiDJYUxRZ+FzsS4wtBBGf8YPZW8Tnvp+8t8yL5+P/mBZ4I2Qc6A4r90/e39MjzhvVg9834Tfro+2T/oQXrDFQUuhguGJYSwwqEApD8CflI9pD1P/SM9DL2bPlX/gECQgTxAwoBlP2I+XX3bPaZ9l72r/jl+6MDZgpjEpUW9BebFPMMzgJB+Qzyz/Cy8yX5Nv8zAdUBTP8x/tD9Vf4k/uL8QPrC+Jj3J/ie94L42fu+AUcLURNoGZEZOhQ6C/gAZfgR863w+/EN9eD5kf5RArUEPQX9A3cBvv1R+jX3l/XK9KX12fZd+Vz+cwQCDcQTZBjeGIsTJgsJAI/2KfH/7zjzkvdL+/j9zf4LABEBIQKiAh8B4/5w++H4ofYn9g32Lvn0/l0HKxGJF4AarRYdDv4DR/nd8prvBfDX89n3xvwqAJ8BBgJlAAf/zP2C/K/84Pun+6763Plp+j/+9QMQDP4RfBXeFNoPvQhvAOv4ofRw8hD0Ofd++qT9q/74/v/+Kf6A/qT9Q/2H/B37pfpY+q37yf+4BIcLRBBUEicRWwzlBTL/Afmf9f/zhfWS+AD82P73/57/p/7l/Fj8lvsX/E38hPy+/K78uf2CALoEegoFD8ERXhF+DR4IUgGO+6/3sfVT9hD4afq3/H79bf2Y/JX78vtc/K/96v1S/TH8C/vm+2P/RAQpCvcNBxBnD7AMOQhgArb8Z/iN9tf3XfoG/R/+yv2X/GT7ufrW+j37Jvx3/Ov82PwI/Qf/RgIuCMEN+xHuEt4P4AkOAnf6i/VX87j0xfdI+wn+Q/+u/r38W/rP+BL5A/uW/cz/ogBGAekCfwXTCR4NYQ+XDnkLLAY/AOv6Y/fg9d72xPii+9b9iP+t/5L+afx4+pv5Jfpj+8L8av3m/iIBFwXPCfANYBB4D74LsQXa/oz5aPZ89n/4Jfsz/c39kP1Z/Cr7RfoW+ib7qfxv/sD//AD/AmQFLwkKDAsOqw3CCukF9/+1+nP3e/Y0+Jv6F/1j/m3+uv1i/F37svqF+uT6cPuG/Gj+swGjBdMJxwxFDuUNjAu5B64Ck/2R+aL3VPhO+pT8pv0H/UX7BfnL9zf4Jvow/cD/RgEOArUCCARyBgEJOAvICzIK0QbvAZD9b/o6+d/5q/pg+3b7Gvsu+2L7FPzW/F/90v3p/Sv+V/+fASkFVAl/DCcOKw3nCQsFd/8E+zb41fdE+fv6h/zy/L/8OfyB+yz7+/pH+xH8IP3a/n4B1wSdCLELOg3UDCcKDwaGAWH97/rP+VT68Por+8T6Bvqs+eD5wvr++0T9Zv5L//v/KgEQA6MFwwj+ChMMSwvVCHwFWQHY/RD7r/mY+ff5hPql+n/6VvpB+sv6tPvk/Az+3v6m/xABLwM6BjcJWwvkC3gKege0A+n/VP30+9X75vuv+7n6ffmb+JT4h/nh+hL8qvwU/dT9yP8lA/EGnwqlDM0M9ArEB/cDWgC2/er7SvtG+2T7jvtb+0X7JfsN+z37jvs0/Nj8of2k/q4AcAOjBkcJgwoSCkIIkAW1AhcATP4M/aL8Pvzs+1n72vqD+nr69fqS+0389vx//W/+5P+BAosFygjeCkYLugnWBn4DswC0/pP93fwk/DT7MvpH+Rv5ZflA+j/7E/wI/R7+s/+eAbwDEwbEB+cIxQinB8MF0wMtAu8AEwBW/37+gP0n/ND6Vfky+JP3uPfB+GH6v/xI/98BJwTgBZgHhQjaCBMIUwZOBD8CvADA/z3/9/5a/l392ftp+kn5+/hn+V76tPv3/EX+bP/RAFECBQT3BckHLQmkCaAItQbfA1IBDP9d/Uv8ZfvI+j360Pnr+Wj6hPuP/C79Dv2P/Jj8c/2B/zUCAAVLB9oI5AknCmwJuAfbBKsBkf5X/DH7xPqP+jL6sflo+Z35YfpD+yX8uPxE/XH+AwBlAq8EuwYOCIwIcAjKB+AGmgXYA7QBZ/92/Rj8PvvR+lL67Pm0+dH5hvqS+6T8af30/bz+9f+7AbQDbwXFBnIHhQczB10GMAWMA9oBEABq/hz9CPwn+5v6MPoU+kj63vql+478Nv2s/Ub+Vv/oAKACEwQYBawF/gVFBkwGAgYiBaADxgH//2j+DP0g/GH7A/vP+v76M/uK+w38jPwY/YL9Jv4x/7EAbAJJBL0Frwb9Bs0GHAbpBGoDhgHJ/2f+gP1A/SX9Vv1X/TH97fxz/Az83vvz+zv85vzO/fv+WgDJASoDYARGBekFOwYSBnEFKQSeAsMAPP8L/mP9Qv13/e39IP71/ZH92/w8/Nf7yvsb/Kn8l/3D/kEA/gGIA70ESAUzBbIEGwR+A+ACFAIwAUYAZ//b/oH+Zv5+/of+Zf4c/qj9Lf23/GT8VPyd/P78oP1D/ur+vf+vANEBBwMOBLkE7gTBBFoEzgMyA1UCZAFKAHD/9/62/nv++P2C/Rv9D/1K/b/9Ev4b/v79vv2p/ej9af4h/+X/ugB9AUYC8gKKA+0DGQTmA2UDiQKVAZ8A3f+Q/5T/9v82ADQAzP/m/t794vwg/Lb7k/vL+2D8Tf1Q/k7/OADWAC8BcQG9AQcCRgJqAn4CfwKKAqECtAKnAmcC8AFWAZ8A6P8k/3P+6v2R/XP9e/2c/ZH9iP1//ZH91f09/sj+VP/M/z8AnwAWAbcBPQK2AtYCugJJAuQBawEpAQ0BCwEgAS8BLQESAasAHABi/5X+z/0R/Yz8QPw2/GD8yfxM/ej9af7l/lL/0P9hAAsBswFLAtgCPAOYA8wD0QOGAwgDbALSAVYBAgG7AG0ACACn/0H/zP4r/l39dfye+wr79/pT+/r7xPyd/Zn+ff9+AH0BfQI5A6MDoQNgAyIDAQPqAucCwgJ2Av0BbAHUAC0Ai/8K/5b+Jf7I/Xj9Iv27/E38C/wd/Iz8Gv3Y/YP+L//Q/4wAMwHkAYAC3QImAy0DKQMUA+sC2wK0AlsCygERAVAAtP9T/yD/Pf9T/0f/6v5G/k79bPzR+6/7Bvyc/HD9T/4w/+//iwAUAWABwgEKAl4CkAKrApACfwKLAqACyQKqAlsCswHnACcAlP8t/+j+sP5m/h/+yv1j/fX8qPyD/Jz8CP2R/Wj+Rv8yAPYAfAGsAX0BXAFLAW8BvgHmAS4CVQJrAl4CgQJBAuEBDQFaAHv/nf5t/kD+X/7q/d79CP7Z/ZcARPx3/Ov8uf0L/3f9M/91AI0B/wB0AUUCYQIIAXkAKQElAg0CagFoAdcBrwGFAc8AOwHfAAUA8f7I/rr+nv5l/v/9Ef4Y/v390/0W/lr+xP7j/hj/2P/o/yoA/f8uAZwBlgECAeYA1gFBAnECmAL9ArwCRQKZASQBYgBu/2P+k/1n/SP9sP3K/lr/Gv9J/y3/af6E/fP8yvxB/fP9kf5T/6cAuQErAkICFQPfA9cD+AMXAikCfQLZAaYBHwE1AcoAf//q/pT+Kv6q/bz8Tv36/S7+KP7X/qX+hP6Q/e/80fzz/Pf8O/2W/Wr+LAN0AzwE6QXoBhkJgQi3A/YEYgP1AKT+XfvP+4/8m/oJ/Mf9Rf5J/3f9RP+DABn/mP6f/2L/2P+K/fD8B/3s+zb7evpZ+un/7AWqA1UIrQvjDDsPRQgzCMkHLgOT/an6r/cl+SH1Cfb0+lD8I/7I/5oB0wMFA6cAbgMbALr+Jvw1+mz56fcH9pP3yvfz9zkEcgM3CqMPYRSWFdoTUAtLDCkG3Pn+9arwxe+U7DzsmfK9+DD6bwHFBToJfQpHCHUI5AVSAGX9aPoU92v14vK39HX1nfW2/5AMrAqHErcZERh8GpkNRwxSBw77re4A77Do+OhV58PsqvcC+mkBgwmoDWYOug/oCs8KswG+/Zf5BfR78Tzv/e5c8RLzAPYuCPwIQxJqGkMglR11G+8Orw71ANbwIu8X57XlA+S95yjxifrc/ccK1Q4UEoMU1BDmDXQHxf+2+sbygezE7P/q7e3G71Tz3/eRDbULOxduHwUmaiMpHfEODwyY/XPsE+v44UriZOAy5uvwWvv3/7gNqxKcFcAXThI1DsUF+v5O98rwIOom6/rpSew77030kvjzD5waHxkAIhYoyyBxIc4M3gr4/ETtI+l44lLeSeGh5ZHubPyP/ucOehO8FnAYyBSVDt8H3v2G9jjwyugu61PnrOsa7jH0f/hz/5MXAA0EHRQkECRCIJUTBgu3A7X0D+bn543cvOAc4jPqlvYF/g4JExT0FaUYHhnREAwM0AAr+pbyIOvD5+nnIOgz7dPxsfYW+8MHHh9nE10grCR+H4EeXw2ECiD+nu4N5uzlPtuH4D/jVOwo+rL9/QxTEwYX1hgUFzoOLgm0/TX4TPCV6AHpBOgN6wLu7POT+Hv+sQ6oHpcXzyBPJssbKx60CE4It/t97GfnIuWZ3Trkk+cP78b8N//mDyMTjRYIGOgU4wxVBxP99far74zoceqH5yPrve6n9D35jP3hCkcgvRS8HukkoRuUHYULJAru/cnu7efy6LzeSeTi5wrv5fsR/yYMDhLxFMEVJxSgCxAI8v2S98fwSepO6u3nD+uq7ujz/PiU/CwB5Bq1DcUbhiHPHrUcWBBCCfsBNfV46DzqBOAu5aTmV+1V+iz+sQfuEBISSRJzEokKbQkh/mH4EfTa7d7sgetb7cLxaPTz+Ln82/4FFikO8RjUHw0jkB6ZFdgJUgPu9yzqyOpu4TXkWecN7hv5fP8sBSUPgxCoEKYQOAsTCWn/ivk19Q3w+ewW7VXuAPLB87v4tvy4//ISqA9KGM4fOyODHdEVIwnoA0/4d+vR6r/jzOaY6vTv1fhs/yQFDg1xDYANaA5GCSMGkP/++cL2TfEr76LuK/AM9CD4hfuZ/h8C9BVpD4IWOxsUHgsXRBCsBfwBrPU77FnuWuiO7InsuvNl/fv9ywLBCIcJ+AkSCFoFPQTk+2f5ufeK8lf0g/LI9kD67/qp/oEDuQwSE/ASUxaDGbITVBMkB7QAvfvc897vYO4+73vwufNe97b93P43AsYFTAYRB8UDXwEFAJb8wfhc+FX3lPaM+AL53Pwy/pkAAggwEDAQiBKuE5YRVRFVB0UEEwCf+Ub2NfLC8rHz0/Ld9dn76vvi/vUAAAM8BEMAJgJTAI/9nv2v/G/6h/rL+V/8yfx1/OH/DwJ0B/QJdg0zD1wPhg4FDjQJ/gMzAaL7+fh/9DX0cvTT9KT2nfiU+sb7R/4WAEMBUQENAiABfAH6//n+FP7p/JL9+/xO/eP9i/95ASwFNQeoCsQLrQyWDa4Kzgi9A/UAwfyd+HL3WPU/9v31lPZw+PX6yfs2/eMA3AEsAl8CggKzAd8Adf/C/rr+pPvH/fX+Bv8WAL4BGgMIBG8HYAenCUYIcAgWBj0E+QE1/k38u/rw+Iv3BPkU+e352vrV/G79Iv9NAMsA2QEzAV4CTwDcADgBcf7i/gr/Uv/2/mgBuwBpAAgCBgUVBNMCAAU+BXECeQHNAfcAFf5L/rv+yf6H/Q39+P4d/wD/owBYAEX+v/2c/W//Pf7F/ygBvf1y/oQA5/8e/SkA6gHd//cAt/1///r/gwJs/6MCKQVSANX/vQF9/W38iP7LAPH+IQG5AWYCxQJIBMEBmwGVAf/+SP++/5n7lf1a/U7/E/x3/GX+af1/+z3/DgEnAU4CmQCXA7f+JvwPAVf+nAEKBTj/Gf+xABf/pP+xA6v/PgDR/20Eefz+/d0AeQEw/53/Dgbf/dsA9v4oAKT/bwCKAKv9+/95AH8CnPxJ/KP9egEz+9v/4AI7/6EA8vx1ApYDcAHv/dD/FgWQ/av3KPl6/4MChQhbBLoJ2guoAjgBqf4VBcwHA/+a9931kfqK/lYAuvqr+TX98P/PAp4JTgROA4gESgHJBY8Aj/tA+hEF4wD0/+wDcvtm/QQAEww8Bvb/jQHGBDgGCAYxAB/4PfRp90n67vEs7VD5sgcdFgQQTwVW/Wf6hf53/7QGOhCBEsIE1Pu0+i/+nQCkB+IG5v5J/TX0V+8Z+JICmgJk/jwFYP4m+JH3j/c678v6ZP6C/BrzEPbi/uYCJP1S/XYC3f3q+CUDpQojGFMPdf3hABQBuwBCAy8F4v0b9xEAkAJ2AlP8wfa+/YkAswMaCM4Fx/lP52bsaPeA/UAHGAF2ALAB3f6G/sT9RgBiAzAKxwqYCjMD6uwT9Z78g/3Q+wT+lfvy+FrrtPHW8M3r2u2u+jgI9gLb/VP7QfnN7UnvLP1XASkCEPqhAJ0APfo2/NX2Yvoj/QYAoP5M+434I/r1+hn+kwbWCL8BEPZw82H9kwL6B04HUgY3BZADiwTgCfsMmgf9BAwDlv+d/TwBggUYDAENYgK09WvhqOBO7539twoHD/gIfwGgCJoNzgyXB8AIUwyHCAEFAv9d9q/sX/FW7bzwzgQ4EPQTzxKgAGf0ye9T82ECRA3rF1wgnxkKBYjyq+Ex3pXwv/0DCxcUkBRsA+rwDvA/6C3wIfzSDW0Rkw3WBof6GvFR8qoASwIGB3EOWRGfB5r5v/Pv8Sn+uwS2BqEEgPrxBLcA8vxW+7f1I/fg9vX+iQuIBGwACgFm/nf5ZvgL/fwBbwEa/ET/hP40+az/wxMPHuoE+ACL8bfoxQEkBdkLlgBU+D/24/FK/28AtQW+D+sVggvjBLUALvj49zkF5g+fGZAJA//6+E/sOuwo+goF+wwfCUwIlQIOACf+Sv4CAAYDHwJOBBUCef4w/O731fV5+kr+GAcoCnsNuQcf+AP1LABMCE0O3ARAAf0ChgqNAjoHihAzBhT4iPrqAccCaACSBdMAIQEIBAgEKgVfAA/53vfd8WfpSfVG/uT2NuPz4jzwGfVz+I4AJ/32+QDxCPwIBtj/Ovb06ED2jPuV9+sFFgtUAjIK3xjXCXsBjgS0AoP+A/0q+FfnS/blAQ8IHwjZAcEHsxEqFI0TEgmPAcT8g/q2/7IIUAgFAFf4P+xR3fvt2/lU+PYEpw/3A1H6SvmM/j0CHwGjCTAKxAFf/0MC2gFhAC/6QO9b8Hr2kPb46grhRvXu9gv5Zf8dDYMH3gfzCo4Gp/eW7pntjvyG9K/mXdl13DDrSO5e6J7zZPMI+aADQQu0As8FHQmDCbUJlgViAJjs7PHb9wEDZQbHA3YGrP+K/ZP8BgIDAFkAlv6u/kYA5gNzCEkDK/1h9un81///9lXrn+xr9rv9JQImCn0LiAYyAa/3gvqE9y36w/yg+Rf5YfHD8p4AywNyEeEL/APJ/JIG3gzsBNH80/vvBIQEoQDhAXD4Ffp9+qn/Ov3U+rj6l/qNAV/8S/eLA7IKKg79BnQFHAjA+AL4jfdm9ITwm/MA92H5DQJLAHsCwv7M9bf3Pv7nAN75ivkk/pUHKQq0A1YC+gfkB0kFVgKIAiwDQ/5YALH37/Cx8gH1APgU/CsDWASf/k/1p/GI8e74RwHsB1YB4AL8BpEDt/3d+0r90vR4+hX9LPmH7TL2x/2S+0Dycfo1/g/+eP/nASn+FQGMBV0IogV4AdUDmgTTAZwCiQRBAyoBBwKcB4H9M/k7+/b5t/Xu/XEDrf8c9236AP7Q/6kGpwYlBA4B3QMTBScDRACIAQf8M/7a/uz/dwCx/sf+rfsW/SQA7QAsArwA4v3u+6D8pP4F/xUCEP+d/VUAtAJFAbYCbgSMA5oBwwJwAhsC0/4yANAArv5A/Rr7gPsw/Lb9rP/qAmICuAK2BdwDvABGALH/PQBGAnEAvAE2AewCQP6I/ND9yf7r/jb+QgDfAPQAUQDgAd3/VABFAbICRgFw/0IAzAFWAIkAFAAXAP3/Pf+4//8CRAAf/5z/aP9O/sD/0/8D/SD+n/7C/6X/JAB8/3QBZwB4AYUC7gGu//7/LwCy/kT9Av/SAM//hf90AE4BDgBs/zQBNf+o/6QAEAHm/24AZgD5AWcBh//X/wMBsgB6/xoASP/c/iAA5AAPARIAcAHmAE3/qv+B/+/+pP+VAKb/qP5h/hYApgBzACkAEgC3AD4Azv+b/n7+Iv/TABQCjgApAPb/uP/9/rD/9/81AV4A2gDoALgAS/+y/pL+Hf9k/1D/4f7e/q3/uf/I//YANwF6AcEBAwIHAvQBXwGCAfYBDwFDANb/P//W/kf+M/4F/bb8W/xL/ID8xvwp/tH93P2J/tj+7P5a/jP/lAAZATQBAgQJBREGXweWCOUInwcGB0EGZwSHAdn++/sC+if4efbd9sP2Rvcd+BH6q/xE/qj/b/9uAK4BhAF/AEX/zv4d/q7+RP2JAs8EVQbgCHULCAxCCvAG2QV4BFQAM/2k+b73+/Tz8971Ufg4+gn+JwAmAd8CIQMVA7gCWwFU/5P9NPvl+An3ZPcG+Qn70fzq/Y4A8wa7Bx0J0wxUD+UPTw20CgEKVAb3/uT7Tvhr9vbzm/Hb85/1CfjB+3f/hAIkBEUFJQf9Bn4EFAI9/1n8kvh+9hD1B/Zo9iX4hvoF/U7+DggrCZMLFw+HEVUSDg/UCqMJRQas/Uz6lPeh9R7xF++e8kj2dfg0/LoBZQUxB/QG/ggBCYsFEQKd/sr7ivjq9aH0gPUH9Yb2Tvnz+1j90AUBC6oLUg70EkoSbxJwC1cKdQfSAUX8IPhe9SbyXvAu8In0nvQs+eX9gwIcB84HswjhCVEI/AQLAjX9x/pW9/30LvUW9ev1g/ca+i/81v3UBEUJqArqDHIS0RIVE04N0QtcCNECE/1V+PT1gvM18knxifSu9cX5M/1HAZ8EEAZyCPQJAQl9BXMCmv7J+7X31fUK9dT0MPUp9/P6u/zr/oEFagmeCb8KnRDLEC4RVwy2CkwJkQRH/2P58/eB9V7zKPHs9DL1iPct+2L/OQOABEMG5gePB3UEeQID/1P9cPqn9/f2Evc3+Av5wfpd/IP90f25BewGBApBDb8PjRBLDncLaQlXB4EAS/0J+Gz2wfO38vHzlvVI97r5qP0CARwEjQSqBm8HzAapBBwCov/8/E36Ifif96z2vPZr+b37PfyE/TQAwgWuBnEJmQucDeQNgg1ECzwJXgZNATL+1fj39lD1H/SI9VX2pffI+nT+m/+dAo0DBgUHBekDcALb/mz8K/3U/An5Y/mh+yr8mvnB+vr90gAYATIF7gebBq0GyApjCqQKewekBUcF6gOuAGD8SvqX+AL4oPWo99L3W/mK+9T90gDKAaYB6QLiA+oAJADO/rr+0vwO+yz+p/u1+Sr/nAYc/1j8SQOxAg8B3wS+Bb4Fogb8BysJ7ARGBLwGKwb3ATL+cfuI+vf4LPih+Z/59PqK+7j81P3G/jr/mgIgBFsDjQSo/lv5lPfx/CUADQKKCigNngaRAMb/vftk/okG/ASRALEDPwerBGsDIwf6CE8F7gEWA7oBTf/3/FP91fts+1f6Lfuj+t35Rfvk/34Biv7t/1UALvy6+Qn7wACJBVcKEhDbBff11PCQ9Rn/egjsB+gDxP2K/UkBBgRrApIABwEqBsMJbQSCAxEIaghlASUA6wAR/dn9rf4O+oXyXPI39Qz2yu+09ZMB2wUtAMcAbwE/9LjuevkfBL0G1QyDDZkDogAn/uAAufyS+34CUPxh/EsCJwXR/0wERgOd///+pQKj/+oASACEAzQCh/8g+sP6Ufyo/zkJ3QdMBXoCC/+f9cryj/Rc+UMCYA06E4gNN/z69UD1P/cmAeQI4wg4/Nv2N/zNAEECzP79/dQDtAEtATMAjP32/JYBnAGOAuD/M/4A/eP6j/9UBrUDjP8OAh4BPPhx+Nj3Dv08A4UHRgvEBL/84vyyBJ8GwwBm/n36G/aT/hUIqgmpAwn3qPNt+pEEPQcTBZcD1fsk9/8Bhv/XAd8ClQD+/gD9nv4JB/0CpfmG+LEEbAW8CvkUKhMDA9v0EO9W7a7xBvfPAe0FMv9d86j1vP8VCIkOKg8JADfuBu/k/YcNJQlcBqAGMf26/ukIKAaQ82L0iwARBR0JHwujAuT4RP6hAygBtPzV99D9D/9c/+T8nP3d+yH+iQXR/wMAQ/1RAGEDG/rL9nH6wQLBA8wGMQlFB/YCVPwJ+PD6XvovAikHzRQ+Bo7zivA98OP3SP9ZDDsJIgWsAwUJgQM0+hf7g/6q/v77/v3q/wz/dAfRB738YALCDtoCbPMz99L6bf5SAOD/ZwObAAD3W/0bCFcBqv8wDZALsvI6+xQMw/5n9PkIPQgN7Mryrwp6/lDxYwrIC3j07/3dDar7OPt2DmsC0PTWBdAHQvRu+6sJD/5S8MgCEwQm9iL8kQUYAeD+wwMEBuYB9P9JBcAAtQCX/eUBMAIp/mz/AwRA/4D99fq6+lgA4vsHApUD0/pWAPUBG/2zAV0BQf/Y/rD+Uv6Y/QEAiggB/WX+HAQ+Ad35CgVyATj3wAQ8/zgCrwDf+EIFGf+h/A4ELf4fAoYAlP+n/n4BBAFOAhgB3P3KAK//DAKZ/mP90v/j/LAAOP9cAFD/Gv/+/xL/HgATAMEA+v8IAHoBvgCuAQsB+ACI/2kAoQD5/nYA2P9gAc7/Gv96/1MAav+R/8T/CgCGAHv/uf/f/iv/FgBXADH/D/+L/x4AkQGgADv/Kv/o/7MACgCC/0IA9QCOAOv/TwCnAH8AcQCh/zL/aAAOAeL/xf5IAJMAKv8n/9j/N/9t/90AQAAf//P/WgAP/yUAcQFZ/5v+HQG4ANn9AgB0ATn/wf4QARsAGf/YAZoBY/8yAMQBewBQAGIBoQAg/3YAUP8pAPIAP/8o/wYB4/7+/BgAtwDk/h4ABwFj/3L/zf/D/oP+3f6z/v/+PACKAH//KwCEAAAAEwEpATMBOgFYAWUC6wLhAnUDQwPsAmYCTAKWAQgA7v4u/vf8mvyI/Bj7ffor+iX64vo7/Hb9jf5k/rT/+ADmAP8BfAI4AqsCoQOjA8UEogXKBsIGyQWcBegEWQRuA4ABLwDU/Qv8KPrq+N344PcB+F/4B/mU+V/68Pv7/Eb+2v+rAD4BgAHTAUkCPgIFAxgEYgRrBQ8HZQezB9oGOQZIBZcDwAGBALL/z/5x/Zj8yfu2+or6JPrM+nb61PkO+6L7UvwJ/fD92P3I/Ub+g/8z/0r/Wf85/3sB5gIXBLQFMAcvCF0J/QfNBzEG2QSjA7cA7v7l/kz9GP2y+/n6uPtf+9H73vvD+xD8y/wL/a/9j/2X/VH9xvwy/c38F/0j/hH/Nf/dAXkD2wUYB3IIYgoTCpIIQwheBicE3wEj/3/+PPzE+5X7FPrX+gL81Pr7+2T8Mf0E/mH95f2W/Xb9t/zB+9f7lvxF/EX9of1Q/qP/IQIAAy8FlgfiCQMLkQnXCXwIbgdbBXUBif5q/1j9l/yf+1L7h/wN/PH7h/yH/Lf99vw//N38Rvyv/LD79frM+xn8iPy3/N79g/+LAqYCMgWXBlgIZAq/CTAIpwhEB24F7QJg/wgAtf64/Ev8YPtT/Ff9q/u//Bv9R/18/cz8a/wl/d37RPuf+sT5t/vM+nD62fuf/WMHqQY1CKEMPw2YEJMMYgTgBnwDqgCU/B/2Uvv1+ir6vvsN/bsAnQF+/g0BgQBRATf//Pvt/VH7d/lH9oj3Uvgj+Lv49/jx+rH9JAf4ETAN9A/cEVQRqxEjAlr/N/7W+/f5mfKP9XH6A/3y/g/+KAN6BQwDOwNNANIB5f/t/PX8Pfq++d30afWO9+v3KflD+Dv73vwLBZQXbxIND1wR/hPEFNABAvxz+Cv7i/yr8A3xEvjTAUECT/47Ax4FhwV9Af39nP8v/2H+y/qI+Er40fWy9Gv1RvfB+bL5Jvt//aILvx26FeUPpRECFm8T7fy099L2VfkE+v/uc/Ec+LUCnQQm/8YDHQXvBRABq/2s/n39MP9C+xj3EPZo9Ir2+/RJ9g/4Nfoe/fX+qxQdILwXVRFgD08YQQ4b+sb0G/bR+jD3wfD58/r5IAUQB5MBXQLKA/wFGwFg+0b87Pye/rb6fPRv81H0tPeB9SD01fdM/Hr9wgKEGEIgrRipD2MOxRdvCLD4JfKL8yz6fvVM9Ff1U/tNBlAIfwZlAcYBVgW0AQD9Avql+5T+NfuJ9cvxYvPv9xL3i/UM+Ev7nv2GBwcb6h7KFVQNcA8TFsQFmPZn8I/0wfsJ9zH2xvZq/dIG6AeCBiAAaf+ZAswAtv1o+MP6K/96+6f1d/H09FX3EvZ69g74TvvE/H0Mhh4EH38T4QjnD2MTcgOt8hfuIfht/cr3ufUB+YIANAbGBlEFSv9M/j0BqgGf/lf54frg/en7Avbf8Uf0+/ZT92/3Gfl9+nn+BRFSIIkfaBFXB1AR5hDCAl/xoOxQ+P/7YPkx9iX58QAjBasH9wRF/8L9KwDIA8j/mvkU+hr9Dfzg9Q3ygPMn9+L3jvdB+a76fgJWFb0gQR0CDrsF3g4eDDT/Ke9r7Kz4HPyD+674oPutAoEFdgjEBCf/Vf2L/hkDzP5r+eL4KvvN+tf0qvIy9Oz2kvjn+O77Qf3UCAAbhSIwHEsK/gVwDOkIxftj7WHvFflc/AH8ovuM/zgCrATOBxQF6//G+uv89wFI/wD6IPeM+RP59vQR84H0OPg/+TL6Avxf//gNjhzMIEoX+Af5B8IJjQVc+CLtAfJK+Lr78/uy/NUAPgJSBecGfAQI/xj6Yf0lAJz+q/qt+N35MfcU9a30+fZN+Rz5Lft1/XwDZBJbHj4gORSaB/kH9QeLAr/08+zz8or5wv0c/dz/AwTtBHwGJgXbAjf+C/q8+9z8AP3y+rn4yvfu9L/09/Xo91f5XvkC/ET+eQUAFYkfxx+vEZYF/gUJBsgALPPv7Mbz6/ou/j/9+QD2Bf8FowTRAQkBGP7r+if7/Ptp/ff7M/oG+KX1wPUU94n5+/lg+lD8Yv5PB4wWUiElHyoPQAWnBSIG0P8M8prtjvNh+iH94vwGAekEBQVWAywBSgAV/tX7/PqN+7P9tP31+pH3KPa49r73n/mO+pD7jfxG/qAIQRjhIU0eGg2jA1UEUwWS/Xvw3u1r9Oz6NPyd/LwCPgfBBmwCEAAfAdj/Dv2y+oD7I/4D/hP73PZJ9U/23ffM+SX6QvtA/DD+7wkcGYQieB1LDLIDmwNHBPz8D/GZ7kPzuvhF+sv7HQI+BhkG/wHJ/9kAOwBQ/pb7AvwF/tz9hvsB90b1AvbX9yH69/pT/J387P7GCi8ZISIBHQEOygVHAzUDHPyQ8kDwvfJI9/74iPuNApkHwgfbAhUAZgFlASj/RvuK+r78//xs+jL25/Qw9lX36vjQ+lX9iP3t/hIKIBiNIMMbGQ43BgwCUgDS+tzzufLl8zz2S/f8+qcCyQdfCGwEKwGZADUA4v9R/cL7EPzM+736YfcW9mL2Ffcv+VH7lv2W/Vj/TQnmFeoe6xwpEsAJrQKT//v6BPY+9LDzp/VE9vP3iP2qA2cIowYbAg3/if7H/07+Lf3D/Fv8Fvsn+NH2xvZu9+j4vfpw/eP+QwAcB1IRjRqnG20T1AumBHUA9vqt9Yv0mPSQ9iD3yviQ/HkAMgWaBnQF4gKcACcA5P5D/kf9NPyG+wT6gPhn9xH4Zvr4/Lz+g/53/jkCnwgfDzkSjQ9wDEoIHwWyAXv8ePrG+bv6u/p3+Qn6RvtG/m8A6wAAAbUAswGCAeYASAD1/9X/G/7B+3j65/pJ/BP9Mf2a/Mv75fsG/tr/7ALTBKkGcgjuBxIIiwa+BTIGrgVcBT8Cw//i/Z38RPx1+7T78vts/MX8sfwH/bT9Yf6N/S78s/t6/GL9ff1f/aP8Xvzh+0P8j/6cAK8ElwYOCLoIEggsCVoIVQlLCQIIKwa/AZv/j/1Y/X386fou+on53/k7+cX5BvuW/Hr8ZvuH+238y/2L/QT9mfyL/Ob8ifwo/c//sQJwBlIHVAiECIAIpAnWCWEL0grHCAcFswB9/vz8mvzR+nn5tvh1+ID45Pjg+mf86fzx+7z7SfxO/cT9of3p/Zb9af34/FH9D/8sASQD7gXIBp0IKQiwCIsJpwoHDLAJ0QYfArb/Zf45/QL8JPp6+Wf4Ifjp93b5xPrt+yn8sPtL/If82/0A/pP+GP6P/a794f1I/jH/zgDJA3kGNgeYB+AGUQjsCXELjwudCF4FiQFQAP7+3P1O/Of6xflG+GT4HPku+5P7tPvD+sz6VPsD/EL9kv35/Vf9wf1u/if/xP6z/7UBWARhBu4FowaABvsIrAqcC+kKxwdNBQwCpgB1/iP90vuA+ub4ifd5+Jz5oftT+zj7lvoj+/z7i/y3/bb9Hv7F/WH+gf6n/mj+wf8YAj0EaAbbBXwGdwaDCHAKNwvlCu8H0AWIAqIAwv67/fP8UPvx+YL4ZflL+lf7v/oi+qP53/mr+pj7tfxo/Qz+Jf5q/qD+a/9j/x4AuQFlA9IFYwViBuYGzQhmCmMKEArbBwIGCQPwAFn/k/5N/Un7Z/ma+EX5EvqL+tX5WPkz+d359vpR/Cr9zv1D/tb+jv/U/y0AFAAxALsB1QITBZwFOAaSBtkGfggSCaEKUgloB+ADUQFCAIH/gv4Q/A36sfih+EH5yvk0+rr5SPk4+Sj6dvsv/CX90v1d/pX+Fv8UAHcAKgCMAM4BpgNmBdsE/QTLBM0GzQjmCrkKfgjSBbwDywKVAUoAKP4o/F36lPl9+Tz6WPrH+dT4vfgB+c35LfvT/Oj99f1o/mf/mQDbAHMA3f9eAV0CswT7A50DJQOeBN4HWQkuCsoHhAZJBHUDNQIiAbf/wf3u+3b6ivrN+mv7qPrN+YX4S/h4+VL7ifw//eD9tv7C/2EAsgAdAJP/hABvAfgC6QEEAeUAgQI4BasF4QaJBdwFAQWKBfIFzgUmBR0DZAE9/33+ov2h/YD85foq+RL5svlD+mT6m/rj+gX7rfua/Ir9vf36/T3/3AB1AdcA8f/4AGUCGATVAzIELARaBaoFIwakBmIHcQf/BeIDgQGtAKoASQD0/t/8Vvuj+hz66vnu+RD6ufm4+QX6J/v++8L8kv1X/3QAuABDAPT/qwD8AP4BrAHEAjsDSAReBJ4E0QblB0QJGAeCBVgDbAMFA0ACKgG4/rz8hPo3+uX5tfpv+jn6WPkF+Zr5nPpQ/M78Mf0S/W3+ef/jACUBXgHaAAkBjQG8Ak0DrgNzA04FiQb1BwoHaAUKBK0D2ASeBKQEtwFQ/878N/xA/PP7l/tW+oj54fi0+cv67/vd+8X7MfyJ/bX+bP/f/zAASQAZAGEACwGmAccBdgGCA/8ETQc9BhoFrQS2BeAH0wdNB+kDpwE9/0b+j/2b/Nf7E/oV+Sb4Uvne+uv7k/vU+gX79PsW/dj9a/7g/i3/l/9dAOQACwGCALcAlQMxBQMHGwVjBIMEsQYVCV8JvwhEBVYD2QAbAD//LP65/Hr6G/m2+Fb60vti/EX7N/oj+hz7//uF/Kb87/yt/Xn+Qf+A/0b/Lv/N/zMDjwSCBlcETgTiBDcIyAodCyIKnwbBBA8CSgHg/6f+0/yJ+tz4sfgv+s/7Z/w4+875gfl/+nj7Bvw9/Lf8cP0W/p7+8P4i/0//jQCjA0QFrwbGBDQF7AU8CdwKswsDCv4GcwRIAYkAqf75/b/7RPqS+Or4CPrz+3b8sftz+uX5PPrD+lP70vtL/Nz8lv1f/gv/Ff9B/yQBBQS4BWsGfASrBL4FAQm+CukL8AmLB4ME+QFZAUD/Dv9w/Cn7Yvnm+UT7Cf0q/ab7V/rK+Z/65Pq/+sT6/voG/DH9+/2d/nX+8v0UADoC1AR0BegDlAPDA28HgAl3DBULHQoKBr0DuwFcAIMAHv7k/Xv60vlV+ZL6U/vn+rz5+vgQ+Yf5iPqA+wj9z/1f/kT+4fuV+CX5IvzABFEObA5lEjoNEg7bDNAL2wtpBv0AZ/lM8gzxGfQ3+JP//v3A/wf+ov+2AtcBwQIF/0/7/vYN8UvwIPAA8+35UP25BEEFfQaQFIYZ9yndIS4PtP3K4sHkSeOp9KAB4wi5DZgI1ASIAZD+pP5H/S36RPsP+m7/wP6H/5n/6/4iARf8/vem8u7vaPIF+P38JQONAkoGABXiHfUqlRuRCYvuMeHC59Lw+QiZDacRBQjl/ED3MvZT/RoBlwEF/yT82vt//W78QP/c/p4B0v91+5H2MvHn8Sz1Yvw8Ab8DswLkE/gZ5SrMHPEI7PBU3gHolfBvCowQMhHwBk35ZfSM9d/9OQRABLH/Vvrx9zX50/oK/2wBlwPGAgH9HPeq8CnwefWl/HUCFgStAIQRSBeFKcccMgmv8Z7eLujg8r4LrBMeEa4FMvc/8iL1Av/vBm8HZgGQ+ZP0svRW+Kz+cATCBosEW/uf84Ls3+6f9kgAhAWPBKz+dw86FbcoHRuYBuLva91p6sz1ZQ+EFBkQHwMK9RryFfdjAngJiwfI/vP16fHm9Pb6BwOtB48HRQII+Ivx2+zE8Uz6ogLZBWUCpvuVC9sT5ygSHSIIGvDr3Prpu/VbD6sTcA9nAeT0RvLQ+PADggrdBr38z/NE8Kr1mPzWBXgIDgeu/5n1nfCQ7nT1af1vAyMD6f4d+CUJmxMvKfwdEApJ8ZjfW+v59scOABLODfz/W/Ub8/b5EgQXCpUFufuu8tDwMPaZ/kAG6QjTBd/+avX18eDwEve3/RcCLgKx/m752wp4FNQnwRtRCAzwhOCp65f3Pg4ZEZcNOP8P9o/y2fmZAjcJTQUH/czzpfGY9Yz9ZwWECIkGe//z9p7yXPG19kn9YgLCAln/zfiXCNgRPyahG7cJ1/Hk4XLrUva6C+YPEQ1kAXP3YPMo+PEA3AgOBzcAwfWc8t3z0PslA/YIPggeAxn6ufNV8cz0l/yRAbcD0wBr+ZIEUA1gIQ4e3w71+ejlUOvM8iAH/g4zDi0FGfrm88T1J/wHBfMFDgJj+f3zKfOs9+T+yQU4CAQGD/7Q9jDx+/Hh97n+DQQMBL8AswW+DxMdQiBDD/b+3+mg7bXyDgQJDtcNEgjT/O/1SfYC+moD5QScA/j8u/dZ9WD3Jfw5A8sG+QaOAOr4wvEk8OX03ftgAwcEtgIvBGIPKxksIqwRiQMl7Mvs2+/Q/70LHw7UChEA7/cm9ob3fwEBBH4G1P/7+pr2i/Yw+sP/LAUgBhIDu/ur9MTw5/J0+ccADgT4BJ8Dvg+jE/whBxH8Bjvvrezz7qb9rwpaDrwMlwFK+ZP14PXp/isC1AbOAfH8+Pcy9dv3IvwjAwMGEAYC/xf34vBy8H/2lv79BIwF9ACCDOkOHh5sExwJv/Se6TzucPbKBY8Lagz+BYf8g/et9PX6CADkBEYF5gA1/YT3cfeY+dz/wwURCO0Dg/tY8s7u9fBD+RUBlQYaBfoGJQ9bF3kczw5nBLXuu+9T8KD+DAh9C0MKUQKB+8v2ZfbR/AAAvwYwAxUCz/qo+Br3S/pYAOMF1Ab/AT74pPB+7Xvy7/rEA/cHCgboCnMNPRifFlcNSgAA8GbwfvGh/tIF/QqWCcsCmvyt9qr3SfrW/hEDBwJkA+39a/w4+eH5Uv6LAfIDxP9f+snzZvG382X56ABXBikH9wxSDQ8YBBRDDbUAXvMx8TjvWPsoAvoJLArhBaz/fvn/+JD5Ev0tAKoAfAIcALb/Q/sc+3r6df7E/wsAsfyZ+LD19PTA9y78pQBzAtAGBg1gFOEalxO2C0n46fMe7GX1xPzWBw8LpgkIBEL+wfkB++z6mv4l/dwA/v56AQz+mP02+wT9Tf5s/0f+8Ptf+BT33vVp+Rn7IgC9AJILGw9wHv8XLxMq/9Tz+epZ7OL1bv8QCG8JpwiFA37+kv3H+239u/uQ+zb8Cv4vAQEBLwG5/kD/C/6L/XT7S/nJ9yv3Vviu+qX9yABoBG4NTBOOHdYVrBGN/or28+pI72/0Rv3kA0MHuAd9BaMCNAEe/Yb7BPef92L4ff3KAfMDbgR9Aaj/BPzH+VL40vcG+VT5jvuO/O7+ZACrA8YLShCYGfEUyhC0ADD5ae/t7i3xNfhQ/60DsAYyB7IFKQReAGP+a/pO+ZD4y/tY/4UCoQPyAbr/Hv0q+2/6wfkp+n75rPla+k78HP+TAMUHfQxZFM8UTBPRCvr/6fha8ULyA/LL+In7CgEUBIcHuwh5B/wE5ACI/KD6Yfkg/NT8G/8y/jr/q/6l/4P+c/36+mf5JPg3+Xz6kf1D/zYBhQbjC9IUWxYVGLoO3wUd+lbyC+5q7fXyFPhQAGcEIQj8CLwHyQZfA+wAOvxC+nv46fhH+lL87v5MAD8B5P9t/iT89/oK+qj69/oT/DX8cv2KAr8J7hQkGW4boxILCEb6TvFm7g7vV/UM+cn+PwA9AzAFFAenCGoH8gQ7/wn7jfd092D5/Puo/j3/e//B/cP8mvtb+xz7Rvuh+zn8TP2U/l0CTgiuDwUVvRWBFE8LiAXE+hT3lfHE8t/z+/ZL+p38eAANA9EGmQhaCCoGsgEH/+D73Pve+nT7CfvQ+vH66Prh+zL8zfxR/dX9Hv8W/+n+Dv0Z/5cDBgsFE5UVNBUZDfMGhvz091XzlfNA9MD1RvjE+TX90P/3A9IGcAjgCD4G5wN1/9j87fko+fr4Jvni+Uj6Cfyk/TT/o//I/hv+9fxL/ar9c/+gBCwJxhBwE1EVAxHOClIDZPqE9vLxgPPl8nH2dPc7+s/8df+NA/AF0giLCPIGPwMn/5b8lPp2+5b7m/yo+9f6qvlN+Wr6FPyj/rEA3AEGAgsB4QCbAw0HXA51EGcT0A2qCdUAZftD9xn1yPUA9e32NPbN+Lv6uf7+As4FmgjkByII6AXGBBoC9P51+4L3cPU89KX1CfjN+0r/GwLmAxEECQMyATD/2v3bAN4DHwvnDZUSfg5fDAkEAv779yP0APQf89H1afVs+Bb6wf5iBFkJeA2qDG8KngRnAMD8lfqj+Q/4APjM93D5JPsD/YP+ff9vAMgA2ABp/8/96ftD/0kDEgxlETsUQxKcC70FUfwG+eXy4POc8oT1s/fL+lP+SgHqBEoHMQm6CXIHTQWLAJn+Pvvm+sb4R/g897f3ZPkf+1L9gv6K/y4A2wCoAWEAKwD9/YABBQTtDFUQvxONEFgKpAMw+/P3TfNv9IHzdvZN+Mf7R/+aAikGGAjJCaIJwgfEBOz/0vyw+MH32PXv9nD38/ls/In+vwC+AJoBTgDR/2v+RPwT++v4/f0uA70Q2hf2HC0ajw18Awb1BPGQ643vDvFL9Qf5bP3DAv4HzAuiDcMLJwiLAQL9WPeX9T30G/YK+Gv7WP93AdMDOwLVADj9sfod+UD4cPoR+jL9f/1VApMLjRUtITkeYxxaB738j+q16L3nl+179PT6sQDdBdgK0A5YDnQMAgQl/az0o/L28f31F/rH/aUBcwIiBTQDDQKl/cr5J/gc9tX4yfhr/NP9DAAAA6EDEg4zEnggmR72FgoLLPQ17RHkoOre7vf4Zf0VAwgHpApXDakM0AXY/7n1QvN78Xr3PvsBAUQDLQVHBhUFhgSj/gv7SvZ19Kv2BPiF/K798gDUAXYD+gTsA0wQ6xBrINAWHxBl/2buG+oH55vw2vP5/OD/JgRTCtkLkAwGCOP+G/le8uH0FPb//ZT/YQSXBRoGiQZ3Akv/R/lS9pD14fVN+cP6NP5GABwEaAU0BkEFpwHnDm0OYB4ZFD4MEvq67GTqFOup9oH4dv8GAPgC7gjPCj4KLAXZ+uT1TPHv9sH6GAIpBSQGtwdHBHMDWP1r+fP1EfX79sL4fvsX/Uj/1AKnBMMGywMtAroAjw/dEWAg7BNsCSr2TOxv623tbPnr9/f91/+NAjkLvgzsCsEFjvqx9mnzS/gI+4QAXQOhA1AHDwQUA0f92fjH9k72S/gU+VX6P/xA/fECcQVqB2YGVgO7AKAPNw+RH58TbQX3+IboEO6X7qP5HPlZ/Un//AGRCcoLQAgeBKz5DPVd9oT2Zf67/t0DsAJGBRIEWwAH/uH4m/gb+T36Qfuk+/f8nP4iAvIExwQPBLIBRABTEqgTsyEmFjoFjvkC6uDu4O2s9mD19fky/WoCiAroDjQKWwUo/HT1oPgF98r9Y/5bAbkCuAQtBQQCiP97+gD5nfiD+B34Afmo+E39zQAOBfsGAgX2AysA7w6xENkcNBjIA3X/u+sh8A/xnfQ0+AX6zP1DA8MJ3wvsCY8C2fyh9PT4H/fV+7QAn/6CBV0EOgXaAjH+7PkX+Xn3Zfkm+U/63/xo/bwCMgLSBW0EwwMYBGkN8BJpGicX6gQjAIzt1u+k8Lrwtfb599D8ngK+CFUKqQr4A7L+wPe89/j3Lfq1ANH/rgXsBE4EsQJZ/jP6QPnu9733W/op+vz90v4VAVkC8QOHBGwFQAUMEZQUPhtxFnYE6/2t7rrthu/P7g305vdr/AMEJQlqCuwJvwO4/oL60vi5+Z/6kv1r/mcBaQOxA/cCDgAZ/F36Qvk++JH6pvpV/of/ggH1AoID9QXSBLkFbAwrEPkVQxV0B6QBKPQ18FTybe/b9Gf3GvrEACYFYgapCHQEmgB2/7z74PzZ+7v7fvxw/ioBqAP2A3ABgf77+sf6/vlw+yf88P0C/9n/oAF9AVwDAwQTBPcJ1g81Eh0UCgoIAqD6QvP98/bx3fIc9tD3ePyWAn4EaAfDB6YDPAPo/7j9c/0t+2v7XPz8/agA0AE2AYX/+vzd+xj82fsW/ob+IQAiAfAANwKCAjYDkQMyA/MFIAnwC10NjwjKAzX+Mfn7+Jf3Effq+BL5Pvt2/2MAigL9AxgBtAFlADL9a/7X+8r7Of7+/iwCcQP1AcgAr/7//ZL+9P58/6f/of8SAE4ABgG3ATUCtQLfAloCCANBAzoETwWwA7ACCQAV/g399/ui++X7QPwe/Tr+Hv8AAFgA1/8i/0v+f/7M/vn/tQBQAZMB3gDZ/6f+Zf4e/j7/w//CADwBcQE4AegAOwHcAMAArwC0/34A7wChACICdgHCAcMBoAACAMr/Nf8R/3z/yv5d/2f/aP/3/wH/gv44/tf+p//K/1UAEACmAIMAz/9JALn/fP+H/0v/aQAyAScArP8I/wsAEQG1AFX/Vv6r/ub+TAF2AesBaQEBAZ//6//h/jL+Jf8f/n7/YgAjANUAKgBV/+r/qP9FANUAyAB3AaEBbgF6AcYAcgCZ/0r/WP9P/6X/RADv//P/KgCX//L/Uv/7/Qn+f/16/qH/lQCzABYBJwCH/2D/Xf+P/3IAGgDN/6X/7v/l/44ANQACAJ8AAwBBAFcAGABuAa0BtQGyAcMAFQD0//j/wwBhAD4AHf+t/1//NACF/9P/rv8j/bj9V/1H/0sAiAAaAAcADgCUABL/kf7x/y///gHOACAAJQDK/Qv/W/8GAHoAsP/zAcQBawLPAakBFQFsAPL+CwC//9f/dv/V/q7+NP+I/4gAn/8xAC8A4P5JAKP+zP73/q/+j/9M/xP/oP+P/rH/3/8DADwBrACYAB0A6/6E/1T/BADVAIUAcgHGAbcAIgKbAAcBMwCHAAAAdv9LAHsAOP9S/zn/dv5cAAf/TAD9/w7/f//y/oL/4f8X/x7/3v7gAGYA7P9GABD/5P9PAJAAYQAj/5f+5v34/7j/fgDbAIwBFwI9ApUAxwB1AE//A/8//x0BNQFnAFIBRP/x/uv+DP/c/QAA9/8nAQ4BjAE0AZ0BlwCy/+H/sP7t/qP+F/8w/uL/9wCZAcoAdgAp/2P+jf6j/sn//QBqAZ8B+AAgAYMAjgDX/9j/7P+LAE3/cv8p/1z+gv7c/o7/SABaAHwAFAHXAOIBRwEUAL7/6f9t/yz/A//7/rP+Yv8RABUARgHdAFcA4f9L/gP+Ev8q/84AZgCHAOIAMADCAEcAUADY/5v/DAD3/xYAwv+A/yr/jP7g/lv/Hf/ZANIADQG2AdcARwDO/xT/Nv8u/xX/bv/j/oH/OgCAAe4BBwGYAFz/W/6r/vr+Vv/W/4EAAwG/AZoAhQDoAJ//IQCh/4j/pf9AAJj/of91/zAAAgA+ACkAcwAHAQgBbgHxASUA3/+f/tn+j/+U/7D/6P8VAGUAwQBmAcYA2v/9/5H/dv84/u3+e/94APUABAGlAIcAs/8xAFgAxv8IAHv/7P/i/ysADQAMAGcA6AArAEkArAEIA9kBZgGOAPH/Hf8D/8L+if9j//b/IgA6AUYBxwCnAE0B/P/2/0n/w/5J/27/3f/F/00AwADqAGcAaQD//13/of87/17/Vf9h/1wAxgB7AA8AzQC/AKsALwBWABAAVADA//P/Uv/W/uf+yP6Q//D/MQA9ARUApQAjACoBCgBc/93+hv4l/zMAzQDAAQEASwAyABIAuP9a//3+Af+s/yMAzwA6AVsB3AB2AL8ALwCb/7T/3v/G/nMARAD0//v/Ev9o/x3/wwBsAFMAkAAqADD+pf+Y/2kAUgCM/y4AIgDAAIwAggBt//oAKQBbAEP/iv/p/9P/IP+AAAkARACb/57/gQBbACQB1gCTAAIBIAHcABX/Z/9L/0H+yP5VAOgAHAECAKD/YgDA/77/zv41ACwA6gEEAY3/H/9k/2z/hwDE/3QAXwDe/+7/RABHAL3/EP9W/pP+4f8DAPoA0/8uAZUBvwEdAAQAJQAcABf+n//5/zP/YwA/AAIB1gBjAQcAqf8g/9L/AwAcAF3/tQAtAUkAAwHy/4v/rQDSACP/AwBiAIQBdgBr/z//cv8i/5P/rf8mAEcBMQHNAEEAMwDj/9v/hP7e/+3/3QDDARsCugHl/5z/mv7P/gwA6gDbAPj/2P8/AQsAyP5z/5j/IwBvALIABv+eABkAbAA8AK39Sv/s/hkAu//fAHH/6f67/iH/xwA7AZgAMQAdAMIA+P8J/nH/8/7R/x8A/wHGAFQAx/5U/e3+cQAmAFH/2/90AVcBQwFEAZT/fQCH/xb/AgBIACECcACc/0oAPv3R/nsA4/+7/xX/Rf8PAEz/OAHLANUAPQF/ARoAAwHp/REASf9o/4kCq/86AfD+qf4B/5D+iP7+/3IBoACDAHoAhv+JAB7/7v1y/lP/4AD6ADL/X/97/p3/QgLpAH7/JQAbADj/lQAuADP+8gF1/yoAYf8XApD/fgDk/+j+JP+W/08BZQHZ/mr+SABqAQMAX/97/1gAnwGi//L+Wv8e/zkAt/8PAQL/1wDX/0L/af+p/+sATQHtAAEBIQERALT+Lv9d/4f+PAEEANf+/P3Z/tMAIwH6AE8ABgCgAEQAgAAZAEP/t/5P/o7/igAqAHcA6P7z///+5P7n/4MAVf5F/1AA7P9lABYArQBAAHL/kv4jAe0AbQAT/87/5QDr/4sANf5JAEwAPgC7/mv+Y/8AAHoBhgDH/jYA4wCwAUwAo/+8AMsAogBz/ocA8P7b/8T+7wAPAiMAGf8WACcEWwE9/9X94f5fARX/Ov4d/loAJgKT/zsBcAI2AJr/r/wNAAIC6gD1/tH9Iv9pAUYAkAAj/+P/nAEVADMAogCuAEH/b/8ZAJ0COQHD/sP+LQCyAIv/9P4qAOcAMwHs/5n+AgCnAL4AmP++/5gB0wBo/9v+1P96AaEBLf2J/k0BYAFc/5T+wv+DAM3+Mv/4/3UA+P8Y/9r/lwF2AVoAn/7j/xgB7f92/k//rwEHASH/6/4IADgCjACR/pD+vwDlAV0AIf4K/5YBswEOADr+GP83AP4Aov9y/33/qP/l/+P/BwHgAAcAPv+4/5oA5v9I/1f/LwDK/1f/kv/aACMBjgAc//v+2gCkAM3/Hv/J/3UAoQClAKQA1QBeAEj/dP+pAIYBKQDP/uf+HQDCALT/2v3H/OT84P02/jX++/5eADcBUAE0ALP/i//e/9AAqAJfBo0JrgthCyMJhwVzAFz7mPdF9o72BPhC+uP7N/yk+v35CftG/af+7/3w/Qf+dv4X/h/88vwNBy8VdBwZFwgLmAQ+AvD8I/Up8Kry0feC+4AANwbGBwUDbfzZ+mb71/m4+Nz5Ofwz/Df7qPwD//v+Fvwn+eH7WwoTGxUiMhuZCz8De/6e91XwJuz07nPzQvdKAR0OIxRADowBefoJ+RT3rvSq8/r0Tff1+Uv+pAHm/9r6cffJ9/8DvBjgJc4jhhPnBNr/YPnD8N3q7uqX8CL1af3FC/0VDRcQDiIC8/kj9I/wy++E8Sv1uvl5/rABUAG//bn62vho+PoAkRP6IEEhqBTBByQBh/id8MjtbO5Z8jX2YP6XCm4SABUDEJEE8vhw8CDuWPAJ8yj3A/z5/7sBVgDx/NP5hffM9zoDQxbYIKsf5hMVCPr/2fXK8Izwu+8/8p72UwDhCpoQPhT4DzkETfho8L7vtfE99CX4cfvv/iYB8/+9+2732/Xx+KkIuhkxIB0dYhAUBVb8jPNe8Z7wD/AN9Fb5egJ3CykRZRRXDgUDl/jP8f3wgvJI9Xr4/Puq////vf0Y+g73N/Z5+wwM3xnyHgwc0Q+pBJL6X/Ow8WjvP/Ge9dT6mQOiCo8QpxK9C+sBzvgm8+/xuvKa9az3gfrV/Uf+cv0I+lP3ufckACkQmxhUHA4YegznA3H6+/U19NzyTPUg9jb7jQL3B4cOwg6MCUMCBfqE9a7zjfS39Vr2q/m1+0P9vP0g+1P5pfoeBlYSjhdHGeYRIAnrAaj6I/jZ9sP2//Zd9+77JQC9BPIJ2wn2BgwCyPyU+en3OPcE9pb2i/hY+mz9TP1s+076HP0xB/YNexJcEkkMRwgsAqb/YP8G/vb8e/nK+CP6mPuz/+ABngLqAar/3f4d/gL+wvyz+978Ef1w/v798Pu0+mD54fwwAhEF9QYJBEgDsQMhBPIGigdXB5IFpwKHANf+Hv9V/9P+Qv7Q/If8cfyq/M/8WfzI/Hn8xvs8+/z5q/mw+bb7XACFAq8EngOiAtgE3QX+CIEKogqDCeYFHQMGANj+Gf5V/Mf7tvqC+jb7J/zy/Hb83/sb+xz7KPvQ+if61fm9+kv+LgP7BEYGmASdBGAG/geKCgcL1Qr7B4YEmgFl/9L+Jv0o/FD7kvqQ+v36+fv5+7j7+Pq8+m76yfm5+dP5N/o4+zn/RgOnBSkGzgQKBlwHgAkSCxcLkgkXBpUDWgFRAP/+Av0O/IL6FvrF+Zn6qfsU/I77Yvp4+gv61vkY+rP6lvtZ/bQBZQSCBvgFUQWZBjAHSwkfCvcJCQixBasDJwErAeD/W/60/Nb6KPoT+Y75CPqb+k/6p/kW+X/4SvnH+Qz7ivsL/vUBgARgB1oGigdlCFEJ5wrJChcKoQc0BesBuQAaAEv+Xv0t+1z60PjG+Gf5uvlm+uH5VvkN+Vj55Plv+5X80vwnAMADbwYGCHoGwwdnCC0KUAvnCp4JLQeRBGMBPgBu/jz9afsI+XX4e/c7+BH5Nfp8+sv5CPnw+Lz5sfr4+8/8mv29AboEtweJB3sGYwgjCU4Lkwt/C7MJ3wYwAz0AOv/J/Vf81fl3+Mz3+/e9+Hj5PPqp+RH50viD+ab6y/vu/M39Gv9gA4wFSggbB78GRQhGCW0LTAtXCzkJMAa3AkwA2v7y/Nz6Bvkh+HT3kPco+B75Ovl++HD4v/g4+qL7M/yq/bv9RADUAzIG6wgdB1IIlAjpCeILHAwZDK8JtwVbAp3/2v2e+875fvhM9/n2AvfY93j4Kfip97L3afjy+VT73Pxh/nL/fQNwBn8J0Qn0Bw4I1gcnCrULjQzjCxUJYAXYAZn+XPw7+kT5tPdt9uT16fUZ93v3f/dj99D3yvhU+v77Df5j/1EBkQUWCDAL0glkCPUHIAiUCs8LjgxCCxEIlARbAOD8Qfoq+JT3vPUc9Zj0sfUb96b3MPi++Jb5kfrb+179O/9WAFECwAWtCAUM9grDCZ4IYwhkCo4L3AuOCh8HrgNY/1H8efls9w32lvQ49Bv0U/Wh9rT3mfiL+Xv6DPx9/Qr/VQDeAPsC9gUpCZYLJgopCesHZQgHClwKOQqLCLUFswLA/iT8V/mi9/L1YPTj8zf06/VQ93/4o/mX+pr7/PxX/rz/sgAoAY0DCQfVCqEMRgsSCmAIAgm+CV4JgggXBqMDAQHh/V77V/iL9vn0cvSL9D/1wPYR+DH57vnU+vH7Ov1y/l3/LAADAXoDpgb5Cd8LEQsnChQJPAkQCW4IXgfjBUYE3QGj/oj7/ffJ9QX0h/Pn8wv1t/ZE+Ln5KvuK/Pj9+f51/+n/kABlAaYD+AYzCnkMEQxHC8EJDAlkCEwHZgbwBDUDwgCR/an6wfeu9d7z8vJH81H0Ivbd99r53fvQ/Wf/FwB5APYAqwFYAlQDLgV/Bw8KoQqGCscJiwixB4YGzQV7BNsCBQE+/nT7ofhk9sf0hfOG84z0j/aC+HL6j/x+/iYA5QAqAbcBbgJrAzgE0gSVBVcGAQeRB7IHdwc4B/QGrAbxBb4ENQPFAOD9zfr19/L14vS59Gr1jPYA+Iv5UPs1/cP+7//CALgB2AIHBNIE4QRRBMYDhwPKAwUEPgRwBPEE2AWkBtkGPgZjBI4BYP5g+yb55PeF94T3aPeK9wj4K/mm+gH8V/3h/ssAxwKlBPEFWAbZBY4E9wKcAX8AgwA8ARACFQPwA8QEFQWZBFsDwAFUAFX/kP7m/fL8uftw+mz5y/jG+G35fPoD/Pf9CwD5AUsD4AO9A/kC5wHhAGAATwCZACMB2wGVAkoDjgMwA4kCxQELAXwABgCI/0//A/9u/qL9/Pyf/Ib85Pxy/Tv+KP/Z/3EA1AD/ANUAaQDL/1j/bP/H/0cAAQG3AVcCnwJ0Ah0CpwERAYwACQDd/+X///+i/+n+OP7A/b39C/5z/s7+Nf+Y/zcAuwDkAJ4AHQCt/33/uP8jAIEA9wAyAUwBNQEJAbAAVgAAAKr/m//c/0IAYwACADz/hv4i/jj+k/7Y/gf/Mv+L/zMA8gB2AXAB5ABbABsASACeAAIBOQE2AR0B9ADHAIYALwDy/8r/zv/i/8f/df/+/l7+8v3U/Qz+d/7i/hv/b//0/5gAOAF4ARoBjwAiAAkASgCYAJ0AdgBbAEQAUgB5AKQAsgCpAJ0AaQBNAP3/lf8d/7j+a/5q/rb+Lf+C/6T/vf8fAMUAKAEFAa4ASgAbADAANgAPAOn/4P8PAEYAdACgAMgA9wAPAfEArABSAN//Yf/+/r/+pP6//gH/Nv9H/07/Uv+U/+L/AQDg/8b/y/8GAC0AQAAlAC4AXACFAKQAnAC9APIAGwEVAcIARwDX/6z/o/+Q/3v/Yv9C/0D/Qf9h/3H/oP/0/ykANAAaABIAEAAXAAQA5P8CAGAAvQDQAIMANgBPAKMA5QDfAKIAUQAeAA0A/P+u/1j/Ef/+/h//Vv+X/8z/7//O/37/Rv8v/0v/cP+b/7r/FACYABoBUgEwAcYAlACKAIoAcAAnAOf/2f/s/9z/pP9L/+v+wv7d/in/iv/b/yQATABQACoAHQAcAAYA9f/J/9P/IAB4AKgAnABtAEsAVgCGALUArwCKAHcAaQBTADgA9f+0/3z/Yf9S/1P/aP+d/83/8v8JAAIA9f/p/8n/lv+R/7P/5f8LABcA4f+2/6z/7/89AHUAigCHAIEAaQBhAD4ACQCz/3L/OP8a/yz/g//b/xsAMAAYAA0AEgAVAAQA9v/n/wUAKgByAH0AZwBDAC0AMwBQAHQAjACrAJAAcQArAAcA6v/R/5P/PP8U/zr/lf/9/zQAJQDm/6n/rP+4/9T/2v/h//X/OQBvAHoAZAAzAAUABgAQAAEAGAAZAAkA7f/J/57/l/+8/7H/sv+y/7j/5P8mACEABQDi/97/BwBSAG4AUQBGADIAOgBVAGoAcAB7AHcATwA0AAAA4//i/+X/3f/k/7b/pP+e/5z/rv+j/47/sP/W//b/IQAJAPP/2v/Y/8D/z//a//T/UwCAAIAAYQAoAAUAEQAhADAASQA+AB8A+P+s/3n/SP86/yv/VP++/y4A4QBsAl0CugEXAPb8p/sC+5P8nf9sAa8BiQKDAkcBbAH1AT0B3wB6AD4Ayv/+/9D/xv+G/xb/0v63/4D/A/+k/8T/a//GACAAZf8h/+z/iv+M/3z/tf+GAcABTABWANH/w/7m//wAOwEgAVj/5f70/lb/x//4/8AAZAB6AKMAMACW/3f/rv+2/3D/lv9D/yT/Ev/W/pX/fwDJABoBfQGIAe0A4wARAT4AWf8o/xb/Q//d/wYAZwAZARoBpwBLAOv/df9l/+b+T/5+/pL+v/73/sD/HABbALsA/wA2ARUBEQE+AUIBTgGTAWgB3AC7AGoA9P+E/5P/7/49/pD9Iv2c/AT9Pf0E/eb9E/4j/gX/tf+4/2wAGAIdA8UEnAZiBxQIOgifB4AG9gSpAjYAq/36+/T55fja95D3wfcd+IH4EvmX+nb8AP6K/zgAQQB+AJEAHgI+BJ0GYQn0CZAKnglQCFMGgQTpAtoAGf/M/N761fnF+DP5qPmy+oX7I/zu/CL9zv0K/lv+bP4h/oH9DP2o/Gf8Rf6YAOkD+Qa3CUsLXgszC3wJBgj7BckD3gE4/y795fqo+Sn51fh7+eX5Uvqx+kv7Bfyy/Dz9Uf2Y/RX9WPxY/Av8O/48AJgE2Af1CswMyAxTDHoKnQhPBvEDVQEM/p77Hvmy92z3pvfM+Dj5PPr8+gb8Yv33/af+pv5D/qD9bvz5+5j7aPy6/k0CwwYSCuIMYg2IDfELkgpkCBAGSgP4/5H8yfk792r2N/Zr9yz4SPkZ+jX70fz6/YH/IQAMAHz/vf3J/Lf7Hftr/ZT/tQQKCH4LVA00DV8NJQvgCQ8H+gPBAD78lfkm9g71kvRJ9R73LvgQ+kX7Dv0R/3MAqgFtAXgACP+E/FL7Rfqu+5z+1QKeB9MKHg7KDXkOpgxDC+4I5wVuAoT+t/qG9xP1U/Qm9OT18PYK+Y36dfyw/nIA/gFTAq0BYAAp/if8dPoW+bn6Bf3NAoAHkgxXD30P0Q+QDJILAwglBfABSf3y+Z71d/NP8snyFPWF9qL5yvp3/VL/TAGKAmECOQGd/1L9pfvw+Tj5a/te/U4E9QcxDocQxRBhETwNhwwMB/gExP/n+zT4fvNq8tfwmPKF9SD37foW+9n+bf/HAk0D7QM3Ak0ATv32+n75vPh7/Hf/BggaC/gQ3RAdEbUPHgzxCtkEbgIA/QD5NPao8XHxYfBk8q311fat+/X6vgCWAKwEfgTpA3IC/P6h/Lf5pvde+Rz7wgIyCVQOZBMeEScSyAy3CxEHeAJ+/2v6BvYx81Tu++6n8Jn1APlI/g8BMAIuBg4FTAdsA1n/JPp09OnxDPAH8Qf8FgNCF84dPCc3I1EaIRLY/sX5femX6O/h3+Xc5sTtSfdJBKMS9h06Hwcb1AvZ/bnwZ+iM5s/l1ugW6+bwyfV7/Q8FRAszHocgbjWlKNEmBg8R/KToqdq82PHYwuWX7+b8qAkQEbsbox9/HkYXRASv8m3fttob2wDo7PNN/nIFkAb6BjYG1AT9AnIJ/AmaF1wZJhn5FnYEg/8x7H3rPuYV603x//ZN/88FHg2UFLYUQxOFBYv4/uq+4zHniuzT9//8fQEyAtEBSgKmAfcBQgivDDIa7h6tHjccGwfJ/8ToruW34Y3l0+829jkB5QgKEbwYWhfjEo4D+/Jp5xzfIOY97O33Qv7uACgDygC1A6wBZQONDPgN/R9nHWAf5RaUAYn5T+PT4wThi+lA8/r6vwYSDToW8RoRFo8OYvsf7Knh7d5d5/bwtvsEAcwDAgXLAskE3wIDBLIQVBBlJZMcZx7TDub7dvA74NPiweGd7Rz2Df85CogRyxhhG60SsQZd8wjlvd104LLq7vQ6/8wB4wSDA1ADCASRAikNYhPJHxAj4xueFzX9GPck4yPgUOOD5rnz0frOBccPAhdJHDMYvgt4/BnpTOLq3nfm0vEH+fP/CwPNAucEugT5A1wISxTVF/wouh7QHJ8IGvdN6qPcxOGk4jnt6fePAAMN8Re9GskeEBCBAT7wGOGZ3ynjVOwC93j74ABsArACEAYYA1sFXxHuEcoowSEEH08TZvd58A3cn98x4pzoyfQ1/VMIOxYgGkMfExXBAzv21uHB4Lrhdug09RL5MP+DA04B3gYsBJYEhROmE4MpmCUiH7cWefcv8fLct96T4rzoE/Ou/QYHrxULHGYeAxgVBCH3s+Ja35XhcuZD8wD4Kf6rBPECdwgDBmUEchQDFOgoICY/HocUCvXE7jPc5d4K5HjqMvTP/tUG5xTzGy8djhj0A+v2PuOZ3i7hPuYx8U339vu/A9gDHAm+CX4HoBdIFkcqeiW+HNYRo/Kn7Mravt5/5JDsTfZLAckIFxa6G0AcGhbfARD0IOKY3IXgEuUa8AT3svv1A4kFLgp+DIILnh7WHEItiSFdFr4GgOyt5ajXeN3o4xftGPiVBNQM1BvmHL0dZxOQ/hjyot9o3ePg5ea48H74r/wxBCgGngpJDckXnSLeJwwvBh8HFiD8F+ki3QrVtdv544/sZfvqBsYQ3iBtHFsejA5K+3vulN6J3YfhfuZG8NT2VPvrAqAEoQq5DBodyiCDMaIsMSI8FPP0RekR11jWzNpm4tvsXvwbCDwYXCGoIAYdBQo8/LbqH+Gi34zhjeYw7y700/ylAtIGWA1BFlkmUy2wNYQo5xxnA+rtPd411FPVcNy+42nxD//GCuMcmx4HI1gXAwfh97znDeFw4cfhNuej7XPynP3VAWEKkw8MIH4kzzb4Mc4oshmc+Qbrq9WS0/PTvdu/5av11QF7E0cdoyHhH5ERxgQY8lPnl+FJ4Knir+j+7Bj23/ygBMgLNhznJiI3JjmHMJEj2gWg8ovbOtOe0MnWAt/N7K37OwptGiIfcSIfGGYLcvuy7d3kaOKD4T3mMevV8Qf6KQDJBkAV4yPdM/k9azYQK+APPfj94VjUT8/+00vZLuZi9J4AUxV8GnQjTB2OEVcEYfP36Nrj9OCq4xzpG+0F93P81AMkDzsewSolPL03KjK3HDAAcevL1tbQs9IK1yTiSe4D+kQMDhZFIM4hfxm1Dhj9ru7c5c7fDuCY5UXpUfNj+fv+JQfSF3IjLjnxOjw4jComDJD5e9x10y3OpdGD2nfmtvLOAZcOlhgcIJIcfRd0CPb5We2i4lbf3OAM5W/tzPQg+/8BfBEkHZEzyzt7Oyg0aBigBeHpxtrv0dTQFdWo38Hq+PeGB60PRhsmG8kZwRGcBHz5Quzj44vgc+Fj5oDumPXD/J0L8Re0Kh852Tp0ORQlIA8f+EDi5tc00nfTpdrw43fuj/6YBvcUnhguGQYXAAsPA3v2PexN5lni0OMc6fvuwvaQAF4Rqh6SMxQ4azq3L2wZNAf87AXhG9ZR1RHY/d6X6OfzugCaCjwV4BZaGLkRxAgRAJHzAuxG5SnjRuU76kzw0vbbBDsSBiU/NdM3AjqxJuEUEv7P6DTeiNal113c4ORC7cX5UQEsDEsSyRMAFhsOowjQ/ufzWewI5l3kFOf+6xzyKPoGCDsUzygcM3037jVZIlYSpvrF6OndKNi92anfIudy7xT6k/87CiMOdhErE0gN8Ai9/8T1C+6y52jldOhj7NXyTPwlChoWUCkKLxI0+i+FHh8Rjvnu63Hgj9u/3CLi/OdD8EL4+PyWBsEIAg5LD2MMEQoTAhX6PvLP69/oleql7SvzrPxTCPgULiUHK7Av1SpKHDQPp/tz78rlseEA4tbmXeo38WL2i/o6AfYDIghiCkIJAQioAzf93/do8oLvt/C+8p73n/42CFwRvRzxIFwjFB8gFFkKUvzb9LjuL+2v7a7wCPJU9a/24/ju+1X9FQCEAd0BHQP+ACAA4fyF+nn5Q/l4+6/+ywB7BG8IWQvVD/sOJw/hCnsGuQIU/2L+pv2p/f79b/0j/Vn8gPv1+gb61/nW+T76wfsg/I39CP1t/Yv93v1Y/7gAYAL3A+oD8QMfAxACAwFt/2//kv94AvcEXQf3B3kH0AV2BMwC4wFZALL+Pv0M+zj6jvjm+N34kPnC+V35BvqE+sn8TP9DAu8DMAXtAysCp/59/ID7sf0HAcAE+Qc1CSkKwAg1CGAG5QWUBE4DHAE+/v/7APrx+fD5Gvv8+vn6tfoN+3r8hv68AMQBjgEQALv9UfsE+r/5UvuY/UIArAITBGkFbAWbBcEFoAXNBQUFGgQnAxECrQE3AX0A6f/2/WL8uPq0+gv8iP4NAeMCzwIrAfj9u/qI+K/33/jZ+oT9yP+FAVYCJAL8ATMBTAGCAfIBiAIMA0gDRQRsBCcFbwQoA04BZ/9G/mb+9/6JABsBlgHJALn/X/4r/Zv8X/y8/Fr9Cf56/k/+3v1p/Uf94P0E/pr+Vf40/n7+Z/+gAOoBUwIcAuMBOgEwAhMDswQjBjwGGwZMBNUCwABw/17+pv79/vf/XQAyAM//6/5C/ov97vw1/H37d/qG+s/6EvxX/WD+k/5G/uT90P0Z/6EAcAPuBHMGdQYgBngFogQABG8DRAM5A2kDxwJdArkAqP+S/vP9u/06/aj8z/tJ++n6O/ur++f7PPzW+w/8Evzf/C3+Z/+HABEBWQF6AdEBKAL5AsEDoQSEBe0FFgYyBSgExQLEAf4AVQC8//b+L/7C/cD9P/5c/6r/jQDP/5j/c/5y/Zz8hvt7+xX7jvvR+6j8vP3u/kgA2wHIAr8DZwOdAqEBgACGAMgAqwEmAgoC3wGVAYQBKwJuAj0DiQMmA8YC2wCc/+L9rPwh/Jz75/sF/DD8mfzc/NL9tf6V/0kADgATAFv/1/7K/qP+Lv9i/1//mf+6/74ABwJxA+4EzAVDBg0GIQUhBGsCdwDI/lb9Qf1e/Rv+9v5O/xYA/v/2/17/Q/6o/az84/w9/Xb9PP4x/iX+gf0R/Zn9Yv6x/7UA7QGtAvYDYARlBD4EvgM1AjABsf9G/0L/JgCXABkFwARyAvD/Zf0B/8T+bfyu+3/83v7X/8D+Qf1r+xr7T/u/++78Nv9/AfMCJgSGBEgDyALFAJz/5P71/lkAuAI9BBcF2AS5AyEC/QBtANT/vP9v/zb/Hf/b/c38s/s5+xH7xfsZ/Zb+ZwAJAX4BFgHD/5D+//wi/Pr7iPwk/qv/FgHxAT0ESgW/B2cIYAjRCBcGIgVUAbv+Bf1C+kv6Afkd+RH62Pp7/i0B7gOGBeUD6AJ6/0H9r/te+q76lvqH+4n8lf3z/h7/3f9a/4//6AK+BEsLYA0gEIsPMgswB6f/Mvvw9TfzS/Po87T3h/ou/lUBaQLfA0EDEgOcAhkBnQBq/rn9QPzn+iv6w/j9+HP56/qi/bf+3wSoBs8OthCwE+UTsA6SCwsC6fw/9nDyTPGx8GbzU/Vb+YD9JAEtBfcGzgdsB1cFbgPq/9/8fPm99uv0iPQt9sj4qvsv/5QAMwbHB3AQxRIaFnsWeBAvDJ0BIfsH89/uEO1e7ZLwk/R5+Y3/EwOcB/AIEwloCPYENwIc/k/60Pdr9cb0T/Xj9oX5A/yX//QBuggNDKEUPhZ7GN8V0w6UCBj9zfZy7jPsJOuq7B7xqvUg/NoCPAfsC0cMJwu5CO4DhQA6/Or4G/bm887yzPMs9kj6Ov5nAtoESwuRDQgVnBR8FgsSiQvDBPT5WfRv7JrrHOtg7mn0JvpGAYMHagoiDUYLcQlQBWsBFv3r+CD2hfNY80j00/aE+s79+QBnAygF1wlNDAwTLxNhFuAQhQyGA4761PM07a/s5+zt8OT26/uYAmEGPAlJClkIvwYAAjX/Vfty+FD3bPUu9pD2a/jY+i/97P+TAQwGMgmUD2cTPRVTFo8PfgtwAD75O/G07PHrqO0K8lz42f0cBH0GJgnTB2EGPgTYAIz/c/wP+z357fd79/73pPn6+03+CAG+AbAHuAjNEacRvRX6ElYNRwe1/G/24u487Zrsmu8Q9On4of7gA4QGDgpGCB0IrAQzAgb/Fvyv+UP3sfZp9vr3d/qf/Bf/9wD7Ah8HKgvLEHsSVRUlEJ4N2gPz/cb1qfDq7S3tK+8q8xX4ef7CA4IIQgp9CpYI4QQmAn/9UvsG+Pb28/Ut97T4bPs8/QQAbAB1BisHkBBPEfwVBBQ/EHkKkwAp+rHw6e2c6uXsCfCk9er7JgJDBjMKjwnUCSQGxAPu/8P84/l395z2NPbj92j5gvsh/Z3+uAHWBUEMwhF6FaAXwRLTD1EEYf6u9NHvtuw57PHuZ/JA+I39+wJnB1YJuQrjCNIGrAPx/2P9lvlB+PH1B/ZW9tj31PnE/NX+AAYHCJcRcxKhF1cUDRG0CvMB2fto88rwyuwU7ubv3PNE+Sr+5AIjBpsHKgjpBs8FzwLAAOf8Nfqp9xb2tvZp9yL6TPzW/k0EpwYfDyQQhxRKE58P5QvuAnb++fU483DvZ+/98D3ziPgs/DQBvQRRBk0IwgZnBsYDBgF2/qr6avkG9z74bfis+uD8bf6pA3YF4wxrDhASARIEDvgLBAOa/wz44PTT8bvwwvLH87X4X/sY/5MCNAO2BZ0E0gScA50BVgDX/A38JPnD+Yv5z/oi/RH+iQIBBJMJsQssDlcPMAwCC5MEawH++8n4/vbh9EL22vV9+CD6Cvz2/mL/yAG+AcACfAOVAgQDSACP//X88vt0+xD73PxD/YQABgNlBpQJJApcC8AI5wcwBO4BVv+d/IH7rPmx+WP5n/lr+mX64Pv6+9H99v5bAC8CagIYAyUCXAFAABH/9f5z/iT/o/9aAHkBUwJjA+YDxwOAA6gCSAKsAYoBQwHfAJIAAQDQ/yT/lf6b/dv8SfwS/LT8ev3W/r3/bACJAEgA0/84/xD/lP7a/sT+Bv8e/+v+Iv8f/5f/CwDIAHIBPgIOA78DUgS/BKkESARZA1MCHwEDANT+LP6X/bj9pf32/TD+Kv53/jr+MP4U/q/9wv14/Yv9kf2l/cT9+v0v/qf+Kv/p//MASAKiA9YE2AUXBhsGfQW/BN0DwQLDAZ0Ao//L/kf+Ev4o/i/+Xf5T/kz+9v2y/Ub98vyJ/ET8Hvwd/HD81Px//Tv++v7A/14ASQEJAh0DAQSqBDAFDgXbBEIEtgMFA1IChAGlAMv/4v5u/gX+Nf6A/rn+4/69/mv+E/6B/RX9c/wJ/Mz70Ps3/M78yP2o/s7/2AC6AZwCDQOQA7kDygO5A4gDZwMNA9ICcgILAqQBIgH1AJ8AcQApAOz/tP9l//T+fP7O/TP9evz7+477cvt4++X7dfwh/Tz+KP99ABsB/gEnAloCJQLfAb8BsAG6AccBygHoAd8BKAJfAsgCCwMGA7wCBwJDAUUAZP96/r79GP29/Hn8ffyb/N78MP2i/RD+jf7//nD/tP/2/yEAQQBhAHUAdAB3AGQAeQC1ACMBtAFJAvECUAOTA2wDRAOaAvgB1ADb/7f+2P1i/Rj9Zv2b/UT+q/4V/1T/KP8n/63+jP4h/hf+H/5u/vH+XP8GAGUA6AAbAVYBgQGkAeYBFwJUAoQCngKgAj8CxAEiAYsABgCT/3j/WP+T/6r/3v/w/+b/3/+4/5H/M//B/kf+w/2V/Vf9bP13/cj9Ov7G/mP/6v94ANMAIAFJAUUBQAH8AMMAawAsABkAOACjABsBsgEtAlkCaQLqAW8B0QBpAAUAy//T/3f/l/8d/wb/j/41/gz+tP3w/QT+kv76/nv/8P8kAIIAVwBRANf/hv8y/wj/G/9k//r/pwBgAfMBVAKOAn0CcAJkAiIC6AFsAe0ASQDB/2T/+/71/sb+6v7U/vb+8/4L/yD/Ev8g/+/+3f6k/mz+Of4e/kT+c/7v/mz/6v9cAKkA8gAFARoBKQEqASUBKQEpAT0BSAFZAVsBYAFPASMB9AC3AIkAbQBvAHYAbgAwAM3/M/+O/ur9cP1G/Wv9s/0w/p7+I/9//+n/MgB7AKYAvwDBAJ0AegBPADoAIAATACMAIAA9AFkAlADQAB0BXwGbAa8BlAFOAcsAOQCc/yf/z/6p/rH+vv7h/vj+5/7U/rn+u/67/uP+CP9H/6b//P9gAK4A+gAcASMBEQHcAKkAhwCJAKEAugDVAM8AvQCSAFAADwDN/6j/of/S/wQASgBqAF4AMQDl/5r/U/8r/w7/Cv8h/0P/eP+e/8D/2v/g/9v/w//F/7r/2P8CADEAVwBcAHwAWAA4AAYA4v/U/+L/AgA5AIcAtgDRAMQAqwCIAF0AQAAkAAwA+f/s/+n/4v/b/8j/qf+l/5D/h/+A/43/qf/P/wYAIABGACUAFgDn/8H/tf+q/8X/1/8AABYALgA+ACkALwARAAgA8f/l//H/5P/4/wsAIwAuACwAKwAYAAMA4P/S/9b/6f8SADwARwBGAB8ABADk/8f/yP/W//z/IQAzAEIASgBDACoAEQDu//D/5f/7/xIAIAAvACkAGQD6/93/wP+k/4v/gP+O/6P/vv/q/wMAEgAHAP//5//f/9b/4v/k/+v/7//9/xUALQArADIAJgAiABAAHwAdAB4ANgBFAFUASwA8ACQAAADa/8D/s/+s/7//3/8CABIAKwArAB4ACQDx/+T/5v/Z/+L/8v8PAC8APAA/ACoA///i/8j/0P/m/woAFwApADAALgAYAA0A7v/g/87/yP/Z//X/EgAqADsALwARAOr/z/+x/7H/ov+0/7X/xv/l/wIAFgARAAAA+P/l/+H/3f/7/woAJAA8AEsAOAAvACIAFQAEAAwACAASACAAIwArADIAKQALAOz/1v/Q/83/y//Z//L/DwAnAB8ADgDv/83/uv+2/8j/6f8PADYASABRAD0AGwD8/+T/4//c/9j/6//7/wsAFQAIAAUA9f/s/+f/4v/i//L/BAAPACcAOwA7ACoA/f/W/7T/qP+y/77/4P8CACEAMQA0ACYA///4/9z/6v/X/+7/AwAFAA8ADwAWAA0ACAAAAP7/BwAUACIAJwA0ADQAJgANAOz/1/+6/7X/vf/a/wMAKgBJAFgAVQA2ABMA8P/e/+T/3v/j/9H/0f/O/8r/0//b/+L/5//r//b/AgAXACQAMwAtACMAFAAIAAQA9P/x//7/CwAaACwAPQAvAB4ABwAAAPD/4v/n/+b/5v/a/8z/zP/O/9T/2f/o//P/+/8CAAoAFQAYACMAJgAfABgACgD6//f/7f/x//r/DAAfACwAIwAaAAAA9v/u//b/CgAXACAAGgAFAPH/2P/R/9H/4P/0//v/CQAYABoAGwAUAA4AEAD///j/5//Y/8r/y//W/9n/7f8AAAkAFQARABoAHQAhACoAKwAVAP3/5v/Q/73/xv/U/+//+v8OABcAEAALAAkAEAAdAB8ALwAvACEADAD4/9//4f/o/+3//P8KAA4AFQAQABEAGgAdABkADAD7/+D/1f/K/8H/v//W/93/7v/w//n/EQAVAB8AIwAhABkACwDz/+X/3P/o//f/BgAUABYABwAAAOz/5//b/+H/5P/5/wAAAQAIAAkABAACAAMABQAFABUAFwAiACEAIwAgAB4AJQAaAA4A+f/u/+j/9f8IAA0ACgABAOr/2v/T/9b/1f/i//f///8FAAgABQDs/+j/6v/0//v/AwAKABYAEwANAAgA+//u/+T/2v/a/9v/9/8KACYANgA2ADAAHAARAAEA/v/3//7/BAAMAAQA/P/3//T/8f/r/+b/6v/y//7/DAARABAAAwDw/+P/zv/S/9r/8/8IABcALAAsAC0AIAAJAPv/6v/j/+H/5v/n/+///v/8//n/9//+//7/9v/4//v//P///wgAGQASABAA/v/p/9n/1v/e//T/BwAeAC8ANgA0ADQAIwAUAAIA5//l/+v/7f/2//b/9P/v/+D/5f/h/+j/7f///xEADgAhACgAIAAPAAEA5f/L/8X/xP/Z//X/DAAdACcAKwAmABUAEwAGAP3/9P/5/wcACAAUABAAEgAKAAoABgD4/+7/3v/o/+T/5//0//r/CAAPACEAGQAhABgABgADANv/4v/J/9//3f/k/xcA+/82ACIAJQDp/5D/2f8JAO7/XgChAJAAHAWcAW0B6v0S/FD8ovgB+TP52/nVAQQBuwQtBoEHWAeGBIkCggGPAif+Yf7A/mMCDQKx/6YA1gFoAcj+kPx1/DH8ivj/9k/2UfnT+SH7Z/5+AvwEegRVA0cEVwPpAtcSCxRCDBoKyQnCBcz+K/Ea6U30SPQG8SD3uAb5DJIOkgk9BzMKAwFJ9Vrz0fcH98j4ZfprAbQGLwI5/bT+MvxY9Xnyx/Ju+jX8MvyzAmkOSw8FF78q8RUKDkEFovpa79HqTeC47tv+ZPwSBfgSQxXpCV4D4fir97HvOe669QQDQAbKDG8RyxAVCcX/Bfgg87nwR++k86r4L/21/loCXANZAoX+rfzR/X//QgEXHLkl0hDPEN8Gd//A7sbkpOP49XX5dwBZC1MTQQ7fBaX8xvYd8pXun/ZQAKAIqw2sEDgMOQaZ/UH19vEm8SX0APyu/8YBRQLc/uD9SPto9+j3v/mY+pP//QPOBlwlPyc5EAwQmgIo+gLrVuPp58P7i/zbBTwPNxJqCzsCbfgH9A3wSfE2+cwCuAnyDEkN2QknA7f6Qval9CX1rvgH/ZQA2wDp/eX6e/tz+6H5N/vU/psA3wLSB2QHixFyLiYRTwgHBSn8Fu5q6m/mXPjWA4wBsApAEecLff9v+W30mPKI86H6cwOtC9ANCAzUCIoD+vrV9Cf1dPWM9tv6DP+2Aa8BHf/0/lL+zfy++V35J/rJ+1r/TwZBB40Wpi8WEh4LIgU1+UXs9OnJ5uT5/gQtAmUM7xAfCez8ivjM9cTzrfTQ/bMHDQq/CZ0I0wa1AZT4n/aF+Hz30/Yt+0j+DAAbAD//Wv+j/gH8C/r1+or7WPydAWkHJgkYCI4kTBu9BFUE0vhk8mXtiOkD8hAGzAEABisNQwi8//P4afUU9f74Nv3cAhEJmgm5B5sEjACd/Fz8cvpe+VP62fsj/qb9S/74APf/U/6W/Hf68PmB+G77sf7lA4MFswaCBm8idBiAAn4GOv0U9oLxPO6K9N0ExP1KBAgLzwQo/RL8lPkI+h78Lf+CBcEGugRZA04AGf5M/RH8qPub+7b61/yY/FX8Ov94AZ//of5r/Sz73fsl+c77WgEdAJ8CfwfEBOoSZCG4BjYGgwOb+/byPfIz8eH/9gHz/3EGOAbM/9H7ofvb+6774f2EAXMEsQKZAs8BTAFR/3z/Mfzc/A78u/hU+4v7wPwsAcT/GP8sAJn8kvvP+mf6ev4WAQYBsgRLBiEJAiWYDnME1wqp/rr1HvNx8bP7WwNn/V0Fmwj2Alb9Ov1i/FX60/vM/WAB1gFoAnACEwJV/1D+Kf9I+6T56Phr+nv6Efw3/7oAD/9+ADj/yfuh+QD8Hv7z/GcAQQSLBckFLB4LHSYG/woVBDz61PIZ77j0SwLu/PYBMApXBFn/mP7F/eP5N/x8/WX+6wBnAgwDUQI/ATgBXAAJ/MP5a/mg+WP5Vfs3/Xf/4gBn/xX/Ff0a+pb5TPzt/H7+UwSEBWgH4QU2H5oWrATnCwICHvk09i3x6vVQA/H8IAGUBwcDQ/60/PX7tPpC/K79OwDUAXQDNQJyAA4AIf7A/eP60/jz+Yr6lfq5/Vj/6v82ASwA//7c/Gf6JvkG/m//eQClBE8FGgYWEUYgLgagCJMKD/xn9v/1f/J4+2cAG/yQBCwEz//F/l3+4v3q/FT+8f7PAE4BGAFx/9X/W/+O/xf9fvrt+x/6sfla+7f8QP+Z/87/DwF8/mb7kvwS/YL95v//AYgEpAeqBrYUrxtzBecKWwbB/OL24vRi9HD96/0x/qEDNgNvAOD+CwCs/t78CAASAKX+oABcAvX/LwBZ/rD/iP1q9qL6Zvoc+Xn8m/3i/uj/aP9N/zT/0ftm/IX/Vv9B/+kDFwerBAAFphoXFB4CSA6eA0D79/d99N30k/5r+rH+zwMMAJsAwgBr/zz9iP4F/4n9ov9rAlAB3v+nAYgA8v0f+7T7GPq0+Sb8vv2y/ZT/XQBe/0T/8PzB+lT8YP00/g4BKwKzBgMHngksH2ELsgfRDUYAcfkB+eLyOfib/+r4NgKoBEcB7wAcAF//YvtZ/YP9jf6sAFUCZgHfAVMB4/4//T/6SPpv+ev6DvxU/TX+rv+/AIz+rP5l/qr7NPxO/wf/dv8vBJgFmgafDiIdKwh8DIkMKQCT+1b5pPOh+mD9w/k8AywD8QC0AVkBiv2/+0L+/PvK/asAKgERAGgAWgBqAMj6M/vP+tT4KvsA/OD8lf9GAOAAgwAXANX9wPtn/eb+Pf5T/9kEagTwA0QQkBt8BqkQLAxgAY381PiC9AL6w/oh+j8C8QF3AIwBJQLl/bv83v4c/SP+ewHNAIn94gDt/1f9s/oL+8H7f/kD+4z8Uv0L/wsA///FAO3+lP2d/aj9U//O/jgB9wPQBGEFtxaAEVkF5RLsBIT+dfvD9qX0MfrM+P/7aQBrAZQBoADKAUH+of19/qD97/6SAYkAvf8dAZz/F/6Z+9/7hfp1+sv73vsV/QEAvf/W/uUAFf/+/Mj9Yf6s/xP/eQFdBFcDxgOKFSANnAbLEtkC3QBb/U/30vM+/Av3gfq+AJD/uAFQAPoA5f4m/sT9Vv49/wgBhAABAJwAOf9b/pL7dvuj+vj6ZPv7++P8/v7O/xz/0f9U/7/98f3H/lH+mAD0AUkDVwTsAkIWawvtCHoSjANqAA7/oPc89Kv7m/cz+8P+8//ZAM//0gDy/pn9Cv6I/yX/MQGW/7X/8wBe/pj90fvd+4f7yfpt/P/8c/0CAOL/Xf6zACH+KPyw/in+6/70AAcCzgO9AzcIVRshBIUQLRCtAdcACQDC9Kv3HfvP9d77//0YAJgAigE9Acj/p/5q/zv/Af8BAP3/8v6D/3T+gfwc/AX7QfuO++r7ev2r/hj/8wDe/8b/pv+I/P/9t/+A/nz/CQOuAoIDjw4aGHQF6xSKDd0CNANI/83zSPmR+W/1EPxj/sv/ogFkAoEBZgH2/5r+QP9WAPP+vv4VAJj+uf0W/Kn7EPu1+df7FPwk/CT/qf+u/wQBCgAK/73+8v56/9b+jwDBAt4B2wH4D3QRxQTTFd0K4wWOBID+j/QI+zP2tfTZ+mf9if3C/9IB1ACe/wIAfv9S/4AApP+b/0sAzv50/tn8nPtC/Ef71/ur/UT9D/8IAIL/LQCx/8b+W//R/iX/Q/85AVUCIgHyAasTjAWdC4ASRwUgBoIDHPn394/8c/MW+NL6nfyb/BwAKwD+/7UAxv9G/1AATgBQ/9n/Rv/F/hn9/PxZ/DX7wvt7/Df92f5N/y4AfgD2/wUAaf44/hr/0/43/rwAaQKFAV4Ooww4B+4W2gl3BkAJHP/e9lr/EvVl9Fv60vlm+XD/7f7b/kcB/wF0/08AkwKMAEv/kQDU/i/98/1N+8X7ZfuJ+8v8nf1w/pb/qv+mAL3/6v6I/9X+c/+H//n/FACyAY0FxBFxBJ0T/w0yBk0IMgXK9sP/AfsV88n5kvsK9wL9u/5R/f//UwH2/2EB2QKpAXoCiQGL/9j+HP6s+sz7fvkw+zT7Ifza/Sv/2/7BAdUAVQHMAKYATQA+ADUAOwG7AMUAjwwKAuELDRAXBucG8gl1+yD96/809K72EPsP9gf5Rf5s+4H+pQFTAPQAlgO7AU0ClgIMAf/+dv5O/Xv7xPrR+qT6RfuL/Wj9ov6dAKAABwCcAcEATgHDAHkAbwEHAscAzwmzBHQG4wyxCAcGIwliAEj++f+s+Xf3H/tx+Gn43/z4+xn91gD2/+//8gJWAuUALwK+AdL+lv1W/eT7WfrP+3/7gftr/ZH+2P42AKQAAQFiAeoAOQG5Ac0A9wCKAUoBewPOBRkFEQk6CdIGbQeGBZ0BpQEn/wb7Gvzh+vv5qPuh+5D7//2R/qb+xf8cAYcAngCsAEMA3f43/ob9U/3R++H8IP1d/R3+1v8k/y8AWgBHAFwAcgBUAFcBCgFWAKIB9wEYAQMDkwRiBD8FbgZKBVUEdgQNA5sAof9n/4j90/ye/Xz9kfxu/b39V/6K/nb+Rv4W/yb/pP5O/iD+FP7G/Xv8cP1I/T39Yf4NAIb/lACoAIsA9QAVAdkApQHfAE4ABQGJAXQBCgOOBN8E3AQ2BoIFugRYBIoCaQC6/uH9Tv1l/Bj8vfye/Jz9Of7t/fH+w/7y/bL+Ev5c/Zz9u/0p/TD9Ff0N/rX+cv/BABkBLgFGAaoAuwAiASkANwCVAP///f/jAEABewF5A7IEswSUBYUGwQUDBdID3AEuAC//Wv52/U38vPwa/Wv8Ffzq/Oj8Cf0O/Xr9W/4//mH+u/7P/kP+i/7D/uL+BP8KAOT/CwDSAPQAZgAsAWICFgHnAMUBWwHEAGMBqwGBAYYCRgNnAy4EjgQJBMMDMAM9Abv/Rf9Z/uP8Qfx5/IT8sPsV/Of8Ff3o/FT+pf6i/mf/w/90/3n/ov90/1j/ef/g/6b/KwDz/3EAsQCxAFUB2wFEAYYBVAK0AZoBpgFnAWABxAH0AfABKgLNAXUBsQBQAIP/vP7R/s7+0/0+/uH+7P5u/pn+Sf+R/tH+hf+i/2v/BQDM/xH/LP/w/kb+lv7f/tD+D/94/8H/TgDuALcAlQHrAU4BdgFfAfgAgwC0AO0AjACPAE8BMQEIAcYA8QAJAOr/dv8Z//P+1/4y/6n/4v/r/8P/AAC6/0f/K/+R/w7/eP+j/9f+nf70/mT+zf4G/4j/vP9SAFMA0wCUAdMBOAESAlcCBgFdAYcBJgAUABYA2P+O/7v/IgCXAOX/UQB+AKf/AgCk/5z/zf+r/yIAfwAYADkAq/94/5z//v4P/3n/Cf9n/4z/Cf/x/nv/lv4D/7r/Z/+n/0wADwA7ANAAiABaACAB1gBNANQAAgFMADIAnABGAB0AGAC3AK4AhQC5AHMAEgAxALr/qv+Q/6T/7v/f/2//6P+8/3//rP+Y/xj/ov9e/xj/Ef8Y/xz/Qf9E/+v/JwAvALIAygCZALoAzQBTAG4AzABQADsA/gC6AEsAxwCUACsASABoAHMAbQBQAHEAHADm/5L/i/9d/xf/L/+J/4X/ef/e/+z/j//F/7T/jP9m/2f/Sf9Q/0f/Z/9z/4z/2f81AFQATAChAMQATACBAIgAOgCZAGIAJQCWAGgADABjAHAAKABFAIYAjwA8ACAALwD1/+j/9v/E/6b/tf+S/5r/f/9y/7b/yv+B/9H/7v+w/8j/nv9g/2j/lv+L/6L/s//4/0QAPABtAIgAUgBoAC8AOgBGAFkAPgAlAHIAYwAvAEkAVwAFAPP/GgAsAOj/IABjAD4AQwA7AA0A0f9z/3n/cf9E/4P/yf+8/9L/9f/J/63/uf+d/37/qf/U/+b/AQA4AFwAQwBeAHYAdAA/AC4AHwAYAPj/MgAzAB0ABgAjAFMAQQARADEAEgD7//v/EwAHAOn/+v8YALn/yv/E/2X/nf+1/2v/5P9BANL/FQBQAOf/xP/S/1b/I/+P/9z/AgCv/+r/XQB6AKsAgwBrALT/t/9uAToDQgCp/B/90f8/BI0B7v0D/XoAhANyAXr+Qv09ADYClQC6/oH+QwATAb3/WP7f/fP/twBMAI//I/9SAMEAhgDo/9b/LQBMAMAA+f/D/3z/8P/k/9D/Wf9u//D/KQC5/xEA+gEcAmYBev9F/0b/JwC7/2L+j/47/7IAxgASANP/FQB4AJcAXwCk/z3/jv8BAPv/zP+c/x8AawA5ACgANAAsAC4AJQBHAAQAEQAdAPL/6P/3/87/yP/B//D/BgDz//v/r//o/wYAIwAVAE0AFQAGAP7/EAD3/w8AEQD2/8j/sP/v/x8ABAAqAAYA+f8DAP3/BgC0/+j/IAAZAOf/zf/r/w0AIwD3//L/BwAPAAIA+P/3/wUAAgAPABwACwALADEABwDK//X/IQAlABMA7f/g//P/CAAPABQA9f/y/w8AEgDU/9b/NQAJAOD/LwA3AC8ARQDW/4T/1v/p/87/lv+u/7j/7/8fABcA9v8FABkAEwAMACUAGQAcAFMASQAVABsAPgAgAAEA7P///93/6P8fAAMA4P/s//z/9//u//j/+v/+/xYAKAD+/8r/5f8CACAAFQAHAN7/4P8EAPj/yP+y/93/8P/r////EwAAAB0APwAmAP7/8P/8/wYABAALACAADgAfABoA/f/1/wYADAABAOf/xv/T//X/9/8CAAUA+f/o/wUADwDc/7j/uP/l/xIAEwAIACEAMQAkAA8ACgD6//H/+f8NAPP//v8tADgAFwDz//b/FgD+/9f/4/8RABkABwATACkADgD+/w4AIAADAAUA8//f/+z/GwAJAOn/6//r/wgAEAAGAMr/tv/A/+H/6v/T/+P/HgAnAAAA7P/7/wgAAAD+/wQA7f8XAD0ANQAdAAwACAAhAAAAy//K/+z/9P/x//X/8//8/xEAEwD9/97/3v/p//f/6f///zMAVgBJADgASQBGAB8A+v/C/73/2P/n/9n/w//g/wQACAD1//7/8P/9/wsACQDq//P/FwAhABcAAgDy/+r/5//X/8v/y//l////+//j//L/IAA6AC4AAgDj/+n/AAAGAO3/7/8UADAAIgAsADoAHQAIABMAKAAbAPL/6//8/wAACAALAPL/8v8HAAoA7//H/8f/2//t//b/5v/T/9r/+/8WAAUA9P/h/93/7P/p/+7//v8qACYAIQAGAAAA9//w//P/6//6/wIAEAAUABwAAQDu//z/EgAeADkARgBMAD0ALgAeAPr/7//a/8b/4f/q/+X/6v8FAAsA/P8CAPf/4P/U/+n/8P/u/wwAFAD1/+n/+//5/+n/4f/a/9X/3//6//3/CgATABgAFgAVABsAIAAbABIAEwAVACIAEgAMAA4AEAAgACUACQD7//P/2P/c/9//y/++/83/4//n/+z/7P/6//L/+v8OAA0ADgAcACUADAAJAP///f/x//f/9f8AAAgABwAAAAoA/P/1/+//CgASAA8A/v8EAAoAEAAUAAoA6f/w/9X/7//q/xEABQANAPL/0P9xAKoADAL9ABYAxf3u/PP9kf/yAdQBBQLA/2L/rv4//yMAFQCuAGT/uP/G/rj/DwC4AGsBvQDmAJL/tf8G/63/+v89AHwA3//h/6j/3v8CAOT/BADN/xAABQASADIAIgBdADIAUgCs/8f/cf9z/x7/IQDeAKUD4wKOASD9CvuB+zH+BgKnApYCBwDU/ib+IQDvAb0DWAS6/8b+f/o6/Nn/fwAiBfL+MgAD+2n/vQCxAfsBuPwU/X/8NgJJBtAFhgNU/QP7evs7/WgBGwBGAMj9Ev8dARwFtgYvBQ4B4fsi+vP7w/+sAgQC4f8j/i//3QHCA9ADlgBe/mr82f7X/+QAqQBH/1MA3v8CAa0A5v9h/4L+/f4uAL0AdgHk/0T/Z/51/6MAGwGjAPL+ZP7Y/ksA7gGNAZYAvP7O/hAAEQE4AeP/YP8V/8P/bwDnAEQBgwCb//r+Zf8LAKYApAC4/2b/Qf+s/18AowBTABEAqf/t/3EAlACyAIb/jP+X/k7/mP/EABQByQDtAPn/yv/z/zb/6//4/p3/BADZ/9MBjQBXAcz/HP+9/2H/2wCFARMAgwDH/Xz+dv53/94ACQIjASsARf92/zcB8QD+/1P+QPxf/TL/0ADNAv8Azf/lAGUAXgQ1Aqr/0vyE+qL8BACnAZgCmQAs/4//kwDIAgkDTQEC//T8zfxz/gAACQEtACP/e//oAOACOgPlAUn/4f1u/Q7/1AB5AMT/N/66/sgApAHpAcoAs/8JABQA+v+t/1z+zv48/wEAAALdAWsBYv8f/iv+nf/PAOcB6QApAF//WP6+/nj+A/9pAIQA7QFQAnEBlgCI/kb9af6k/ykBsQE/AGX/dv76/uwAtAEtArwAbP+v/jf/6P9wAA4Ahv/R/nr/+f/5AAwBlADM/2X/DP8lAPX/WADO//v/NAC1AFQBLwBz/yD+Ov7P/hIBDgHoAS0Akf/e/n///P/4ABkA+v+e/qD+wP9AAaICwAF8AKj/M/+K/4T/MP8z/+z/CwDKALoAwwDFAI0A7f9n/2X+e/4v/4j/6QB0AOIAlwALABsAcP/r/yAAFQCJ/+b+Cv/U//EATwFgAHj/r/4S/z8AtwA3AXMA7f+h/yv/9f/+/ysASQDo/wMAcwCIAKEADwCB/zf/a//D/3oAdQCwAEAAef+M/13/zv9qAOP/8f9d/xn/OwBLAMsAvQAwAHAArwBhAE8Agv/x/jr/Uf8lAHEAggAlAJH/w/6l/Z/9cf2e/vD+//+DAKUA2gC5AMYAIgELAVcBdAHpAZkCMgP2AzUEIQQiA9cB6v9K/tv8jvwD/a793v3U/DX7V/lN+Vr6Nv2l/7EA+ADn/37/5/5G/0r/pwApAXQDFAaZCrAPjBN0EtMM5gEI94Dvoewi8Pf1Tv3KAoMEzgJs/sH5/fYv9of3UfpQ/HX/4AAOAnUCywH9AUcGKQy3FBEaLhikEdgEmvgl77fp1eo98ED4MQG0Bt8I1AXc/g330PCb7yTzAPkX/1YCygM9A2QCZgGWAXYGhQxnFiwaRRkTERMFwvlQ8Xft5O1P8vn3mf8EBXoIYAdMATb4nu+c64zuC/VA/cgBIQS/A0cC1ACx/0YF5wsMF4EboRrOEQcF0vgr8NDs4u779PP6RAKUBfcHzAa/ARb6JfKT7GbtbPIp+Yf/SQKzA38DQAFw/w7+YQVcDbAajx6oG4wRlwGi9YbslOpC7rf1D/4zBggKjAsZCKQAufgA8LXsa+208oD5r/44AosDjAOvAcL+O/uRAmAIWRhXHr0djBbmBHb4EuzY53vqqvEK+8IGFg0cEbgOaQXP+2fv8+mM6JXtpPX9/OgCdgWVBvsDEAHQ+k35YgI6Cn4cbh97H08UzwLI9HvpCOZF6oTyFfzzCDgPFhWkEY4He/se7UTnnuYb7Zz2Lf6BAxYGOQUIBJP/Jfw39u79/QIsFr4fGiGZHKsIKvo96i/kmeby7WP4hgWYDd8VmxYaD2cE3vIU6aXki+h48kz70wH0BScFLwWHAfX9xPhx9i0AkQgFHU4hECOMFjMDmvNH5WrjcOfp8On7GwiFD5MX8RX/Dq0B9vCC5yjjCumT8i/77QHEBLIE4wQNAP39GvdU9t4AHgm9HtEhvyJRFpkCzPKU5TTkcejj8vf8TQk5EJwX2RbODwUDgfFT50viFeiM8SX7XgJuBd8FtATp/4j8ePZO9JT+NgZCHXQieyWXGh4GDvZf5vfjv+Zx8Az7gwbGDgUWYRd5EWYF1fOf59vg/eVN70n7zwOZBzMIOQWRAIP7wvYI8m799QNdGl8jHCTlHRUHBfjm5Ynh9+Ql7dz5OwUyDs0V/hdyE8QJ3Pfr6oLhaOR67S/5tAM6CCAJzwYfAkL9SPkw9NL53wKTEH8gTyBhH6QMx/yT7MbiruWA6oP3VQFeC0oSHBaHFBINyv7W7zzltuK06mf06wAfB3EJ3wiDBOP/6vo49oXysvwNA80XPB7cIAcaDgWf93rmW+Mh55rv3fwtB1QP/hRoFR8Qsgaa9sHrQOSw54/wt/tKBZQJLArYBrgBfPta9vHxqPPc/v4Kkh/+Ieci2RORASrxFuSZ5DPoxPR5/2AKLRG7FUwU5w3PAPrxKucK47HqjPOFAF0H1wkaCUcDVv6Z+Fr0A/L9+FUEgRRhIgwjoyApDOH8f+oZ4fzijOi99ogCCA2DFecWYRNjClr6Ou475HTltu24+CoEfgnUCuAHQQKt/D33fvS58hP9ZwVOGDchfSHxG+oGtPgS58fhTeV77QL7hgbkDs0UYBTkDw0Gbfdy7BHla+hX8cD8iAYrCi4KpgU2AKX6jvWW84fyHwBsCcocpSH1IDsWCgKq83rk4ePt5+Tyc/7VCMcPoRMrE9kNWwN/9m/ru+Yg61Tzgv8oBi0KoAgOBC7/7viO9dHy8/M0ASkKbB1mH3MfDBPXAfTzfefc55jq4vWK/isI7Q0zESkQBgv2AGL2/uwA6vntMfVw/4kEogeMBX0Bvv2q+HX3h/Ut+OsCggsDHKId7h7BEWUD2/Sf6Q/pWutC9S/95wXGCyUPYw9BCzkC0Pef7ULq5uxZ9Av+mgO6Bi4F6wE//+76f/lW97331wHhCKsZfBzTHxQUxQXJ9wrrNeoi6wP0r/t0A3wKtA3pDn0LZAIB+S7uZevu7Tr1bv5MAycGjgTGAYz/sPt/+jb4oPdhAkUIghnIGiUduRIyBOv3/uvW6sjsh/Ro/DkDDAlrDDQMwglZAbz5ZPD27V7wfPaX/pMCYgSsAjD/Hf4Z+4v7iPp8+fABVQXYFVAZfRxCFgUI0Px67yfsCu1h8jP6bgDeBScK9gnSCYIC2fwi9Nbwo/Ek9mL9ZQHOA2wDFQAG/yz7avvX+VX5H/4IBCgQPhnsG3Uaaw09Ag/0duy+6/Tt5fX5/MICTglyCUwLcAV9//j3zfE68kP1ePyBAf4DCQTOAMP+qPvL+gf66vll+doAegZpFJcYCBuUFFoIgf3K8b7tk+2i8SH4eP3kAlsGuAc0CAsEcgBp+S33n/Zs+i/+mgAsATwA0/5w/i79H/07+5v6qfgf/5QDUhFbFUsZWxOJCukAfvfV8pXwzfGK9dL58f5gA04GXwgRBqIDov18+5n4ZvqK+lf8tfwG/sT+Uv9W/+f9ePyi+fn3/PpBAf8LOxQGGGcXZw9jCKT8wvbc8Ofw3fJW96r7tgB4A78GUwY8BvcBL/+o+q/5q/g6+uX70v3W/9L/2f/n/fv7ZvkB+If3zP7EBNsQAxT6GOISYQ1yAhb7xPR18rTyCfW190P7YP6IArsFvgeUByAEXAC++4L66/kO/D/9h/4l/lX9O/x9++n6evqb+vP6RwDKA14NUxDxFUESOQ9PBrD/Q/iD9EfyCPMf9Dn42/txAgkHewoRCrEFBAG++1j6zfnH+0L8s/y7+3v7b/un/Pb8t/zA+oj4g/sl/5AK6BCQF3oWJxLsCYMAlPi48ovwffGK9OD5ef/sBPEIYgkICFkDoP/G+936lfql+yL8v/wI/W79ff14/bn8YfvB+eT42PonAeMHhRDTEowUpA6DCfoAhfpK9m70dPW+9yL6+/3u//EChQNoBEcDqwH2/wf+rP3z/Fb9rvym/Dz8ZPxH/Dj8w/vg+of6wfrj/bUC5AjLDasPPBAIDLoIsQJo/rv6VPix9wP40fhI+439XAGdA0MGRwXfA8QAAv7N/L37rvym/LL9Af23/DH7Ovpp+Sr5ovm1+o3+yAJmCSQOBBG/ETEO+wlUAwL+bPkX99z2tvcU+p38j//lAloEYwXJAlgAS/3v+5v8h/1L/9D+R/71+7D6ePmw+Zj6EPu2+6L7XP2NAqAImg9MEicTVA5LCYYBM/yM+Bf3FPgo+Tb7/vxu/qEA6gHhAzQDXgJHAPv+mf73/WX+kf3M/Bb7NfqQ+cf5vPo2+3j7F/yr+/8AMgVaDlQSKhQtEaIKJQUo/U/7dfci+Hj3//ea+WH7+f9mA8YGYgZ+A3P/Wfya+w/8Iv1e/cL8IvwH+277R/sJ+yD71vlI+dT5q/pGBT4MyRiTGDEXpQ37BM3+gfjX92HzsfQa85X3QvzDAuIHVQk4B/8B1f1q+9v7hv1F/in+Hv4s/az9lPy6+xn6FPkV+lP6JfuG+0f86gfQDRca+BWiEmoIaQK6/QH5l/c78nH0kPSh+7wA+wWCBy4G2QTfAXMAaP6R+237TfsC/twAxwBy/h36ovd494/5TfsF+3P53Pjq+awGKQ33GbcVJhA+DGQEcwbs/I/5l/HY8gz3UPxHAfr/PQFYAXYEkAUDBCQAXf23/GP9C/57/cX8ifwm/Jn70foh+br3FvhX+CL6b/yG/H8KHQ+7GkYXsRFLDhsF+gQh+uj2PPLS87730PoT/lf/RAOiBfkFqgLr/sD7u/zj/cj+Jv6X/Rz+1P2P/Kr4y/ZD9pL2Ufkz+vD7If5i/uAJrxH5GGUZ/w/HEoMIOghE+xjzGfOj84z5t/k8+Wv7Zf9/A7sEtwIdAhUAMgG2/XP7NPpO+5z+ov8e/Yz5OvkD+mL6Dfl6+Bj6if4gAZQCeRFtDz0aJRFXEfEP7wcbAnP18fOE8ln1zPSd9RP4l/88AIwDrf/JADQDDQKJAWX9Df0z/8v/Sv+s/Ef7u/w5/D77Afig97X6oPv2/Zr9TADiEssRzRqaEMgQghCuBsv+DfMn9J30qfTu8Yz07PiKAnwB1wFeAY4CCAXwAN3+VP+vAE0CUgAU/6T+MvwM+gb3e/by92j42frp+/n+7f85/60QSQ6dFoARpg3LE4YGHwDN9Qz2I/dW9GzvM/Y++af+Uf96/1gGCAeLBvICTgEIAqL/jfxk/ZH92P/V/b/7uPu8+Sn4LfbH9d736PmH/CX+Fwh9FCUPYhXSD5gUeQ7+AbH77PgV+AD08vFR9ej73Pqv//gAvQVWBZgC4gLSAlYBqAFJAHAB0wA4/WD9vvru+Br3NvUe9lj27PZz+rv9SgD1/zoM9g1QDloTcQ8WFQQLUQRZ/xb9AfcD9cPyJvcB+Pr2df3g/60DSwTXBFYFAQQSAKcB6v99/3v/7vvc+775APhO+Ij3gvbw97/37vpY/Tj/uACwCdgS9AujFcASxRNQD10FWgCz/s32HvWV9CDy5/eH9cv6vv3n/0QCDQcxBIYEIAO5AJQC2v50/iv+WvsD+jr5vvZM+O/43Piy+4n7aP0tAH0CqQO5EQQK/Q8aFZkQZBFYCVgDkf9I/LDyvvUZ87PzHvWi9vz5CP1+/gYCswV7A9kESQQFAyMDrgH3/2b/oPxO+Qz54/bt9jP4L/m6++n97/7XAFICEwPNDd8ISQ0/EZMPCA8nClIFWwFU/+X1vfXj9CP0h/Rn98346/ok/ez/TQMvBCIFNAVGBUcETwNhAuUAM/6y+/b4k/dd9/P3bPqn/B/+e/9mAI8AWAGGBC4Hnwi4CRsKxAnMCPAHDQQiA+H/oPyx+n/5AfkK+SH6NPt//Av+6v+lAcoCeQNrA0YCNQIQAbn/JP4p/Vj8/fo/+oL6A/ua+hX7d/sx/ET9B/5i/4cB3AOGBvMHWwoyC1kLHgskCaEGbwTRAVoA6v5x/Qj8Zfq2+fr4w/h1+Vz77/xU/lL/UADCAMQAv/8a/0H99ft5+y372vvC/NH97/5D//3/EwByALABogPKBREILAoNC64K1gn7B9cF+wIzAJz9bPsN+v74J/mC+Yb6PPve+xP9Vf5K/3sA9QB+AYQA5f/J/h3+fP3++3H7Xvxu/SP+4f3k/Xb+Mf9EAEcAjALbBHsHEAmYCp0LxQv8CZMHgARQAV/+Zfze+mT6qvmA+UD5ifmJ+vf7aP2E/pz/2QAHATUBigCe/6j+Kf5J/Zj82fto+wr8qfxa/eP9t/7V/w0BnwEcBHIGyQgfCn8K8QkICfgHgwZBBPMBP/9r/Ur79/n5+Or32vf8+FD64vsw/d/+ZQC9AWwCvwFrAMP/8v5n/iT9OPwJ/HX8wvyi/F394v2t/vv/2gB/AjAE0AUMCAMJJgq4CrkKWgm/B/cE9gEG/9v7qPmO+Nn3v/cX+HL54/qI/OX9P/+OAPoARQEVAU0Aef/G/v79oP21/MX81vxU/aL9iv1k/Vb9fP55/4gBKwQvB5cJAQttC1YL9wpVCUEH5gOHALT9gfvk+fL4Rvgi+DT4XPkF+nD7Bv00/sX/xgBBAcgB4QGWAa8AUf87/iL9Ofzr+737Z/wy/Uf+3f5T/+b/GwFqA84FnAe7CH8JRgomCrEJMwh3BUIDaAAE/YL6/vd99573xffi+H36d/uf/MH9S/9oAEIBnAFVASQBuwAnAKH/Of/Y/pb+Cv7L/UX9Ev0M/X39J/5R/6sAdgLQBH8GjgcZCL0IvggeCNgGGAU6Ay4Bzf4L/ZD7rPoB+lb5TfmN+ZH6F/wi/Yr+1f+hAF0BWwHgAIQA4P9X/wn/V/6x/Qf9lvxA/Ej8GPyA/IT9k/6oADEDlQX3ByAJ4wmvCn8KdwnvB/wF0gPlAGf+Dfw++gr56/cS+Pz4Hfpw+5r8hP2E/or/UwCaANEAyQA3AKP/7/4l/uD9UP2w/Ev85/tH/P/87P0t/0YA7wFfBLcGwgi8CdsJ3QkiCTkIhwZMBEcCFwAV/jT8Pfpy+S75Bfmw+bD6T/xO/fj9pv4p/8L/MABdAPj/OP/V/kD+5f2U/Ub9Y/2O/QH++v0R/l/+Bv8PAHwBswNzBWgH9AgVCjYKsgnECHAHjQW1AgsAqf2++2L6lPle+Wn5b/mX+Q76t/qS+9/8FP4d/xYA4wCgAY4B2wAXAGX/rv4z/sT90v3i/f39nP47/9z/pQDBAa0DSgWdBnkH1QddCCcIewdzBtwEPAP2AD/+7/vX+Yn4mPdz90D4XPnq+mP88v0a/+z/YQDPACkBCgG6AD4A1/96/+j+ov6C/lT+Wv4m/mj+uP7s/qP/5AC5AhIFlAYLCMIIsghWCDwH2QUeBB4C1/+x/eL7SfrY+P73I/iv+G/5oPo9/Dn+3//SALgBZwKXAikCQgHQAC8Adv/A/iH+0P1q/UL9ef3j/V3+2P6Q/6EAQQIxBMAFZgcwCGgI8AerBn0FngOiAXf/Zf3V+0H6TPn8+C/51vma+sX7IP1j/mX/VABbAf8BbgJZAkECDQJFAWEAa/+B/tz9YP0Q/SD9Zf25/U/+E/9CAAsC/APCBRsHxQfjB0oHRAb2BH8DCwIMAED+k/zp+qP5zPjN+F/5N/qq+0H9xP4MAPsAxQEKAvABoAFEAd0AOQBu/9D+d/5Q/jT+G/71/fz95P3v/T7+Af9DAHUC6AQWB48IzAhnCGwHBwZnBIcCyQC3/tj8GPus+cb4fvjE+MT59fp2/AP+f//nANEBaALCAtoCkQLqARwBOABH/0D+jf0j/Rj9VP2g/d39O/6U/jP/7/8RAfUCSgWMB+II7AgWCI4G7AQAAwIBLP9M/bf7DPqj+ND3y/e7+Cf62vvX/dH/hwGVAjYDnwOkAw8DGwIYASwAMP81/mP9Ov1I/Yr9zf1U/rL+2v73/jv/6v85AVUD8QVaCKIJqgmhCN8G5wRvAtz/k/2V++j5Zfg/9+b2dPes+FX6ZfzO/gwBxgIABK8EwgRPBEgDAgKvADL/9v0n/aL8kfzJ/Fv9O/7r/nn/0v/v/ycA6wDAAlUF5Qd6CaIJkgjOBsoEeAIiAO394vsm+nr4EPc79jz2Uvdj+SX8A/+2AdsDYAVEBkoGnwVhBNgCAgHv/i795/tM+0D7f/v4+8b8zv2+/o7/9f/s/9X/oQDbAiYGqAmIC3kLowkTB5IE+gFV/4/8D/r/91b2IvWT9Hn1yfce+6/+ywF4BIUGAgh+CBYI5QYJBdACDAA9/e76rflx+a75Mfrv+gb8XP3G/t3/YABOAFoAkwF2BLYIWgyLDecLpQgyBX8C4P8Y/Qr6F/fP9FHz/vIb9P729PoR/4oCCwUTB8AI4wnqCbMIhQa7A4wAIf0y+nn4APgW+FD4o/iR+T37lf3G/0YBuQF2ARUC7wSdCVgOchCxDnUKzQVvAiIAn/1J+lP24PLV8KXwevIU9tj6f/8LA2gFWQelCeQLugw6C50HTQOL/4b8Hfoe+Lb2sPV39UP2T/g1+yH+YwCgAQcC0QHpAeUDUgjUDYwRXxA5C3UFOAKIATIASfx89mXxde9T8DXz3/bp+q3+pAEfBMcGGgr9DJQNGAuABvcB5f6//LL6UfhI9jb1gfUh96P5fvzK/hkAuAD8AD0BvAGHA80HoA0REv4R7gzuBnwD1wKGAYn8QPU9787tJvDl82b3ZPq1/SYBjQQQCHULCA7aDTMK3wRiAAL+sPyG+j33M/RE89r0/vcK+yD9Ev7K/v7/aQFiAo4CSQP7Bn0NRhMiFOgO7QfaA/sCtgE6/Gz0e+447fTvn/Mv9876tP4+AgUF8weOC1IO7g1gCSwD2v5n/cj8kfr59j/0Y/Q196r67Pyl/bL9HP5Z/8IAggFOAbABqwV2DXUUrhVuD9cGlAKXAv0B3/uH8qLs0OzV8GT0bfeE+0oAqQNZBfEHpwy9D0YNPAYCAFH+hf6z/F74rvSj9Dr3LPoy/PT8Rv2E/Un+7v9EATMB6f9///MDNQ3UFS8X2Q/ZBtADmAW5BFL8QfES7H/tIfGc86j23/tzAMIC3wSmCRsPdQ/DCR4DNgAjAB7+YPkt9Rf0+PWP+Aj7wvwW/bn8af2b//YBwwFw/2z9of6EBRIQVBdYFnQNDAbnBREIkgR2+aLub+vs7XbxAvRw9z/8r/96AjkHQw3+D1kMZQZnA9AC9wDy++L2FfXE9Zz30Pn5+/b8Ofw+/L3+rwEoAjf/Ufxq/AMAXwj7EYoWwxIyCsoG/Qk5Ct0BQ/S/7KXts/DU8nH0t/et+/X+fgRFC8IOdAwTB/UERgVHA8L9wfeb9S728PZ4+Mj6p/xi/On7aP7rAXUC1//r/On85P47A2sM0xQsFnAP5QfUCFkM4QfQ+/zvb+3j70PxrfLa9Er4tfuuAAIJaw5IDX0IKgYKCNoGkAAr+XH1wfVC9hP31/g4+vb6pPt3/vYBXwJPAGX+2f2X/oz/SARvDnUU5xL3C7cIiwzOC30Co/YD8NvwMvGY8HnyXfV2+Qn+yQRICzcM9AmuCKcJMAmBA7b86/dQ9pX2qPZb9xr4j/kB/Dr+GQD8APUAswD7//b+xv6c/34GtxDNE6gPnwlpCmcOMQkz/ij0dPD58BfwffAs8l/04PluAQ8IWAqCCXAKFgxYC+UGbwDX+y352vfd9pT16PUt+L37bP4K/2H/qAAEAhYCHQBe/kb+lQEgDDoTkBAzC4YJ0Q3sDagDDflR8sLxZfJ38MbvoPBA9Q/+RgRYBrEGVQk7DSkNYgnhA7b+Ifxa+in46/R98z32yfkr/AH9fP2v/zoCegN5AmMAyP99AKEG8g8DEOgLugkRDMwObgl1/xP3LPOV9G/zCPDm7irx9vgrAP8COASBBlgL6Q3nC6sHUQJ7/939bPu592L0mvSO9+/5NPs9/PX9lgDIAh0DBwLzAIcBYAPACocPOwxDCrYJPgvZChwE9vyX9u/11fWo8ubwCfEM9CH66P1eAMUByAXdCQIL0wmLBiADSQGJ/zv9Xfkr93H3DfmV+vL7G/2J/gEBQwOHAzIDwQLiAt4CCgexCUMJcwg2ByIHZQfYBNMAd/t0+S/4ifZj9eT0rfXk+EP7dP2Y/zcDTwVPBmMGUwUUA9oB6wCT/yr9u/uB+1H8+fyI/dn9c/7A/0cBgQHIAIwAPwGFAQgC5AKuA5gDowMaBAAFjgXUBHYCZgBC/9v+yP1P/Nz6MPq3+iX8C/14/Sf+av+dADwBNQFHAWwBQQGEABUA7P+U/y//E/8Q///+D//J/nX+wv6a/w0A9/9mAHkBdgIeA2cD5wPkBGsFuwQ0A+QByADE/6n+P/1U+zb6qvrP+078DvxJ/JD9Mf8zAIQA3ACwATkCPQI2AngBzwCPAIoAPADN/1//0/5k/sH+iv/e/7T/zP86AKkARQHxAXQC2wIyA+oCjwJEAgsCjAHbAM//oP7Q/bn9u/1W/cn8t/w8/Wn9Vv3C/bb+yP+NAB0BcAGfAbABjwFkAVAB3QAHADr/If95/2n/0P5V/nn+Gf+y/0YAlQCGAMUAXgGzAaIBjwHdASgCKALoAboBWAHKADcAmv/z/jH+a/0S/Qf9Gv15/Rr+vv41/7r/pwBeAXYBWgGHAU8BhwDV/9L/0f9r/8v+Zv5p/vv+EADFAFQAq//h/4EAlwA9AAMARwDTAC0BagGSAbUBzwHrAbgBCgEKAA7/VP4Z/vv90/3v/UX+xP59/2UA7QDUALIAxwDXAI8AaABvAGgANQD8/8r/vf/a/+X/Wf+p/oD+5/5T/0b/IP8S/z7/rf8oAJYAuQC/AAcBnwG5ATYBfADl/6v/sf/J/8f/pP+7/zQA0AAcAf8AoABBAAgADQDr/3j/T/+G/7H/ef9z//X/PgAYANr/nv9w/2b/rv+5/yr/l/6x/m7/9//W/7//GABzAIsAiwBVALD/LP92//7/PwA1AF4A6QChARACFgLjAaIBNQHYAHcA3P87/w7/Cv/e/rH+Cv9//7X/m/9k/zv/Qf+R/9H/tP9q/3L/6/9BABIA4f8DAFsAjQBzAEAAwv8u///+I/80/y3/av/r/4UA9AA1AXkBygG6AVcBBgHJAH8ADADH/5X/UP8//3X/pv+v/7D/ov+J/6f/7f8uACUA9//x/9P/kP9Y/37/u/+u/6D/1f/s/9H/uv+s/5f/r//j/wkAEwBYAJMArgC8AL4AmAB+AJgAiwBXAEoAQAAoAOv/2P/c/9H/nP+D/23/c/97/6f/1P/N/7r/x//H/7T/s//u/////v8mACAA9//Z/+j/uv+N/5r/yv8LAFgAZgBDAEAAnQDZAKcAYAA6AFEAeACfAH0AQQATAAMA9f/T/5P/Wf9H/0n/ZP+s//H/HwBIAFMAVQBKAFAANQACANz/uv+l/8X/zf+L/zH/Pf+R/+P/8f/q//X/KwA4ADAAVgBNACQA5P8IAFEAggBuAEEAJwAmADQAYwCNAFsAe/87/07//AH9AZkBif05/Ub9dAFwAcUAJf0q/Y3+/AHPAswBKv8Y/jf/RgFdAnsBif8h/nH+EQBIAV8BTv+y/c79QQBXAuACCwH1/nH+i/87AUMBAQAn/gD+LP8vAY4BqwAf/9v+xv/qAP0ANwAf//v+bP9lAIwAQwBg/zX/Zf9NAJEAjgACAMv/7/9UAHAAKADP/5P/CADMAH4BFAGm//X+lP4pAAAA8f9m/tH+PP/wAEABRwGQAEQASQB5AIIAEgCB/xj/Mv/y/yoAOQCW/6P/vf9WAFYATgD9/+D/3//+/ycAAgD5/4f/f/9Z/7f/w//5/7b/iv+g/xEAogDmABcBSgHOAUoCgwKaAkoCzQHdAOn/qv6E/b/8kfzZ/Ob87fze/EH9kP3R/bb9HP7s/uj/OwDq/1L/bv8mAGYA+P+b/1AAzwQXCusN5g3oC/gHfAWZApn9w/cu8lPvFfDx9LL4HP2/AIsEWgdfCZEIqwUuAwIACv4n/Iz6j/gH+Lz3dfgd+yP+2gCUAkIDeAInAnABGgE1CTIPeRT/E7cOnwYrAh39P/Z08m7sSuu97UP1TPs0AlQHhAlRDNIMIgsKBjEBV/oE9zj2sPao+Kr62ftN/Ov9e/53ABoBZgAC/tv8Pfx++/T6IACHEPYYmyLVHK4RdQdM/vL1ZOyI6evifebp7j/6SwTfDYcSRhDoD/ELRwZMAGD5V/F675Tyifdi/RQBvQHFASECRACs/3z9Ufqd93j2yPdk+ez7MP6+EEgcvifuJU8YjQnf+qnye+dk5vbi7+To7i775gjXEZkYdBQfD0IJ6QAo+mH0Qu+G7Dfy7fgnAIQFwQU4BCkCZv9r/PT62fdV9cr18/Z/+yEAKQKWCPsbbiNbKX0gJwyC+wDu4ub64cDmheh97tX7sQg8E9kZehpgD8cFofyA9PPxQ/Ho7zbxCvr9AGgHVwpGBxoCAP5t+fb1wvbg9er11Pc7+7cANwakBuoIghrDH7YkERx4BwP2HemP5Yrj7uy28ZD1NgHyCtcS+RZAFuAIGP0d9b3vMvOd+Nj6vfpYAGwEHwhZCt0EZP0K9+rz4PK09WL47/lb/UIAEQSYBwQIigIPClQWKxxCH50RF/4T7o7oJOez7HX21Pd0/BQEUws0EMkSeQ5b/772j/FF8nv5vv5y/sD84QAvBEcHrQY9/3j3BvQR9Qz33vqO/Hn8zP62ADADpwW7BEr+3gfQF80fTSI6FA3/Cu7257/n1Oy49p34qPx/A0gMvBBBEEULAfw683zxKfQA+3f/BQA6/voB9QZECHAGkv7Q9YLxwPNb+MD6ffyV/MT+6gCKA5QEUAOp/kP9BhAgHaIlhSBpCyb35ufV5yXpifDw9t330P6wBmAQ6RGCDuQDMfaM8SzzXvmQ/e//Vf7x/TgEyQjMCPcCwPr19Bj0Jfh2+u/5ovmW+sX9GgHWBN8GmgRr/t8AIBULIrgniBxkBPDvjePR5SjoQfBj9i36ugIRC58S0hDMC9UAZPQT8uz0IPsL/7EBFgBV/3EFTQg4BmgAXPnN9Fn0tvf9+Of44fq4/U4BKAWGBrMFWwF8+h4CIhgjJA8lBhYC/ybs+eMp57rqofIn+BD8SwMYDP0SYg+ZCbv+V/Nf8qj1lfpL/Y4AWgFpAt4IwgpTBqj+tPfX9MH18fje+bz4T/q1/usCvgU3BU8DJP9S+bH/pBdZJaImzhdRAQTvjeQM6PDp4+9F9rr7IQTyDNoULxEDCTz+sPKJ8Jz0nfoE/nMASAOjBOoI7wrCBcb9jvbx9Hj2Sfim+aX4xvoXABAEMwZ0BI4Bif3H+FD9UhWhJdgn1hg6AvLwgOWA6CTrEO8m9PX5igRvDQoUtRAlB778HPMx8jX2evuF/kr/SQK7BAUJvgrsBd79//Yv9l333fdZ+P338PqPAB4FxwbaBRcC3f3++YD6axH9I8MoIxoFA33zzOaC6CHrd+1G8sP3eAQdDiAU5BEYCL797POG8Yz0sPgR/Kj97QKIB0wMXA5TCWAAiPe19Xz1v/Qr9Hn0G/qZAa4GZQciBrwCrP6b+zT58wvjILcoRxuQA6P00Oni6fnrOO4H80f3TAQqDyMU2BCJBif9A/RY8n31Uvr2/b//eQSBCLoLiQtaBr/9SPU29I30rvTB9Jv27/yKA8sHjwd6BO4Ar/zK+Sn3AAfXH5Uqph8ICD75DPC97CzrHeqi7ejxjQAEDoAUfhJFCCoA8vfw9Xb3N/lD+rP7ZAG1Br8KRgtBCF0BOvmr9vb1ZvWo86D0VvonAasFjgWcA6oBz/56/Nf5+gKRG5gqGSS7Cuz42vAm7mLqYOdB65LxYAA5DgQWtxMpCAoBFPrg96/2F/fl+An7cAFlB+EL1wuJCYEDrvvc9jv04PPg8Znywfd1/y4FBAbZBJIC4f/F/Cj5m/9mGKAoxiTTDHz6FPUl8gfsmeQw58jvHv/kDCAUJxKCCFIE2P8i/DL3h/Wc9y36EwAWBbkItAm3CYkFYv5r+FH0H/PO8a3yfval/psFSAbxBIMDAAJK/xz8RgCZF3EolCTkC0L6//ft9Znsj+Ha47LuuP69CtcQPRBRCpoIfwSP/m/27fMY9xH68/3qAdgGiAk1ChAG/P7H+PP0OfQG8uLx4vVc/YkDuwT2BL8EwQPjAEv8eQFhGVIp3yPWC5f84/o194zq+t1C4bTuAv+ICMwNPg/UDPIMuwcJ/+T0avNo+Az7wPum/VgERwrvCwAGCv5Y+KH1A/Vp8mvy8/Uw/VoC8wLkA00FKwWuAt7+6wXdGt0mkR6UB2D+hv61+ZTnidu94gbyzQD6BPsIoQx/DwsQEQmT/uj12/Z7+Qr58vby+w8FZwoICv8DAf/D+vT36vXl8p/ylPZt/FwAnQFGAuED3APYAor/XA+2IVEmCxXnAHAAgv8A9OXcM9g46KX4yABKAeYIxhCJFP0PyQXO+zn4q/pj+Lf0h/Q9/tYHOwktBckAQwBQ/tT5K/Qq8uj0Xflh/Bb90f53AvwEYgToAQkErhrEKcMlaA4OAmYHpwAA6VrT2tr57977U/qQ/E0KbxZTGOYL3gAY/LX+6Pyz8iXutPWrAxAIAQUJAmAEiAQO/0j53PSE9dj2zPhO+Pb43f2UAs8DPwIJAe0NGiTxKUQb7ghLCiwKQve32cHTX+b68+L1kfOnAukToxk4Ep0HswSGBEsBmPXI7NbvKPx/AmIB2QFKBQEIVQOT/Uz6n/hN9z31G/V89qT5yvxc/xsCEQR1BW8Y4id9JGQRyQm9EXgFCOlf1FTeKO0q7dvpvvT6C7IWxhPhDG8Nyg7UCQ39WfHZ8Nv0qPeo93v9bAQPBrED9gGPAg//aPnO9bL2U/cN9373j/ru/rkBXwHHCcMhGCm5HYYQIBW/FRP9kODZ2ofo2uhG4Ifjpfv1DEsNLgsyEfAYzBOqB0T8Dfj69YLx2+9m9bL+1gCN/3YC0QYrBj7/c/yP/TL8VfZa9Mf4S/sv+oD6P/6cDykjRSP5GGEW/R7nE9T3LOSP53Prgd+02Yjm0vwQAwkD/QqZFusYORHBC1EGb/8I91vxyvIx9mH3Evdf/IgD+wTLAUoAHwMuA0D+3Pgq+W/7Jvn79nv50PypC/EYxBdtFBwZ/SASEr/7yPKZ9W7udt3U3W/r6vSo8/L4xQjNEdAPmg2aEnAR/QXV/E37B/zF9rfyR/VM+m37z/ma/MYAGwF4/7H/bQIKAvH+sfzU/Xz++vvxBr8QhQ14Di4VSBveDXj/5v4x/SPzVuWN52bw3+/u7V3zMAFOBYAEWgpDEeoQ8gdFBQoGvgHy+vv4SPxU+w/4Yvnc/Wz+Nfv0/CUCcwTcAfv/nAEwAhsBbv9l//UB+ACqAZMFDAX6APH+CAOuA/j94fx7AegD6P8R/WT/QgGb/2T+9/9CALj+/v31/f/9tf43AEwBNwFtAL0AbAFeAMT9Efzw/Gn+9v6q/tP9Qv7Y/2gBBAHx/2sAHgEAAQYAc/9i/tz9Pf68/hv/EgAyAskCBwIMAmUEsQWLBMgDDQS1Ax0Cof/n/Tr+HP/y/g3+S/5+/zYA6v9C/n/8iPtf+0j87fz5/A39oP7GANIB6AHjATEChQF9APj/x//4/v78Ofyp/Tj/kf+w/2oAlgAwAUoCNwNEAzUDBASkBOYDMgJQAYMBngEMARsAPP+s/3kAkAAS/2L9z/wP/cL9T/7f/cH8wP1+/2j/Tf5W/iYAiQDz/hX/wAARAO39gf0M/37/7/5h/+D/cf+U/yQBaAHuAH8BmQJVA6kCGQKeAuEC6wI9A4MBawGzAd4BJgHH/jf+zf4y/2D//P5S/o7+y/4u/zj+mP0u/vH+Of95/Sz/QwBm/ob+NP+X/7b+8v1C/sL9N/1S/rL+2P+mAS0BCgNdA30BAAM/Aj4DowAxAz0FVAEjCGcDnAVpBE0BawTs/7b/LP6W+VP4hfhg98H3JfiY+xkAV/8BA2EFZgWkBuAE4gMzAgb/ivwV+qf3/PaL9eP2XvoH/Fb+MwH/AWsDTQVpBOoDFwQLFKsEFhDyDEYQEQ29AhsFjv2D+hf1nfH67NbwufDe8vT0iPm3AwIFcAqjDI0OmAyjCbYEGAK6/Gv4W/bZ8mTyI/LJ9Pf2jPqt/jYC8QMfBF8FdwTKABYL+hDuA3oUiQyeFJsKJQZUAxr7SPiV9H/vD+2H8NDvbPXt83T+vAIqB8sKORBwDVMMMQpJBbz/0Ppn+QTyKPLZ8Tjz9fP39x38jP+1AfQDBgVkAx4CvgOVFDYBWRW6DywSnA7ICPEKcPxK+FT3+/IT63jvLO7/9bbzsvtKACkFUwf7C28LSwvpCo8GzQLO/aX7gvbn9MPyQfO285T4NPnX/Gj/WwPzA24DBQMS/2oNhQgkB0cU2g+4FHIInw6HBYH9DfcZ9w/uYvBL7ufvc/UV95v+ogCxBvMH7ghlCWYMfAdZBRABS/6++wz4gPXh9Ij0zPUg+BD7YP55/5gCggLJAhQDBf86Cf0JSgN3FNQNmBM1CrsOrAav/Uf66PcS70PxmPAx8Ar1iPb4/4/9rwRZBqMH9wb2CMQGNAXXAfb+avwr+rX3d/aD9t/2Z/mL+xP/l/83AjMCCgNoAkX+cf9uDbz9vBPaC3sQjA97DAgLq/8z/lL6ivOM7zL0fO+V9BL1F/vl/MQADwSSBOsGeAcPB3kFRAXoADwAVf1W+l33wfcN9yT49flz+639OwF0Ad0BgwIfAcv9uQo6AA8JnhBjC0oRQQqgD+cBygBb/HD2vfEI9XnvivM59nf2MfoL/tQC4gGMBicGmAf8BZQFNgEZAYr/EPxD+TD5dveg+CT6/Pm6/HsA0wCoAEoCaAHZ/4sIbQZkA5kS9ggLETYLbw4lBIADJv+Z+Jf1Ivf58LryT/bQ9GH5VPyCAHj/XwXEBL0GjQbpBdIBpwLz/179E/uA+ob39Pj1+gj6Ufwe/4AARgCjAnABowCPAY0Lqf4bEkUJzg4TDagOSAcTBhEBdPsG9/73fPGw8eT1n/NP99D6d/4C/z8EUANIBc8HFQfwAooEFQHw/nj9xPsg+DT5RPq/+d77Yv6R/nL/GAL3AJsAzP5fCCz9xwz6CzgKzQ6ODAsK5gVrBDn+q/kM+RP24fL+9pTzkfV5+kf8Cvz9AbsBHAJ2BhIHFQOEBJwCYP8l/zH9R/qI+s/6VPqU+9b+Mf7u/70B4QAHAW0AHwGOBMsAwAwoB6QKoQvfCiYG1Ad8Alz/ufs9+sb2t/eB9f/00/gl+3D6T/4TAHUA7ANGBdgDfwRJAyUB2ABc/9j8qPwd/Kj7Af0Y/pv+sP+nAL0A2gBRALn/KAA2AN4AewW4BA0HfQiCB2AH4QagA2IBw//j/DP75/rv+Cj4UftK+an5B/w+/Vj/7QGkAeEC8gM4A68C7QGK/8D+v/1R/Er8Iv0Z/aT9If6y/r7/xf+r/13/mf8TAPj/igIbBNAF8AZTCEcIgAj8BvoEqgJEAQ//OvxS+rj5nfgJ9/P3C/rZ+y7+8P8VAt4C4gOLA3wCAwKxAG//Nf60/SP9x/y4/HD8av0B/r3+XP+//pH+ev5d/0YAswHjA98FUAi3CNoIJgnhB3UFmgMAAij+FPuh+pX4nPdt98z4cvqz/Kv+8QByAo8DtgNTA6ICtQFBAE7/Vv7H/In8nvwl/Nf8VP0k/v7+G/9r/uX+U/+R/1v/ZQH7Az8GfAeiB+MJfwl0B48GIAQCAaH+1PuA+rL4KvcK+J/4R/oR/C7+0QDXAfMCNgOcA0YCFQE7APT+Nf6b/V39Bv32/Pr8Ef7e/hT+I/63/jD/jP9X/tP+OwErBHEGPwc3CX0K1wkbCTIGagRgAdn+b/x3+s/4z/cC+Lj40vky/Cf+NACpAa4C/gKBAmkB2QD4/9X+vf16/af8ivya/Aj9WP1P/uv9Uf7+/qj+B/4S/gwARAJ4BBsGggi/CY8KyAmZCOIG6ARqAdP+mPyx+an46fcv+Lb3bPll/I3+iACcAlMDagPCAgQCPAGb/0L/j/6H/YH8wfxa/Jb88PxP/X39PP6P/gX/7/5l/53/AwE4A9kFNQdvCOsJxQkXCVUHLwRnAtj/q/zW+av4ifg/+GT4MPrx+0P+uQC/AXECDQPbAioC3wGHANX/Z/9J/gb9GfxN/Ff8LfxU/Hj98f01/rb+5f4K/2T+IP+EAt8FxAfNCVIL8AqiCsAIhwVVA4j/Ovxg+zb53/eg93b4Bvpx+9P+Uv98AFwCsAIHAvUBSAFEAKb/Y//m/ar8W/wr/M37Pvy4/Nj8Zv2F/pD+Dv/V/iP/KwFBBFwGwQd1CU4JUwptCWUHOAUqA6X/Bv7w+/H59Pho+NT4fPnq+wP+Bv8PAUQCFQKOAiUCLQG2AEwAev9o/pf9S/1b/FD8EvxQ/On8b/2u/SH+pv6B/qv/BwGhAgoFgAZcB+MICgrmCGoIBAbSA3oBJ//e/PH6MflS+AD5Uvk7+5P8QP5aABYB1QEtAu0BywF5AfIAw/8P/zP+bf2x/P77t/sW/Mr8Jf1s/QX+s/4f/7n+QwAyAukE5gZLCBwKZQrCCSsJTAeABBwC+v6B/Lb6ZPli+NL31/g++qv7bP1S/0sAUwHKATAC1gGPAdwARwBO/3D+Vv2//DL8BPxK/P77l/xD/Zn9IP4y/17/LQGKA5EErQZtCBwJjgkmCY8IDQckBIABUv8b/bz7mPmF+O/4gPke+gj82/1k/8YA3wG1ArECWAL1AWwBaABa/y7+vfx//Ev8mPsV/KD83/yH/Sn+9P6e/6EADgDFAEgCsgTwBnQIiQj3CQwJcwidBQkDRACh/fL6Dvlp+FD3k/j2+LX63Pwj/wgBAwM+A9cD4gOYAjgCNwEM/yb+OP2H+9n7KPtm+3P8qvzk/An+/v0P/2D/hf9S/4gEIQI6CZcIGApoC2UKPwfzBooCyf72/MP4UfhI97r2FvfA+cf5Zv18AP0BSgQTBtoElgV/BDwC+wCr/4D9m/uC+sH5/Pmw+iP7k/s4/Yf9tf78/rX/MQAfANQDywXJA1INlgkbCsQMNAgdBskFQQDQ/O37yvcd96b2KvdC92z7vfuW/1wCDgQ6Ba8GxQQxBFUDKgEJ/9/9ivtN+mT6O/nm+fX6Ifzh/Pz+H//R/ycAWgD9/lj+HwZk/ogLwQh4ClsNIQ0+Bi4HrAFi/Pb4h/jw8z31YfeI9u75fP2D/mcCNwUgBkkGWQdsBQkDfAKI/u/81vvS+Yz4zvm/+ET69PtV/U79RADl/2b/XAAv/+n9twhP/p8ObArLC2cOpQ1UBRAG5AC8+iv2ZPgO8l30yffI9mj6K/82/+wCQwWrBtIEiwePBLoB6wH2/dj7mPsL+pP4jfos+pP6WPz+/ZL9eP9i/83+jv9d/pwE4gi3AaESEArNDM4OggvVBJ4FFf+t98r2y/Yw8Mb0Bfj69fr86wA0AagEHAnnBd4GyAflAicBtQBg+6L6KvqM+AL4UPob+oD7FP58/lD+xQDv/lT/9P9a/WIIzf8dCWgR/QrYD2oQ3Ac6BNYB3PtP8yb3P/Pc7yf2S/iF97z/qwHLA1QGrgomBpwHNAc+ARYAS/50+Ur58fh49z34SftO+2/94P+2/9j/IAGd/2D/3/4S/1kKePwTEjMNLg0pEZkP8QT7Be7/y/dB8nj2B+7k8E/3xvaH+rICuAI3BR8KbwgwBpgHNQQL/wz/e/sW+OL48fcj91f5Cvsd+w3+Xf8A/0cB1/8q/+r/N/1zCHUHugXcFTILCw53ESII4gPfA9j70fMt9TH06e2E9ZL4V/elALkDmwR6CBIM2Qa4B3QGowCc/vn9UPhk+Gj4mvY894f6Ofpd/Ob+P//i/5wBrf8aALcApfyXDBT8oQ7rECUKVhBHELwBkwW2/n/3c/Kn9U7vAvBV98n3M/rABFwDEgYlC6wJUAaqCKMDTP/a/lH7mvcr+HL3QvbC+Aj7JvtB/u3/YP+LAAIBnv/kAAr/ef7GDK/41xMjDgwMOhK5ELQCXggY/f32MfJy9I7s/+9U9jz2uPr7BOgClQfPC88IsQdGCWoDBgCQ/2b6M/fX9wL2NPUJ+cX5O/s6/0D/yADaAG0AUAD1/1/+sv34C7X3ghOuDdcL7BJpEa4CRQp7/Y737/MU9FHsMvCb9Dz1VPm2A8UBdgc8DCwJNAmZCvsDtwHO/2j67vct9/f1mPWu9834KvsT/Tn+jgCHAOYAlQC9AKgAxfrDDi/7CxDiEWcKYBEAEz//swmO/q71zPME9NHrae/M8sD0s/fCAtgB/QZJDf0KIAoxDYwETwQQARr7JPnI98/0xvUx9rv3TPnn+639e/+cAOsBDgFcAUsD+/zcDBgDogxkFsUJXRAGFqcB3QgSBKT2dfay9e3t0PDc8SnzMfUo/tL9bwNXCfkJQwmmDvMGSQdZBIn+3fsP+qr1AfY69Xn1HvfM+Vz78v3O/wUBMwFOAjUDQP8MBLAMmvvnFjkJjgoCFLEKYQPxDbX54fqz913yc+5q8hDxBPQy+Hb+0v5PB30ItwmcDM8KUQiICBACg/4o/D331PWo9UL0c/VG94X4xfrL/EP/kgD8ADEC5AG4AGkQMATdDBIWTAlNEIgV3QDdCesDqvbw+W72JO478/LvpfIf9Pf6AfzIAdMFngiOCZANIQrLCkkHqwIL/yH8Lfe89lH0KfQh9ff2lPi4+2P9e/8VAHsC/wLRAbECugzA+J4U2gz7C2kTNA/7AQQOlPzF+sX4MPIx7Rjzuu2b85v1S/v4+4kDfwUlB1wLigsKCZAKigVsAj4A5/r0+MP2R/TC9Gf1RvaQ+Jz6//z2/jAAhAKVAsQBLg7ECf4J1BbjB88OrxMbA2wLjgUT+Vr85/eI7tDzde6B8DHyEPh4+YIAGwNqCOAHuAzqBzcLaQeZBJsBHP8g+Zj5MvU29Or0JPaj9R/6J/ti/Zn/VwE9AzoDUwPNDBYAaxW3C7ULaBNJDJsELg7V+3/8Ufh68Vnwne8G7rzxfPTi+LH8iQLgBUsHCgwCCv4KvwqOBgYEgAKG+9b6rvf69Av1PPWn9Sn4dPkM/NH9GwCcAlEDygEiDcr/kRHTECIMNBM6EW8Ecg60/1r91/kz9Jvw3PHW7qzxh/Pk9mv5NP8yAgoFawlDCiYK+Qu4B+0EfgRW/Rr8bPn/9Xz1d/XF9D33YviP+rz8s/7YADcDzgHzEKoHRg10FK8LUhBHE2sFRg5SBNz97PxW+BzxRPOA76jwDfLi9Un3JPwRAUMC6wZ7CbEIBgs6CZ0FogWCAMT9lvub+JH2+/bU9fP2uvii+RP8aP1k/xkC2gD4DlUHpgsNFHALHRCVE64Gow2IBYX+sf3i+Eny3/Pj72fxZ/Hz9Hr2/fnr/6sALgXKCPIHbwrPCQUGvQbMAVD/yPzC+RT4nvdc9s73pPjI+Uj8Lf12//YBkAEXDJUHGQqcEPMKcw0wEQcHWQtqBiP/Y//v+hT1T/Zr8uXyEPOg9Jr2bvji/fv+PgIlBoIGFwjeCB8GBQb0AkUAvf59++j5dfnb96P4E/oQ+pL86f1//7YBBAKqBGYI/QQwC5EKAwnFDE4KsQYLCP4CYv9p/lr5dfjj9Vv1jfW+9Sn4KfnN+8r+FQByAgEFXQQGBg4F7QP4Ag0Bmv+P/Sz8QPzq+rj7evzF/G3+1f7N/8cBUgGQAloDfQKDAwEEuANsBG8EXAR0A48CywLL/7H/wv6p/Dz8Ifws+9P76vvN/BH9A/5a/7b/VQB5AY0BywExAvgBpQFeAecASAB//z3/L/8+/p7+gv44/gv/KP+Q/zUARACsAH8BywGtAQACHAKTAewAkQEGAIr/gP/J/hv+7P55/tn+Qv85ALr/HgAlARUAsQA6AQ4AsQCzADQArQBiAD0A7v+6/4b/Sv86/wn/7v74/mL/Dv+c//T/HQDn/wcBmwAOAZkBFwE2ASwBsQAJAOr/R//1/nX+DP9m/gv/F//K/zIAAwAAATsBfQB6AWQBWwBkAQQBdgD+AO4AHACzABMAdP8+//P+4/0x/h7+q/0Z/oz+a/5r/7T/SwCZAGIBUgGFAVsBPQFAAD4ASv+G/nn+Hv7U/RH/AP+Z/1UBsACrAZkCkwG5AVICyAAPASwBHwCvAIoAUADAABwAGwDK/zv/QP+K/qX+uf4m/gL/1P6w/goAu//u/1wBvgAuAZIBKwGyAJUAGAD+/vH+sf6s/aT+sv56/uz/GgAdAB8BXgGTAKkB7wBnAA0BbgAyAOQAPgAuAG4A9P/I/7v/mv/b/jH/Jv9r/iX/PP/C/ub/IAD0/zABNQFrAc8BoQH+ALcAPAA9/+n+zP4B/nL+uv6t/nv/LQBYAP8AdQE9AU0BegHPAOAAkAAyABcA5/+8/9L/j/+Y/3L/yf8+/zD/tP/B/jr/lv/2/of/IgBz/3EAgAB4ALkAvgBGAFgA8P+V/3//cP83/4//vP/g/zMArQCaAL8A1ACcADEATADW/7H/vf+j/7f/GQAEAEMAqwAHAL8AYgDQ/0UA0f8v/8f/LP9F/23/dP+Q/wQAIQCiAIQAzwCcAHMANgDL/4j/i/8D/0r/P/9T/8H/6/9XAI0AbgDdAG0ANgBdANj/lf8PAIz/2/9pABUAuQCnAMEAsQBTAD4A5/9S/4T/6P77/iL/1v5o/47/w/+LAGsAqADmAKwAmgBxAGEA7/8HANn/sP/T/97/jP/Y/8b/qf/q/9z/vf8hAN3/9v87ABUAGQB7AAkAbwARAAYALwCB/7b/vv8b/7H/af9Y//n/rv/u/2gALACbAMwAbgDjAKQAfACCAFwAAQACAOr/pf+n/xkAjf/0/xMAtf8kAB4Ar/8qALT/rf/a/6j/1P8IANr/JAAkABMAGgAqALX/qv/P/zL/cf+9/yP/u//Y/7D/VQBtAIoA7wDyABEB8wCpAJ0AKADk/7f/pv83/6b/i/9H//P/1/+b/2QAFADz/7AA9v9bADcACQBNABUAGwBKAOr/wv98/3z/ugHW/n0AM/xH/1MALgBkBAv/LATNABQA4QJc/OEAIf3W/i8D3wEL+bj8v/8HBFr8Kv4BA8cBSAA4A+UEAPhp9mkAaP7j+6sN5gAP+lkEffqJ+wMICwNW/+AJVwWK/PsEQwWZ+4z9igHaAuAGlwek+RkDsQFl+vUD/wX2/Tz9FQEE9lb8gv+YAekBUAUiAoMBjwL8A7cACvuP/AEB6/8yA04D7wa8BKIAU/gJ/gQBJP9VBUME9fyrBNIChAPoBvEBkQENAAn9/gSeAFb+zgl4AE8AUQnM/jT/cgRj/8ICOQLP+4v77/Ub/Yz66v5TBUL+ygC4BFkA6P9sA5T6jwQIAggANP2sBCT/xf8kBccEFwNoAn8DrAAZ/wT8fwDU/iwCigFcAA3/zQFuAGL9GQISApsA/QOLAP8EQANa/fT/KgDhAHUBTP7tBAz85wGzA74CjgRI/un8Sv8++yv7agLlBMMDuf6yB88Dxv4o/2r+AfkH+JsC/v0e+2L87f5d/TP9pP74A1z+dP5tArf+KP61/tf90/7a/iYBuAT+/X4AMfr//kkBnf4k/54CoP5pAHIAIAAGAXD+WgPoATwDsP5VALn/6PoZ/bsAEgdWBgsDogSCAIj+WwLF/3n/xgIb/W0CrQOf+28B+gENAzUCBv5P/zoDH/yy/GcAnAG/AXD+pf///iz/oQLZ/dgANQEQ/kn+EAIL/gADaQIJAXL/UQIkAY78YP+1+lL/FQLN/o4ESQV7/x0BKgGxAWj+Cf9WAeEBagGN/wj8uwLX/xz7kgIWAOz9WgAC/0D9IwGhAJX8NgAoAC7+3gCF/x7+NwDJAs774gEzAf77EAHuAAL+df8vAPoABALL/8cC7P87BCv7lP9RAen9jgFEAOQAYAEEAbQFUgA0AHoAoPk+AGMBmfzMAtsANQEnADD/g/8pAC0Arv5AAP8APP90AVP/+f9T/hgBXf8V/jgBI/+f/YMAkf+AAAQA3/+xAZD+FQElAOz/2QBH/6D+FwGRAVABKACzATX/6f4K/0H/oP/S/0n/m/8XAE4ARf/iAd8AXv9CAY4Awf+OAMj94/91/8D/s/9f/38AfgAm/lUAEgF3/vEBRwA9Acv+WP9L/xUACwDZAAYAhgHn/2QA4gC1/3gAiv30/gsBlv59AG0ABgAMAGL/RQFc/sUAJwDuALr/PABQAKMBVgHB/zH//gFR/tcAx/5g/4UAo/8a/zgAeABY/6gAiP6DAH0BSv/WAOUAPwDk/77/nQCC/88Azf9pAOcAYQAJ/7UAGAEr/yoBdgDi/5wAWf9CAAMAOv/FAMH/EwAZAKgAdv4p/30ASf+L/xIA5f/b/43/iv8bAIYAFQDW/30ADgCM/2L/9v/eAJAAV/+PAAAADADN/2IAjP9yAJUAKwA6AEYAp/9EALr/9f+M/5kADAASAK3/KABP/4EA6P7p/0EB6P4SAPj/1//D//7/eP+uAD3/EgG4AIv/kAC1/9T/nwAxABEAXgDT/ykArP/0/6f/KABiAD0ABQD6/wIA3v/s/+//m/+2AJj/ZQBe/1sA0v8bAEwAxf4BADAADP9d/2v/n//C/8X/+f++//D/kP9LAO3/VAChALgAogB8AIgAqQHJACMBVAGJAUwB6gDcANAAsgDq/5b/Wv+5/hn+Yf16/WD9mfwR/U38uvw+/Yj9Jf5O/3P/3/9GAVEBxwG2ATICtgKGAroCNQM9BF0FqwUVB+MGyQb+BUYEHgINAIL8Ifo695D1NfTH8w70M/X79lL59Ps8/wgB8wPcBVYGDQZ2BYkEVQMFAikBVQXUAKMG1QT3BpUIOAl2CJEJtwaZAyUBYP4I+L/4RPOS8mPyMPGD8xn11/es+gv+XADIA5QEcAW6BcIENgNuAjUAxf/J/VX+PAHM/a8IEwUrCh0NAQtIDIgLLwkLBlEDLf/P+ZD46PJD8trx7O/78sT0sPYY+lb+b//IAvYEUwQVBjkFUwN3A0AAq//e/Xf8TwLE/A0BbQc5AmkMHws1C6wOfAvfCLMGwQNJ/K/8dvWw86ny0fCL8RPzYfSy90j6gP1HABkDvwTEBGwFxAQjA2YBMACs/tT8mPum/mf99/sLCJIBhwvLDJQLPA74DFoKsgZyBRn/Xfyr+Xv0avT+8mHxN/MX9TL2WPmj/VP+agL/A3ID3wT6AxAC0gHl/7j9df0d/O36yv8v+1EIeQO0CrANTwxcDecMNQtDBxsFbAGc+2X8wvXk9JD0ufG+8yP1l/aB+Vv9nv35AeECAQOfBH0D9QG5AWb/av5C/Xb8GPt3AnX9KwQSB8cDIQwjC4ALGA88C+gIpQapA+r6C/5s9qX0MvSr8pDzrvTd9on57ful/i0AWALGA9QDcQO8Ak8BEv+c/vf7T/xY/GD6qwTl/PoGOAYRCDMNGw3yC1wPhgt8B4MHfQPq+nH9yPUO9AP0nPEU8631fvaf+b79KP4TAukC5gILBM0CZQEWAWj+r/2E+4L7dPrl+TgDMf0jA14IGgQcDdEMjQy4D6sNrwniB+sDXfxM/an1G/SJ9AfyYPOD9Rz2evmH/J7+mwG7A8ID/wRDBDsCgwHV/u39n/vB+mr6TPqd+SX/J/pwCAsEUQtJDjQPIQ52D1wM1wcRByEDofvp/KL1MPSx8xPxWvNd9bL2+flj/j//HQPtA8UD0wSDA/YAqQH5/ez8hfyP+gP7bvpH/BT9jf5bCeACGA5/DjIOxBCPDkoLxgfMAzH+Mvuw+Bn0uvPQ8iPxbPSk9cf4jvtA/1kAPwMKBLcD7ANpAgcBIwA+/XX8HvuJ+nf6N/qK/xX+zf8LC+0ELg/sD3AOKxDfDaAKoQX7AX38u/gv9RPzfPLk8mTy8/SN9lH5MPzm/90B4gS0BHoElAQaAj4Aa/+W/KT78/qF+gH7YPuIANYAXQIYDeoElg95D9YN/g+5C4AHIAOg/+r5U/b69KDx7/Eq8xrzx/aT+AL8e/6kAisDpAU2BSIElwM7AVj/vP3t+3X7Dftd/IH+Q/9ZAgEGTALNDyoJ9A4JD7kK3AjiBZwAPvwI+Un2h/Eh9DHyA/My+PX2Hvzj/gsAkgNHBO4DyARVAhYB5f4R/Z36VvqJ+gj6vv5+AEEDwAyEBqAWIQ6wD7kSfAggCVQFlfyk/Or1DvQU8Bfywe7/8cr0ffeA+7MAEgEwBogFbQafBfQDgQHk/0n8RfqH+er3qfjc+5r9wgGNB3AJ3w2+EoMOkhKwEVUJNg1fAyv/ufsh8ybx9O+i7V3wI/J89fP4Gf2rAPMCHQa+BuYGygXlA3MBOf7D+2r82/VN+TX45/QTAO395wLGDyAJwBMMFCgQXBLlDSIIMgYd/qn5xPPB8pLspvCP78HwKvdG+LP8wAE2AikGNwaXBr0FDARrAZP+rfs1+YL2Nv7l847/9/2kACIJ8AgxCjIUCA71ElcR8Q04CNMGC/0K+rf1kvDH7xfx0e7w84H2Xfiw/5UAuARkBj0H/wUfBgYCqAGU/eL70vj89+r2mfUX/+73BQNWA1kFEQ8oDqQNORbrDEgONQ0/B2EAfQC79gz1vvLw7Z/wovL58fn49/v7/eMEtwMeB/oG0AUqBLwCpf6M/dX5Jvnn9ij4BfdK+MoAFv5pAfoMJwSwD10PfgwBE8ANLwpzCTwDxPxz+lX16fGW8mDyfvEu9+j1N/uQ/isABwVIBisGJQeoBHMC9QBD/Y37LPk/+Xb3NPhL+ar6lPliBlkAWQmjDosJ0xIGElQL2hKFCU4GxAPf/pf2gflu8VTwJvK/8fLyofoh+VYAUgMlA8AHjAakBrEF0wOt/5v+Ovrv+AX32fdA9uv4+vl7/Bb9xwN0BmkDQRNDCI0QrhP7CwkQ5wy6BJcDyvxK9g/0sPEW78LwKvXA8oL7Y/wZ/20F9gTWBqsJLwXXBUYDI/7N/eX5pvd79+z2Tvep+Lb6/fxR/7b+qQqgBdIJGRN+CA4SeRLCBzMQtAVxADEA+vkG8lD11e/x79XyvvZ89qX/xv8UA1AIrgaRCOQI4gR5A1wBUvuH+7X3R/ZA9j33aPfn+ZD7XP4vAC4AkA1vBBgLVxSwB/oR8hHABZ8OgANi/SL9Ffdj747z0O848VH1xvqJ+iEEswPxBdsJSQcCCIMHFgMRAdL+o/mH+Kv2LPUW9fn3wffN+or96P4oAV8BYwuQCP8F3xZpCG0PWxN/BVwKngVm+wj6RvdI8FHxk/Kz8zr1x/5L/JwEGAepBmAJswjJBbIFCAIG/7T8lvm59ij2lvVQ9WX3BvnO+mb9ff/oAB8CwAP/DN/+wRZrDKgMFxbcCsYFMgqe+Rr5avYP8SDwcvMh9Tv1AP/u/zYChQjSBzEHywnyBFkEsAGA/kP7R/qN9vT1tfUp9k/26vnW+ir9/f6aARIC+QCzDh8HDwnWFvIIbA/TEvICggdvART4oPZK9hPwC/O79cT3kvnJA5oC9AY/CpEI7gZ2By8DlgB4/mv7vviM9wT2B/UG9nL2NPi7+qP8XP45APUBrALBABwQCwHBEGsTxAoFEU0R8//GBYD8r/Y28/n1IfHb9DP5A/vX/C4GSgTEBvMJnQe0BPAEMgGe/Sj8K/qd9//2yPYU9Rn3T/g7+Yz78P3y/jQB2QLyATcDExLw/0IW7RC8CrcR6wtO/wkEAPkm9OLyMvQY8mX2P/w+/q0A1QdmBusGKglNBSICygH//ZH6fPrY+Bb3zvax96r1P/it+VX6nPzP/4X/WAHvAjUBDQzbD+4FqRpuEAoL1BAhBUj8mP5x9uHxAfRL9Xz1zvgHAOb/QQMHCJkG1AWTByQDHAG2/wT9c/ke+pr53/ZJ9/j37/Wz+Hz5WvtW/cf/0gDLAhYERAFSETAKEAoYGIUPiQkRD10BufmD+k71mfBK9Cv4tPjj+3kCUAIiA9AGrwWXAnAEOwEA/zH+Nf0p+gn7zPpC+Cf4OPmL91351/qL/HD9mQCPAcMCtgKmAEAUDwWFDvsWRgzLCHQL3fug+aP3p/To8Kz16/on/B7+7QZpBJ0E3wZWBcgBPQKI/zb+hf1m/BX7JPtx+h34mfdx+In3efhO+/j8Bv0hAW0CFwH6AegLKRUSBPYXbhSLCPQHuQQy9sT3WvUB9CH0QvrD/qn/SQK9BpYDFwTqAwwC1wDv/6D+Gv+d/Lb8NPxd+3359vf49lD4oPY6+I786fzC/jgDOwJTAsYBAxm+BgEOzBddDc4DNwYe+0D1Uvbf9av1Pfg7/xkBLgKwBPsFbgPPAuYBGQGDAGv+Vf+b/hL8tvw4/Mn5f/jO95v2f/fJ92v6zv2R/jkBPwPMAtIB3w2ZGPUFFxVoFe8HGQFkAjL0vfXl9EP3+Pik+5kA6QQUAfkD8QPYARoAeABoAfP+vP28AA7+5vvH/H77svg798P2SfcG9z/4n/wn/rL/QQI9A/MASQGTGWsJGQyAFp0OtwKpAUX78PY79uf2Fvvj+8X+OgNrAx4CegHYAioB1v5XAXYBBv6J/10A2fyJ/B78vPrO9271zPbr9lb23/pz/kb+JgKaAiACrwBJEzQTMQilFO0Sagff/Vn+6PZi9fz0Hfpm/Av+OACgBEgCJwATAhwCaP/Y/94B5wA0/hQAA/9X/PD6+/r1+A/14/VX+Pz3P/kc/8//pgBLA8UBjgBsCQMbHwi4D8kUXwsz/539ffio+Bv28/dA/3r/zP7xAtAD1QAFABECmgAEAL0BWQBr/rP/Ov7k/Bf7Qvqr+er10vTl91P44/ip/kcAOwEmA74BQwGsAZsZEA36CvYTfg4UA4n8qfkm+fP4zPUc/tkATf/E/9ICmAH8/eL/KgHhAJH/EAGC/3r+Df+F/eL7PPse+ov3YPWW9uP4X/lU/WL/5gCOAoIAT/9D/gIXBhJDCbYSAxCQB0L6hfnc+Gf6z/Vl/M0A5gFi/u8AfQKH/sz+AQEVAmgAyAD+AD8AsP+J/vf8ePun+gb3PfXl9GH3U/lK/CX/egBgAaIA5f8//aYUcRaACfkPeQ7GCO/56/dE+Nb89Pci+5YARwTP/tz+OgIyABP/cwBnAvYA6/+3/3X/xf9U/qz8HPy2+qH2+vRF9Fv3Svmi/P//CQFWAd0Bn//9+6MVsxauCakOIQ1KCNz5c/U6+Jz+Mfjw+h4BIgTs/gz+swGtACAATQDaAZ8Brf/9/mX/1/9v/u/8y/tz+qf2VPRR9fv3Fvrt/AUAzADmAPL/ef7s/K4VuRa2Cr4N3QyRCNj67vQy+FP/A/pO+kf/8gPC/0f9DQAEAgoB3/8NAV0CSv/3/sz/9/8g/xL9bvqA+v31NPSZ9Tb4Hvun/eP+CgKCASH+1f81AbwagRIHCmUMMQwiBJ/6NvRZ+qYB//rA+sr/TwTk/+L95f4vA+8CMf+IAV4Cr/4n/5n/x/6N/038D/ol+Yv2BvUO9ZX5+fvc/OT+8wEkAA//cf6PCHkeYA+9CgQMWgy4AfP5YvNe/GYBtPk9+nIAngLH/kL9Yf8PBIMDef/4ASIDav/s/gcA4f5e/nz79vmW9yX2BvYH9zn6yv1C/9f+6QBTAXD/0/yJF78VxQu2CmAJnwf8/9z0NfYFAQT+Fvs6++EBOAJ9/oH94gAUBLUCVf9dAXkBHf9N/9r+8/0I/WH5dfgA9zr19fXj+Fj7av6w/k7/CAHC/578nw7SGlkP3gtSCckJ6AFS+b/xDf3oAcP7wvpe/2sCBgDP/L7/7gMHBBIAVAC8AVUBpf5u/kr/NP7q+rb5P/YV9pD2NveJ+tH8uP6k/qz+vv/k/X8NKRr7D/4L5QciCTMC9/hJ8zT9owEr/477hP5nAsMB8fz9/MYCbARFADD/fgG6AUwArP7H/1P/4vql+Bn33fXV9tD2H/nF/SL99/2c/73+e/2dD9sX0RCnDDwFKwkSBOr49vHJ/foCkf88+zH+6gEnAaL+OP2FAPUFKATR/nX/VwJ7ARj/oPz3/v38dPhe9VL2i/Zs+Fn7cfsD/gMAZP8Z/tf+GhZ8FSsNOgiHBoYHRQFn9N/0JgFuAcP/lPrD/jQDuQH9+57+pwOlBakCfv+1AP4AvgC2/iz8Bv2u+zr3s/Sl9d/2a/ph/E78b/6lALgAQv0yDncXmxD1Cu4Cpgd/BVr69+8Q/E0EOQGs++T81AJ/A9f/af3D/1AEcQZPAAH9wf8aAur/bfsW+6L8Tvvr89jztvjN+cz7d/xT/x4ACQHg/IoObxaoDn8JdwIZBvUDnPoe8Wz5TAF8Ahf+FftpAZQFeQLx/FT/lQWXB9n/I/7kAJMBeAB4/Gn7wfwV+4j00vNH9g37KP2E+2/+5gGQANsC+hVAEisO2gaRAXUEHwF49LXy8fzSACAC+fsg/WcE7wTD/2D+DwJYBC4EtACc/9b/DQHy//39M/wV+qr3evWe9P326vpp/dL+CwCzARYAtA3KFRYRbgx5A1YEzQNk/Y3zb/ZB/Zv+Vv5B/Oz+awExA/0A8ADXAn0EwgNnAI3/wv+7/2L+2vyU+u34Tvb88iH19frH/E/9pP+jAmED7QpSEnIQkg+AB5MEBQPy/Sr57fbG+L/5QP2P/L778/4qAc0A0ADnAugDxgLmAa4AmgCv/2v9APyk/BL8z/oA+sn6b/zl/SMABwI4AdoAcwIkCFkJLgfjBacE4AP8AkwB8P1M/bv99fzo/Kb73fsG/QD9/v2U/w4B7QHjARACCQKgAlEDXgLs/9/+af/S/uT85Pow++H7s/ts+0X9gvwL/Nj94AEUA94DZgSLBdMHWwnOBwsFFgQMBB8C7f+z/V/8lvsP+9n73Psy/Tr+cf6R/wgAbwDYAeQAof/y/tr+HP+x/Zf7tPt9/Kn8XPwv/cD/ngFFA/4D7AOSBjgIxAiDB/cFCgS+AfEAi/90/kL8Rvvr++v7PPwv/JP88P2K/9D/pf/g/5v/igCH/8f9GP2P/NX8Xvwg+7v7pPwW/msBQQO9A3YEIgbzB3QI6QhtB78F+QOgAhsBcf7m+6v7RvzD+7L7ovxS/RT+Rf7t/s7/Uf9i/xz/4P4m/xT+yvyz/Eb9rvxx/AD8kfwJ/wYCcwOqBKQEOwb6CFwJhAc3BQgEKgP7ABL/hP7d/PH6Lfta/Br9Rvxu/Kn+8P8ZACH/dv+Z/4X/+f4z/rj9OP2+/Hv8g/x6/Pn8if7yAL8CcQNPBAwHrwiUCKwHtAZlBdYC+gAr/yj+kP0Y/Yz9R/3v/KT8bP05/kf+nv7v/tL+rf5m/oH9SvzC+xn85vyT/ND7aPx+/YD/gAFqAnYDAgVHB8UHLwiUB3MGFAXUAxQD3P8c/l/9av2E/ZT8I/1E/pz++f2O/ZP9/P3D/uv+Wv5k/Uf9C/0w/Kj7bvt+/O39Fv+KAWADTQT7BFMG9AdzCFsH5wUhBHkCsAFn/6/9ov5x/k79P/2K/bv9Pv7T/az+Zv8q/mf9vvy0/Nz8ovx0/M78UP0n/Z/8Ov1V/5ABxgNcBOUEyAZ/B+gGZQVDBJ4D5QKnAcj/iP28/Fn9o/28/hv/Xf7q/tT/MP92/r/94/3q/v39qvzK+/L7Ev1h/T/8gfyI/qcBQQM8AygEaAUlB6YHngYlBUYEKwKlAAQAtP7B/bL9Ev7T/an9kv0t/jf/kf8//8f+6/4Z/+P+m/0N/QL94/w1/FD7gPuN/On+bgCRAbEDEgWXBlIH1wbyBQgFmANTAo0BpAD8/kr9Lv2g/U7+ev48/n3+RP+D/63+MP4f/oj+lv68/QT9Z/1t/dz8o/zK/DD+nQDbAbgC5wMaBTsGTgfUBmwFQwSaAloBRwA2/xT+w/0T/mr+Iv4J/XT97v1B/h7++/1u/nb+uf1//Ef8RPxz/MD8A/3J/Zj/0gEfA8wDSQSEBXYGtgZSBpUEXgPDAgsClQBY/3f+0/0C/gP+kf16/dj9ZP7P/oH+rf1//aT9r/1e/Sj9YP1W/ef8pfxz/Vb/XQGlAoYDnQQ4BgQHRAdqBqEECQP+ARQBfv/f/SD95v3D/pn+HP6e/er9NP6r/TX9pP3+/cf9bf3z/J38jvzp/CH9lP1d/4UBzQLcA8MEFwYXB8EGmAUgBfYDYwIRAef/Xf+o/gj+AP42/sT9M/12/eb9PP4B/tn9AP7u/Tb9Z/wt/Jz8DP0J/cn9Wv8aAW8CtANFBLsFTQdVB74FaQStA9wCaAFv/w7/U/+7/pz9vfzo/GX9//xJ/In88fwB/c387fxW/ff9cv5P/kb+hf4I/xcAdQEMA3kEpAVrBrYGWwZ6BRgEwAKCAsYBTwDp/kT+Ev7O/c78Vfzs/Bb9mfy8++77F/3K/T/9tPw9/YD+1/5b/o3+CwBBAqIDKATRBOcFYQYTBloFsgSsA8YCywFbAO/+2v1T/Sf93Pwp/If7rPs4/Af8hPvU++r85P3x/bL9PP5X/zQADQApAGQBGANVBJgE9QQOBhgHsgabBY4E3AO7AhoBqP95/sH9FP1t/JP74fqy+gb7OPti+8X7dfws/Zv9Fv6M/hX/w/9mAEUBhgKCA1sE8QSTBScGlgY0BmkFPQTwAvIBEgHL/yP+6PwL/Iz7xfoM+tj5Ifqb+iH73vut/FT9v/1X/jT/BACZAEIBbgLgA8QEdAXHBZkGHQcjB0AGRQVxBE4D9gGPAEz/+/26/H77gfrj+ZX5UfmO+T/68vqU+2j8TP0E/sv+sP+eAGwB7AFYAgoDAQTgBGQF/gVcBpgGFwY6BV0EnQN3AoEAZv7i/Bf8A/u1+cv4zPh7+Sj6ovo8+zb8Wv1D/vf+2f/uAJ0BDAJqAi4DJwQ5BbcF4wVZBnAGJgZpBbUE2AOXAt8AWf8z/r/8J/ve+Sn5xfh++Hv4JPlE+k/7afyw/Q7/HQAZAQAC0wI3A3YD4QOkBHkFlAWVBf8FiQYmBvkE3QPtAuQBIwD2/UP8KPsK+s/42ve793v4ZPn1+cf6I/zI/UP/ZABQAWECVwPNA9wD/AOABCwFjgVtBVAFbwVNBZ4EowOwAs4BhQAY/5r9PPzn+sX5FPnM+PL4Lfm7+az64fsw/XL+q//pAPwBuQJZA/8DpAQrBWQFegU9BRcF7gS8BBMEBgPiAeYAxv9P/uH8yvvW+in6p/mG+Z35BfqX+nb7Z/yH/bD+4v/5AO4BuAKKA0UEpgTGBMoE4wToBMsEZQTkA2ID2gL/AdUAxf+9/rf94fw8/Jf7FvvR+vj6S/uQ++z7vvy+/Yf+Jf/l/+sAugFPApQCGQOVA88D5wP7AxIE6AN1A/sCYQJrAWAAT/+O/sj94Pwo/MX71vva++37O/zd/Hn9/P2H/hj/wv9kAAkBkAH9AVkCwgI3A4UDewNqA4IDiAMxA28CtwEQAWUAlv++/hP+ov1n/Tn9If0J/Qf9IP1K/Y793f1U/tv+Uv/G/zIAxQA6AX8ByAEEAicCKAIjAiMC5QG7AYMBUwH4AJgAHQDr/6P/Ov/D/mj+Rv48/vz94/0A/jX+Vf6K/tP+KP+A/8r/9P9PAMUAIwFOAX8BuwEJAhgCFAIEAucBuwFsAfgAngBSAPT/qP9j/yb/Cv/Q/qz+p/5z/lT+Q/5U/oT+pf68/vX+TP+h/+z/KwCAANsACgH7AAcBHAEYAfAA3wDpAPQA3QC7AJQAdABQAAUAqv9S/x3/5v7L/rz+wP7z/jP/Tf98/77/FABRAG4AcwB+AHcAWQBIADYAMgAjAD8AQwBXAGgAegB5AGcARQArABsAFAD0/+3/yv+9/6z/pP+h/7b/yP/V/+n/AQAgACoANwA9AC8AIwAbAB0AGwANAPf/9f/a/7//uv+l/4D/Yf9g/2f/gv+W/7n/8v8MACgALwBUAHQAhgCHAIgAhAB8AHEAVQBIAD8ALwAfAAcA9P/7/+H/xP+0/7H/mv+U/3//g/+Z/5b/rP/D/+j/DAAoADIARwBnAHYAegCHAI8AiABrAEMAIQAQAOb/2//s/+D/2//L/8P/uf+Y/47/lf+u/57/hP93/5H/p/+s/63/zP/a/+H/CAArAD8AWQCAAI0AlACeAKUAnwCBAG0ATQAkABQA9P/r/9X/1v/n/+v/1P/Z/9T/s/+p/7L/u//F/9D/yf/U/9L/4f/z/xUAIQAxAFAAVQBVAGEAbwBmADcAFADx/93/wP+9/8H/w/+4/7T/y//M/8X/0v/a/+P/2f/Z/9f/2P/s//D/7//+/xIAIAA1ADUAPQBHADcANQBCAEUAQgA4ADgAMgAsAAwA9P/k/9z/0v/N/8//0f/V/+D/2P/m/+j/BAAPABUAFgAdABYAFQAGAAQACADw//P////V/+X/3f/n/+H/AAD9//3/AAAAAAMAAgAAAO//5f/t//v/+P/4//z/CQAFABEAEAAYAA0ABQD+/wEABQD4//7/+f/1//P/3//u/+n/4f/o//z/BQAjACwAMgAtACoAHwAXAAUAAAD8//b//v/2//T/4//m//7/CgANACEAIAAlACkAIAAaABQA7v/l/9v/1//S/9j/6P/s//b//f/z/+P/4f/8//v/7//0//v/AgAEAAgA+//9//n/9P/w//H/7P/1//T/DwAVAC0AHQAmACEAGgAMAPP/5P/g/+T/6//8//7/CQAMAAMABwALAPT/8P8HAAMADAARABgAFAAUAAgA+f/v//D/BgAKABoALgAyAD8ALwAiAAcA7//m/+L/1v/W/8v/z//a/87/yv/U/87/xv/I/9r/4//f/9j/4f/p/wwAEwAFAAgAIgAkACsARABEADQAOgA5ADAANgA5ACQAIAAUAA8A+f/l/9n/2P/V/+X/4//n/+//8/8AAPX/5P/t/+b/0//e/+3/CgAnADcANwA5AC0AJwAjACIAFQALAAkA7f/a/9H/2v/h/9f/z//U/97/2f/V/9j/2v/J/8v/0//T/9j/6//1//r/DgAcACsAMgBMAFcAUQBEADkAMQAzACkAJQAqACEAFgAOAPz/6v/k/+b/0f/R/9X/1f/f/9f/2//W/9T/1P/h//P/+/8GACAALQAzAC4ALgAdABYACQAEAPz/BAAGAAIADADf/+H/5//p//z/+v/9//r/+v/o/9D/0f/U/9n/3P/8/woAGAAjACsAEQD6//X/BQAIAAcACQAaAC4ANAAqADIALAASAA4ABgAGABEADgD6/+n/2v/O/7z/uf+8/8T/1//s/wcAEwAQABEADwAHAAgA///9//7/BAABAA0ACwANAAgADAAlACsAHwAcABIAAgDz/97/xv+5/73/uP/M/83/1f/a/+D/8f///w8AKgA2AD0AQgA9ACsAGQAHAAYA+f/0/wEAFQAnADgALwAaAPv/5//f/9T/5f/o/+j//P8DAAoACwAHAAoAAgD0//b//v///+z/+//2//7///8NAAoADgATAA4AAwALAAwACQAAAPX/8//u//b/6v/e/9b/0v/D/7H/wP/S/+P/9f/9/w4AEwAbABMAEQAGAPz/+P8EAAgADQAZABsAFAAcADgAUABDADoAMgAxAB8ACQD9/+X/4v/S/+f/3v/t/+f/6P8DAOn/7P/r//r/DQABABIABQAHAP3//f8BAO//9//9//v/+v/4//7/9f////T//v/d/93/u//L/9P/2//0/8r/2//u/+L/xP8UAOL/VP/QA1P8BARV/xcAKQEk/w0ADACoAL4BLv8nAsf+xgBMACX+JgHr/mIBov/d/6wABv/kALv+4wA+/1wAmP+n/ykArP52AGn/dgBq/34AMwCu/zAAj/9YAML/6v8cAO7/SABT/14AOAAeAOr/n////1YArP/G/1v/9//EAb3/YP/3/vgBTf/6/xkAFv/yACAA5gCx/7X/rgBm/0wAav/w/1YAnQDOADcAygCI/3L8IwGh/QsAFgGcAIX/yAKN/TABTAArATUAJwCL/gABUf5P/1H/aP+YAGv/RgGg/qQAQgCrAEsAZ/9lACD+dALZ/kkBFwAWAEcBNwAq/1IBAf8M//v9ZP9E//39kQF0AGkAPQCeAOL/gQHH/18BsP7S/0kCOP4+A+sA7gHl/iABx/7t/5X/GP7N/67+uf52AMn/aAB8/4ABx/9/AOz/iQCA/xUAPv5jAvn9DQEk/3sBhf3LBEj8oAKpAFL+vwCb/ur/4v7wAdL9wv+7AGP+0P83/w8AyP5RAG4ADABX/9H+4wGS/UcCHwBN/5cAkACPAGsAngH7/6QAugAXAIoBNgCh/jcBVP/e/mQBlQAu/0j/if69AEj/uv9PAOX+WwLY/WED3P0lAj396QFP/s8BMP9QAA8Anf6t//r/hf9x/5D/egBW/mYCgv5lBJD93QP7/oUABf7n/yL/c/3kAZ/+9gG7/iICpgCWAFv/bQEw/14BJgBeAdT+eP8IADL/xf/m/v//H/8kAaAAKQCWAfEBn/4nAeH8HQED/t7/Sv3//8f/agDqAI3+3P+w/4kAW/zd/1r/nQDK/6r/8AP3/tIDof7cAVQBNP9nAYn8PAB4/scAUgF4/2gDHf/bAQX/fAC3APH9j/8f/h8ALwD+/w0A4QHpALUAcQIX/6YBYP6n/v79WwD0/ocCD/++AHMBSQAKAtL/OgE6/kEB5/0/AOH/+/3mAcX+aAJrAL0BVAA2AdD/E/9AAGgANf3kAaL72wFj/YoADAGY/uECqv9UAT0Auf+LALD+pf7b/5T9KwHV/nr+SgGX/6kAcgC8AVT/ewEQAKr+AQFbAG3+CP/FAEsA6/6NAkH/ewBb/4EALgCYAH8Ajv7IAaD/IABj/9IAFQCf/roAxv9f/1kBLP7tANv+QwBHAKsAtQEl/zYBpP4BAHr/b/4dAdz8XgFC/0wAzwAtAjsAGwFQAOb/FQBQ/kr/m/0KARP+1ADU/z0B0P4DAZoCKv49Av7/HQCt/nQAbv52/AACA/2KAon/igHD/6ECN/8lAYgBgf7lAdn9Rf6QAPH87gBZ/1ICcwDrAXEAIf6GARj+dP8j/1kBnQBV/mEA6v7x/noAHwG9/+MCK/5EAcr/U/8m/9P/pv7OABYAIgA9AJYAjACr/wEAaAAi/8n/NwDS/8j+EP9T/5//rgLm/hMDkQAzADoA3/5M/pT/+/0VAv79ZAHqAHUAYQDJAGAA3gCFAHD/MACe/r7+vP8J/90CiP18A7D/SgCb/i7+xP+3/3D/FAGCACYA0/4F/8MAH/79ADQBDv9QA9r/CP7AAXX+2/4xAKgBIf/PAuv/4/7fAiX7bP8nAKT+BwK1/hIC2v9a/5wB9/vQAeb/SQCNAOYAK/4rApj9pAKN/HYErP1BAFACPwBR/pT/S/+rAJX/IQOf/KwC2AHc/B0CF/xTABsBEgEU/+j/+/9E/agBXwD9/+kA2P2mAST+I//S/1QBbQED/sAA3f62AtL89wCuAiz9bwF2AiD93/+vAL793f++AhD9AgABANQAnP4eAl4Ac/6NAIUBmPxr/rQBKv5xAg0ARQHk/JQBOf++/bj/qAKB/jcBFQEAAIv9Yv8QAlf+wwDJ/iYA4v90AG/+6QKN/usAxgDDAZ38bQLd/vv/IwPQ/K4CDf7kAV0AIv6FAT3/vACQAM3/+f9BAFX+7f4bArH8CgC6/fsC/ftlAfj/mf/6/6MCFP9g/0j/ygFP/VoB5QG7/6EC9AGZArgDHP9AAZED2v+P/PMBRP7CALb+6gD9+wv/qfwd/Ib5cPpj/bH8mf50/4j/vQDw/wMBAAFX/nH/0wLFAv8ClwXFDTMLdQmJBgcFcPyT/VP7sPy3/Ff9kf1T/VT7t/no9473ofnG+eT7mfwP/rD/nABWARkAlP8L/4X+PAPFAogESgyoFE0Tbws/CkH/3/jQ99/4hvrE/YYARgLS/nH6jPUz9ZT47vnR9mr6rf2Q/kH/7ABhBM8DTQAz/aX/9/5+CRcVgxMLExgOyQa7/Yf0+PcW+zb8Qv8bASr/MPvg+I73RPUf9KX2o/j7+Cf9I/5fAnwCpAKBAef+Av1+/bcAig78HmUXdBBNCy0D9PiS86339v3qAAkCMQAr/NX5Vfd697n3RfSX9H74Svnh+Tv9SQJTAhsDXgES/ZH7dvxJAuMcUR6TF7UNzQYb/RPy2e/k/MkG4AaFAyEAGfvJ9fX0uflR+hv2RPX89UP6t/uG/sAB0QM2A8P/kvxg93z3Cf2OGnspnBpYDhQGvgBP8GfpafLjB40N5QpMAdT9efpV8UX1gfvo+Oz24vb09Z/7Ff4cANECVwQZAND7ffeX+BT1tQJDLQUoHBgTB+MBF/gt7O/o0fV8CpUQzgsTA+T9w/f+8in1Xfnf+Q34wfaY+H77D/6gAdoDnAKz/5v5JPdF9On2UgD8MFMoABWXBJ7+sfbN6/bnlvWlDRENOgkoBb4DRvjx9DD03vkH+qf2xfav+iP9sf2z/7gBuACg/nT7IvjM9v33Vva8FTM16R/ADXn/lP789WXwXezi/2wQcQ1HBH4D5gI+/Br2KfQY+pT4gPX99cb9hAAZ/07+J/9I/pf+Hfuw9un3PPt7+HQfIDK+Gn4Ggvsu/lf3UfHx62oECRM4C9AAzQEAA8H/PPhy9Fn4BfmG9jr48/6xApoA0Pyz/QP/nP4u+az2zfrK/Kv25xxQMlwZsANx+k/+zPrS8N/paQHjErQLr/7n/qsElAOF+TDxuvb7+H/20ffq/jQFlwTg/m/8Q/1z/C74Lvaf+Yr8afmpDdY0/yJ3CkH5sf1o++v09+ds90YTIRJ/AdL7NARqBbP9lPD+8mv6UfmE9m38zQUGB5kBk/pW+qn7ifgD9qL5zP3b/0kB5ix0KO0NhPn59WH2GvUw73XxpQmSFAYJGfws/kQCiAC19erw8/bF+tj2f/oaA/wH/wUA/Wb3Pfn/+x/5wfi4/fMB9P2SD7QsMiAAC0v3Qvjw9nH4G+9w+LgNUBOjBhf+0P+l/2j75/I682P4UPpm+S0AJAf1BKT/9fqd+oz7XPs++Wn7s/+dABX8DRqBLD4ZxP7D84f4GPjv9N3vNQGoEnwQ7AH9/LX9/vsm+UXzYvQb+jT7vPr3AW0FlQGz/pX9QvyR+sr47/jr/IH/U/44A3EoLylxD2n4+vWE99f2XPLs8kgHZxImDAEAMP4f/W/8/vcz8jL18fly+4v86wLqAzkBqQDw/UL6O/oW+hr5XfxO/rP8AQ6xLgIkxguM+kL5DvVY9Nnus/QWCUYQagkRAZkAgfsZ+3v38PFk9Az6fvx2/s4C3gGMAsMCPQDl+4D6YPg5+Lj6j/xn/T8Q8inTI6sQD/6C99TyxvMb8Bn19wJ6DbwMUQV1/nX7b/xF91fyFfYx/AT8Hvun/tICXwOKAQYDSgEU+qr1VvdT+x/95/3sEDMmKSM+Eaz+IPna9UfyeOwO8iAA2wyjDNsGFgLO/m76B/Qz8xz2BvtG/PD9+/+n/gEAEAX5BDz+n/tS+rn4ePlc+sX7GBDAIDgfgxT3B7b+0/YM8u3tCvEb+2MGsQqCCUgFv/9C+nn06PIr9Wz6nf37/Vn8gf7XAtoCLgFFAAsBdP0q+U74aPtR/OYF0ROkGWQZLxDJBbT8q/hm8czuZvTs/TYEIQezBL/+YfwJ+1r5CPdG+bv7/Pww/iv/iAD4AkYEMASmAwECpgD4/+oA2wGDAkwDTQXVBWoDMgJ5AK//bgB+AHX+hP32/ln+5/tx+gL8LP1Q/jQALwKAAyUCK/9b/lEAZgCJ/+kAugLSATsAWAA8AccAsP27+2H88fxm/BT90v7jAOEBoABjAOMAtACH/0X/TwBJAYsC6gK/A/wD9gPmAPv99/0k/4r+9/0P/8gAbQGsAGYACAIOAeL+Cf6Y/rL+8f75/wUBZAEOARgADACP/9P9+/yl/U7+l/9YANoAjwLcAiwBm/6h/vb/o/4t/Vz/YQJKAqMApAFcAy8C4P49/tv+if6D/sgA6gGEAk0BzP6s/Q//6v3k+yf9CwCBAKUAZwHbAVYCqgHa/37+mv9Q/6b9FP/CAbsBBAF0AZ4CvgHM/kT9c//1AIT/pP8MAaEBewDG/m7+rP/Z/0b+Xf6+/3cAx/+bAPsBAgOnAkMAsP37/f/+s/0f/s3/MgB8AHsAIAF1ArEAfP4F/4YAdAAvAA4Ayv+EAC0A5f7t/48AB/81/v3+pv9w/6D/zgCyAckBowBq/1H+Zv/O//f+kv+tAFQAbACEAXQCgAFx/8D+QgA/AJf/w//Q/x4AjgCy//v/SgFyAOX+lv4/AGcA3/7f/lEAhABUAJP/K/95AAACaAC0/uv+wP84/9r/ZwGzAeAA+/86/xz/j/4k/h3/0f8pAIkAuQB4ARAC2wBG/1v/ZgC8/6L+7/4QAFMATQDq/18AlQEpAeL+sv2f/u7/eQDjAJgB4gGRADz/B/8//9b+lP5+//sArAE5AfQAQgHMAPj+Jf1O/u7/W/8E/3UAEwFdAb4AHv8o//sACgHg/jT+zf8HAPv/+v9uABIB+gCVABIA2f8A/yD/RgDYAMAAbQAuADYA5v8k/q/92P+PAbAARQBcABIAcv94/qj+cwDtAVcB5P91//T/dv/8/oX/ywDhARgBPf8E/y4ADQDc/08AlgCxAJAARAAXAFz/if48/xABaQGYANX/I//U/pj+eP5n/x0B5wHUAJz/WP9C/+7+7f7t/zoBZgGMAHD/Mv9p/4f/IgCfALsAlgBzAG8Az//U/s3+kQDOATQBPQAmAPj/Rf92/nf+4/8aAcUAo/99/9X/EAC1/4n/IwDLAFIAfv/E/1YA2v+U/3QAGQEaAVoAAQAkAKH/s/48//8AJwHa/2z/1P8GAJf/ef6U/gwA3ABUALn/IwCrAHsAvP+9/zEAPwDV/9D/jgARAXYA4/8LAPz/AwD2/8X/v/+e/2L/2f9eAPr/l/8QAPr/bv/1/gr/3P+HABAAp/93AF0BxwAEAKj/EAAnAGH/Tv84AEkBzQHVANb/HACJAOH/xf8x/0kCsAAw/Kv8/f7GAQsBQv5J/+8BiwAJ/gr/0gB6/1n+QQA5AXMAzP8nAKsBdwBP/6H/UwBxADoA/P/x/9n/OgCXAIIA8v/U/rkCogKV/an+dQCmAJX+l/1Y//gACgH9/gMA0QE3AcH/EQAcAM//jf+z/1IARQA8AJAAqQDaAFIAsf+n/73/IQDR/4H/KwBkAG//6f4pAGUAPv8t/wcAcwAZAGr/jf+JAJMAuv+I/77/fv+Q/+v/LwDUAMgAtwCUADYAEQC1/5z/nP/Z/8P/4v9oADsAvf+R/zgAlQDz/6j/9P+l/5X/dP+C/wsA0wBQAPr/KADr//v/JgAFADEAZwBrAIYA4/93/w8AWQDr/5//x/8LACwAFAD7//f/FgAZAKb/df+k/3f/i//m/yMAaQBSAFIAMwDo/73/w/8DACIAkP/a/3QAswBuAAkAUQCjAN7/Vv+a/9D/5P8LACcAVgA5AO3/zP+2/2P/nv/f/xAAaABLAPj/gQA1AH7/uv/J/4L/pf+5/5j/dQD6AIcAdwDcAJkA/v9m/xr/Qf9s/xkAbwBTAL4AyQCeAOf/0f7M/vP+ff/k/xwAMwCxAB0B5wB8AIX+NgPr/Tj7sAFI/tMAOQMt/vEBqgEW//L/6f5b/9v+7/9fAAMAowAoAJQAOQHR/tf+EQDg/zX/2ACi/v0AGgLk/1wAlP/E/+L+jP41/oMAugBuAM0BDALo/tABvvyQAPD+6/5M/wYBIwIgAvcBOv51AR//QgEcAHL82wFv/3L+egQ7/40BYwPf+e/+ufwa/QT/Vf0hAzD/IAJSBLgDuQLa/bH/YgDE+w0AiwKh/aYFQPvt/K8C/vsCAOcAJf/L/HkDZQGwAYEBgv7XAsb8Mf6AACUBRP07AF37eAPoAQIAewaf+pf/XwKW/ZH/C/tFA4H+0AYg/EwCSABQAfwB1QDyAfr7zv60AugD2QPB+1b24wHN+fwHHP/9+xME3f0L+x76GwCrB9P/JgDY+0n/LwNoATMCxQEU++L+iAN8/dYCb/1//70BT/0g/TH9rP/0AHD93P0OAIH/2QFY/y//YwOgBIIDvgIL/VD5WALV/nH9qf3d/AwEAv5Y+U0Cr/xUAIQIeQHFAg/+dv/M/kgFmPkZ/o0JZ/3QAgb7AgMGBRn8qwB7A5b9qwMS/KcCSQJt+RQCl/rB/03/df5DAvL/BwAK/8ADj/sRAt33OwBVA2n5iwhY+0D4Cv+U+tAFxAMIA0sB9fr6A1AC2ADa/48CM/wXALoDWPyaBFr/BAEqBNf+rgB3AJL9Df+9AEQB+fbnARsF+gDF/JT+VPx9/7cDtvQXA38ADvzyCmsCDQK4+1j5CAHv/4D+3AJO/igEYP3d+q4BgQFb+8MAHgDY/xkDjvioAa4C//zD+5AHowDG+xj9iAMPAXgApv2vBmj9UQFABVcCgQE4/TMDz/72AIP+ef1sBPEBE/2XBCz/cwDjAxAASP88+wEB6wDtAWAB/wRF+tT9jf5N/ikE7P2zACn8w/xtBEcDIAD+AC3+S/4b/C4EjwDb/XL8fwLkA7kCTPouAMf/tACx/qX9jgOU/p7+RPzHAo0BiwD3AsT9DQBMAZP/nwJC/0v8AACfAD7/Xf9SAEYA4gI2/U38WgGIBuIBWwDQ/27+lP9AAWf/uvszBjP7WQDuA4ADFf9BAHMD3f5c/AsBev+PAnr80gJx/zb/SgKC/acAfv39BMn/T/57/Ov8JAOi//b94AFcBNf5bwBL/8T+0ACkAEEA/QFQAxv+x/mzAd7/YwC4/5L9OAK3/h/8IwAfBOgA5/0b/RgAkQFCAF//IwAHAQAA+v89BT39/f4gAAn/RAG//TkA0/72AFD+Hvtj/zgDDf/gBH8AvAFU/v/9df+VAHQBjPw5Aif9VAOC/2b+AQMjAKv/zwC7AC0Blf3H/e8COP9aA87/rP8K/zr+ngPbALP/pv9PAeT/+wBM/mX/3QGPAjP9wP5Z/7L9LQJtAQ7/7P8hARv/6v44AQf/QwHN/XcAMQHU/yQANf07/6oDxgEF/DYBzAU1/1X9UwGgAcP8dwG//rcBBAIt/VMAZQAZ/yX/6QGO/O3+ogEWACoAcPwVAeoDzPwy/qEDaQB0/S8A6gHlAGn+B/9g/7cAL/9p/8ABjf8d/kMAbgEY/7/9xQFNBYX+jP/S//7/vP/1/RX/6//I/9oAff/9/28Aov5PALL+AAADAIr9DwCNAOgAsf8MAOMBbQBi/1MBfv/k/yoAOv6S/k4BHAG2/gMAxf8QAKQAPQDU/5L/mAAYATz/i/53AMoAawCq/0/+bAGY//H9kwCpAdf+yP7bAEcC8gDJ/6v/y/9o/ggAjgBFAU3/q/3bAdwBvv4p/owBKgBWAV3/Dv8M/1UA4wC2/mT+5f/0AU8BVv+I//v/FwLvAAr/jP6R/zICtwDI/Tf/WwICAXn+z/5DAX0BSf8x//z+SwE0AI7/1P4IAD0BqAA4/7P+aAAgAX//2v1TAOgBDwDG/lAAsgEfASQBSQB2AAQB/f8TAMcA9v9fAIT/oP5x/3P/lv5V/BD9Ev/a/Rn8b//gAKH/Xf9DAKr/HwBzAOkBXwIEBGsGawgFCFwH8QYpBKEAqPwA/O/5QviT9+D5A/sp+lb7fftQ/kf+O/5U/iQAjQBu//T8J/08BnwNoQ3vBkQF7Qp8DfIGP/sC98P8Kv4a+kr1t/dQ/ocBb/5e/aH+igBHAOn+6/3N/B78EPwF/Pb5A/ju+dT8dwMqC3gP2A0DCg4MAQ+MC7f/mPbP9nT6rPoG9hz2LPyYAk8DCwCA/+ABbgICAOr8JvsP+5j5O/ge+Pj3DPho+v0Dtw7gEnAPVgv9DLEQbgzB/4r0UvPD93P4KPQl9PP6UQPxBhUFQwNSAxkELQLB/s/57/bS9uj3qPfz9l33sPnK/SMHdBCWEyASugxUDC8Olgrn/kvyevBS9eH36fXP9UH98wU/CJgGBwUiBLAD+f+2+9r3GPbZ9XT1TvZa+PX4CfpT/xoKrBMsFaAQQwsYC30MGQg6/PjwhO9Z9Q/5r/f6+Fv/AgbeCaUJkAXwAvAApP4A+7z2H/XA9G/16PdZ+Rz5EvtSArkNuxWHFeUO5An6CSgKIQRQ+Cvvuu9m9Vz5+fk4+zMB/wcZCl0ILQVBAiYAL/ya+J72G/aF9XL1MveT+QP7nPyTBKYPtxcgFUULPQgNCsEJXwBH9L7u1vE8+Bz7wfrC/U4Edwl0CRMHOQShAeb9rPlt9sz1gvXK9Dz1Dviv+uz73P5yCKwUBxrmE6gJPAdICbAFqftF8Mvtp/OD+e76s/xUASAIIgq/B6sFggM3AYr8Yvfq9ZH2m/Ym9en04vek+/78YAGsDNwXphrNEbQHYAagB0ICufb97Q/vsPVI+vr7xv72BEwKSAqNBgUEjgIx/4P57PQP9PP1GPai9Zj2nPkj/D7+YQV3EYQapBiwDRYGcAbTBYD+T/M67cLw0fZ1+2H+YwK1B1ELjQkqBg4D/wDi/AD3fvO382P2Zffp9qH34/qU/VUBLQoDFZwaihRvCWYEAwXWAjH64O8g7pnzZPmO/Mb/GgWrCmkL7AePAzYBV/7l+I/zSfJS9Nf2RvdI9w/6P/3d/pgEQxCTGuIaShBcBVkD0QMA/9b0ju1j72r2FfvB/jUDCQlmDO8JvwX1AVL/zft+9pHy/PIC9lz4x/hT+bP78f3xALAJdhW2G4UW1gnpAQwCYQFf+nHwgu3f8pP5cv0fAV8GowutDK0IeAPU/079PvlG9PLxLPTZ95j51PnQ+tv8P/4qApoMjRhvGywS4wRxAB8C6P/I9wnvA+9k9X37vv/gAygJCQ1dC5gFDAEV/pn6EfaI8h7zqPax+aL6t/ri+9P9Uf95BUERsRqkGNYL5QDd/1gBjPyj82fu//GO+fb+YgKRBtILqg2wCVADQ/7M+nH3F/Sg8nv0avg4+/L7Jfw4/Rz+6v86CBoVfRunFKgGxP6y/w4AGvqY8TfvNvVT/MQARAT/CLsMHwywBiAAcPtm+Lv1SfMm8yv2NfqS/Pj8+/yc/YL+rgM4D+IZ6hmKDhYCj/5aAFH9A/Xj7jrxQPlq/8gCJQY4CskMcgrhA0f9G/l79sn0zvPa9CL4e/tI/Qr9fPyX/Ij+NwdHFLEb8BZfCSP/hP4M/5T5ifFg7vXz/fvhAIEE3wiODLAMsAfkAKv73vc99Q70ivRj9+76J/3c/T39+Pw//VYAwwoMF/gaUhKDBM79+/6m/WH2Qu//7xb4Gf9ZAskFsQqTDQwLWQTw/aL5jva39Fj0Evb/+K37Yf3p/fr8sfuc+9MAiw2QGV0atQ7KASv+RgD+/Ef0q+5h8sP6WwC6A4MIMA2LDWkIWgFR/IT4BfVS88v0PvgR+w78sPw5/Tb9kvxC/FcCrg8uGiMYeQtAALn+AgCu+gvy++629On8owHbBJYJbA2PDAkHMwDW+qr2EPQE9B32ePhi+iD8lP2X/Tv86voA/FUEcxLqG0MY5gpwAH7/QQD1+Uzxxu7a9Cv9JQIXBgcLnQ1rCw8GQACf+kj1uvI59EP3cvl7+uT7r/2z/Q78ePrd+5kFWxRwHMEWvAhC/9L/UwD3+KnvIu7k9WD+rQJ9BgwL5AzTCj0G2ABA+qrzo/Em9SX5Hfr0+fv79P6J/qz7vvl9+3UFaBSBHIoWSwhz/3YB5QHY+Inub+0i9o/+XAIlBsoKcQyeChUHWQKq+jLy8e8H9aD5rvki+U38VwBt/zP7XPml+7MEtBKXG14XeAmX/9AB3wMv+7fuZOuH9OT+AQNnBTYJ1QveC08JcAMd+gHxju9i9Sb5P/g/+Mr8lQFpAJn7kPkS+0ECKhBaGwsZGQux/+QBCwZh/UzuQun98ov+QAJSA6wH1gvSDMoK5gTB+p7wue5h9bP56vdx9039BQNgAZj7CfrP+xwAgQybGkoc3A4iAFcB2ghPAUvuf+VD8K7+pAGR/70EvgzfDykNvgYV/Q/y+u0g9EH5+/Yg9aX7YwObAmv7NPkm/KH9VQQeFHsdtxR7A3AAPwqrB/fyDeTw68D8vwEA/RsA6woLEvAQCAqy/4b0T++p81X4x/U783z6HARaBIz8gfkK/qH+1PzQCGAaJxxEDAcAcAZYDCP9Buhy5h72DgH3/Of6TwVjERAUqg0rAyD5fPPz87f1z/L28BD5owOGBCb9DfpL/xcCwvqX+k4NBB52GIUGZQH/C8YLBPZ15SrrHvvF/iX4Z/taCWcTuRIGCr3/uvjb9hP3J/O77RXyCv9DBv8ABfuS/WACNf/I9mv7ERGkHpwU5gQxBRES/ws68kTkUe0y++n5kfPs+zELAxMvEpcLFwP6+oL3cfas8A3tBvV8AYsEkv2v+oUAuwJu/fv2V/oEDioblxNRB5MIeRV1D57zcOSO7c75rvYe7+/4dwmQErQTmg5SBqP93fjC9s3vluwD9kwAFgGd+9P7jwJeASr7hviN9zECbhMbGJUQegzDFFoVvfwS6RPtkvYu8+Dq8/ODBk0PExHID3YLRAS6/H34tPKu7mj0avvL/F77j/2PAWH/lPna+aX5fve5BhYb4xoUD3gM+xeCEMnz4+av7bvzjO/37XP7mgczDc4QCBCVC+ICYfsZ96LyrvLl9CL39/rl/aP/4P0H+yL67/ub+0z6Ig0fHp8XvQ30Ea4bcgrD7FrqLfOo8xrsl+4v/jUIjAzKDdINQQ6QB5X94/a+9bn1HfGo88P7Of4h+yP5G/0eAPP+QPpO+FEOrh2LEfcLahbyHBQH5u/j8yv2H+976Q7u6vrqAREH5Ar0D0ITYgoHAOb7pfqe9NfsMfIW+tn6Jvl/+98BZAFI/cr7IPk2BMkWqhO+DcAVZxwFDx/5tfcQ92jtSelO7I30qPywA/UI5A9PFOcMTQR6AHX7WvMO7+3zZPf79p/57f1pAMH9nPo3/Mv81P1+EVcWuQ6CFDwaABUOAqr7MvkM8AjteOuv7+r1Cf5ABu4KRg64CzYJawZQAB754/TI9Qn2L/ap+Ij6z/pP+p77Z/8xAFv8WAitFScMTg6nGhoZ6AjLAPgAg/gf75HpUu0e8532xvreAZoL2QrxCqsKCAd2AY38Ffr89nH3ofZG9rH2GveN+4v+N/0N+sz7sxD8EHsN8hVuGjQWvQhqBfb7ifOW7mLrb+607w/2UPzfA8EHfQohDYsKzQW1AtIAl/so+fb1Y/VI9Qj2QPiG+Dr4+Phw/dYACxByCigSzR36GVASGwifBUr6ZfTs7czsSe0U78306/vLAhIE0wj7CcMLowijBQsCSP7X+2f3Dvfx8X/z5/UZ90X4kPoA+4QAwRIjCwsWjBgqFRYTfA4sCHf+efgv8jrwWex38F/xQPas+qkAogVAB80Ivwl1CQcFZAHo/NH63PYJ9NbzpfUT9T33ufoK/H0KtwTzCtIVMBUNFlERvw9KBg4CCPq+9svumO4d71DxePVo92z8ggIkBgEHcgiNB5wGNgNqAU/8kvcM9gP3TfaX9vT2Evl5AL4IJwN+EzMQmhSxE6oPeAqwBosBufxu9IH0//Ia79fyzvKc+NX6y/6uALID6AelCKUF1wT+AIz+rvv9+ST4WPbO9q34Jv6aBaL+SA4VDCMSQA+5DoUMKQkrBd3/Lfp5+b/0uPIM8lzzXvVR+CX5dPx+AQ8FXgQRBbcF2QSaAR7/j/u/+Mj6aPnn+BX7HAKlABcP+Qf1DjwN7BB3CjIJgQS7AXT9Dvwk95j1VfVx9DXzCfY791z7vv8sAW0CWgbvBXYEPQH7//n8J/xi/N34bvmk+4YFf/7HC9MFaQ5pC5ENHAr8BmEHAQM8AID9W/nT94z1sfMx8qT1JfcB+ub8vwAHAtQExgS4AwcBWgCS/7z9m/vj+Rv9SP3EAVoANwVaB/cKfAorC08K2gnhCIwFxwP9/6H8dfjb9ZX0QfOv9D31mvdx+3n/2gFyAYECUAPPA74BWf/x/Tr+0v3Z/m38Qf7LABsBbAYOBFYKkAdEDSoIkgunBtsEiwAF/k/8Avjz9+/27/Uu9RD43PvS+9D7H/44As4CZgFuAKcAjwEHAAwASf0dAM/82QDZ//8AEAPaBSkIMwe2CpAI3gh9BLgDbwD4/un9NPsJ+Tv3G/kT+Rj3Nvh6+un9H/4N/tH/qwE4AqEBbwEKAsz/K/9k/c8ACvsfBLD+IwYLA/cJFwdYCN0GBwYtBHICHgLr/6b+//ul/Jf63fiO+N36Rvol+tb6ivxA/SX+3P+XAJYADwFSAs4BgAAe/7P/ZwCe/jIC5gDwBf0DpwaiBccHPwZsBvgDrQH8/w//0/3c+tb7PfxJ+0f6e/na+eL5wvrb+z/9Bf5l/44BNQK/AdUBmALWAf7+TgBv/PgCmf14A/cAzgdBBVMHgganBYUEgQJpAJ3+Tf9+/in9j/yX/Nn7mvqP+nH61fku+un7Xv4+/r7+gADCAyoCeQETADUBkP6eAMT6WQKQ/X0F6QFoCAcFHwikBTIEDAJEAbYAif9p/7H/wf4n/vf8mvuw+pv5pPr6+gb7bPog/kMAMQE+AOcBtgEQAiwAUP7D/BUAa/1CBGYA4wZjAwMJOQQpBjYFuQR9AtgBRQGoAIb/yP6Z/S/9QPy8/ML7N/rd+Rr81f2Q/HH9ov1XAN7/DwDD/gD/lv/B/8QA0wArAOMDYAHzBBMDkgYHBWIHEwRSBfsCFQOu/0b/Jf/I/qD9vvxO+hL8MvsY/Jf5XPo3+4H8df0W/T/+yf4aAJQAawEQAa4AxQOa/jgFff6WB7sCxgfGA7EHKwdkBEUChgEkAVwAG/+o/Z/8+fxG/Kj7BPu3+cH5mfnm+qT6gfvn/IP+EABkAfsBOgJgAREBWAM+/8YG1ABHBy8CsQg9BcwHdwXPBRoEsANaADQATf6O/R77vvt9+cz4KPgg+NP44/il+hD7Vv2f/pIBUQLDAnUCGQJVAjwEmP/+Bi7/fAYkAtAHNgSnBw8G3AQfBN4ClABaAGD9hPxA+vj6V/dP+Df36vfL93P55/l1+jf9U/8YAeUBiALaAvgA9AVD+8kILgH2BoIFIgbABhoHwwgqBAEFsgQvAU7/qf0c+kP6hfkc9/v2+vfr9hH4k/l1+fb6XP0E/rf/WwH8AcAB0QJ9BcL9ggrOAb4ILQd7CAoIlQp8B+IGfgPvBMv/zP+T/Hj4DvhA9wT0gvZ19tj25vcw+m76/fy5/Ur+DQCGAfEA1v+yB2b7YQn0BRsIZArUC50H6QmFCD4H/AQ7AygAJ/3k+3n4tfQm91fzmPJ891L25fYa+nj7N/yb/5b+ev8UAQoAgQM/C/3+gwvUB+MGjg7sDq8Jcg6nCA4G+gTkAUf8KPw5+EH2h/MJ9Fzy4PIE9nv2I/i3/C/9Sf33APMAYgDHALj98QVG+xQGbAp8CqgK3REtDMIMzAxaBYoDkgMY+036uvYQ9Eby1vLz8U3xOPNG90b2zfh//W3+QP+JAegBwgA4ARkJiv7GB58LWAz9DYcRAg3wDeQLqAYoA1MBJfr/9yj1NPIC8YjwqfAe8iHzDPeb92r5mPyN/Vz+jgCMABsAOgg2CTYGng0AD2wOFRPGEmAO0BH4CBUGegIR/S/4iPZ68c/wNPAN8Z7vOfKD9HD4ufgJ+yj9f/5U/iIAdv7zA9QIigOpCvkN0g8DFCIUDhGuE5kL7QYvATb+RPad9BHw2PDV7gHuHO+a8rXyW/hN+J/8U/0Y/5cASAFJ/i8GDgrcBb4IpQ32D5cTHRIRDxwSawzdB/kBVf5y+af1nfDO70nvHu5c7kHy8PTm+F74D/yb/tkAxQDIAKL+hwjDCRgJswlxDTQR/hTGD/QLow0ICpkGWP93+YX6Bfb48fzvnu2q8XHy8vFe9Az4Nfuh/WT+Tf8HAocBBP0oB9AEcAv4CDENsxHhE0MP0g1PCEcGFQN6/o72zfVa8wj03/DT7nvxwfP39oT6jvlH/c7+fQHwAdEA1f+qAq8H5QgDC9wIUwlfD54PyQ01CqIEcwXTATMAQ/qk9Qfzc/NI8svyD/JL8672fPr3/LwAtP8sAfYCpwNKAukDAQVNCKIJ4gkTCsoLQwo/CrkHNQRHAs3/A/5y+8H3wvV/8+/ydPPq81r1yPf2+jL9BQFiA2wEkwVxBXMDYQN7BJQFnwYJB8gF9AVSBlQGxQUQBG8C/P9O/oT8TPov+bT45Pi4+Av5nfpf+/f8pv5L/8n//QCPAdIBDAJmAr4B4wKAAnQC8ALgAlwCfQIDAn4BwAGNAfkALwGfAHj/1v8PAIn/af5H/gf+Af3O/Mr8vvwN/Y39VP7K/mr/DAEBAdYBKQIJAisCjQGqAAYAGQAaAC4AHAByACEBdgGOAZMBugFrAZAAbQDX/yL/s/6c/u396v29/Vz+fP4f/zn/3P+mAM0AUgFCARsBxQB7AGoAAAACALP/2f+HAPIARAG9ADkBFAGjAMAAbv/s/qP/P/9Q/yL/tP4r/yb/1f5H/0z/Uv+//x0AYADCAKsAvwCNAKQAbACcAMkAEAHSAOAAowCjAPr/9v/C/x//gv/m/9r/vv+1/9L/pP8d//r+gf68/ob+Pf+Z/93/LACoAJsAKQGqAJ4AZwCtAHwAsQDNAF8AqQDcAKAANgBdAIQAJQCcANgAPQDd/6P/pv/V/rj+v/6J/pf+Jf9o/4//Gf/Q/2gAUwBBAH8AjAAnAFMBhQDt/0AA6f9o/2IAMADa/zoA9gC5AKQAZwBOACYAk/8c/2T/Zf/X/gX/Pv9R/03/KQA1AHgAUgAjAFcAjAD4/wUAGgCZ/5f/3f89/3j/k/9PAAEA0f/XAEgBkwD1AOoAqgBnAHgA+v8hAAIAIAA3ABIATQD3/7n/av9D/w//HP8f/x7/dv8GAOf/kP/h/ycALADX/y4AeQCxAJUABQEBAesACgGFAIQArwApAAMARgDl/3L/e/9S/6/+6P6h/rf+2P68/nj/xf+C/1oAXAAsAEMA1AByAKwAtgC0AFcAYQCEADgAGQB2AAgAKwCIAFkA5f/e/wcAnf9H/zb//P42/yT/Of8+/4P/MwB6ADAAPwCQAJgAmACWAOL/OABIAGAABQDe/8L/SgAGABQA/v/Y/wEAUQD//87/zv/Q/ykA+f+9/wYA0//6//r/lv/q//f/q/+1/w8Aof/m//j/WQB1AGEARQDZAE0ANgA0APf/xP/U/4H/vP+i/7T/3v+C/3D/5P+7/+b//f8KABcAbgAQAHAAKQD2/wQAIgAgACIAFAAnAIMAgACWAF4AXAAzACoAQwDh/zH/c/9w/yr/Yf9b/+v+g/+Q/4j/1f/Q/8j/bgAMAD8APAA0AGAAkgBuAMoAmACKANgA2QDFAKUApgCgAC8A3P/U/4P/9f74/uL+qP75/iL/L/9e/6D/vP8kADEA+/8fAA4AGQAwADoAjQBwAGYArQClAJoAdABwAEUACQDQ//z/2v/p/8T/yf/D/7//rf/F/6X/1v/K/7z/1f/D/+7/zP/f/z4AEAD5/6AAgQBMAMgApAC2AKQAvADGAGYAKAAtABoANAAFAAQAz/8N/y3/Sv8WAFsAuP7f/Pz95f7R/4P/Jf+9/3AAlQDx/+P/PgB9AvYBSQCJ/Rz+cwBFA2gCSQBW/pn+MgB+ASsCwQBi/1b+o/+vANAAbgAf//wA+ADRAEj+Hf71/uEAnAGDAC3/W/5Y/yABiAEAAZ/+Kf55/1EBBwTlAJD9O/o0/CUBYwOsAdn9K/0x/4kCpANXAmcA/f5v/v7+5/+rAA0Agv+u/+f/WQFUAhUD0wIR/1H8Y/oP/BX/yQDdALr+DP8JAYACwwISAcz/4f98AOQAAQF2ACYAOP9N//v/OAAvA6UDFQNU/5z6J/sz/Df/m/5N/rn9AP9VAYYC0APZAjoC/QBXAE0AHQAW/6X+aP7I/x8BKQLzAnoCCwJlAScAhP9u/iP/6P5I/lv9bv2p/tj/vf9p/9L+Ov/RAJ4ASwARAHb/3wBpABEA0P9TAAkAHAAeAHcAzQAEAccARAA//zv/n/+rANoARP/M/kH+2f6OAIkAXgDE//L//ACsAKH/IACgAZ4A//5z/TsAsAHCANb+iv4zAEYCRAHoAAP/5P7I/5QAaQBC/+v+Hv/R/xUAe/6X/wEBNAGSAIf/BAD9/1AAK/8D/3H/lQFH//sAogEMAJ0BjAFf/SkAtwD9AlkDyQAQADL+uv5T/wn/9v8U/M3/3f8f/6ACOAE8As4AwPzH/gsBBQCl/en97vz+AYQCl//G/uz/8wIRBHYAev4X/hUA7wFnADf/gf6r/qz8V/8hAIABrwGvAEH+of+GAtYBqP8A/kr+9v/IAAMAff5G/9kAIAED/5gBgQAxAdsAVv7n/vf+DAAXAMQAMv82/9X+3QK9AeP/CACb/+D+EwI0Ab3/C/45//ABPQAv/kX9lv9yAioAZgBt/tX/LgEW/2D+cgDzANgAZf0E/VL/BQQGA2/+VP6d/8YDlgOC/iD+1/7L/6EBKACt/2v9Y/46AiQCSQEk/9j+Cf8UAAgAkgAnAIH9Wv1n/csBaQPbAkr+EP7Q/vgDRAJJ/+39ff3PARIB1QEkAUD/u/zw/YoApgFz/zT9zf0sADsCMAGl/iz/gwFvASkAw//a/Uf90P6S/4QApAC1ANYAhv7v/iUAagFpBLMBbf6S/PD9bwLeADsAk/64/S7/SgBCAnQCif0X/YT/DgIcA20B7P6d/53+2f47AGMAjgEo/xf+FP/YAL8CHgGd/+P9pf70AZwC3v+r/lT+q/4yAA8A0ADcAOYABwD4/sT+8v+MAEUABf/N//3/7/8L/zz/8AADAYAAJQAh/4IAJgDr/9r/8v9HANoA8wCcAEUAI//p/xAAUQDbAJ//yf8B/9n8Hf98ALsBKQAA/rT+CgCKAQgCdABw//H+gf/JAP0BQAHj//39c/5X/4L/MQD0/03/Pv/IAIoAPwBlABIA//7K/rb/gwCTAJX/+P1r/sj/NgJdAX8A3P/N/1wAJwFlAV8Asf5Y/nn/jwAlAYf/Av5j/mD/ZwDGAN0AGADH/zL/LwAIAOT/HACDAIcAbv+Z/0r/2v+kAJgAlwDr/xEAMf+H/i3/GwAuAeAAaf8q/wz/x/9oAL7/2v+U/7T/IQBA/yMATwC5AEUAh/9P/xEAGwERAZAABAAiAC0A+P/b/z8AUQBy/yT/wP9YAIgAYQA+AGUAiQCtADIAN/8D/9b++P5Q/0H/Lv8f/wP/B//C/0EAVABMAC0ASQCiANMADwHKALkA0QAyAaQBuAGaAd4BcgEiARABgACg/97+1P02/Mv6Qfp4+p370/yL/Tn+w/5i/9//6QAuAosD8wMCBLsEdgaQCEkKnwo4CjQHCQMW/4z87PqN+e33EPbp8ybzbPQu93z6Pf17/nT+NP8ZAGABsAIBA/gCFwQNB+4LNhC8EgcSrw0EBykAB/uB+J/3OvfZ9bzzUPGD7/rwb/Tj+CP9cP+qAE4BJAKkA5cEjwQ7BRUH/wrkDyoTgBPLEFML0wR6/lf6HfgO91T24vSG8nLwv++v8RX10vhC/F7+cP/q/8MAAQIyAxwE0AZIChoPZRImFMkSGQ8BCoAE5f7T+l/3FPXs8hrxm+8B7/Tv2/K69hL7+/0iAKcAIQF2AecBHQOwBhALIRBgErgS6RDMDd8JwgUTATv9S/mL9rrz4PEX8Rvxo/Hr8gX1qviH/Mz/8AACAcsACQHuAYwFHwpRECIToBNMEYANawmMBZUBu/6b+6j4FfVg8gbxDvF28WvyIPR59wX7iP4pAKEAIABs//T+YgL4BwcQJhSsFHISsA4PCrUFdQKDAK7+ZvwM+Y/1+PLD8YbxrPFJ8lD05vfn+2T/XAEAAlsBVADg/x0DSAjhDzkTABTDEUAOqAnEBNcAMP8X/of8VPmC9vDzVfJq8b7wj/HP8173Xftp/qkAgQERAYv/Zf7aAHkFMQwiEWwTBBOLEAMNtwcDA4v/Uv5G/U77zPcE9dzy9/GA8djxKPOA9ff4J/ys/mwAIwFzAUEA0/+vAm8HyQxjD8cQUxBsDgMMIgiUBCoBPv8g/pX8nPod+Mz1evR688Hzt/SM9rH4uPpd/I/9Af/S/xUAlf97/28CvgUICnkLNwydC2gKhgljB9oFigT+A4cDqQFW/837Ovkw94L1h/Sx8y30FPWV9iv4efky+zf8lf24/vT/RwNTBkUKWAxPDeMNzgyHCxsJ1QaGBUAEdQRvA1ABT/57+sv3fvUI9DTz+fIt9CT1X/Ym9zT4dvm0+vH7Uf0NAHQFzgnBDdwOQA6HDfULgwqfCCgGVgU/BOoE0gPUASz+C/p494f1sPR39Ib0lvXF9Sn2UfYk9034yPm5+9T9swBDBegIfAyzDa0NAw2YC1sKYgl7BwUHFwaOBikG7QNAAEH76feB9UT0MPTQ83b0oPTh9En1dvUM97T4jPqh/Lr+kgKCB7cK/A2MDRUN8AvrCr4KnAlqCOMHDwfqB2MGMgO8/ST4AvX28rXylvLP8lD0WvQX9TH1CvaT98D4cvpb/Mr+9APzCFMNAxCsD+0Pnw7SDQoNkws8CokI2QfAByMF7QCI+kf1TPLY8AfxK/FM8rzzIvTg9Kv0u/VP95f4mfqZ/CUA8AX1CloPyxCaEEMQ1Q4NDkYN+wtuCqYI5gbdBbkCkf6c+PnzV/E28MHwNfFv8mHzffPo8wL0mfUF+LX6UP2P/1cCggZWC5EO2BAYEFkPLQ6VDfoMiguwCfwH+QV0BVIDvv/p+dfzgvAQ7+/vGvF78iT02vSO9dj1sPah+Kr6Zv0s/5cBzwTBCnYOCxGHEHcOLQ1LC8oKwQmBCPIGGAXpAzwDlAB//IP2VPKz8Ajxw/Ij9NX1zvb/9jX3RvdY+CL67/so/jgA6gKNBjYLvg3oD3kOGA1iC1wJ+wgJCLcHuAYEBXAEMQObAHT8z/Ym9MbyrPOd9Fb1+PXz9Zb1tfUj9vP3svk6/DL+SgCSAuYFjwpQDLkOgQybC4UKDwl5CS8JpAkcCZMHqAbFBIUBify59oPz3vFr8mTzEfRs9Zf1zvX09eP1jfeE+LP6hfxl/hIBGAQjCgcNXxBuD/8NyQxJCkYK3QmJChwKwgiSBrQEWgHx/I/3ffMe8u3xAvOB83n0svRB9Hf0WPTN9bD3Uvql/fH/2AJwBNoHngsFDmkQtg7gDR0Mywq5ClIKRwrhCMEGQASqAeb9m/nY9PzxGPFv8UbzpfRR9lv2D/Y+9r/2nvgz+sX8Sv9BAaoD/gT7CCEM7g2ZDucLJAu6CK0ITwiJCKcIMgd+Ba0CgQD2/Ej5ffWT80Tz2/N29Y722feY9yz3/PZw9wn5cvrI/Ez/ywCOAjsDnwb6CnUMLA5+CmQKHAjpBwQI4AcvCeYHAwcIBBQC/f7H++v31fSg857yf/Rd9QD42/dc+P/3Pvho+QD62Puj/Yf/8wAHAnwDwwj2Cd0NWwsfC3YKBwlaCgMJywrgCKIH1wR2As//jftX+Jv0+/PK8gP0wvTn9uX3nffm96n3G/nD+Sr7+PwN/7UAxgELAkAGmgkODdgNkAtfCyoJTwrLCTAK8AkPCGoGggIdAGf7Kfhs9PPyMfJD8ufzfPWQ+Lj4wvkL+QX6pvqO+4D9rf9TAloDmgN3A/QHCAl9DeYKxwrRCOkHfwn/CBkLjwk1CAsFHgF3/Vn4SvWk8ffwE/Dq8Un0M/gg+/r8lPwJ+736fPoB+9f8yP7EADsA8QCNBHUMKxUQG+0ZsBcCDoQHRP8S+IH2dvED8+Py7/SO+ZX8IAAoAYr/P/2h/N/7Cv94/yAAzf9R/E/7V/i898/4EvrQ/c7/6wF5BNwMZxQtHYAepxURDgH9wvRX7Oro9e3g8L35zv/PBOkIqAmQBgEDqftG+Er4wvgG/9wAZAM/Amb9Uvox9hj1bPbg93n7Qf44ABoEsQzEFHQeTB3oFCoKy/hU8j3qeevZ8dP2qQBTBVkILwpkB+QCFf8Y+Hb42/iF+xoBQQARAXj8s/dH9iz0wPal+aH86QCgAuIDXwqrESUazh+2FusOnP0L8tztj+nB85X4dQCqBswFZQf7BCEB0P0Q+XX1DfjF+F7/LQLVAPP/fPhX9mf1h/VN+lD8Jv+JATAB1QOFDLkTwB50HvYSewnW8xfuluoA7d76Sf8nCHgJTgbHBRgBhv1o+7H2M/Zo+QT7ywJAAo8AZv2Y9WL2KvWe9zP88fwnAUMByQHTBZcPBhgwInQc+g9BA6ztHewe6avwx/7PAgcL1QgLBaMCff12+tj4RvUZ9o/6Z/yXBMMCbQAR/Tz13/ah9RD4ZPx3/B0AowBjAUkFJRBZGAQjHB6FEGYEme3o6z3p5u8G/w0Dxgo8CegD4QDZ/B753Pmu9+H4Gv9l/6IGxgMI/zT8WfPD9B70R/XH+iL7/P4jAScBkARoDpEVgSBIH2MQXwZJ74/qSeri7Ub/agPsCkkL/AO6AeL8rfoS/FD7vvv9/4//jAMvArn85PqZ8nPy7vOt9GT7jfyUACwDwgLGA+gKUxRqHIchLBP1Bz707+dY6+brmP0QBhYLAA4HBdEAVfsR+Wv5D/vk+u795QCFAQoEY/5Z+6H2MfIs9V71RPnU/Mn9bQFhAsMCjAWvD/0Voh9AHG8LoAAA6/3o7us286IEiggPDSoJGQBN+//3l/iC+8b+Jf9mA3gDJQPDAqL7R/pl9nr00fdP9sX5/frv+0gArQEMA54IpRO1GMwf/hOqA+b2SOXd6SDvUPvsCS8M7A3nBh7/h/kG+SH68v1LAsMBZgagBBMCif9E+Fb3FfWK9En25/Q69wb42vqb/5wC3QSDDOcV2hn4HuMOHQEF9M3lVe3F8ub/AwwHDdAMWAUA/qH5FPpP/EP/cwNZApoF7gOo/7j8RvZS9YT08vNd9Wn0CfZs97D6B/9uA3IFsQuGFvYZGCGfFCwDVPi05vfrV/T6/ZgMGw5wDNEFw/0B+PX3hfv8/IACyAHyARcCqfv0+K/1g/Tu9h33H/ek9bX1gfZe+RwA0wTqCC0NAhoNHa0h1BmcAe33r+cU6Wf39wDqDosRTAykA3P5O/Re8WD4dvtd/zAEiQDBAXH9ivf09pX2pPjy+r35tfWh9Jb1oPeqAUsH/wrrC/AUfhrbHCIdXAa4+ADtieWN86v+IApfD2kKcQGB9tDyefDL9aj+awAsBiUG0wJ6Aaz7pfda+Zf7Gf0I/ej49/Kp9Lj38vy4BogJpwh+CzIVPhj+HdgVRv5i9ITn++ih+HcC/ApYCn4DuvnP8sv0e/Wq/XYEgwNGB8cFLQHL/qX6BPig+07/E/0C+5/12O/g8yH5Wv+1ByQJrwT2DiEXAxtWH3YL1/dg7KjjY+zJ+wAHbAp+BxABqPew9076ffssBJ4GOQWYCEIGowBT/Wn5aPg8/Q0A+/ql9jjxue439RP90QNYCDEGQgTTENMXVx3pGlQBpfH65gfmefWrA9EMWgtCBun/m/eB+9H9VP6EBUQE3QO5BrsDfP6T+f/3nviU/IT+Sfip8ubviPG59z8AzwZuB2kDXAjZFsocdR8mErP2Hup35Qnt/Pw9ClYOSwdEAwP+fPhe/WX+ov3hAUgDLAV4BSwDlvtr9Vr4J/uA/gv+OPdo8A3xiPZt+5AEVAhaBS4C5g8uHbweuxzQBMLusubm6AX2cgMuDZgJnwGIAHP7avqC/ib9Lvw5AKME9AVUBfwAmvfk9AP6jP0Z/0v70fMA75DyU/mj/kgFkwd1AoAH9xn5IEQgohOA+IjqXOhA8WL9CAatCQwCn/8zAZ/9MP9g/sj6n/srAWgGswSQAdX6evSG+Pf+ugB7/Aj1c++a71b2yP0XA4YGKAWaAjgUdiPmIqMagwBC7IvmYe1I+qgB/AePBKD/VwMBA3IB4v44+7v5rP2pBgYHjgFo/OX1EfcO/sAB8/3Y9B3w2e+F9D38MAHNA6wDVwFbEHYkLyYCHVMEBe3j5SDrA/mMADEE1gSd/wkCpQUvBO3/2/nX95b6JAOiBx0Cu/wR+OX38/3LAfz/OPaJ763vIvQC+wEAZwR5BKgBRg5pI8snQB0tBs/vZeg27BL4if7o/+UBAwAhBH0JZwcVAVb4A/Z7+q8C8gduApn7WPgZ+gcA1QLm/3v28O7B7w313fl9/dMBmgJKARAQOiZ4KJoamAHB7oPqT+7l+Cr9pv2VALsD9goIDXwH1P2z9G31FP3qBTUHgv+3+v/5Tv05Aa8ACfzi8p/uBvG19XP6T/0yAb0BGAQ6GawrnyehEwf5mu6Z7a3wi/hg+Mv6jP+8BtoQ5w2LBDX5e/Lk96z/pQTSAZj7S/u7/c0AQQEA/iX5LvLo8JH0Bvhe+lz8DwABArwOXCemLXcdDwIi8UnxrvDC8CbyvvPY+roD5xDsFeULHP8g9vf2RPzf/gD++fqD/B4BzQOoAmb+z/pd9rXyVfLs85f2fPjs+6H+XAfIIDIvyCTeC5/3O/fn9bfuhOvO7ND2rAA6DmAYFxLtBXP8nfuf/I/5JfdV9tD6swHUBfgEz//v+0z4BPR28SXxyfP59qL6d/21A+wamS16KAASk/2r/f38LfHN5oLl2vF+/kILnBWeEmILlQTQAKj8sfVr86z0h/ix/hEDVgN/AAj/I/3P97LyXvGf9Ij37/lh+04ClRsILkMnZRBY/8YCxwDG8OPjQuNl8Sr+kQhqEJ4OqQx5CyQIxP3y8TnxBPay+Zf6Vf3xAFQBLwF1/SL4k/Xf9Er2G/b+9ZX3uwNSH64sEiHEDA0GtgziAdfqF98i5WX1q/7yA1cHpQkpD5EQUwm1+yr0xvYS+P71JvX5+akAzAL9AOT7qvft9/v5vfiV9ZP1rvjBDGgkPCfaGKQJWA2rDyX9kOXv3Wjrivks/gMAuwMWDWoUfxHsAy/4JPnc+zP4HPEl8rv8PAOeAnf8Jvg7+ir8MPvO9g72Ofji/lAVrCDSGVANRQqsE9UJ+vI55fXoMPV69sf3I/26B9YUNBUACrD8CvzB/2350fFK8mP7tf90/rX7Y/pL/Z398frh93T4GPoC+sIIqhkZG0ATHQzyEMoO9f958dnukvVD9Gjx8/SVAD4P/hKNC6oBPAB7AOn4LvHX8Q/6j/1o+5T6cvyQ/ab7PfuY+wn8UPqt9tMCDRfQG7UUvQ0xEYEReQLL8cPtG/hR+hjxf+8e/F4KBA0FCbAFpgXaAof5vPHm8qP4evm6+VL8EP+3/qr67fm0/D7/Fvxn9+wDphXdFX0RIxICGNIUqQGI88/w0Pdh9xvwQ/MI/dsDRwGfAi4HJQYrAkP8VPmR+IL3fPSX9W77Vv63/er8Q/5z/cT8X/w6/JIJGxOqESASchMRFY4OOAOg+FD1cPfz8v7y7ve9/Yf+Jf49AeIADAGq/2f/pP7p+075YfZ996j4u/r2/MT9t/7w/GX9U/9/CSkRFw51Ec0SnRLtDVADWfuh+mL77PXz9DD4m/sw++35S/xm/Xz+8v1x/vz/6wBd//r7FPwE+hT4UfkQ+9v9i//M/l3/TQTdDIAN1g6eEJIP7w+KCe4CP/5c/D/47PQt+QT60fm6+Zz42vmb+yX8LP1l/of93P4KAFMAEQCc/XH8J/zb+uT7cv4c/8wAkghuCwYMEw/uC9UNTAwXBO4C/v56+zv44vWw98T6H/tn+qb6RfhV+QX7iP2o/5v+/P48AX4CVAJ+AOb++v0H/gz9Iv1y/z8AVgetCVcNsA0cDZMKHgYVBQwANf6w+Uv4Bfi79lz3i/pk+0H7MPtD+un7tv0NAIP/l/8eAOoAvgBqAMMA/f/b/t0AmQHtAkoDfgMhBkEIoghMCcoGkgPJAor/2P7N+1H7Tv3z+Fj58/fR+Vz8R/ub/kb+9P40/xUBGwCDABYBXQEEANEAtv9cAc0AeQFoAi4BVwGGAR8DuwR/BMEF8QOMAmsBIADm/N398/xR/sn8bPw1/F787vzk/qv9kAD4/Mz/p/9I/74AIf+2AYP/PwFTAIEAfgDZAaT/jgAN/7f/qQDXAegB/gGO/+kDXP8DA6n8BADm/xv//P6nAFb+Qv//AU/8qwTtARv/WACm/Q8AJP+M/W3/y/zS/+j/pv4OAHsBJ/13Akf9/P/JAJ775gB2/wYBuwDO/xwBsv9S/wMBFv7WA+j/dgDoA9D/VP81/6sBef0VAej8rAIT/CgCwPvq/m78DAGRBMr93ANp/z8Bp/3z/438YP3p/n8AKQE0Aqn/vP+tAa4AcwBcAoL+CwCCAFP+PwOF/REDoQE1/0b9IgBRABsDqwBV/MkAxv8dARwDTgJF/8z65AHo/LT+RgHh/d38Ov/0AawCFfzqAXj/KASXAFj73gPWA4H97/3cAs0Gawu7AkoFDAhQAjT9Efo/AFv5qP0ZBE/6awGKBC7/xf+bAKwAGP5PBv36bvvEADsHp/83A30D/fD0A0EDl/bE+f39X/sTArT6Lvy8BhEFbwky+AYAlv+D/Nz36/72+5fzLvoeAQX8yAKGC3T/FAUUBNAFOfzI/4YHCwPyA53/SPkh9ab7R/zkBHMKbQOHCgL5bvHo+Ff9yPxPCeUCwQLZAz4Bgf7c/boC4giQB/gExPqc/Mf6/fxk+nb+2AP3Abv+jADUAd/8/v6iA4EDMf5TBXgEOfB1+sr6If4pAqEHHwaSAlkBGP4E/qr4avHh9Y8Bzv7JAhEFLf7DBAcHLQjlAoX/s/Na7Rj92gMf/dcIRglqAr72Yvxm/Bb3tPxHCAgGLwX4C3sSnvvt9eD/+vg5AwMBHfil8iP8+fQa74cLmw3dBFQHrhMHAFr9svtG+mgCpf9HAfD+cf5N/DL7D/YJ+GgBvQNtBO0GWft2/+7/1fle+5X77v3M+egB3ACp+in9Df4p+Tn3JPzPAEgGEQFm+g358gZEBePzfvLs/mv98+0V9KX6jfzp+Kb0NfkdA3v/OvQX/zcC0fxg9rn9/gA8BaAKwwzNByH10fTnA20E+fw9BuIEsvvA98X0BfyO/F0GCxBDDZcBdweuCNICPf+HAq0HbwaeAEUCsQCCCssDOv8z9L/wsQBIALoGLAYD+Lj9mwPw7lT8l/2j9xX88v98ADACmAwkA5f6IPfr9MUBcQCDCFkYZgunBDAI7QgbBQcFbARuA8f3gQNSAZr87PjpAMv+xvlf+N/5TP8xAccNxQJRAd/8OwynDkUIrwemBDn79Py1/wEFbv9IAMP7h/UY/2QBR/1J9Kj7h/+r+zf9DPwK+DH5E/Bj9Zv6RPsm/8z0CfyrAawGHf7u/tj9FgKTAwEDQAQ2Ay77J/cq/aX+GAFNBIcCuf8w/kACVQLxAUMBEwNLA64CmQMpAcAHUwXKCwQMpgMl/x/6j/0wBmP+2/jv+XABaPy5+X3yYgBBAz8E+P87CbgHPf5V+O4DswUsAvIGGAYZBNQC+wX9BFEAdANTCe4DvQbvBgX9Kffr+9P+Rf1aCTwI3gU/A5UG7v1vALz85wdFAID+M/8Y93T5Dfpn/eUEOgTGAK7/yvbB8kv3wPnH/LMD2AEaAVYBPPm/++QA+P5f+qL+NwFZBqIKxQMr/pj+JgE1BckC3gcDDAALdAakCL0FMQJ9AewBjwMAAqf+AgG1/jL5VvtdAMD68vYB+1YBmAaU/2L+Cf2k/2b71/g/9zPxPvGv+BX7jPnW+yD7Hvxr+VL7HvjO/TD+rwVpAnADPgJnAzH8ev/DAWHxl/o/AYQIhwg2ADYAzQJzAoIDEv+E/2L+5fx//CAA9AOT+xz7b/+9BfABZwLKAmUGS/0j/q7/0we49zb8nwAUAEDyrf1CAnIFQ/00AbEB1/1j9u79Z/2N+2/5t/ci/ff6tvZS+9T/S/5w9VDzJPtE/hMAqAI9BM8Axfv6/zIFgQc8B2j++wHUAn8Hj/+m/4f+Ufzj9TX3bPwb+4jw7fbc/5ABJ/8M+wL8XPeM+pn/ifh+9IPtivbn9iv57f+d/Tr/ngSzChYFMQCi/B/yBvH39FP91AbUAq36aAJWBID+lv5pAvH8VwAc/SkAs/qf6UbxEfwB+7IIfP5R9yT2zO168wL4+fjX9mf60AJaCGIL/BCcCz8DEQgMBuj8cf9dAbz8yAF2CR0SpQjTBFwEBQP/9Gf0gfuC+vL4hwMMB7IJvPuL+UgAXQmVDYwL5QIg/3j+OP61+QP6nQbDBD4Dfv8DAhz9SP0++tz+IPmhBK4Hmgr/+l/5afsX+4TwWfrm/ecEd/bV+U77Uf9kBAoDPADtAh/2zgNJ/Wv+nwKp//kB+QMHEz0J/v82BDUL2Qh9/Xf3VfmD+gD0d/rgBAkFlPlhA6EMlg6tAxsDXAS+AxsBcwXrCqQSMQUqBKcIjxNYCFf/8foM9I71ewJVCesN0f7yAK741fJt91n8Zf219S/3Uf/RCBANMQVHA5cGu//t/2wENALzAsUG7wBW+o7vhvFv8xD9tAKtBF/+Uf5K/rsE7ACTBCwKDg2k/2D+pQSgA4n/kASNBeP+K/8U/4wBwQqeC4YBevzV98b9T//H+OT1S/wm/qAEcAm1CXkA9P4//6L6q/zy/R73l+1R/pEEYvzJ/cT8pP7X+Lv6bwHs/5H9DQDJ/XIB1P4rAXwCtAEFAiwEzQJ6/s/8lPvi9sH9UQLW/Kz6EgHx+2YArwgNAXn/swKrAQUCOwEPBP4CiwkGBKf9KADC/3X7Iv9sDL0Ckvtk/doErwJL/2AD4gSH+Oz9ygV9+lz9JQLC/wv5gwN1AjH9xAB6AB7+dgD7/AH89QBI/VH+4QLDAAUBQP+b/H3/YAIT/5YCJQArAGEA3fzWAWQEk/uaAeEAfP4JAV0B3v62AFkC//x7AXkDPgA+/b0AvwC//0X+sQAVATUA8f/M/tr+SAAsAG/+mACKAXUAeAAd/3oAQv8a/4UAtwBYALABPQBtALL+sP5c/xgBTwEiABgB/v9g/6z+IAAVAF8Aqv9UAakAz/9rADkALAEaAMP/UgCn/wIAmgB1AJMAcgAh/z3/pP+h/8H/0v9Q/7j/EAAHALT/zAAoAc7/xP+5/7L/1gB8APT/LwDZ/xP/+f8aARUBzQBLAP7/5/9D/2b/gABAAD8ADwDSAHsASgG/AEoAZgBwAKb/2f8YAHkAZACvACD/ff79/0MAMf+FAFkAY/9cAMcA5f8+AAsA6/+f/2X/MP/U/08AT/9L//r/XAC7/5P/xwDg/2T/HAAuAPn/GADb/9f/tf8eAKcANwD5/zIAEwBK/zQAOQFVAM7/Cf9DAGwA9v8r/wT/sv/0/wz/sv+fAOn/LgB7AOP/q/+T/8D/0v+g/1H/Vf/g/00Ao//s/zMAFgDA/20A2gC4/3T/R/8QABwAjAAXAP7/1f9y/x4AagA3AKb/tP/G/z0AZAB5AG8BigARAIX/6P9AAPH/w/+Z/+f/3f+T/43/+//s/yoAaQDE/9j/1P/z/nH/4P8zAIP/pP8hAC8AVwAkAE0ASgCl//D/XgCrAJYAOwBeAL3/bf+l/4L/qv92/0IARQCJAFAACgDX//r/SwAgADoAOwCYACQAgv/c//v/OQAvACgAMQB2ANAA/v/t/+L/8/8OACIAHP+j/woAPwDa//3+f/9mALUAOgB3AMv/RP8qABUA4P9k/9T+Tv++/xUAdgA7APb/b//k/y8A+f/L/4f/DAAZAGwAxAALANT/TQCKABIA+v8nAP7/o/+5/zYAVQCNAEYAWQB4AKz/vf9VAEYAsv+2/9H/IwCUAOX/qv+D/6P/m/8GAF4A6f/i/woAGQB0AFYAEwAoALj/c//g/7b/NQA/ABoAMAAgALv/6f8BAGoAiQAHACoACAACAND/FQD+/+7//P/w/5H/k//+/x0AOQD2/5T/xf/S/3kA2/+m//X/SgAtAAYATQDI/3z/zP8gADYALwA9APj/0P8ZADMATwBHAFoA8/+2////NADM/7T/1/8NAPH/HgBkAPP/4f/+/xsAnv+0/9v/tP9Y/7j/AwAKAEgATAALAPj/hQCoAPP/0f+6/8H/CAA1AEUA8v/W/9r/5v+w/xYA2P+k/9//vv+3/8b/oP9XAGAAYwAnAAkA8f/e/yIAFQANAEAAlP8AADgA5f9l/wEANwAjAB4AHAD+//7/7f8eABEA6//e/zQA2v/X/y4AYABDADoAOwD8/wEAQwAwAKT/w//i/6b/2P8LAMX/0f8mAAEAGwD//xIABwDo/+P/hf/E/xAA9//i/9b/EQD9/yMAHwDk/5T/pf8UAEEAOAAUAGcANQDr/+X/p//z/w8ANQDr//n/4f/4/93/oP/T/9v/6f8fAAIA+P8fAAIA5f/2/wcACAAKACkABwAqAHUAgACIAHIATADw/8b/7f8BAJj/1v9eAOD/hv++/yUAqf/V/zEAVAAEACoAPgDM/8n/7f8nAPD/6/8ZAFgAHQDk/2IAdQBDAEcAQgBNAOz/7f86AEEAQQD6/ycADQD+/wcA3//J/8j/OwBRAGYAYAD4//L/KABxABkAv/8uAAwAr//8/ywAHwC7/9//UwBbAPn/0P8TACoAzP+j/xUABwANACQAAQD1/wYAy/+4/+v/3//f/z4AbABAAOz/zP/R/9b/6v/0/xAAMQD+/8r/4f/G/7D/1P/r/xQAwf/B/+j/8P/p//D/DwAsADQAJwAJAPf/NABkAEcAKwANAOb/3f/c/xwAJADp/+n///8XAAYA9v/X//r/MgAtADsAGgAaAN3/9P8YAPb/zP/l/yUASAAFAPT/CwCg/5j/vP+i/+j/JQD8/9n/u/99/9b/iP8pAGYA//8y/80EUgKd/6z8cf58A7b/gvtM/dQALQHW/Rv+xgFEAgwARP9aAqMAlv83/w0C5P+z/rv/3QCXAC7/fv8wAlj/B/9GAEABWv///uoADwBmAG//sQB0AOP/LACiAt//PQAbAeYACQBkALEA2gDXADABngBYAOP/Ev+//e/8Qvyh+qv6ZfrP+hL7lPvh/Kf+YP4AAUwDdgSXBjYIXgpACywLQgu9CsAHqAV9AkX+0Prj93H06vIA8krxfPEF8zr14vjL+Rn9NADiAOwCugTEA0UBOg8EBPILPBIlDiYO9xPkCsYIRAmo/578Ufh+9N/wsvBl7jXxHvEP9/D4Nfvt/08DMgEUBrQE+AGoAAEApfsg+wL4QfpPA3/5hQncDXcKNREnFmwObhAfD1YI7QFb/7r6cPKM8vfx1etc8Fn01fBU+R79LP1RAQ8EkQIfAlgCbf+G/G/95vd4/t8BF/okDzgJpg9xFGATzw8lEo4KCAf7/hr//vNs8kjzBuxJ7E3zy+7i9Of6APyI//cEtwNpA/QEGgM0/PX/4fkZ94b5DQO69cANagj5D7sTJhaLEOgSRQ+RCVIBjgSH9U/1QvT86w3tv/BT7Z/zWfeX+gr9iQMdArsD3wUeAgYASAG3+nH7ePddArv93f4WDqkFqhIXE08VIBK+EhYOogO7A0b7J/OK9kzt3OuJ7zLsFPCj9GT3h/u+AI8DqANRB+IEcALXApX+uPw4+7j2WwWe9woIFgnLCRsT8hHtEUQSchHfDJkFzgUo+Lv3GPQ67TPtJ+/N613xp/Ra9kn8PAHRAQYFuAfJA+wECQNu/lL+y/r49q4F2fY/CzcH2QxBEfQRrg9wESYPjgkPBpYCTfcY+XfxD+5u7Sju8eve8fj0WvYl/i4BJgIkBpUHEwTtBTMDtf68/oD7lfbHBwH1ZAqoBDwM0BCKEQ8QwhJgD48J1weoA8D42vrp8rPv5+2/7WvtbfB19LD1mP0T/58C5gXGBlwFAAaLA0gAMf9U/ez2QAbo+PEFXwa8BDAOtA0zDqcPqhCFC8UHvQbe+7r7n/VZ8bnuB/Az7ibxFPW/9Fb8OP6jACoFTgW1BH8FrgNvAB4AGv1H+dD+XvxF+6MK9/4lDxoN2hKaDzsTqA36BoAI+vsI/Mz3hfIt8aXwYO668GvzXvTK+eT8uP16BMsCQQXRBNoD5QFqAOX+b/wY+b0CjPKoC5UACQxzEAYQ+gw2Ei4N+AZ+CQoB0Pv2/MXxCPVH7truc/Da8Hn09vbv+4P9pAI+A1QFJwbWBHcDhAJ+ACr9lvsrBmP6ngJFCPEA1A4DCVwRLg8yDy4NigktBX/9Mf3x9bbzHvEY8ZnvH/IL82r1JvoE/NL/YwT2AgwHfAUiBFQEGgET/mD9//gf/yf2Ywds/xgNiQrSDjcLYBBrCowI4Ae8/m/+U/yp87X3q++H8a/wDvJh9RP4UvtV/o0B8AKKBcAFEgQ7BbYCHAC9/uP6FAMy+x0BAwVaACkMjwctD/ANAA8lDCQJjgQNAOT8n/ck9ubyxfKr8M3yVvIS9br4jvpq/50BcwPnBaADAQbzAr8BJgFD/jP8TwOU+hMG0QEABR4Lhwi2C6EN9AtkCcYKmwGRAc78dfZE+OjwHPRT8vPypPSY+Kb47Pye/7wA9AO9AxsFiQS6A1cCnACe/r78vAJe+noEuAIIBaUKpgjuCr4MmwnmCKQHBgHLAff8wPjZ+Sb0kfXJ81P0/fWT96D4C/xD/Wj/0QFQAh0D2AOzAT8DVACg/wH/MgAV/gQAeANz//8IGQY8CrMJZQuVB3cIkwQmA7z/n/1x+0L42vbZ9ar0K/UP9q33evmi+0z9CwDWAFYCxALnA0YDlQJnA48B9QB4A2H/LgEPA0b/jwaiA6AH6wW+ByMHmgWmAycDnACa/Tj81foT9wL4GPa+9c33YPc++bT7xvyX/7YAvAKrA5IE2QPZBCMCYQIPAf7+1QFo/ocBrAA8AnYDvAM0Bv0DHAb1BPME7AJMAnoAGP6n/SL65vmK+Dr4ivdL+cX5Lfy1/q7+ZAIqA1MC1wToAqQEdgKlAn8B6wA7/3YAX/4T//r/wP5A/w4A5ABgAWcB4AJlAmoBpALwAKwAfgCY/5D+BP+4/aX+zf35/Vv/H/5z/63/7v9zAEQBrgBkAboAkwBHABgAHP9z/3X/Lf7s/tD+ev7C/on/X/9MAGcAnQA2AVYBtwF+AQcCLwE+AUcB5QB2ANIAgQAOAE0AfP/X/7b+If/x/uH9xP5M/rP9vf7D/if+Zv/0/kL/lf///zwAHADkAN4AuwDaAS4BjAEVAlsBCAKdAXABPgEMAaQAEgBIALv/fP9l/+H+vv49/mv+5v05/hj+c/56/vr+Q/8t/yQA7v85AOQAzQAOAUsBeAEUASUBZwHrAIwAKQEuAEsAqQAXADAAtwCK/xcA0P8A/8T/6v4Q/+D+N/+s/iP/I//+/kz/f//L/+n/9P+UAEwAcAAPAbcAHQE5AfkAEgG9ANgAqwBEAHUAMADE/1AA1//5/+3/b/+a/+j+Of8C/5f+FP/O/qb+gv8T/2X/7v+8/9n/fABBALQA1ABZAU8BMgGhAXcBwQBcAbUARgCIAE4ARf+HAJf/OP/9/2H/JP9Q/0f/uf6t/lb/p/7G/mf/AP9R/7P/4P8TADkArAC3AMEAVwEfAfMAOQHjAJsAaABiAAUAwv8oAGb/1v8GAE///P+H/1n/Zf9F/+v+K/8o//H+i/8y/9b//f/s/4gAZgCiAMgAEAEgAUoBOwHyAOcAiwBFAOj/5P+w/3X/GwBy/yAAHAC3/yAAnf96/1b/JP/M/sz+5v6q/mf/Tv+c/1gAHQCvAM0AywCqAB8BRACSAHUA5/8PAPj/v/8CANn/OwDV/5kATwBxALkAMABsADEAy/+w/4P/SP8z/1//I/+Y/6H/w/8gACgAMQBfAEgADQB5AP7/KwBHAPD/HQAVACYABwA4ADsA8/87AAkA3f8BALD/p/95/4P/N/96/3j/fv+9//X/+P9CAIYAbACoALgAaACzAGMAWABsAA8AJwAIAOT/GADC/8T/+f93/9b/1P93/w4Ap//C/8f/1v/X/5H/8P+P/5j/5v+I/+v/JAAaAHcAlACIAG4AkgAuAA8AHADc/+L/+v/v/+r/TgDh/1cAZwDj/4MA6v8hAEQA0P8lAMv/zP+c/63/d/9x/7D/a//K//j/zP8OAEYA9/8+AGcA7f86AF0Axf9aAC8A4/9hAB8AMgAzAFQAJgAuAEwA+P8wAAsAyP8EAKT/uP+u/4z/g//U/7v/n/8qALv/3f89AKL/VQAQACwAPQArAFsAGQAmAPz/GgD//woAOwDG/18A6v8UABoAwv/l/53/LwDU/7j/DQDj/8j/wP+AAQP+jQCXAAAAlwA8APX/Uf4TCKb9jALE/C0Drv1kANj/u/51AI7/9P9e//kAH/9fAOn/RP/6AMb/5//o/4kASQEC/vIB0/3HAdP9JwFkAC0Azv8wALv/lv+mAGz/8P/d/4IA+/8JAAAAMgAA/6oAvf4Z/qsDVv/x/wv/bAAa/2H/ev/F/wn/kf8EAQf/dQHw/74AIAEfAK4A9P2aAYL/qwCT/88AqgBqAGwA/v9KAkL/MwCF/23/5v9n/f3/jf6//9H+dQGA/3YB8//2ABAAMwATAOf/JAD6/6X/pAAOABIA3v+4ACn/vABE/2QAff/OAKX/KwAnAM7/MwBw/0AAif8aAHv/5//J/8b/5P8kAKr/PgCa/yIAKwBfAHf/YgCnALD+1wD//0wB0/5fALz/rACz/sP/7//8/3f/+P+DAFz/FwAnAE8A0f80AJr/sgCX/wYALAA4AJ3/IQD//xQA4v/1/04AHAARAHgA4P8+ABAAFwD9/+//8P/v/2T/rv+Q/1z/0v4A/9n+1f6C/gn/3P5h/93/FwAxAfwA1gJxApcEzgOeBD4ECgSYAhwCggBO//X9xvzr+1n73frZ+nL7J/x8/Cb+eP4Q/yQAnP8iAI3/LP8w/3D+WP7w/k//+P8GA8ACVAVKBwUHbgmGB3YHLAXFA8n/L/56+6v4NPhg93j3mvj8+ln8Xv8wAmUDXAXWBtsF3AVwBOwBov+Z/cT6Tflg+Cj3Ifeb+Fr4jvpy/HD9+P8/Av8DAwUXDasHzg8ED08LIw4dCUgFqgIYAPL5/PZz99bxz/N89af06fia/KL+YQJpBu4GLghUClgHOwYVBIkAN/2p+6f4TPfz9yL4oviH+7/75/3m/hf/6P+v/x0ALwD/AM8BlANnCI8DOhGnBgsOWgs0B5MDeAIM+3T2MvUo9BDv1vWA9Tz3PP5PAaMDxQeRCocJHQpUCv0FggQPArr9BPxj+hv4CPiV+A/5o/o5/UD++v9HASkBMQFRAPb+5/0B/GT8uvxW/f3+FAr2AacNdxClCSEQiwlmBcABCf83+PPzH/Ut8qTwdPjB9gf8ywFvBCwHnQpqC1kJaQk/B7YBCwBk/Zb42fiX+C33V/pI/IP9CwBzApsChwPXA/sBIgHA/6P9KPxI+8T5JvlJ+jb6DP1Y/nEJyAOCDIkSHwp5EUEMZAaLAyv/3PcU9SL05PEF8ef38Pav+8IBLgM9BlcKtgkVCU8I/AVGATz/Df1t+Tb50/kM+ff6jP2k/rIA2QILAwwDagP1AcUAtf/y/Qv91/sn/LH7a/y8/GT92/0z/pz/m//rBvgCcwmYDY0HAA+iCuIFVQV4ARr7+vhc9h71t/JW9xP3bfr6/w0B7gPeB6QG7AbPBvIEVALuABX/P/ym+6r7O/q8+6X8av0c/7wAGwEuAiQClgHQAP3/r/6h/Uz97/yR/Xn9Uf7t/R3+4v2t/i7+UgJrB+f/5BHiB/sLyA4jB0kExwXf+g35B/fS9e3wWfV39xP12fzf/y7/TgXKB8oErwdQB0QDiQJrAYf9RPvf+0v67/lj/FT9Of7oAHcCLALwA8kDvQKvAsEBff+Z/9v9UP0s/Rj9TP0x/n/+f/+c/zEArwCuAO3/gAGTBoX+WAyMBAMGagrGAzIA1gMw+hP5cfnd9vf01/ln+vf5gf+dASwAcgQXBswCXQXZBC4BJAKfAMf9rv4Z/mT84f1C/qD9FP/l/1H/PwCRAMj/2v+m/9n+v/54/tX9y/2o/eL8DP0d/mf9SgAZAjwG0gTVCikLHQgoC2YGYAGtAf37G/j5+HH2Dvao+B76lPst/5EBswKTBFkG/QQlBbEE5gH/AF7/tfxi/F77cfrS+zr89vwy/yoACQGSAjQCLAJFAgcBIADl/2r+Tf41/qr9MP6e/o/+ev8AAE4AZgGMArgC9wMoBXcETgW9BGwDmgJaAXj/iP53/WH89vs1/Eb8wfzs/Yf+Zf/w/4oAwAAaAYcAQwCx/+j+If6j/RD9Q/0L/cX9T/4U/3r/JAHoAIMCxAN5BMMFIQfhBrQGCgZXBAMCPgBS/sX76vop+sn55/lk+//7YP0X/9L//wDbAaoBNQJbASIBTwCw/2X/Iv/n/nT/Df+p/9X/7/+GAHMAtQDfAGMAywDg/8r/0P/2/uL+Nv9z/gn/j//Y/qv/1v+O/1UAtQDqAFgBcgI7Ar4COgOcAoACewJgAeEAhACl/yD/7P4z/mP+Cv55/pX+8v5M/6H/zf/K/5j/Z/8E/5f+T/4X/qD9BP4L/kX+sv4H/1f/vP+JAP0AzAElA+8EOwTCBqcF1wS4BKQCPwA7ADL9WfwO/Dn7U/vr+6P8GP14/nX/8//CAHsBBQGGAS0BkQBuAPj/cv96/w7/Z/9q/4D/3P/1/zoArQCoACABIwHsADYBhwBfAOH/xv9Z/xb/Rv/t/vD+Cv/l/vP+Lv8b/0j/8P83AMUAjgHVAU8CogLJApMCTgL/AXYB4ABPAPv/L//5/qj+RP71/RX+Df7Q/T3+MP5b/kb+c/6O/jv+r/7B/qX+ev9k/xEA6QAVAUMCMwNdBEsE4wXiBGQE2QOAAmQAFwAd/jj9Bf2T/IL89vxd/ef9X/4T/6P/v/9qAGcAYgCbAFkADgDs/8j/c/+p/23/lv+D/7r/gP/v/5f/vP/X/9D/xf8XANL/CABYAAcAXACAAFkAmwBXAHwAgAA5AG0AhwBnAK8A0ACvAM4AMgHNAOkAJAG0AKEAwwBhAEQAKQAZAKv/QP8+/7f+N/5b/t/9iv3k/aL92/0o/mz+8/4b/3j//P8IAAIAEAG3ANwAFQPqARkDcATPApIDoAN0AQACoABX/z3/KP6o/dD9WP21/Rn+h/7m/qr/3//3/xIAKgCX/5X/Wv8Z/w7/Qv9I/6L/0v9AAHEAmwDsAOAAygCaAGQAFgDm/+T/jf/O/7//tP85APb/FABGAOP/JQA0ANr/VwAsAHIA1AC/APAAJwHxAPoA5ACfADUAKwDV/7H/1f+S/4H/nP86/z7/1P6T/nz+Qf5F/lT+Uf6t/uv+Sv/i/wYAbQDpAK8AxgDJAHoArwCxAC4BmgFBAugC8AJYAwsDcwL/AfUAGABR/3H+6v1c/Ub9bf1Y/fT9Xf6b/lr/g/+W/xoA9P8HAAIAz//m/5P/mf+Q/zj/l/+I/2n/DAD8/yYAowCLALsAAQHtAO0A/wD1ALQAjwBiABoA3//T/7j/pv/G/9f/1//2//f/GQAjAEUAUABGAGUAUwAzACoADQD4/8j/qP+X/2L/ZP9L/0b/gf+E/6r/2f/m/wIAIQArAC0AKABJADQAHgBHABAABAAgAMf/4f/q/8P//f/w//X/LQAlAGkAiQC7APYA9gAtASgB0wDAAF8A4/++/0H/Af/k/sT+w/7r/vb+EP8//3r/iv+r/7P/qP+5/7j/rv+1/8X/v/+//97/8f/9/yIAJwBOAHYAgQDDAPEACwFjAYABlAG7AbABfgFYAckAagD+/57/Tv8P/93+z/7O/tj+z/70/hP/H/9F/0//YP95/13/f/99/3v/kv9+/4L/lv+T/7//1/8DAEgAWQCqAN4A8wArAUoBUQFUATsBLAEdAfcA6ACwAIAARgAGAOX/pv96/2L/Pv8r/xb/Cf8a/zn/RP9N/27/av9o/3//df+A/43/h/+t/9T/8v8eACcALABCAEkAVgBoAHUAjQB+AHkAfwBmAEYAPgAUAAUABwAPABMAKwBJAFwAfQCUAKAAswCVAHEATgAaAN3/x/+K/1X/L/8X/xH/Gf8T/xT/KP9L/3n/iv+3/+T//v8eABcAIwAQAPr/CAAIABkAIgApADEAUQByAIsAmACyAMIA3ADzAPIA5QDLAJIAUwAaANr/n/+U/3H/SP9U/0X/K/88/zD/Lv9C/z7/Sv9z/3//lP/B/9f/5v/5/woAHAAwAEEAMAA+AEMARABjAHIAjQCoAMQA3ADsAOkA7QDjALoAjgBtAEAACADi/7T/hv96/2H/Uv9N/z7/Ov8//z//Tf9f/3T/gv+X/7T/vf/Y/+z/7v/9/w4ADgAtAD0ARgBSAFQAVwBUAGAAcQCBAKAApACdAJ8AlgCAAIoAZwBdAEMAGAACAPX/xf+x/4P/X/9Z/zP/Mv8x/y//TP9l/3f/mf+n/87/7//8/xEADwAZAC0AIAAaACgAKgAvAD4AQQA4AD8APABEAFUAUQBZAF4ATwBLAEEANAAkABwAEgAUAA4AHAAOABkAGgAVABYADgALAAQA+P/o//H/6v/Y/8v/t/+o/6P/nv+d/5T/k/+M/4n/kv+O/5z/rf+8/9L/4v/9/xgANAA9AFMAYQBqAFIATQBJAEkAWABhAHsAkgCPAKQAqACQAHgAaAA7ABQA/P/k/9f/wv+i/5T/f/9q/1f/Vv9k/2D/Zv9x/3//oP/D/9n/4v/f//P//P/7/wkABgD6//j/6//+/xEAJgA6AEoAVQBvAHEAgQCMAIEAeAB4AHYAdABsAGYAQwAyACQAEAAEAPL/3P/H/7D/nP+a/5z/pf+q/63/s/+r/7T/qf+n/6D/pv+f/6H/qf/F/9D/9P8IABAAIQAoACQALgA0ADkATABcAGsAaABxAHgAgAB7AG8AWABJACcAFgALAPr/6v/Z/73/uP+r/5//mf+T/4z/k/+W/5r/pf+2/7b/xP/V/+j/6//2//P/9v/+/wkAGAAoADcAPgA+AEsAVgBcAFYAOQAzADUAKwAZABAABgD6////BgAPAAsAEgAhABkADQD2/+z/9f/p/+L/3P/L/+P/+//x//T/7P/p/9P/1v/j/+L/9/8FAA4AGQAfAAcA9v/z/+H/3P/V/9T/1v/l////BQASACgALgA+AEgAOQA4AD0AHwAYABUACwAKAAoAAwD+/wEA///5//L/2//b/9//6v/p//D/6v/m/93/1v/O/9b/0v/T/9H/1//c/+n/5f/x//P/+f8BAAYAFwAcACMAJQAcABwACgAMAA8ADwAYAB0AHQAhACIAHwAWAAkABADz//f/+P8DAAsAEAAVABgABwANABAAAgAEAAQA/f8GAAIABAD//wAA+f/m/+f/3f/J/9H/zf/M/9P/4f/q//r/AAADAAAA8f/0/+z/8f8CAPv/AQAIAAwAFQAYABcAIwAjACkAFQAXABIAEAAVABAABwAHAP7/9//z//H/5f/n/+v/8v/l/+n/7v/w//v/BwAQABQABgAEAAYABAAFAAsABAAGAAgAEgAZABwAFwAPAP//8f/o/+L/2f/X/9j/4f/r/+v/9//x/+f/8P/6//v/9//5//7//f8EAAMADQABAP////8DAAkAAQAPACEAIQAeABYAEgAKAAoACQALAPz/DQAMAAIA/P/8//r/8v/v/+v/8f/x//D/9v///wsAFwAPABsADgAHAA4A+//r/+j/6P/n/+7//v8IABAABQANAA8AFAAKAPv/5v/e/9r/2//h/97/6P/v/wQADQAMABIAFAALABMAFAALAAsABwAHAP3/9P/v/+X/1f/S/9v/5P/y/wIADQAjABYAEgASAAgA9P/x/+f/7f/6/w4AEwAiACYAJgAmACIAEwALAAkAAwD9/wAA+//9/+v/5v/m/+L/5f/1//3/9P/6/+//8P/w//z/+f/5/+3///8CAP//EAAIAA0ADQAOAAEAAwD7//P/+f/t//7/BQAEAAUAAwAEAPn/+f/7/wcACgAHAAkADwAHAAYAAQADAAMADAAGAAQAAQACAPr/AAD8/+7/8P/p/+P/4//f/97/7//2/wcAIAAlACIAIgAtABgABQD9/+n/2//f/+n/7f/u////CwAOAAsADQAQAAYA/v/w/+v/6f/h/9H/3v/Y/+f/9f8BABUAIQAgABcAFAAQAAYACgATACEAMAAtACcAJwAVAP3/7v/n/9z/2f/d//D//f8EAAgAAQD5//L/8v/l/+L/5//v//H/8P/v/+7/9f/5//n/+P8IABEAFAAKAAoABgAAAAAA+v/z/+P/8P/5//3/BgAVAA4AFwAVABcAJQAqACoAKwAlACEAFgAJAAsAAwD6//3/9v/w//r//f8BAPn/5v/j/+P/4f/g/9b/0//M/8X/0P/g/+r/7v8BAAEAAQAKAAMAAwD///b//P8OABwAJQAoAC4AMgAvAC0AJQARAPz/7f/e/+D/7//7/wYABQD7//P/9f/p/+T/5P/v//P/AgAIABIAGwAfABsAFQAKAAcA/v8MAAoADAAPAAgA+v/3/+3/5P/a/87/zv/m/+r/9//9/xMAEQAZABgACgD///X/7P/y//P/+P8JABEAHAAdABgAKwAbABQA+v/6/+T/2//V/9X/1v/X/+b/7P/z/wAA/P8EAAUA///9/wsADAASABQADgAXABEACAD9/wEAAgAFABEADAAQABIAGwAQAAYA+P/0/+//9v/+//7/BgAKAAEAAADz/+7/9P/w/+P/3P/l/+H/5P/z////CgAbACYAMAAsACQAEgABAPD/6P/p/+X/6f/q//////8GABMAEgAFAPz/8P/5////AgD8//r/9//z//b/7f/3//L/8v/3//j/AgALAAQA+v/6//T/7//w/+7/+/8IABMAEwAYABoAFQAYABkAFAAXABgAEgATAAQA8v/u/+j/5v/a/+r/+/8OABIAFAAQAAYA9//6//H/5P/w//n/AwDy//v/9f/x//r/AAAMAAIABwAPABgACwACAPf/9P/v/+P/2v/f/+X/6P/v//z/AgAHAP3/AAAFAAIABQD6//r/8P/j//L/+P8FABgAIgAnADQAKwAiACIAEgAGAPr/AQDx/+z/6//v//P/\" type=\"audio/wav\" />\n",
       "                    Your browser does not support the audio element.\n",
       "                </audio>\n",
       "              "
      ],
      "text/plain": [
       "<IPython.lib.display.Audio object>"
      ]
     },
     "metadata": {},
     "output_type": "display_data"
    }
   ],
   "source": [
    "tts('Hello, this is Nirmala from Global Bank calling regarding ATM Capture. are you Kumar speaking?')\n"
   ]
  },
  {
   "cell_type": "markdown",
   "metadata": {},
   "source": [
    "# Pawan Ji Global Bank"
   ]
  },
  {
   "cell_type": "code",
   "execution_count": null,
   "metadata": {},
   "outputs": [],
   "source": [
    "import requests, json\n",
    "\n",
    "with open('/home/bumblebee/wiseyak/abhi/global/global-audio-socket/calltype_template/atm_template.json','r') as f:\n",
    "    json_file=f.read()\n",
    "    call_template=json.loads(json_file.replace('{name}','पवन'))\n",
    "\n",
    "call_type=call_template['type']\n",
    "question_for_tts=call_template['question_audio_for_tts']"
   ]
  },
  {
   "cell_type": "code",
   "execution_count": 10,
   "metadata": {},
   "outputs": [
    {
     "data": {
      "text/plain": [
       "{'type': 'atm_capture',\n",
       " 'out_state': 4,\n",
       " 'question_audio_for_tts': {'1': {'yes': 'नमस्ते! म ग्लोबल बैंकबाट प्रतिवा बोल्दैछु! के तपाईं पवन जी बोल्दै हुनुहुन्छ!'},\n",
       "  '2': {'yes': 'तपाईंको एटीएम कार्ड क्याप्चर भएको विषयमा कुरा गर्नु थियो। अहिले हजुरसँग कुरा गर्न मिल्छ?',\n",
       "   'no': 'तपाईंको समयको लागि धन्यवाद। म कुनै पनि अवरोधको लागि क्षमा चाहन्छु।'},\n",
       "  '3': {'yes': 'हामीले तपाईंको कार्डलाई अस्थायी रूपमा ब्लक गरेका छौं। तपाईंको कार्ड एक हप्ता पछि मात्र बैंकमा आउनेछ र कार्ड फिर्ता लिनको लागि तपाईं आफ्नो नागरिकता वा ड्राइभिङ लाइसेन्स वा पासपोर्ट लिएर ग्लोबल बैंकको कमलादी शाखामा जानुहोला।',\n",
       "   'no': 'मैले तपाईंको प्रतिक्रिया रेकर्ड गरेकी छु। तपाईंको समयको लागि धन्यवाद।'},\n",
       "  '4': {'no': 'मैले तपाईंको प्रतिक्रिया रेकर्ड गरेकी छु, तपाईंको समयको लागि धन्यवाद।'},\n",
       "  '5': {'yes': 'हुन्छ, तपाईंको समयको लागि धन्यवाद। केही गार्हो पर्यो भने सम्पर्क गर्नुहोला।'}},\n",
       " 'llm_states': {'1': {'positive': ['हो म पवन बोल्दै छु ',\n",
       "    'हजुर हो ',\n",
       "    'हजुर बोल्दै छु ',\n",
       "    'के कुरा को लागि हो',\n",
       "    'हजुर भन्नुस म सुनिरहेको छु',\n",
       "    'ओभाओ भन्नुस् न',\n",
       "    'हजार भनोस् न के काम पर्\\u200dयो',\n",
       "    'हजार भनोस् न'],\n",
       "   'negative': ['हैन',\n",
       "    'हैन नि',\n",
       "    'म त अर्कै मान्छे हो',\n",
       "    'मेरो नाम त रमेश हो',\n",
       "    'रंग नम्बर पर्यो',\n",
       "    'रङ नम्बर पर्\\u200dयो',\n",
       "    'होइन']},\n",
       "  '2': {'positive': ['मिल्छ',\n",
       "    'मिल्छ मिल्छ',\n",
       "    'हजुर भन्नुस न',\n",
       "    'अहिले मिल्छ',\n",
       "    'हजुर मिल छ'],\n",
       "   'negative': ['अहिले त मिल्दैन',\n",
       "    'मिल्दैन',\n",
       "    'भोलि मात्रै मिल्छ',\n",
       "    'एकै छिन पछि मात्रै मिल्छ',\n",
       "    'अहिले मिल्दैन',\n",
       "    'हजुर मिल दैन']},\n",
       "  '3': {'positive': ['हुन्छ',\n",
       "    'हुन्छ, समय मिलाएर जान पर्ला',\n",
       "    'धन्यवाद, म जान्छु',\n",
       "    'म छिट्टै जान्छु'],\n",
       "   'negative': ['हुँदैन',\n",
       "    'अलि छिटो गर्न मिल्दैन?',\n",
       "    'मलाई हतार छ, अलि चाँडो मिल्छ कि?',\n",
       "    'म सँग अहिले डकुमेन्टहरू केही पनि छैन',\n",
       "    'अलि समय पछि जाँदा पनि हुन्छ?']},\n",
       "  '4': {'positive': ['बुझे', 'राम्ररी बुझे', 'बुझे नि, धन्यवाद'],\n",
       "   'negative': ['बुझिन', 'बुझिएन']},\n",
       "  'repeat': [['could you speak louder',\n",
       "    \"i can't hear you\",\n",
       "    'repeat',\n",
       "    'repeat please',\n",
       "    'can you speak alittle louder?',\n",
       "    'pardon?',\n",
       "    'can you repeat?',\n",
       "    'could you repeat?',\n",
       "    'मैले बुझिन',\n",
       "    'मलाई फेरी भनि दिनुस न',\n",
       "    'हजुरले के भन्नु भएको मैले बुझिन',\n",
       "    'हजुर के भन्नु भाको?']]},\n",
       " 'tts_next_states': {'1': {'yes': {'next_state': 2,\n",
       "    'audio_file': 'atm_capture2yes.wav'},\n",
       "   'no': {'next_state': 'out_state', 'audio_file': 'atm_capture2no.wav'},\n",
       "   'repeat': {'next_state': 1, 'audio_file': 'atm_capture1.wav'}},\n",
       "  '2': {'yes': {'next_state': 3, 'audio_file': 'atm_capture3yes.wav'},\n",
       "   'no': {'next_state': 'out_state', 'audio_file': 'atm_capture3no.wav'},\n",
       "   'repeat': {'next_state': 2, 'audio_file': 'atm_capture2yes.wav'}},\n",
       "  '3': {'yes': {'next_state': 4, 'audio_file': 'atm_capture5.wav'},\n",
       "   'no': {'next_state': 'out_state', 'audio_file': 'atm_capture4no.wav'},\n",
       "   'repeat': {'next_state': 3, 'audio_file': 'atm_capture3yes.wav'}},\n",
       "  '4': {'yes': {'audio_file': 'atm_capture5.wav'},\n",
       "   'no': {'audio_file': 'atm_capture5.wav'},\n",
       "   'repeat': {'next_state': 4, 'audio_file': 'atm_capture5.wav'}}}}"
      ]
     },
     "execution_count": 10,
     "metadata": {},
     "output_type": "execute_result"
    }
   ],
   "source": [
    "json.loads(json_file.replace('{name}','पवन'))"
   ]
  },
  {
   "cell_type": "code",
   "execution_count": 7,
   "metadata": {},
   "outputs": [
    {
     "data": {
      "text/plain": [
       "{'1': {'yes': 'नमस्ते! म ग्लोबल बैंकबाट प्रतिवा बोल्दैछु! के तपाईं पवन जी बोल्दै हुनुहुन्छ!'},\n",
       " '2': {'yes': 'तपाईंको एटीएम कार्ड क्याप्चर भएको विषयमा कुरा गर्नु थियो। अहिले हजुरसँग कुरा गर्न मिल्छ?',\n",
       "  'no': 'तपाईंको समयको लागि धन्यवाद। म कुनै पनि अवरोधको लागि क्षमा चाहन्छु।'},\n",
       " '3': {'yes': 'हामीले तपाईंको कार्डलाई अस्थायी रूपमा ब्लक गरेका छौं। तपाईंको कार्ड एक हप्ता पछि मात्र बैंकमा आउनेछ र कार्ड फिर्ता लिनको लागि तपाईं आफ्नो नागरिकता वा ड्राइभिङ लाइसेन्स वा पासपोर्ट लिएर ग्लोबल बैंकको कमलादी शाखामा जानुहोला।',\n",
       "  'no': 'मैले तपाईंको प्रतिक्रिया रेकर्ड गरेकी छु। तपाईंको समयको लागि धन्यवाद।'},\n",
       " '4': {'no': 'मैले तपाईंको प्रतिक्रिया रेकर्ड गरेकी छु, तपाईंको समयको लागि धन्यवाद।'},\n",
       " '5': {'yes': 'हुन्छ, तपाईंको समयको लागि धन्यवाद। केही गार्हो पर्यो भने सम्पर्क गर्नुहोला।'}}"
      ]
     },
     "execution_count": 7,
     "metadata": {},
     "output_type": "execute_result"
    }
   ],
   "source": [
    "question_for_tts"
   ]
  },
  {
   "cell_type": "code",
   "execution_count": 8,
   "metadata": {},
   "outputs": [
    {
     "name": "stdout",
     "output_type": "stream",
     "text": [
      "Audio file saved as: atm_capture1.wav\n",
      "Audio file saved as: atm_capture2yes.wav\n",
      "Audio file saved as: atm_capture2no.wav\n",
      "Audio file saved as: atm_capture3yes.wav\n",
      "Audio file saved as: atm_capture3no.wav\n",
      "Audio file saved as: atm_capture4no.wav\n",
      "Audio file saved as: atm_capture5.wav\n"
     ]
    }
   ],
   "source": [
    "# Function to find where the phrase lies in the dictionary\n",
    "def find_phrase_location(dictionary, phrase):\n",
    "    for key, sub_dict in dictionary.items():\n",
    "        for sub_key, value in sub_dict.items():\n",
    "            if value == phrase:\n",
    "                return f\"{call_type}{key}{sub_key}.wav\"\n",
    "\n",
    "    return \"Phrase not found\"\n",
    "\n",
    "# TTS endpoint and API key (example)\n",
    "TTS_API_ENDPOINT = \"http://192.168.88.10:8026/xtts_text\"\n",
    "\n",
    "# Function to send request to TTS API and save audio file\n",
    "def text_to_speech(file_name,text):\n",
    "    payload = {\n",
    "        'text': text,\n",
    "        'language': 'nepali',  # Assuming Nepali text\n",
    "    }\n",
    "    \n",
    "    # Send the request to TTS API (using POST or GET based on your API spec)\n",
    "    response = requests.post(TTS_API_ENDPOINT, data=payload)\n",
    "\n",
    "    if response.status_code == 200:\n",
    "        # Save the audio content to a file\n",
    "        with open(\"/home/bumblebee/wiseyak/abhi/global/global-audio-socket/audios/Pawan Ji/\"+file_name, 'wb') as f:\n",
    "            f.write(response.content)\n",
    "        print(f\"Audio file saved as: {file_name}\")\n",
    "    else:\n",
    "        print(f\"Failed to convert text to speech: {response.text}\")\n",
    "\n",
    "for k, v in question_for_tts.items():\n",
    "    for yesno, text in v.items():\n",
    "        audio_file_name=find_phrase_location(question_for_tts, text)\n",
    "        if '1' in audio_file_name or '5' in audio_file_name:\n",
    "            audio_file_name=audio_file_name.replace('yes','')\n",
    "        \n",
    "        text_to_speech(audio_file_name, text)\n",
    "    #     break\n",
    "    # break"
   ]
  },
  {
   "cell_type": "markdown",
   "metadata": {},
   "source": [
    "# ASR Test Response"
   ]
  },
  {
   "cell_type": "code",
   "execution_count": null,
   "metadata": {},
   "outputs": [],
   "source": [
    "import wave\n",
    "# Open the audio file\n",
    "with wave.open('/home/bumblebee/wiseyak/abhi/global/global-audio-socket/vad_output/2024-12-12 11:11:39___demo-scheduled-from-ui-global86001f48-f1ea-4c92-9d2d-b45df7c04989__1.wav', 'rb') as wf:\n",
    "    num_frames = wf.getnframes()  # Number of frames\n",
    "    audio_bytes = wf.readframes(num_frames) # Read audio data (frames)"
   ]
  },
  {
   "cell_type": "code",
   "execution_count": null,
   "metadata": {},
   "outputs": [],
   "source": [
    "# !pip install requests\n",
    "import requests\n",
    "\n",
    "asr_base_url='http://192.168.88.10:8028/transcribe_sip_ne'\n",
    "\n",
    "# Prepare for POST request\n",
    "files = {\n",
    "    \"audio_file\": (\"audio.wav\", audio_bytes, \"audio/wav\")\n",
    "}\n",
    "\n",
    "response = requests.post(asr_base_url, files=files)\n",
    "\n",
    "asr_output_text=response.json()\n",
    "asr_output_text"
   ]
  },
  {
   "cell_type": "code",
   "execution_count": null,
   "metadata": {},
   "outputs": [],
   "source": [
    "response.json()"
   ]
  },
  {
   "cell_type": "markdown",
   "metadata": {},
   "source": [
    "# TTS"
   ]
  },
  {
   "cell_type": "code",
   "execution_count": 38,
   "metadata": {},
   "outputs": [],
   "source": [
    "import requests\n",
    "import IPython\n",
    "\n",
    "# TTS endpoint and API key (example)\n",
    "TTS_API_ENDPOINT = \"http://192.168.88.10:8026/xtts_text\"\n",
    "\n",
    "# Function to send request to TTS API and save audio file\n",
    "def text_to_speech(text):\n",
    "    payload = {\n",
    "        'text': text,\n",
    "        'language': 'nepali', \n",
    "        'audio_speed': 2 # Assuming Nepali text\n",
    "    }\n",
    "    \n",
    "    # Send the request to TTS API (using POST or GET based on your API spec)\n",
    "    response = requests.post(TTS_API_ENDPOINT, data=payload)\n",
    "    return IPython.display.Audio(response.content)"
   ]
  },
  {
   "cell_type": "code",
   "execution_count": 39,
   "metadata": {},
   "outputs": [
    {
     "data": {
      "text/html": [
       "\n",
       "                <audio  controls=\"controls\" >\n",
       "                    <source src=\"data:audio/wav;base64,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\" type=\"audio/wav\" />\n",
       "                    Your browser does not support the audio element.\n",
       "                </audio>\n",
       "              "
      ],
      "text/plain": [
       "<IPython.lib.display.Audio object>"
      ]
     },
     "execution_count": 39,
     "metadata": {},
     "output_type": "execute_result"
    }
   ],
   "source": [
    "text_to_speech('Hello')"
   ]
  },
  {
   "cell_type": "markdown",
   "metadata": {},
   "source": [
    "# TTS for Wlink"
   ]
  },
  {
   "cell_type": "code",
   "execution_count": 61,
   "metadata": {},
   "outputs": [],
   "source": [
    "import requests, json\n",
    "\n",
    "# TTS endpoint and API key (example)\n",
    "TTS_API_ENDPOINT = \"http://192.168.88.10:8026/xtts_text\"\n",
    "\n",
    "# Function to find where the phrase lies in the dictionary\n",
    "def find_phrase_location(dictionary, phrase):\n",
    "    for key, sub_dict in dictionary.items():\n",
    "        for sub_key, value in sub_dict.items():\n",
    "            if value == phrase:\n",
    "                return f\"{call_type}{key}{sub_key}.wav\"\n",
    "\n",
    "    return \"Phrase not found\"\n",
    "\n",
    "# Function to send request to TTS API and save audio file\n",
    "def text_to_speech(file_name,text):\n",
    "    payload = {\n",
    "        'text': text,\n",
    "        'language': 'nepali',\n",
    "        'audio_speed':1.1 # Assuming Nepali text\n",
    "    }\n",
    "    \n",
    "    # Send the request to TTS API (using POST or GET based on your API spec)\n",
    "    response = requests.post(TTS_API_ENDPOINT, data=payload)\n",
    "\n",
    "    if response.status_code == 200:\n",
    "        # Save the audio content to a file\n",
    "        with open(\"/home/bumblebee/wiseyak/abhi/global/global-audio-socket/audios/Sachin/\"+file_name, 'wb') as f:\n",
    "            f.write(response.content)\n",
    "        print(f\"Audio file saved as: {file_name}\")\n",
    "    else:\n",
    "        print(f\"Failed to convert text to speech: {response.text}\")"
   ]
  },
  {
   "cell_type": "code",
   "execution_count": 62,
   "metadata": {},
   "outputs": [
    {
     "name": "stdout",
     "output_type": "stream",
     "text": [
      "Audio file saved as: subscription_renewal1.wav\n",
      "Audio file saved as: subscription_renewal2yes.wav\n",
      "Audio file saved as: subscription_renewal2no.wav\n",
      "Audio file saved as: subscription_renewal3yes.wav\n",
      "Audio file saved as: subscription_renewal3no.wav\n",
      "Audio file saved as: subscription_renewal4no.wav\n",
      "Audio file saved as: subscription_renewal5.wav\n"
     ]
    }
   ],
   "source": [
    "with open('/home/bumblebee/wiseyak/abhi/global/global-audio-socket/calltype_template/subscription_renewal.json','r') as f:\n",
    "    json_file=f.read()\n",
    "    call_template=json.loads(json_file.replace('{name}','सचिन'))\n",
    "\n",
    "call_type=call_template['type']\n",
    "question_for_tts=call_template['question_audio_for_tts']\n",
    "\n",
    "for k, v in question_for_tts.items():\n",
    "    for yesno, text in v.items():\n",
    "        audio_file_name=find_phrase_location(question_for_tts, text)\n",
    "        if '1' in audio_file_name or '5' in audio_file_name:\n",
    "            audio_file_name=audio_file_name.replace('yes','')\n",
    "        \n",
    "        text_to_speech(audio_file_name, text)\n",
    "    #     break\n",
    "    # break"
   ]
  },
  {
   "cell_type": "markdown",
   "metadata": {},
   "source": [
    "# Worldlink Receiver TV"
   ]
  },
  {
   "cell_type": "code",
   "execution_count": 5,
   "metadata": {},
   "outputs": [
    {
     "name": "stdout",
     "output_type": "stream",
     "text": [
      "Audio file saved as: tv_issue1yes.wav\n",
      "Audio file saved as: tv_issue2yes.wav\n",
      "Audio file saved as: tv_issue2no.wav\n",
      "Audio file saved as: tv_issue3yes.wav\n",
      "Audio file saved as: tv_issue3no.wav\n",
      "Audio file saved as: tv_issue4yes.wav\n",
      "Audio file saved as: tv_issue4no.wav\n"
     ]
    }
   ],
   "source": [
    "import requests, json\n",
    "\n",
    "# TTS endpoint and API key (example)\n",
    "TTS_API_ENDPOINT = \"http://192.168.88.10:8026/xtts_text\"\n",
    "\n",
    "# Function to find where the phrase lies in the dictionary\n",
    "def find_phrase_location(dictionary, phrase):\n",
    "    for key, sub_dict in dictionary.items():\n",
    "        for sub_key, value in sub_dict.items():\n",
    "            if value == phrase:\n",
    "                return f\"{call_type}{key}{sub_key}.wav\"\n",
    "\n",
    "    return \"Phrase not found\"\n",
    "\n",
    "# Function to send request to TTS API and save audio file\n",
    "def text_to_speech(file_name,text):\n",
    "    payload = {\n",
    "        'text': text,\n",
    "        'language': 'nepali',\n",
    "        'audio_speed':1.1 # Assuming Nepali text\n",
    "    }\n",
    "    \n",
    "    # Send the request to TTS API (using POST or GET based on your API spec)\n",
    "    response = requests.post(TTS_API_ENDPOINT, data=payload)\n",
    "\n",
    "    if response.status_code == 200:\n",
    "        # Save the audio content to a file\n",
    "        with open(\"/home/bumblebee/wiseyak/abhi/global/global-audio-socket/audios/Worldlink/\"+file_name, 'wb') as f:\n",
    "            f.write(response.content)\n",
    "        print(f\"Audio file saved as: {file_name}\")\n",
    "    else:\n",
    "        print(f\"Failed to convert text to speech: {response.text}\")\n",
    "\n",
    "\n",
    "\n",
    "if __name__=='__main__':       \n",
    "    with open('/home/bumblebee/wiseyak/abhi/global/global-audio-socket/receivertype_template/receiver_tv.json','r') as f:\n",
    "        json_file=f.read()\n",
    "        call_template=json.loads(json_file)\n",
    "\n",
    "    call_type=call_template['type']\n",
    "    question_for_tts=call_template['question_audio_for_tts']\n",
    "\n",
    "    for k, v in question_for_tts.items():\n",
    "        for yesno, text in v.items():\n",
    "            # print(k,yesno,text)\n",
    "            audio_file_name=find_phrase_location(question_for_tts, text)\n",
    "            # if '1' in audio_file_name or '5' in audio_file_name:\n",
    "                # audio_file_name=audio_file_name.replace('yes','')\n",
    "            text_to_speech(audio_file_name, text)\n",
    "        #     break\n",
    "        # break"
   ]
  },
  {
   "cell_type": "markdown",
   "metadata": {},
   "source": [
    "# Worldlink Receiver Internet"
   ]
  },
  {
   "cell_type": "code",
   "execution_count": 37,
   "metadata": {},
   "outputs": [
    {
     "name": "stdout",
     "output_type": "stream",
     "text": [
      "Audio file saved as: internet_issue_en1yes.wav\n"
     ]
    }
   ],
   "source": [
    "import requests, json\n",
    "\n",
    "# TTS endpoint and API key (example)\n",
    "TTS_API_ENDPOINT = \"http://192.168.88.10:8026/xtts_text\"\n",
    "\n",
    "# Function to find where the phrase lies in the dictionary\n",
    "def find_phrase_location(dictionary, phrase):\n",
    "    for key, sub_dict in dictionary.items():\n",
    "        for sub_key, value in sub_dict.items():\n",
    "            if value == phrase:\n",
    "                return f\"{call_type}{key}{sub_key}.wav\"\n",
    "\n",
    "    return \"Phrase not found\"\n",
    "\n",
    "# Function to send request to TTS API and save audio file\n",
    "def text_to_speech(file_name,text):\n",
    "    payload = {\n",
    "        'text': text,\n",
    "        'language': 'english',\n",
    "        'audio_speed':1.1 # Assuming Nepali text\n",
    "    }\n",
    "    \n",
    "    # Send the request to TTS API (using POST or GET based on your API spec)\n",
    "    response = requests.post(TTS_API_ENDPOINT, data=payload)\n",
    "\n",
    "    if response.status_code == 200:\n",
    "        # Save the audio content to a file\n",
    "        with open(\"/home/bumblebee/wiseyak/abhi/global/global-audio-socket/audios/Worldlink/internet_issue_en_corrected/\"+file_name, 'wb') as f:\n",
    "            f.write(response.content)\n",
    "        print(f\"Audio file saved as: {file_name}\")\n",
    "    else:\n",
    "        print(f\"Failed to convert text to speech: {response.text}\")\n",
    "\n",
    "\n",
    "\n",
    "if __name__=='__main__':       \n",
    "    with open('/home/bumblebee/wiseyak/abhi/global/global-audio-socket/receivertype_template/receiver_internet_en.json','r') as f:\n",
    "        json_file=f.read()\n",
    "        call_template=json.loads(json_file)\n",
    "\n",
    "    call_type=call_template['type']\n",
    "    question_for_tts=call_template['question_audio_for_tts']\n",
    "\n",
    "    for k, v in question_for_tts.items():\n",
    "        for yesno, text in v.items():\n",
    "            # print(k,yesno,text)\n",
    "            audio_file_name=find_phrase_location(question_for_tts, text)\n",
    "            # if '1' in audio_file_name or '5' in audio_file_name:\n",
    "                # audio_file_name=audio_file_name.replace('yes','')\n",
    "            text_to_speech(audio_file_name, text)\n",
    "            break\n",
    "        break"
   ]
  },
  {
   "cell_type": "markdown",
   "metadata": {},
   "source": [
    "# Test"
   ]
  },
  {
   "cell_type": "code",
   "execution_count": 60,
   "metadata": {},
   "outputs": [
    {
     "name": "stdout",
     "output_type": "stream",
     "text": [
      "Audio Properties for /home/bumblebee/wiseyak/abhi/global/global-audio-socket/audios/Sachin/subscription_renewal1.wav:\n",
      "  Sample Width: 2 bytes\n",
      "  Channels: 1\n",
      "  Frame Rate: 24000 Hz\n",
      "\n",
      "Audio Properties for /home/bumblebee/wiseyak/abhi/global/global-audio-socket/audios/Arjun/doctor_appointment1.wav:\n",
      "  Sample Width: 2 bytes\n",
      "  Channels: 1\n",
      "  Frame Rate: 24000 Hz\n",
      "\n"
     ]
    }
   ],
   "source": [
    "import wave\n",
    "\n",
    "def get_audio_properties_wave(audio_path):\n",
    "    with wave.open(audio_path, 'rb') as wave_file:\n",
    "        properties = {\n",
    "            \"sample_width\": wave_file.getsampwidth(),  # Sample width in bytes\n",
    "            \"channels\": wave_file.getnchannels(),      # Number of channels\n",
    "            \"frame_rate\": wave_file.getframerate()     # Frame rate or sample rate\n",
    "        }\n",
    "    return properties\n",
    "\n",
    "# Example usage\n",
    "audio_paths = [\n",
    "    \"/home/bumblebee/wiseyak/abhi/global/global-audio-socket/audios/Sachin/subscription_renewal1.wav\",\n",
    "    \"/home/bumblebee/wiseyak/abhi/global/global-audio-socket/audios/Arjun/doctor_appointment1.wav\"\n",
    "]\n",
    "\n",
    "audio_properties_wave = {path: get_audio_properties_wave(path) for path in audio_paths}\n",
    "for path, props in audio_properties_wave.items():\n",
    "    print(f\"Audio Properties for {path}:\")\n",
    "    print(f\"  Sample Width: {props['sample_width']} bytes\")\n",
    "    print(f\"  Channels: {props['channels']}\")\n",
    "    print(f\"  Frame Rate: {props['frame_rate']} Hz\")\n",
    "    print()\n"
   ]
  }
 ],
 "metadata": {
  "kernelspec": {
   "display_name": "Python 3",
   "language": "python",
   "name": "python3"
  },
  "language_info": {
   "codemirror_mode": {
    "name": "ipython",
    "version": 3
   },
   "file_extension": ".py",
   "mimetype": "text/x-python",
   "name": "python",
   "nbconvert_exporter": "python",
   "pygments_lexer": "ipython3",
   "version": "3.10.12"
  }
 },
 "nbformat": 4,
 "nbformat_minor": 2
}

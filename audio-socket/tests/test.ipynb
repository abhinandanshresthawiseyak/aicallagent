{
 "cells": [
  {
   "cell_type": "code",
   "execution_count": 1,
   "metadata": {},
   "outputs": [
    {
     "name": "stdout",
     "output_type": "stream",
     "text": [
      "Status Code: 200\n",
      "Response Text: {\"id\":\"1729138946.185\",\"name\":\"PJSIP/fusionPBX-Trunk-015970296-00000062\",\"state\":\"Down\",\"protocol_id\":\"085905fe-dc11-4d10-a389-a92511539464\",\"caller\":{\"name\":\"CallerID\",\"number\":\"+9779863800249\"},\"connected\":{\"name\":\"CallerID\",\"number\":\"\"},\"accountcode\":\"\",\"dialplan\":{\"context\":\"from-trunk\",\"exten\":\"s\",\"priority\":1,\"app_name\":\"AppDial2\",\"app_data\":\"(Outgoing Line)\"},\"creationtime\":\"2024-10-17T04:22:26.438+0000\",\"language\":\"en\"}\n"
     ]
    }
   ],
   "source": [
    "import requests\n",
    "from requests.auth import HTTPBasicAuth\n",
    "\n",
    "# Define the URL and authentication\n",
    "url = \"http://192.168.89.100:8088/ari/channels\"\n",
    "auth = HTTPBasicAuth('test', 'test123')\n",
    "\n",
    "def call(number):\n",
    "    # Define the data payload\n",
    "    data = {\n",
    "        'endpoint': f'PJSIP/{number}@fusionPBX-Trunk-015970296',\n",
    "        'extension': '101',\n",
    "        'context': 'internal',\n",
    "        'priority': '1',\n",
    "        'callerId': 'CallerID'\n",
    "    }\n",
    "\n",
    "    response = requests.post(url, auth=auth, data=data)\n",
    "    return response\n",
    "    \n",
    "# Make the POST request\n",
    "response = call('9843500346')\n",
    "\n",
    "# Print the response\n",
    "print(\"Status Code:\", response.status_code)\n",
    "print(\"Response Text:\", response.text)\n"
   ]
  },
  {
   "cell_type": "code",
   "execution_count": 5,
   "metadata": {},
   "outputs": [
    {
     "data": {
      "text/plain": [
       "<Response [200]>"
      ]
     },
     "execution_count": 5,
     "metadata": {},
     "output_type": "execute_result"
    }
   ],
   "source": [
    "call('9868205040')"
   ]
  },
  {
   "cell_type": "code",
   "execution_count": 45,
   "metadata": {},
   "outputs": [
    {
     "name": "stdout",
     "output_type": "stream",
     "text": [
      "Status Code: 200\n",
      "Response Text: {\"id\":\"1728462583.191\",\"name\":\"PJSIP/fusionPBX-Trunk-015970296-00000066\",\"state\":\"Down\",\"protocol_id\":\"68588227-f79a-494f-a4a7-0b336a1d87a7\",\"caller\":{\"name\":\"CallerID\",\"number\":\"+9779863800249\"},\"connected\":{\"name\":\"CallerID\",\"number\":\"\"},\"accountcode\":\"\",\"dialplan\":{\"context\":\"from-trunk\",\"exten\":\"s\",\"priority\":1,\"app_name\":\"AppDial2\",\"app_data\":\"(Outgoing Line)\"},\"creationtime\":\"2024-10-09T08:29:43.949+0000\",\"language\":\"en\"}\n"
     ]
    }
   ],
   "source": [
    "import requests\n",
    "from requests.auth import HTTPBasicAuth\n",
    "\n",
    "# Define the URL and authentication\n",
    "url = \"http://192.168.89.100:8088/ari/channels\"\n",
    "auth = HTTPBasicAuth('test', 'test123')\n",
    "\n",
    "def call(number):\n",
    "    # Define the data payload\n",
    "    data = {\n",
    "        'endpoint': f'PJSIP/{number}@fusionPBX-Trunk-015970296',\n",
    "        'extension': '5',\n",
    "        'context': 'internal',\n",
    "        'priority': '1',\n",
    "        'callerId': 'CallerID'\n",
    "    }\n",
    "\n",
    "    response = requests.post(url, auth=auth, data=data)\n",
    "    return response\n",
    "    \n",
    "# Make the POST request\n",
    "# response = call('9863800249')\n",
    "# response = call('9868205040')\n",
    "\n",
    "# Print the response\n",
    "print(\"Status Code:\", response.status_code)\n",
    "print(\"Response Text:\", response.text)\n"
   ]
  },
  {
   "cell_type": "code",
   "execution_count": 58,
   "metadata": {},
   "outputs": [],
   "source": [
    "response = call('9865201957')\n",
    "response = call('9863800249')\n",
    "# response = call('9865201957')"
   ]
  },
  {
   "cell_type": "code",
   "execution_count": 6,
   "metadata": {},
   "outputs": [
    {
     "name": "stdout",
     "output_type": "stream",
     "text": [
      "Status Code: 200\n",
      "Response Text: {\"id\":\"1729057804.16\",\"name\":\"PJSIP/fusionPBX-Trunk-015970296-00000008\",\"state\":\"Down\",\"protocol_id\":\"c65c56a5-f940-49d0-a60e-cf24d27f5a91\",\"caller\":{\"name\":\"CallerID\",\"number\":\"+9779863800249\"},\"connected\":{\"name\":\"CallerID\",\"number\":\"\"},\"accountcode\":\"\",\"dialplan\":{\"context\":\"from-trunk\",\"exten\":\"s\",\"priority\":1,\"app_name\":\"AppDial2\",\"app_data\":\"(Outgoing Line)\"},\"creationtime\":\"2024-10-16T05:50:04.501+0000\",\"language\":\"en\"}\n"
     ]
    }
   ],
   "source": [
    "import requests\n",
    "from requests.auth import HTTPBasicAuth\n",
    "\n",
    "# Define the URL and authentication\n",
    "url = \"http://192.168.89.100:8088/ari/channels\"\n",
    "auth = HTTPBasicAuth('test', 'test123')\n",
    "\n",
    "def call(number):\n",
    "    # Define the data payload\n",
    "    data = {\n",
    "        'endpoint': f'PJSIP/{number}@fusionPBX-Trunk-015970296',\n",
    "        'extension': '6',\n",
    "        'context': 'internal',\n",
    "        'priority': '1',\n",
    "        'callerId': 'CallerID'\n",
    "    }\n",
    "\n",
    "    response = requests.post(url, auth=auth, data=data)\n",
    "    return response\n",
    "    \n",
    "# Make the POST request\n",
    "response = call('9868205040')\n",
    "# response = call('9868205040')\n",
    "\n",
    "# Print the response\n",
    "print(\"Status Code:\", response.status_code)\n",
    "print(\"Response Text:\", response.text)\n"
   ]
  },
  {
   "cell_type": "code",
   "execution_count": null,
   "metadata": {},
   "outputs": [],
   "source": [
    "call('9849999280')"
   ]
  },
  {
   "cell_type": "markdown",
   "metadata": {},
   "source": [
    "# Call Logs through websockets"
   ]
  },
  {
   "cell_type": "code",
   "execution_count": 41,
   "metadata": {},
   "outputs": [
    {
     "ename": "RuntimeError",
     "evalue": "asyncio.run() cannot be called from a running event loop",
     "output_type": "error",
     "traceback": [
      "\u001b[0;31m---------------------------------------------------------------------------\u001b[0m",
      "\u001b[0;31mRuntimeError\u001b[0m                              Traceback (most recent call last)",
      "Cell \u001b[0;32mIn[41], line 49\u001b[0m\n\u001b[1;32m     46\u001b[0m                 \u001b[38;5;28;01mbreak\u001b[39;00m\n\u001b[1;32m     48\u001b[0m \u001b[38;5;28;01mif\u001b[39;00m \u001b[38;5;18m__name__\u001b[39m \u001b[38;5;241m==\u001b[39m \u001b[38;5;124m\"\u001b[39m\u001b[38;5;124m__main__\u001b[39m\u001b[38;5;124m\"\u001b[39m:\n\u001b[0;32m---> 49\u001b[0m     \u001b[43masyncio\u001b[49m\u001b[38;5;241;43m.\u001b[39;49m\u001b[43mrun\u001b[49m\u001b[43m(\u001b[49m\u001b[43mlisten_events\u001b[49m\u001b[43m(\u001b[49m\u001b[43m)\u001b[49m\u001b[43m)\u001b[49m\n",
      "File \u001b[0;32m/usr/lib/python3.10/asyncio/runners.py:33\u001b[0m, in \u001b[0;36mrun\u001b[0;34m(main, debug)\u001b[0m\n\u001b[1;32m      9\u001b[0m \u001b[38;5;124;03m\"\"\"Execute the coroutine and return the result.\u001b[39;00m\n\u001b[1;32m     10\u001b[0m \n\u001b[1;32m     11\u001b[0m \u001b[38;5;124;03mThis function runs the passed coroutine, taking care of\u001b[39;00m\n\u001b[0;32m   (...)\u001b[0m\n\u001b[1;32m     30\u001b[0m \u001b[38;5;124;03m    asyncio.run(main())\u001b[39;00m\n\u001b[1;32m     31\u001b[0m \u001b[38;5;124;03m\"\"\"\u001b[39;00m\n\u001b[1;32m     32\u001b[0m \u001b[38;5;28;01mif\u001b[39;00m events\u001b[38;5;241m.\u001b[39m_get_running_loop() \u001b[38;5;129;01mis\u001b[39;00m \u001b[38;5;129;01mnot\u001b[39;00m \u001b[38;5;28;01mNone\u001b[39;00m:\n\u001b[0;32m---> 33\u001b[0m     \u001b[38;5;28;01mraise\u001b[39;00m \u001b[38;5;167;01mRuntimeError\u001b[39;00m(\n\u001b[1;32m     34\u001b[0m         \u001b[38;5;124m\"\u001b[39m\u001b[38;5;124masyncio.run() cannot be called from a running event loop\u001b[39m\u001b[38;5;124m\"\u001b[39m)\n\u001b[1;32m     36\u001b[0m \u001b[38;5;28;01mif\u001b[39;00m \u001b[38;5;129;01mnot\u001b[39;00m coroutines\u001b[38;5;241m.\u001b[39miscoroutine(main):\n\u001b[1;32m     37\u001b[0m     \u001b[38;5;28;01mraise\u001b[39;00m \u001b[38;5;167;01mValueError\u001b[39;00m(\u001b[38;5;124m\"\u001b[39m\u001b[38;5;124ma coroutine was expected, got \u001b[39m\u001b[38;5;132;01m{!r}\u001b[39;00m\u001b[38;5;124m\"\u001b[39m\u001b[38;5;241m.\u001b[39mformat(main))\n",
      "\u001b[0;31mRuntimeError\u001b[0m: asyncio.run() cannot be called from a running event loop"
     ]
    }
   ],
   "source": [
    "import asyncio\n",
    "import websockets\n",
    "import json\n",
    "import logging\n",
    "\n",
    "# Set up logging configuration\n",
    "logging.basicConfig(\n",
    "    filename='asterisk_events.log',  # File to write the logs\n",
    "    filemode='a',                    # Append to the file\n",
    "    format='%(asctime)s - %(levelname)s - %(message)s',  # Log format\n",
    "    level=logging.INFO                # Log level\n",
    ")\n",
    "\n",
    "CALL_ANSWERED = False\n",
    "CALL_ENDED = False\n",
    "\n",
    "async def listen_events():\n",
    "    global CALL_ANSWERED, CALL_ENDED\n",
    "    url = \"ws://192.168.89.100:8088/ari/events?api_key=test:test123&subscribeAll=yes&app=test\"  # Adjust the app name as necessary\n",
    "\n",
    "    async with websockets.connect(url) as websocket:\n",
    "        print(\"Connected to Asterisk events WebSocket\")\n",
    "\n",
    "        while True:\n",
    "            try:\n",
    "                event = await websocket.recv()\n",
    "                logs=json.loads(event)\n",
    "                # print(logs)\n",
    "                logging.info(f\"Received event: {logs}\")\n",
    "                if 'type' in logs and logs['type']=='ChannelCreated' and logs['channel']['caller']['number'] !='':\n",
    "                    print(f\"Calling from extension:{logs['channel']['caller']['number']} to {logs['channel']['dialplan']['exten']}\" ,)\n",
    "\n",
    "                if 'channel' in logs and logs['channel']['state'] == 'Up':\n",
    "                    print('Call Answered: ')\n",
    "                    CALL_ANSWERED = True\n",
    "\n",
    "                if 'type' in logs and logs['type'] == 'ChannelDestroyed':\n",
    "                    CALL_ENDED=True\n",
    "                    print('Call Ended with reason:',logs['cause_txt'])\n",
    "\n",
    "            except websockets.ConnectionClosed:\n",
    "                print(\"Connection closed, reconnecting...\")\n",
    "                break\n",
    "            except Exception as e:\n",
    "                print(f\"An error occurred: {e}\")\n",
    "                break\n",
    "\n",
    "if __name__ == \"__main__\":\n",
    "    asyncio.run(listen_events())"
   ]
  },
  {
   "cell_type": "code",
   "execution_count": 3,
   "metadata": {},
   "outputs": [
    {
     "data": {
      "text/plain": [
       "0"
      ]
     },
     "execution_count": 3,
     "metadata": {},
     "output_type": "execute_result"
    }
   ],
   "source": [
    "\n",
    "def fun(inc: int):\n",
    "    a=1\n",
    "    a+=inc\n",
    "    return a\n",
    "\n",
    "fun(-1)"
   ]
  },
  {
   "cell_type": "markdown",
   "metadata": {},
   "source": [
    "# For Controller.ipynb\n"
   ]
  },
  {
   "cell_type": "markdown",
   "metadata": {},
   "source": [
    "### #1 Check Container Status"
   ]
  },
  {
   "cell_type": "code",
   "execution_count": 68,
   "metadata": {},
   "outputs": [
    {
     "data": {
      "text/html": [
       "<div>\n",
       "<style scoped>\n",
       "    .dataframe tbody tr th:only-of-type {\n",
       "        vertical-align: middle;\n",
       "    }\n",
       "\n",
       "    .dataframe tbody tr th {\n",
       "        vertical-align: top;\n",
       "    }\n",
       "\n",
       "    .dataframe thead th {\n",
       "        text-align: right;\n",
       "    }\n",
       "</style>\n",
       "<table border=\"1\" class=\"dataframe\">\n",
       "  <thead>\n",
       "    <tr style=\"text-align: right;\">\n",
       "      <th></th>\n",
       "      <th>client_id</th>\n",
       "      <th>extension</th>\n",
       "      <th>container_name</th>\n",
       "      <th>active</th>\n",
       "      <th>modified_on_utc</th>\n",
       "      <th>id</th>\n",
       "      <th>container_ip</th>\n",
       "      <th>max_clients</th>\n",
       "      <th>data_json</th>\n",
       "    </tr>\n",
       "  </thead>\n",
       "  <tbody>\n",
       "    <tr>\n",
       "      <th>0</th>\n",
       "      <td>1</td>\n",
       "      <td>102</td>\n",
       "      <td>audiosocket-102</td>\n",
       "      <td>False</td>\n",
       "      <td>2024-10-18T06:32:26.075703</td>\n",
       "      <td>3</td>\n",
       "      <td>192.168.89.102</td>\n",
       "      <td>2</td>\n",
       "      <td>None</td>\n",
       "    </tr>\n",
       "    <tr>\n",
       "      <th>1</th>\n",
       "      <td>2</td>\n",
       "      <td>102</td>\n",
       "      <td>audiosocket-102</td>\n",
       "      <td>False</td>\n",
       "      <td>2024-10-18T06:32:26.076583</td>\n",
       "      <td>4</td>\n",
       "      <td>192.168.89.102</td>\n",
       "      <td>2</td>\n",
       "      <td>None</td>\n",
       "    </tr>\n",
       "    <tr>\n",
       "      <th>2</th>\n",
       "      <td>1</td>\n",
       "      <td>103</td>\n",
       "      <td>audiosocket-103</td>\n",
       "      <td>False</td>\n",
       "      <td>2024-10-18T06:32:26.077418</td>\n",
       "      <td>5</td>\n",
       "      <td>192.168.89.103</td>\n",
       "      <td>2</td>\n",
       "      <td>None</td>\n",
       "    </tr>\n",
       "    <tr>\n",
       "      <th>3</th>\n",
       "      <td>2</td>\n",
       "      <td>103</td>\n",
       "      <td>audiosocket-103</td>\n",
       "      <td>False</td>\n",
       "      <td>2024-10-18T06:32:26.078238</td>\n",
       "      <td>6</td>\n",
       "      <td>192.168.89.103</td>\n",
       "      <td>2</td>\n",
       "      <td>None</td>\n",
       "    </tr>\n",
       "    <tr>\n",
       "      <th>4</th>\n",
       "      <td>2</td>\n",
       "      <td>101</td>\n",
       "      <td>audiosocket-101</td>\n",
       "      <td>False</td>\n",
       "      <td>2024-10-18T07:29:17.005146</td>\n",
       "      <td>2</td>\n",
       "      <td>192.168.89.101</td>\n",
       "      <td>2</td>\n",
       "      <td>None</td>\n",
       "    </tr>\n",
       "    <tr>\n",
       "      <th>5</th>\n",
       "      <td>1</td>\n",
       "      <td>101</td>\n",
       "      <td>audiosocket-101</td>\n",
       "      <td>False</td>\n",
       "      <td>2024-10-18T07:31:00.359402</td>\n",
       "      <td>1</td>\n",
       "      <td>192.168.89.101</td>\n",
       "      <td>2</td>\n",
       "      <td>None</td>\n",
       "    </tr>\n",
       "  </tbody>\n",
       "</table>\n",
       "</div>"
      ],
      "text/plain": [
       "   client_id  extension   container_name  active             modified_on_utc  \\\n",
       "0          1        102  audiosocket-102   False  2024-10-18T06:32:26.075703   \n",
       "1          2        102  audiosocket-102   False  2024-10-18T06:32:26.076583   \n",
       "2          1        103  audiosocket-103   False  2024-10-18T06:32:26.077418   \n",
       "3          2        103  audiosocket-103   False  2024-10-18T06:32:26.078238   \n",
       "4          2        101  audiosocket-101   False  2024-10-18T07:29:17.005146   \n",
       "5          1        101  audiosocket-101   False  2024-10-18T07:31:00.359402   \n",
       "\n",
       "   id    container_ip  max_clients data_json  \n",
       "0   3  192.168.89.102            2      None  \n",
       "1   4  192.168.89.102            2      None  \n",
       "2   5  192.168.89.103            2      None  \n",
       "3   6  192.168.89.103            2      None  \n",
       "4   2  192.168.89.101            2      None  \n",
       "5   1  192.168.89.101            2      None  "
      ]
     },
     "execution_count": 68,
     "metadata": {},
     "output_type": "execute_result"
    }
   ],
   "source": [
    "# !pip install pandas\n",
    "import requests\n",
    "import pandas as pd\n",
    "\n",
    "# Make the request\n",
    "url = \"http://192.168.89.109:8001/get_container_status\"\n",
    "headers = {\"accept\": \"application/json\"}\n",
    "response = requests.get(url, headers=headers)\n",
    "\n",
    "# Check if the request was successful\n",
    "if response.status_code == 200:\n",
    "    data = response.json()\n",
    "    df = pd.DataFrame(data)\n",
    "else:\n",
    "    print(f\"Request failed with status code: {response.status_code}\")\n",
    "\n",
    "df"
   ]
  },
  {
   "cell_type": "code",
   "execution_count": 47,
   "metadata": {},
   "outputs": [
    {
     "data": {
      "text/html": [
       "<div>\n",
       "<style scoped>\n",
       "    .dataframe tbody tr th:only-of-type {\n",
       "        vertical-align: middle;\n",
       "    }\n",
       "\n",
       "    .dataframe tbody tr th {\n",
       "        vertical-align: top;\n",
       "    }\n",
       "\n",
       "    .dataframe thead th {\n",
       "        text-align: right;\n",
       "    }\n",
       "</style>\n",
       "<table border=\"1\" class=\"dataframe\">\n",
       "  <thead>\n",
       "    <tr style=\"text-align: right;\">\n",
       "      <th></th>\n",
       "      <th>extension</th>\n",
       "      <th>client_id</th>\n",
       "    </tr>\n",
       "  </thead>\n",
       "  <tbody>\n",
       "    <tr>\n",
       "      <th>0</th>\n",
       "      <td>102</td>\n",
       "      <td>1</td>\n",
       "    </tr>\n",
       "  </tbody>\n",
       "</table>\n",
       "</div>"
      ],
      "text/plain": [
       "   extension  client_id\n",
       "0        102          1"
      ]
     },
     "execution_count": 47,
     "metadata": {},
     "output_type": "execute_result"
    }
   ],
   "source": [
    "# gives me first extension that is not active or the call is ended to make it inactive\n",
    "df[df['active']==False][['extension','client_id']].head(1)"
   ]
  },
  {
   "cell_type": "markdown",
   "metadata": {},
   "source": [
    "### #2 Choose inactive container's extension and client_id"
   ]
  },
  {
   "cell_type": "code",
   "execution_count": 58,
   "metadata": {},
   "outputs": [
    {
     "data": {
      "text/plain": [
       "(102, 1)"
      ]
     },
     "execution_count": 58,
     "metadata": {},
     "output_type": "execute_result"
    }
   ],
   "source": [
    "df[df['active']==False][['extension','client_id']].head(1)['extension'].item(), df[df['active']==False][['extension','client_id']].head(1)['client_id'].item()"
   ]
  },
  {
   "cell_type": "markdown",
   "metadata": {},
   "source": [
    "### #3 Check Scheduled User Calls"
   ]
  },
  {
   "cell_type": "code",
   "execution_count": 59,
   "metadata": {},
   "outputs": [
    {
     "data": {
      "text/html": [
       "<div>\n",
       "<style scoped>\n",
       "    .dataframe tbody tr th:only-of-type {\n",
       "        vertical-align: middle;\n",
       "    }\n",
       "\n",
       "    .dataframe tbody tr th {\n",
       "        vertical-align: top;\n",
       "    }\n",
       "\n",
       "    .dataframe thead th {\n",
       "        text-align: right;\n",
       "    }\n",
       "</style>\n",
       "<table border=\"1\" class=\"dataframe\">\n",
       "  <thead>\n",
       "    <tr style=\"text-align: right;\">\n",
       "      <th></th>\n",
       "      <th>name</th>\n",
       "      <th>call_type</th>\n",
       "      <th>status</th>\n",
       "      <th>modified_on_utc</th>\n",
       "      <th>phone_number</th>\n",
       "      <th>id</th>\n",
       "      <th>tts_folder_location</th>\n",
       "      <th>scheduled_for_utc</th>\n",
       "    </tr>\n",
       "  </thead>\n",
       "  <tbody>\n",
       "    <tr>\n",
       "      <th>0</th>\n",
       "      <td>Abhinandan Shrestha</td>\n",
       "      <td>tv_subscription</td>\n",
       "      <td>pending</td>\n",
       "      <td>None</td>\n",
       "      <td>9868205040</td>\n",
       "      <td>1</td>\n",
       "      <td>/app/audios</td>\n",
       "      <td>2024-10-18T11:47:49.007694</td>\n",
       "    </tr>\n",
       "    <tr>\n",
       "      <th>1</th>\n",
       "      <td>Binit</td>\n",
       "      <td>tv_subscription</td>\n",
       "      <td>failed</td>\n",
       "      <td>2024-10-18T06:21:51.311895</td>\n",
       "      <td>9840906760</td>\n",
       "      <td>2</td>\n",
       "      <td>/app/audios</td>\n",
       "      <td>2024-10-25T13:21:03</td>\n",
       "    </tr>\n",
       "  </tbody>\n",
       "</table>\n",
       "</div>"
      ],
      "text/plain": [
       "                  name        call_type   status             modified_on_utc  \\\n",
       "0  Abhinandan Shrestha  tv_subscription  pending                        None   \n",
       "1                Binit  tv_subscription   failed  2024-10-18T06:21:51.311895   \n",
       "\n",
       "  phone_number  id tts_folder_location           scheduled_for_utc  \n",
       "0   9868205040   1         /app/audios  2024-10-18T11:47:49.007694  \n",
       "1   9840906760   2         /app/audios         2024-10-25T13:21:03  "
      ]
     },
     "execution_count": 59,
     "metadata": {},
     "output_type": "execute_result"
    }
   ],
   "source": [
    "# Make the request\n",
    "url = \"http://192.168.89.109:8001/users\"\n",
    "headers = {\"accept\": \"application/json\"}\n",
    "response = requests.get(url, headers=headers)\n",
    "\n",
    "# Check if the request was successful\n",
    "if response.status_code == 200:\n",
    "    data = response.json()\n",
    "    df = pd.DataFrame(data)\n",
    "else:\n",
    "    print(f\"Request failed with status code: {response.status_code}\")\n",
    "\n",
    "df"
   ]
  },
  {
   "cell_type": "code",
   "execution_count": 67,
   "metadata": {},
   "outputs": [
    {
     "data": {
      "text/plain": [
       "'[{\"name\":\"Abhinandan Shrestha\",\"call_type\":\"tv_subscription\",\"status\":\"pending\",\"modified_on_utc\":null,\"phone_number\":\"9868205040\",\"id\":1,\"tts_folder_location\":\"\\\\/app\\\\/audios\",\"scheduled_for_utc\":\"2024-10-18T11:47:49.007694\"}]'"
      ]
     },
     "execution_count": 67,
     "metadata": {},
     "output_type": "execute_result"
    }
   ],
   "source": [
    "df[df['status']=='pending'].to_json(orient='records')"
   ]
  },
  {
   "cell_type": "code",
   "execution_count": 109,
   "metadata": {},
   "outputs": [
    {
     "name": "stdout",
     "output_type": "stream",
     "text": [
      "Status Code: 200\n",
      "Response Text: {\"id\":\"1729247352.473\",\"name\":\"PJSIP/fusionPBX-Trunk-015970296-000000f4\",\"state\":\"Down\",\"protocol_id\":\"0c15c986-cf3d-4e1d-aa29-9035696c56ef\",\"caller\":{\"name\":\"CallerID\",\"number\":\"+9779863800249\"},\"connected\":{\"name\":\"CallerID\",\"number\":\"\"},\"accountcode\":\"\",\"dialplan\":{\"context\":\"from-trunk\",\"exten\":\"s\",\"priority\":1,\"app_name\":\"AppDial2\",\"app_data\":\"(Outgoing Line)\"},\"creationtime\":\"2024-10-18T10:29:12.629+0000\",\"language\":\"en\"}\n"
     ]
    }
   ],
   "source": [
    "import requests\n",
    "from requests.auth import HTTPBasicAuth\n",
    "\n",
    "# Define the URL and authentication\n",
    "url = \"http://192.168.89.100:8088/ari/channels\"\n",
    "auth = HTTPBasicAuth('test', 'test123')\n",
    "\n",
    "def call(number):\n",
    "    # Define the data payload\n",
    "    data = {\n",
    "        'endpoint': f'PJSIP/{number}@fusionPBX-Trunk-015970296',\n",
    "        'extension': '1041',\n",
    "        'context': 'internal',\n",
    "        'priority': '1',\n",
    "        'callerId': 'CallerID'\n",
    "    }\n",
    "\n",
    "    response = requests.post(url, auth=auth, data=data)\n",
    "    return response\n",
    "    \n",
    "# Make the POST request\n",
    "response = call('9863800249')\n",
    "\n",
    "# Print the response\n",
    "print(\"Status Code:\", response.status_code)\n",
    "print(\"Response Text:\", response.text)"
   ]
  },
  {
   "cell_type": "code",
   "execution_count": 110,
   "metadata": {},
   "outputs": [
    {
     "name": "stdout",
     "output_type": "stream",
     "text": [
      "Status Code: 200\n",
      "Response Text: {\"id\":\"1729247352.474\",\"name\":\"PJSIP/fusionPBX-Trunk-015970296-000000f5\",\"state\":\"Down\",\"protocol_id\":\"e960d585-9343-4a06-84bc-215778146ed6\",\"caller\":{\"name\":\"CallerID\",\"number\":\"+9779863800249\"},\"connected\":{\"name\":\"CallerID\",\"number\":\"\"},\"accountcode\":\"\",\"dialplan\":{\"context\":\"from-trunk\",\"exten\":\"s\",\"priority\":1,\"app_name\":\"AppDial2\",\"app_data\":\"(Outgoing Line)\"},\"creationtime\":\"2024-10-18T10:29:12.928+0000\",\"language\":\"en\"}\n"
     ]
    }
   ],
   "source": [
    "import requests\n",
    "from requests.auth import HTTPBasicAuth\n",
    "\n",
    "# Define the URL and authentication\n",
    "url = \"http://192.168.89.100:8088/ari/channels\"\n",
    "auth = HTTPBasicAuth('test', 'test123')\n",
    "\n",
    "def call(number):\n",
    "    # Define the data payload\n",
    "    data = {\n",
    "        'endpoint': f'PJSIP/{number}@fusionPBX-Trunk-015970296',\n",
    "        'extension': '1042',\n",
    "        'context': 'internal',\n",
    "        'priority': '1',\n",
    "        'callerId': 'CallerID'\n",
    "    }\n",
    "\n",
    "    response = requests.post(url, auth=auth, data=data)\n",
    "    return response\n",
    "    \n",
    "# Make the POST request\n",
    "response = call('9868205040')\n",
    "\n",
    "# Print the response\n",
    "print(\"Status Code:\", response.status_code)\n",
    "print(\"Response Text:\", response.text)"
   ]
  },
  {
   "cell_type": "code",
   "execution_count": null,
   "metadata": {},
   "outputs": [],
   "source": []
  },
  {
   "cell_type": "markdown",
   "metadata": {},
   "source": [
    "## Cut off audio"
   ]
  },
  {
   "cell_type": "code",
   "execution_count": 4,
   "metadata": {},
   "outputs": [
    {
     "name": "stdout",
     "output_type": "stream",
     "text": [
      "Defaulting to user installation because normal site-packages is not writeable\n",
      "Requirement already satisfied: pydub in /home/bumblebee/.local/lib/python3.10/site-packages (0.25.1)\n",
      "Audio trimmed to 5.5 seconds successfully!\n"
     ]
    }
   ],
   "source": [
    "# !pip install pydub\n",
    "# from pydub import AudioSegment\n",
    "\n",
    "# # Load the audio file (you can specify the path to your audio file here)\n",
    "# audio = AudioSegment.from_file(\"/home/bumblebee/kumar/aiAgentAudioSocket/audio-socket/audios/isp3_no (2).wav\")\n",
    "\n",
    "# # Set the desired length to 5.5 seconds (5500 milliseconds)\n",
    "# new_audio_duration = 5800  # 5.5 seconds in milliseconds\n",
    "\n",
    "# # Slice the audio to keep only the first 5.5 seconds\n",
    "# trimmed_audio = audio[:new_audio_duration]\n",
    "\n",
    "# # Export the trimmed audio to a new file\n",
    "# trimmed_audio.export(\"trimmed_audio.wav\", format=\"wav\")\n",
    "\n",
    "# print(\"Audio trimmed to 5.8 seconds successfully!\")\n"
   ]
  },
  {
   "cell_type": "code",
   "execution_count": 3,
   "metadata": {},
   "outputs": [
    {
     "name": "stdout",
     "output_type": "stream",
     "text": [
      "<pydub.audio_segment.AudioSegment object at 0x79ec543bca00>\n",
      "[<pydub.audio_segment.AudioSegment object at 0x79ec543bf610>, <pydub.audio_segment.AudioSegment object at 0x79ec543bf250>, <pydub.audio_segment.AudioSegment object at 0x79ec543bdcc0>]\n"
     ]
    },
    {
     "data": {
      "text/plain": [
       "<_io.BufferedRandom name='output.mp3'>"
      ]
     },
     "execution_count": 3,
     "metadata": {},
     "output_type": "execute_result"
    }
   ],
   "source": [
    "# Write to a temporary file\n",
    "import tempfile, wave\n",
    "from pydub import AudioSegment\n",
    "from pydub.silence import split_on_silence\n",
    "import tempfile\n",
    "\n",
    "temp_file = tempfile.NamedTemporaryFile(delete=False, suffix='.wav')\n",
    "with wave.open(temp_file.name, 'wb') as wav_file:\n",
    "    # Assume you know the format or extract/format it from your data\n",
    "    num_channels = 1  # Stereo\n",
    "    sample_width = 2  # 16 bits per sample\n",
    "    frame_rate = 8000  # Sample rate\n",
    "\n",
    "    # Set parameters required for the WAV file\n",
    "    wav_file.setnchannels(num_channels)\n",
    "    wav_file.setsampwidth(sample_width)\n",
    "    wav_file.setframerate(frame_rate)\n",
    "\n",
    "    # Write audio data\n",
    "    wav_file.writeframes(audio_bytes)\n",
    "\n",
    "logging.info(temp_file.name)\n",
    "sound = AudioSegment.from_file(temp_file.name, format='wav')\n",
    "\n",
    "# Split on silence\n",
    "chunks = split_on_silence(\n",
    "    sound,\n",
    "    min_silence_len = 100\n",
    "    ,silence_thresh = -45\n",
    "    ,keep_silence = 50\n",
    ")\n",
    "logging.info(chunks)\n",
    "\n",
    "if chunks:\n",
    "    # Concatenate the chunks back together\n",
    "    processed_audio = chunks[0]\n",
    "    for chunk in chunks[1:]:\n",
    "        processed_audio += chunk\n",
    "else:\n",
    "    processed_audio=audio_bytes\n",
    "\n"
   ]
  },
  {
   "cell_type": "markdown",
   "metadata": {},
   "source": [
    "# test asr"
   ]
  },
  {
   "cell_type": "code",
   "execution_count": 1,
   "metadata": {},
   "outputs": [
    {
     "data": {
      "text/plain": [
       "\" I don't think so.\""
      ]
     },
     "execution_count": 1,
     "metadata": {},
     "output_type": "execute_result"
    }
   ],
   "source": [
    "import wave, requests\n",
    "\n",
    "# Function to open a wave file and extract audio bytes\n",
    "def extract_audio_bytes(file_path):\n",
    "    # Open the wave file in read mode\n",
    "    with wave.open(file_path, 'rb') as wave_file:\n",
    "        # Read the audio frames as bytes\n",
    "        audio_bytes = wave_file.readframes(wave_file.getnframes())\n",
    "        \n",
    "        # Return the audio bytes\n",
    "        return audio_bytes\n",
    "\n",
    "asr_base_url='http://192.168.88.10:8028/transcribe_sip_en'\n",
    "\n",
    "# # 14 second audio\n",
    "# files = {\n",
    "#     \"audio_file\": (\"audio.wav\", extract_audio_bytes('audio-socket/2024-10-21 16:35:15___e17209d6-af7e-48d6-8d7a-17ce77801a2c__7.wav'), \"audio/wav\")\n",
    "# }\n",
    "\n",
    "# # 2 second audio\n",
    "# files = {\n",
    "#     \"audio_file\": (\"audio.wav\", extract_audio_bytes('/home/bumblebee/kumar/aiAgentAudioSocket/audio-socket/2024-10-21 16:35:00___e17209d6-af7e-48d6-8d7a-17ce77801a2c__6.wav'), \"audio/wav\")\n",
    "# }\n",
    "\n",
    "# # 10 second audio\n",
    "# files = {\n",
    "#     \"audio_file\": (\"audio.wav\", extract_audio_bytes('/home/bumblebee/kumar/aiAgentAudioSocket/audio-socket/2024-10-21 16:34:58___e17209d6-af7e-48d6-8d7a-17ce77801a2c__5.wav'), \"audio/wav\")\n",
    "# }\n",
    "\n",
    "# 27 sec\n",
    "files = {\n",
    "    \"audio_file\": (\"audio.wav\", extract_audio_bytes('/home/bumblebee/kumar/aiAgentAudioSocket/audio-socket/vad_output/332018f1-74f6-4def-8913-4f46997d13e3__7.wav'), \"audio/wav\")\n",
    "}\n",
    "\n",
    "\n",
    "response = requests.post(asr_base_url, files=files)\n",
    "asr_output_text=response.json()\n",
    "asr_output_text"
   ]
  },
  {
   "cell_type": "markdown",
   "metadata": {},
   "source": [
    "# Up Sampling 8000 Hz audio to 16000 Hz"
   ]
  },
  {
   "cell_type": "code",
   "execution_count": 1,
   "metadata": {},
   "outputs": [],
   "source": [
    "# !pip install scipy\n",
    "import numpy as np\n",
    "from scipy.signal import resample\n",
    "\n",
    "def upsample_audio_stream(audio_bytes, sample_rate=8000, new_sample_rate=16000):\n",
    "    audio_data = np.frombuffer(audio_bytes, dtype=np.int16)  # Assuming 16-bit PCM\n",
    "    num_samples = int(len(audio_data) * new_sample_rate / sample_rate) # Calculate the number of samples after upsampling\n",
    "    upsampled_data = resample(audio_data, num_samples) # Resample the audio data\n",
    "    upsampled_bytes = upsampled_data.astype(np.int16).tobytes() # Convert the numpy array back to bytes\n",
    "    return upsampled_bytes"
   ]
  },
  {
   "cell_type": "code",
   "execution_count": 2,
   "metadata": {},
   "outputs": [
    {
     "data": {
      "text/plain": [
       "(1, 8000, 2)"
      ]
     },
     "execution_count": 2,
     "metadata": {},
     "output_type": "execute_result"
    }
   ],
   "source": [
    "import wave\n",
    "\n",
    "# File path\n",
    "file_path = \"/home/bumblebee/kumar/aiAgentAudioSocket/audio-socket/2024-10-21 16:35:00___e17209d6-af7e-48d6-8d7a-17ce77801a2c__6.wav\"\n",
    "# file_path = \"./upsampled_audio_16000hz.wav\"\n",
    "\n",
    "# Open the wave file and read audio bytes\n",
    "with wave.open(file_path, 'rb') as f:\n",
    "    channels = f.getnchannels()\n",
    "    sample_width = f.getsampwidth()\n",
    "    sample_rate = f.getframerate()\n",
    "    audio_bytes = f.readframes(f.getnframes())\n",
    "\n",
    "channels, sample_rate, sample_width"
   ]
  },
  {
   "cell_type": "code",
   "execution_count": 3,
   "metadata": {},
   "outputs": [],
   "source": [
    "audio_bytes16000hz = upsample_audio_stream(audio_bytes, sample_rate=8000, new_sample_rate=16000)"
   ]
  },
  {
   "cell_type": "code",
   "execution_count": 46,
   "metadata": {},
   "outputs": [],
   "source": [
    "# Saving the audio as a new wave file (16000Hz, 16-bit, mono)\n",
    "output_file_path = \"./upsampled_audio_16000hz.wav\"\n",
    "\n",
    "with wave.open(output_file_path, 'wb') as wave_out:\n",
    "    wave_out.setnchannels(1)  # Mono\n",
    "    wave_out.setsampwidth(2)  # 16-bit (2 bytes)\n",
    "    wave_out.setframerate(16000)  # 16000 Hz sample rate\n",
    "    wave_out.writeframes(audio_bytes16000hz)"
   ]
  },
  {
   "cell_type": "code",
   "execution_count": 49,
   "metadata": {},
   "outputs": [
    {
     "data": {
      "text/plain": [
       "' Hello.'"
      ]
     },
     "execution_count": 49,
     "metadata": {},
     "output_type": "execute_result"
    }
   ],
   "source": [
    "import requests\n",
    "asr_base_url='http://192.168.88.10:8028/transcribe_sip_en16000/'\n",
    "\n",
    "files = {\n",
    "    \"audio_file\": (\"audio.wav\", audio_bytes16000hz, \"audio/wav\")\n",
    "}\n",
    "\n",
    "response = requests.post(asr_base_url, files=files)\n",
    "response.json()"
   ]
  },
  {
   "cell_type": "markdown",
   "metadata": {},
   "source": [
    "# VAD Test for \"No\""
   ]
  },
  {
   "cell_type": "code",
   "execution_count": 102,
   "metadata": {},
   "outputs": [],
   "source": [
    "import torch\n",
    "torch.set_num_threads(1)\n",
    "\n",
    "model, utils = torch.hub.load(repo_or_dir='./audio-socket/silero-vad',\n",
    "                              source='local',\n",
    "                              model='silero_vad',\n",
    "                              force_reload=True,\n",
    "                              onnx=False)\n",
    "\n",
    "\n",
    "# Check if a GPU is available\n",
    "device = torch.device('cuda' if torch.cuda.is_available() else 'cpu')\n",
    "# logging.info(f'Using device: {device}')\n",
    "\n",
    "model = model.to(device)\n",
    "\n",
    "# (get_speech_timestamps, _, read_audio, _, _) = utils\n",
    "\n",
    "# wav = read_audio('./testing.wav')\n",
    "# speech_timestamps = get_speech_timestamps(\n",
    "#   wav,\n",
    "#   model,\n",
    "#   threshold=0.6,\n",
    "#   return_seconds=True,  # Return speech timestamps in seconds (default is samples)\n",
    "# )"
   ]
  },
  {
   "cell_type": "code",
   "execution_count": 103,
   "metadata": {},
   "outputs": [
    {
     "data": {
      "text/plain": [
       "[{'start': 0.3, 'end': 1.1},\n",
       " {'start': 5.9, 'end': 6.3},\n",
       " {'start': 10.1, 'end': 10.8}]"
      ]
     },
     "execution_count": 103,
     "metadata": {},
     "output_type": "execute_result"
    }
   ],
   "source": [
    "speech_timestamps"
   ]
  },
  {
   "cell_type": "code",
   "execution_count": 86,
   "metadata": {},
   "outputs": [],
   "source": [
    "prob_data=[]\n",
    "vad_dictionary={}\n",
    "speech_threshold=0.0\n",
    "voiced_chunk_count=0\n",
    "silence_count=0\n",
    "\n",
    "def VAD(chunk, threshold_weight=0.85):\n",
    "    global voiced_chunk_count, silence_count, speech_threshold, prob_data, vad_dictionary\n",
    "    # logging.info('Vad Function Started')\n",
    "    np_chunk = np.frombuffer(chunk, dtype=np.int16)\n",
    "    np_chunk = np_chunk.astype(np.float32) / 32768.0\n",
    "    chunk_audio = torch.from_numpy(np_chunk).to(device)\n",
    "\n",
    "    speech_prob = model(chunk_audio, 8000).item()\n",
    "    prob_data.append(speech_prob)\n",
    "\n",
    "    if speech_prob >= threshold_weight:\n",
    "        voiced_chunk_count += 1\n",
    "        silence_count = 0\n",
    "        vad_dictionary[chunk] = 1\n",
    "    else:\n",
    "        vad_dictionary[chunk] = 0\n",
    "        silence_count += 1\n",
    "\n",
    "    # # logging.info(vad_dictionary)\n",
    "    # if prob_data:\n",
    "    #     speech_threshold = threshold_weight * max([i**2 for i in prob_data]) + (1 - threshold_weight) * min([i**2 for i in prob_data])\n"
   ]
  },
  {
   "cell_type": "code",
   "execution_count": 87,
   "metadata": {},
   "outputs": [],
   "source": [
    "SAMPLE_RATE = 8000  # Note: Sample rate of received audio bytes is 8000 and we are upsampling to 16000 for VAD because VAD couldn't detect small speech like \"No\", \"Noooo\" etc.\n",
    "SILENCE_TIME = 2  # seconds\n",
    "CHUNK_SAMPLES = 256\n",
    "CHANNELS = 1\n",
    "BIT_DEPTH = 2\n",
    "CHUNK_SIZE = int(CHUNK_SAMPLES * CHANNELS * BIT_DEPTH) # amt of bytes per chunk\n",
    "\n",
    "import wave\n",
    "\n",
    "# Open the WAV file\n",
    "file_path = './testing.wav'\n",
    "wav = wave.open(file_path, 'rb')\n",
    "\n",
    "# Extract raw audio from file\n",
    "n_channels = wav.getnchannels()\n",
    "sample_width = wav.getsampwidth()\n",
    "framerate = wav.getframerate()\n",
    "n_frames = wav.getnframes()\n",
    "audio_data = wav.readframes(n_frames)"
   ]
  },
  {
   "cell_type": "code",
   "execution_count": 88,
   "metadata": {},
   "outputs": [
    {
     "data": {
      "text/plain": [
       "(1, 2, 8000)"
      ]
     },
     "execution_count": 88,
     "metadata": {},
     "output_type": "execute_result"
    }
   ],
   "source": [
    "n_channels, sample_width, framerate"
   ]
  },
  {
   "cell_type": "code",
   "execution_count": 89,
   "metadata": {},
   "outputs": [],
   "source": [
    "import numpy as np\n",
    "# Iterate over audio_data in chunks of CHUNK_SIZE\n",
    "for i in range(0, len(audio_data), CHUNK_SIZE):\n",
    "    chunk = audio_data[i:i+CHUNK_SIZE]\n",
    "    \n",
    "    # If the last chunk is smaller than CHUNK_SIZE, handle it\n",
    "    if len(chunk) < CHUNK_SIZE:\n",
    "        chunk = chunk.ljust(CHUNK_SIZE, b'\\0')  # Pad with silence (zeros)\n",
    "\n",
    "    # Pass the chunk into the VAD function\n",
    "    VAD(chunk)"
   ]
  },
  {
   "cell_type": "code",
   "execution_count": 90,
   "metadata": {},
   "outputs": [
    {
     "data": {
      "text/plain": [
       "0"
      ]
     },
     "execution_count": 90,
     "metadata": {},
     "output_type": "execute_result"
    }
   ],
   "source": [
    "voiced_chunk_count"
   ]
  },
  {
   "cell_type": "code",
   "execution_count": 91,
   "metadata": {},
   "outputs": [
    {
     "name": "stdout",
     "output_type": "stream",
     "text": [
      "No keys in vad_dictionary have a value of 1 (no voiced chunks detected).\n"
     ]
    }
   ],
   "source": [
    "# Check if there are any keys with a value of 1 in vad_dictionary\n",
    "has_voiced_chunks = any(value == 1 for value in vad_dictionary.values())\n",
    "\n",
    "# Print the result\n",
    "if has_voiced_chunks:\n",
    "    print(\"There are keys in vad_dictionary with a value of 1 (voiced chunks).\")\n",
    "else:\n",
    "    print(\"No keys in vad_dictionary have a value of 1 (no voiced chunks detected).\")\n"
   ]
  },
  {
   "cell_type": "code",
   "execution_count": 2,
   "metadata": {},
   "outputs": [
    {
     "data": {
      "text/plain": [
       "4.362666666666667"
      ]
     },
     "execution_count": 2,
     "metadata": {},
     "output_type": "execute_result"
    }
   ],
   "source": [
    "import wave\n",
    "with wave.open('/home/bumblebee/kumar/aiAgentAudioSocket/audio-socket/audios/isp1 (2).wav', 'r') as wav_file:\n",
    "    frames = wav_file.getnframes()\n",
    "    rate = wav_file.getframerate()\n",
    "    duration = frames / float(rate)\n",
    "\n",
    "duration"
   ]
  },
  {
   "cell_type": "markdown",
   "metadata": {},
   "source": [
    "# Dynamic TTS"
   ]
  },
  {
   "cell_type": "code",
   "execution_count": null,
   "metadata": {},
   "outputs": [],
   "source": [
    "call_type = {\n",
    "    \"states\": {\n",
    "        \"1\": {\n",
    "            \"yes\": {\"next_state\": 2, \"audio_file\": \"atm2yes.wav\"},\n",
    "            \"no\": {\"next_state\": \"out_state\", \"audio_file\": \"atm2no.wav\"},\n",
    "            \"repeat\": {\"next_state\": 1, \"audio_file\": \"atm1.wav\"}\n",
    "        },\n",
    "        \"2\": {\n",
    "            \"yes\": {\"next_state\": 3, \"audio_file\": \"atm3yes.wav\"},\n",
    "            \"no\": {\"next_state\": \"out_state\", \"audio_file\": \"atm3no.wav\"},\n",
    "            \"repeat\": {\"next_state\": 2, \"audio_file\": \"atm2yes.wav\"}\n",
    "        },\n",
    "        \"3\": {\n",
    "            \"yes\": {\"next_state\": 4, \"audio_file\": \"atm5.wav\"},\n",
    "            \"no\": {\"next_state\": \"out_state\", \"audio_file\": \"atm4no.wav\"},\n",
    "            \"repeat\": {\"next_state\": 3, \"audio_file\": \"atm3yes.wav\"}\n",
    "        },\n",
    "        \"4\": {\n",
    "            \"yes\": {\"audio_file\": \"atm5.wav\"},\n",
    "            \"no\": {\"audio_file\": \"atm5.wav\"},\n",
    "            \"repeat\": {\"next_state\": 4, \"audio_file\": \"atm5.wav\"}\n",
    "        }\n",
    "    }\n",
    "}"
   ]
  },
  {
   "cell_type": "code",
   "execution_count": null,
   "metadata": {},
   "outputs": [],
   "source": [
    "def tts_dynamic(state, call_type, llm_output):\n",
    "\n",
    "    if state==call_type['states']['1']:\n",
    "        if llm_output=='yes':\n",
    "            print(\"play \", call_type['states']['1']['yes']['audio_file'])\n",
    "            print(\"state\", call_type['states']['1']['yes']['next_state'])\n",
    "        elif llm_output=='no':\n",
    "            print(\"play \", call_type['states']['1']['no']['audio_file'])\n",
    "            print(\"state\", call_type['states']['1']['no']['next_state'])\n",
    "        elif llm_output=='repeat':\n",
    "            print(\"play \", call_type['states']['1']['repeat']['audio_file'])\n",
    "            print(\"state\", call_type['states']['1']['repeat']['next_state'])\n",
    "\n",
    "    if state==2:\n",
    "        if llm_output=='yes':\n",
    "            print(\"play \", call_type['states']['2']['yes']['audio_file'])\n",
    "            print(\"state\", call_type['states']['2']['yes']['next_state'])\n",
    "        elif llm_output=='no':\n",
    "            print(\"play \", call_type['states']['2']['no']['audio_file'])\n",
    "            print(\"state\", call_type['states']['2']['no']['next_state'])\n",
    "        elif llm_output=='repeat':\n",
    "            print(\"play \", call_type['states']['2']['repeat']['audio_file'])\n",
    "            print(\"state\", call_type['states']['2']['repeat']['next_state'])\n",
    "\n",
    "    if state==3:\n",
    "        if llm_output=='yes':\n",
    "            print(\"play \", call_type['states']['3']['yes']['audio_file'])\n",
    "            print(\"state\", call_type['states']['3']['yes']['next_state'])\n",
    "        elif llm_output=='no':\n",
    "            print(\"play \", call_type['states']['3']['no']['audio_file'])\n",
    "            print(\"state\", call_type['states']['3']['no']['next_state'])\n",
    "        elif llm_output=='repeat':\n",
    "            print(\"play \", call_type['states']['3']['repeat']['audio_file'])\n",
    "            print(\"state\", call_type['states']['3']['repeat']['next_state'])\n",
    "\n",
    "    if state==4:\n",
    "        if llm_output=='yes':\n",
    "            print(\"play \", call_type['states']['4']['yes']['audio_file'])\n",
    "            print(\"state\", call_type['states']['4']['yes']['next_state'])\n",
    "        elif llm_output=='no':\n",
    "            print(\"play \", call_type['states']['4']['no']['audio_file'])\n",
    "            print(\"state\", call_type['states']['4']['no']['next_state'])\n",
    "        elif llm_output=='repeat':\n",
    "            print(\"play \", call_type['states']['4']['repeat']['audio_file'])\n",
    "            print(\"state\", call_type['states']['4']['repeat']['next_state'])\n"
   ]
  },
  {
   "cell_type": "markdown",
   "metadata": {},
   "source": [
    "# Dynamic State Building and Audio Playbacks"
   ]
  },
  {
   "cell_type": "code",
   "execution_count": null,
   "metadata": {},
   "outputs": [],
   "source": [
    "import requests\n",
    "import socket\n",
    "\n",
    "# Define the endpoint and parameters\n",
    "url = \"http://192.168.89.109/assigned_container_user\"\n",
    "params = {\"assigned_container\": socket.gethostname()}\n",
    "\n",
    "# Make the GET request\n",
    "response = requests.get(url, params=params, headers={\"accept\": \"application/json\"})\n",
    "response.json()"
   ]
  },
  {
   "cell_type": "code",
   "execution_count": 2,
   "metadata": {},
   "outputs": [],
   "source": [
    "row={'caller_id': 'fdafasdf123412sadfsadf', 'phone_number': '9868205040', 'tts_folder_location': 'audios/abhinandan', 'assigned_container': 'audiosocket-ne-106-global', 'modified_on_utc': '2024-11-21T07:12:55.732837', 'name': 'Abhinandan Shrestha', 'id': 8, 'call_type': '{     \"type\": \"atm_capture\",     \"out_state\": 4,     \"question_audio_for_tts\":{         \"1\":{             \"yes\": \"नमस्ते! म ग्लोबल बैंकबाट प्रतिवा बोल्दैछु! के तपाईं बिज्ञान अधिकारी जी बोल्दै हुनुहुन्छ!\"         },         \"2\":{             \"yes\":\"तपाईंको एटीएम कार्ड क्याप्चर भएको विषयमा कुरा गर्नु थियो। अहिले हजुरसँग कुरा गर्न मिल्छ?\",             \"no\": \"तपाईंको समयको लागि धन्यवाद। म कुनै पनि अवरोधको लागि क्षमा चाहन्छु।\"         },         \"3\":{             \"yes\":\"हामीले तपाईंको कार्डलाई अस्थायी रूपमा ब्लक गरेका छौं। तपाईंको कार्ड एक हप्ता पछि मात्र बैंकमा आउनेछ र कार्ड फिर्ता लिनको लागि तपाईं आफ्नो नागरिकता वा ड्राइभिङ लाइसेन्स वा पासपोर्ट लिएर ग्लोबल बैंकको कमलादी शाखामा जानुहोला।\",             \"no\": \"मैले तपाईंको प्रतिक्रिया रेकर्ड गरेकी छु। तपाईंको समयको लागि धन्यवाद।\"         },         \"4\":{             \"no\": \"मैले तपाईंको प्रतिक्रिया रेकर्ड गरेकी छु, तपाईंको समयको लागि धन्यवाद।\"         },         \"5\":{             \"yes\":\"हुन्छ, तपाईंको समयको लागि धन्यवाद। केही गार्हो पर्यो भने सम्पर्क गर्नुहोला।\"         }     },     \"llm_states\":{         \"1\":{             \"positive\": [\"हो म {name} बोल्दै छु \", \"हजुर हो \", \"हजुर बोल्दै छु \", \"के कुरा को लागि हो\", \"हजुर भन्नुस म सुनिरहेको छु\", \"ओभाओ भन्नुस् न\", \"हजार भनोस् न के काम पर्\\u200dयो\",\"हजार भनोस् न\"],             \"negative\": [\"हैन\",  \"हैन नि\", \"म त अर्कै मान्छे हो\", \"मेरो नाम त रमेश हो\", \"रंग नम्बर पर्यो\", \"रङ नम्बर पर्\\u200dयो\", \"होइन\"]         },         \"2\":{             \"positive\" : [\"मिल्छ\",\"मिल्छ मिल्छ\",\"हजुर भन्नुस न\", \"अहिले मिल्छ\", \"हजुर मिल छ\"],             \"negative\" : [ \"अहिले त मिल्दैन\", \"मिल्दैन\", \"भोलि मात्रै मिल्छ\", \"एकै छिन पछि मात्रै मिल्छ\", \"अहिले मिल्दैन\", \"हजुर मिल दैन\"]         },         \"3\":{             \"positive\" : [\"हुन्छ\", \"हुन्छ, समय मिलाएर जान पर्ला\", \"धन्यवाद, म जान्छु\", \"म छिट्टै जान्छु\"],             \"negative\" : [\"हुँदैन\", \"अलि छिटो गर्न मिल्दैन?\", \"मलाई हतार छ, अलि चाँडो मिल्छ कि?\", \"म सँग अहिले डकुमेन्टहरू केही पनि छैन\",\"अलि समय पछि जाँदा पनि हुन्छ?\"]         },         \"4\":{             \"positive\" : [\"बुझे\",\"राम्ररी बुझे\",\"बुझे नि, धन्यवाद\"],             \"negative\" : [\"बुझिन\", \"बुझिएन\"]         },         \"repeat\": [[\"could you speak louder\",\"i can\\'t hear you\",\"repeat\",\"repeat please\",\"can you speak alittle louder?\", \"pardon?\", \"can you repeat?\", \"could you repeat?\",\"मैले बुझिन\", \"मलाई फेरी भनि दिनुस न\", \"हजुरले के भन्नु भएको मैले बुझिन\", \"हजुर के भन्नु भाको?\"]]     },     \"tts_next_states\": {       \"1\": {         \"yes\": {           \"next_state\": 2,           \"audio_file\": \"atm_capture2yes.wav\"         },         \"no\": {           \"next_state\": \"out_state\",           \"audio_file\": \"atm_capture2no.wav\"         },         \"repeat\": {           \"next_state\": 1,           \"audio_file\": \"atm_capture1.wav\"         }       },       \"2\": {         \"yes\": {           \"next_state\": 3,           \"audio_file\": \"atm_capture3yes.wav\"         },         \"no\": {           \"next_state\": \"out_state\",           \"audio_file\": \"atm_capture3no.wav\"         },         \"repeat\": {           \"next_state\": 2,           \"audio_file\": \"atm_capture2yes.wav\"         }       },       \"3\": {         \"yes\": {           \"next_state\": 4,           \"audio_file\": \"atm_capture5.wav\"         },         \"no\": {           \"next_state\": \"out_state\",           \"audio_file\": \"atm_capture4no.wav\"         },         \"repeat\": {           \"next_state\": 3,           \"audio_file\": \"atm_capture3yes.wav\"         }       },       \"4\": {         \"yes\": {           \"audio_file\": \"atm_capture5.wav\"         },         \"no\": {           \"audio_file\": \"atm_capture5.wav\"         },         \"repeat\": {           \"next_state\": 4,           \"audio_file\": \"atm_capture5.wav\"         }       }     }   }   ', 'status': 'called', 'scheduled_for_utc': '2024-11-21T09:12:16'}"
   ]
  },
  {
   "cell_type": "code",
   "execution_count": 3,
   "metadata": {},
   "outputs": [],
   "source": [
    "import json\n",
    "call_template=json.loads(row['call_type'])"
   ]
  },
  {
   "cell_type": "code",
   "execution_count": 4,
   "metadata": {},
   "outputs": [],
   "source": [
    "out_state=call_template['out_state']\n",
    "question_audio_for_tts=call_template['question_audio_for_tts']\n",
    "llm_states=call_template['llm_states']\n",
    "tts_next_states=call_template['tts_next_states']"
   ]
  },
  {
   "cell_type": "code",
   "execution_count": 5,
   "metadata": {},
   "outputs": [
    {
     "data": {
      "text/plain": [
       "{'1': {'yes': {'next_state': 2, 'audio_file': 'atm_capture2yes.wav'},\n",
       "  'no': {'next_state': 'out_state', 'audio_file': 'atm_capture2no.wav'},\n",
       "  'repeat': {'next_state': 1, 'audio_file': 'atm_capture1.wav'}},\n",
       " '2': {'yes': {'next_state': 3, 'audio_file': 'atm_capture3yes.wav'},\n",
       "  'no': {'next_state': 'out_state', 'audio_file': 'atm_capture3no.wav'},\n",
       "  'repeat': {'next_state': 2, 'audio_file': 'atm_capture2yes.wav'}},\n",
       " '3': {'yes': {'next_state': 4, 'audio_file': 'atm_capture5.wav'},\n",
       "  'no': {'next_state': 'out_state', 'audio_file': 'atm_capture4no.wav'},\n",
       "  'repeat': {'next_state': 3, 'audio_file': 'atm_capture3yes.wav'}},\n",
       " '4': {'yes': {'audio_file': 'atm_capture5.wav'},\n",
       "  'no': {'audio_file': 'atm_capture5.wav'},\n",
       "  'repeat': {'next_state': 4, 'audio_file': 'atm_capture5.wav'}}}"
      ]
     },
     "execution_count": 5,
     "metadata": {},
     "output_type": "execute_result"
    }
   ],
   "source": [
    "tts_next_states"
   ]
  },
  {
   "cell_type": "code",
   "execution_count": 7,
   "metadata": {},
   "outputs": [
    {
     "data": {
      "text/plain": [
       "{'next_state': 1, 'audio_file': 'atm_capture1.wav'}"
      ]
     },
     "execution_count": 7,
     "metadata": {},
     "output_type": "execute_result"
    }
   ],
   "source": [
    "tts_next_states['1']['repeat']"
   ]
  },
  {
   "cell_type": "code",
   "execution_count": 19,
   "metadata": {},
   "outputs": [
    {
     "name": "stdout",
     "output_type": "stream",
     "text": [
      "atm_capture2no.wav\n",
      "text converted to audio %s 4\n",
      "pushed audio array to audio_sender_queue\n"
     ]
    }
   ],
   "source": [
    "def tts(llm_output, state):\n",
    "    current_state = tts_next_states[str(state)]\n",
    "    if llm_output in current_state:\n",
    "        action = current_state[llm_output]\n",
    "        audio_file = action['audio_file']\n",
    "        print(audio_file)\n",
    "        \n",
    "        next_state = action.get('next_state', state)  # Default to current state if not specified\n",
    "        if isinstance(next_state, str) and next_state == 'out_state':\n",
    "            state = out_state\n",
    "        else:\n",
    "            state = next_state\n",
    "        \n",
    "        print('text converted to audio %s', state)\n",
    "        print('pushed audio array to audio_sender_queue')\n",
    "\n",
    "tts('no',1)"
   ]
  },
  {
   "cell_type": "code",
   "execution_count": 10,
   "metadata": {},
   "outputs": [
    {
     "data": {
      "text/plain": [
       "'atm1.wav'"
      ]
     },
     "execution_count": 10,
     "metadata": {},
     "output_type": "execute_result"
    }
   ],
   "source": [
    "call_type['states']['1']['repeat']['audio_file']"
   ]
  },
  {
   "cell_type": "code",
   "execution_count": null,
   "metadata": {},
   "outputs": [],
   "source": [
    "import wave\n",
    "from threading import Thread\n",
    "from audiosocket import Audiosocket\n",
    "from call_handler import *\n",
    "import time\n",
    "import threading\n",
    "import socket, json, requests\n",
    "\n",
    "\n",
    "audiosocket = Audiosocket((\"0.0.0.0\", 5001))\n",
    "\n",
    "def handle_connection(conn):\n",
    "\n",
    "    logging.info(\"Peer Address: \",conn.peer_addr)\n",
    "    \n",
    "    # Make the GET request\n",
    "    response = requests.get(\"http://192.168.89.109:8001/assigned_container_user\", params={\"assigned_container\": socket.gethostname()}, headers={\"accept\": \"application/json\"})\n",
    "\n",
    "    call_type=json.loads(response.json()['call_type'])\n",
    "    file_location=response.json()['tts_folder_location']\n",
    "\n",
    "    with wave.open(f'./{file_location}/{call_type['states']['1']['repeat']['audio_file']}', 'r') as wav_file:\n",
    "        frames = wav_file.getnframes()\n",
    "        rate = wav_file.getframerate()\n",
    "        duration = frames / float(rate)\n",
    "\n",
    "    callHandler=CallHandler(initial_audio_in_seconds=duration)\n",
    "    callHandler.caller=True\n",
    "    callHandler.nepali=True\n",
    "    start_thread=False\n",
    "\n",
    "    while conn.connected:\n",
    "        \n",
    "        # print('connected')\n",
    "        audio_bytes = conn.read()\n",
    "        callHandler.audio_buffer.write(audio_bytes)\n",
    "        \n",
    "        # callHandler.audio_buffer.write(upsample_audio_stream(audio_bytes))\n",
    "        if start_thread!=True:\n",
    "            requests.post(callHandler.call_logs_url, params={'caller_id': callHandler.caller_id,'event_type': 'Call Started','event_detail': ''}, headers={'accept': 'application/json'})\n",
    "            time.sleep(1)\n",
    "            conn.write_audio(get_audio_bytes(f'./{file_location}/{call_type['states']['1']['repeat']['audio_file']}'))\n",
    "            threading.Thread(target=callHandler.read_buffer_chunks, daemon=True).start()\n",
    "            threading.Thread(target=callHandler.read_vad_dictionary, daemon=True).start()\n",
    "            threading.Thread(target=callHandler.asr, daemon=True).start()\n",
    "            threading.Thread(target=callHandler.llm_ne, daemon=True).start()\n",
    "            threading.Thread(target=callHandler.tts_ne, daemon=True).start()\n",
    "            threading.Thread(target=callHandler.send_audio_back, daemon=True, args=(conn,)).start()\n",
    "            threading.Thread(target=callHandler.call_hangup, daemon=True, args=(conn,)).start()\n",
    "            start_thread=True\n",
    "    \n",
    "    logging.info(conn, \"Exited from while loop\")\n",
    "    callHandler.run_threads=False\n",
    "    logging.info(callHandler.run_threads, \"Stopping all threads by setting run_threads=\")\n",
    "    conn.hangup()\n",
    "    \n",
    "\n",
    "while True:\n",
    "    conn = audiosocket.listen()\n",
    "    # handle_connection(conn)\n",
    "    connection_thread = Thread(target=handle_connection, args=(conn,))\n",
    "    connection_thread.start()\n"
   ]
  },
  {
   "cell_type": "markdown",
   "metadata": {},
   "source": [
    "# Dynamic call_type json"
   ]
  },
  {
   "cell_type": "code",
   "execution_count": 9,
   "metadata": {},
   "outputs": [
    {
     "data": {
      "text/plain": [
       "{'type': 'atm_capture',\n",
       " 'out_state': 4,\n",
       " 'question_audio_for_tts': {'1': {'yes': 'नमस्ते! म ग्लोबल बैंकबाट प्रतिवा बोल्दैछु! के तपाईं {name} जी बोल्दै हुनुहुन्छ!'},\n",
       "  '2': {'yes': 'तपाईंको एटीएम कार्ड क्याप्चर भएको विषयमा कुरा गर्नु थियो। अहिले हजुरसँग कुरा गर्न मिल्छ?',\n",
       "   'no': 'तपाईंको समयको लागि धन्यवाद। म कुनै पनि अवरोधको लागि क्षमा चाहन्छु।'},\n",
       "  '3': {'yes': 'हामीले तपाईंको कार्डलाई अस्थायी रूपमा ब्लक गरेका छौं। तपाईंको कार्ड एक हप्ता पछि मात्र बैंकमा आउनेछ र कार्ड फिर्ता लिनको लागि तपाईं आफ्नो नागरिकता वा ड्राइभिङ लाइसेन्स वा पासपोर्ट लिएर ग्लोबल बैंकको कमलादी शाखामा जानुहोला।',\n",
       "   'no': 'मैले तपाईंको प्रतिक्रिया रेकर्ड गरेकी छु। तपाईंको समयको लागि धन्यवाद।'},\n",
       "  '4': {'no': 'मैले तपाईंको प्रतिक्रिया रेकर्ड गरेकी छु, तपाईंको समयको लागि धन्यवाद।'},\n",
       "  '5': {'yes': 'हुन्छ, तपाईंको समयको लागि धन्यवाद। केही गार्हो पर्यो भने सम्पर्क गर्नुहोला।'}},\n",
       " 'llm_states': {'1': {'positive': ['हो म {name} बोल्दै छु ',\n",
       "    'हजुर हो ',\n",
       "    'हजुर बोल्दै छु ',\n",
       "    'के कुरा को लागि हो',\n",
       "    'हजुर भन्नुस म सुनिरहेको छु',\n",
       "    'ओभाओ भन्नुस् न',\n",
       "    'हजार भनोस् न के काम पर्\\u200dयो',\n",
       "    'हजार भनोस् न'],\n",
       "   'negative': ['हैन',\n",
       "    'हैन नि',\n",
       "    'म त अर्कै मान्छे हो',\n",
       "    'मेरो नाम त रमेश हो',\n",
       "    'रंग नम्बर पर्यो',\n",
       "    'रङ नम्बर पर्\\u200dयो',\n",
       "    'होइन']},\n",
       "  '2': {'positive': ['मिल्छ',\n",
       "    'मिल्छ मिल्छ',\n",
       "    'हजुर भन्नुस न',\n",
       "    'अहिले मिल्छ',\n",
       "    'हजुर मिल छ'],\n",
       "   'negative': ['अहिले त मिल्दैन',\n",
       "    'मिल्दैन',\n",
       "    'भोलि मात्रै मिल्छ',\n",
       "    'एकै छिन पछि मात्रै मिल्छ',\n",
       "    'अहिले मिल्दैन',\n",
       "    'हजुर मिल दैन']},\n",
       "  '3': {'positive': ['हुन्छ',\n",
       "    'हुन्छ, समय मिलाएर जान पर्ला',\n",
       "    'धन्यवाद, म जान्छु',\n",
       "    'म छिट्टै जान्छु'],\n",
       "   'negative': ['हुँदैन',\n",
       "    'अलि छिटो गर्न मिल्दैन?',\n",
       "    'मलाई हतार छ, अलि चाँडो मिल्छ कि?',\n",
       "    'म सँग अहिले डकुमेन्टहरू केही पनि छैन',\n",
       "    'अलि समय पछि जाँदा पनि हुन्छ?']},\n",
       "  '4': {'positive': ['बुझे', 'राम्ररी बुझे', 'बुझे नि, धन्यवाद'],\n",
       "   'negative': ['बुझिन', 'बुझिएन']},\n",
       "  'repeat': [['could you speak louder',\n",
       "    \"i can't hear you\",\n",
       "    'repeat',\n",
       "    'repeat please',\n",
       "    'can you speak alittle louder?',\n",
       "    'pardon?',\n",
       "    'can you repeat?',\n",
       "    'could you repeat?',\n",
       "    'मैले बुझिन',\n",
       "    'मलाई फेरी भनि दिनुस न',\n",
       "    'हजुरले के भन्नु भएको मैले बुझिन',\n",
       "    'हजुर के भन्नु भाको?']]},\n",
       " 'tts_next_states': {'1': {'yes': {'next_state': 2,\n",
       "    'audio_file': 'atm_capture2yes.wav'},\n",
       "   'no': {'next_state': 'out_state', 'audio_file': 'atm_capture2no.wav'},\n",
       "   'repeat': {'next_state': 1, 'audio_file': 'atm_capture1.wav'}},\n",
       "  '2': {'yes': {'next_state': 3, 'audio_file': 'atm_capture3yes.wav'},\n",
       "   'no': {'next_state': 'out_state', 'audio_file': 'atm_capture3no.wav'},\n",
       "   'repeat': {'next_state': 2, 'audio_file': 'atm_capture2yes.wav'}},\n",
       "  '3': {'yes': {'next_state': 4, 'audio_file': 'atm_capture5.wav'},\n",
       "   'no': {'next_state': 'out_state', 'audio_file': 'atm_capture4no.wav'},\n",
       "   'repeat': {'next_state': 3, 'audio_file': 'atm_capture3yes.wav'}},\n",
       "  '4': {'yes': {'audio_file': 'atm_capture5.wav'},\n",
       "   'no': {'audio_file': 'atm_capture5.wav'},\n",
       "   'repeat': {'next_state': 4, 'audio_file': 'atm_capture5.wav'}}}}"
      ]
     },
     "execution_count": 9,
     "metadata": {},
     "output_type": "execute_result"
    }
   ],
   "source": [
    "import json\n",
    "\n",
    "with open('/home/bumblebee/wiseyak/abhi/global/audio-socket/calltype_json_template/atm_template.json','r') as f:\n",
    "    call_template=json.loads(f.read())\n",
    "\n",
    "call_template"
   ]
  },
  {
   "cell_type": "code",
   "execution_count": null,
   "metadata": {},
   "outputs": [],
   "source": [
    "# Recursive function to replace all occurrences of {name} with 'Abhinandan Ji'\n",
    "def replace_name(obj):\n",
    "    if isinstance(obj, dict):\n",
    "        for key, value in obj.items():\n",
    "            obj[key] = replace_name(value)\n",
    "    elif isinstance(obj, list):\n",
    "        for i in range(len(obj)):\n",
    "            obj[i] = replace_name(obj[i])\n",
    "    elif isinstance(obj, str):\n",
    "        obj = obj.replace('{name}', 'Abhinandan')\n",
    "    return obj\n"
   ]
  },
  {
   "cell_type": "code",
   "execution_count": 13,
   "metadata": {},
   "outputs": [
    {
     "data": {
      "text/plain": [
       "{'type': 'atm_capture',\n",
       " 'out_state': 4,\n",
       " 'question_audio_for_tts': {'1': {'yes': 'नमस्ते! म ग्लोबल बैंकबाट प्रतिवा बोल्दैछु! के तपाईं Abhinandan Ji जी बोल्दै हुनुहुन्छ!'},\n",
       "  '2': {'yes': 'तपाईंको एटीएम कार्ड क्याप्चर भएको विषयमा कुरा गर्नु थियो। अहिले हजुरसँग कुरा गर्न मिल्छ?',\n",
       "   'no': 'तपाईंको समयको लागि धन्यवाद। म कुनै पनि अवरोधको लागि क्षमा चाहन्छु।'},\n",
       "  '3': {'yes': 'हामीले तपाईंको कार्डलाई अस्थायी रूपमा ब्लक गरेका छौं। तपाईंको कार्ड एक हप्ता पछि मात्र बैंकमा आउनेछ र कार्ड फिर्ता लिनको लागि तपाईं आफ्नो नागरिकता वा ड्राइभिङ लाइसेन्स वा पासपोर्ट लिएर ग्लोबल बैंकको कमलादी शाखामा जानुहोला।',\n",
       "   'no': 'मैले तपाईंको प्रतिक्रिया रेकर्ड गरेकी छु। तपाईंको समयको लागि धन्यवाद।'},\n",
       "  '4': {'no': 'मैले तपाईंको प्रतिक्रिया रेकर्ड गरेकी छु, तपाईंको समयको लागि धन्यवाद।'},\n",
       "  '5': {'yes': 'हुन्छ, तपाईंको समयको लागि धन्यवाद। केही गार्हो पर्यो भने सम्पर्क गर्नुहोला।'}},\n",
       " 'llm_states': {'1': {'positive': ['हो म Abhinandan Ji बोल्दै छु ',\n",
       "    'हजुर हो ',\n",
       "    'हजुर बोल्दै छु ',\n",
       "    'के कुरा को लागि हो',\n",
       "    'हजुर भन्नुस म सुनिरहेको छु',\n",
       "    'ओभाओ भन्नुस् न',\n",
       "    'हजार भनोस् न के काम पर्\\u200dयो',\n",
       "    'हजार भनोस् न'],\n",
       "   'negative': ['हैन',\n",
       "    'हैन नि',\n",
       "    'म त अर्कै मान्छे हो',\n",
       "    'मेरो नाम त रमेश हो',\n",
       "    'रंग नम्बर पर्यो',\n",
       "    'रङ नम्बर पर्\\u200dयो',\n",
       "    'होइन']},\n",
       "  '2': {'positive': ['मिल्छ',\n",
       "    'मिल्छ मिल्छ',\n",
       "    'हजुर भन्नुस न',\n",
       "    'अहिले मिल्छ',\n",
       "    'हजुर मिल छ'],\n",
       "   'negative': ['अहिले त मिल्दैन',\n",
       "    'मिल्दैन',\n",
       "    'भोलि मात्रै मिल्छ',\n",
       "    'एकै छिन पछि मात्रै मिल्छ',\n",
       "    'अहिले मिल्दैन',\n",
       "    'हजुर मिल दैन']},\n",
       "  '3': {'positive': ['हुन्छ',\n",
       "    'हुन्छ, समय मिलाएर जान पर्ला',\n",
       "    'धन्यवाद, म जान्छु',\n",
       "    'म छिट्टै जान्छु'],\n",
       "   'negative': ['हुँदैन',\n",
       "    'अलि छिटो गर्न मिल्दैन?',\n",
       "    'मलाई हतार छ, अलि चाँडो मिल्छ कि?',\n",
       "    'म सँग अहिले डकुमेन्टहरू केही पनि छैन',\n",
       "    'अलि समय पछि जाँदा पनि हुन्छ?']},\n",
       "  '4': {'positive': ['बुझे', 'राम्ररी बुझे', 'बुझे नि, धन्यवाद'],\n",
       "   'negative': ['बुझिन', 'बुझिएन']},\n",
       "  'repeat': [['could you speak louder',\n",
       "    \"i can't hear you\",\n",
       "    'repeat',\n",
       "    'repeat please',\n",
       "    'can you speak alittle louder?',\n",
       "    'pardon?',\n",
       "    'can you repeat?',\n",
       "    'could you repeat?',\n",
       "    'मैले बुझिन',\n",
       "    'मलाई फेरी भनि दिनुस न',\n",
       "    'हजुरले के भन्नु भएको मैले बुझिन',\n",
       "    'हजुर के भन्नु भाको?']]},\n",
       " 'tts_next_states': {'1': {'yes': {'next_state': 2,\n",
       "    'audio_file': 'atm_capture2yes.wav'},\n",
       "   'no': {'next_state': 'out_state', 'audio_file': 'atm_capture2no.wav'},\n",
       "   'repeat': {'next_state': 1, 'audio_file': 'atm_capture1.wav'}},\n",
       "  '2': {'yes': {'next_state': 3, 'audio_file': 'atm_capture3yes.wav'},\n",
       "   'no': {'next_state': 'out_state', 'audio_file': 'atm_capture3no.wav'},\n",
       "   'repeat': {'next_state': 2, 'audio_file': 'atm_capture2yes.wav'}},\n",
       "  '3': {'yes': {'next_state': 4, 'audio_file': 'atm_capture5.wav'},\n",
       "   'no': {'next_state': 'out_state', 'audio_file': 'atm_capture4no.wav'},\n",
       "   'repeat': {'next_state': 3, 'audio_file': 'atm_capture3yes.wav'}},\n",
       "  '4': {'yes': {'audio_file': 'atm_capture5.wav'},\n",
       "   'no': {'audio_file': 'atm_capture5.wav'},\n",
       "   'repeat': {'next_state': 4, 'audio_file': 'atm_capture5.wav'}}}}"
      ]
     },
     "execution_count": 13,
     "metadata": {},
     "output_type": "execute_result"
    }
   ],
   "source": [
    "replace_name(call_template)"
   ]
  },
  {
   "cell_type": "markdown",
   "metadata": {},
   "source": [
    "# YAML TO JSON AND VICE VERSA"
   ]
  },
  {
   "cell_type": "code",
   "execution_count": 4,
   "metadata": {},
   "outputs": [],
   "source": [
    "import yaml\n",
    "import json\n",
    "\n",
    "with open('/home/bumblebee/wiseyak/abhi/global/audio-socket/calltype_json_template/atm_template.json') as f:\n",
    "    json_data=json.loads(f.read())\n",
    "\n",
    "with open('/home/bumblebee/wiseyak/abhi/global/audio-socket/calltype_json_template/atm_template.yaml', 'w') as yaml_file:\n",
    "    yaml.safe_dump(json_data, yaml_file, default_flow_style=False,allow_unicode=True)"
   ]
  },
  {
   "cell_type": "code",
   "execution_count": 17,
   "metadata": {},
   "outputs": [
    {
     "name": "stdout",
     "output_type": "stream",
     "text": [
      "{\n",
      "    \"llm_states\": {\n",
      "        \"1\": {\n",
      "            \"negative\": [\n",
      "                \"हैन\",\n",
      "                \"हैन नि\",\n",
      "                \"म त अर्कै मान्छे हो\",\n",
      "                \"मेरो नाम त रमेश हो\",\n",
      "                \"रंग नम्बर पर्यो\",\n",
      "                \"रङ नम्बर पर्‍यो\",\n",
      "                \"होइन\"\n",
      "            ],\n",
      "            \"positive\": [\n",
      "                \"हो म {name} बोल्दै छु\",\n",
      "                \"हजुर हो\",\n",
      "                \"हजुर बोल्दै छु\",\n",
      "                \"के कुरा को लागि हो\",\n",
      "                \"हजुर भन्नुस म सुनिरहेको छु\",\n",
      "                \"ओभाओ भन्नुस् न\",\n",
      "                \"हजार भनोस् न के काम पर्‍यो\",\n",
      "                \"हजार भनोस् न\"\n",
      "            ]\n",
      "        },\n",
      "        \"2\": {\n",
      "            \"negative\": [\n",
      "                \"अहिले त मिल्दैन\",\n",
      "                \"मिल्दैन\",\n",
      "                \"भोलि मात्रै मिल्छ\",\n",
      "                \"एकै छिन पछि मात्रै मिल्छ\",\n",
      "                \"अहिले मिल्दैन\",\n",
      "                \"हजुर मिल दैन\"\n",
      "            ],\n",
      "            \"positive\": [\n",
      "                \"मिल्छ\",\n",
      "                \"मिल्छ मिल्छ\",\n",
      "                \"हजुर भन्नुस न\",\n",
      "                \"अहिले मिल्छ\",\n",
      "                \"हजुर मिल छ\"\n",
      "            ]\n",
      "        },\n",
      "        \"3\": {\n",
      "            \"negative\": [\n",
      "                \"हुँदैन\",\n",
      "                \"अलि छिटो गर्न मिल्दैन?\",\n",
      "                \"मलाई हतार छ, अलि चाँडो मिल्छ कि?\",\n",
      "                \"म सँग अहिले डकुमेन्टहरू केही पनि छैन\",\n",
      "                \"अलि समय पछि जाँदा पनि हुन्छ?\"\n",
      "            ],\n",
      "            \"positive\": [\n",
      "                \"हुन्छ\",\n",
      "                \"हुन्छ, समय मिलाएर जान पर्ला\",\n",
      "                \"धन्यवाद, म जान्छु\",\n",
      "                \"म छिट्टै जान्छु\"\n",
      "            ]\n",
      "        },\n",
      "        \"4\": {\n",
      "            \"negative\": [\n",
      "                \"बुझिन\",\n",
      "                \"बुझिएन\"\n",
      "            ],\n",
      "            \"positive\": [\n",
      "                \"बुझे\",\n",
      "                \"राम्ररी बुझे\",\n",
      "                \"बुझे नि, धन्यवाद\"\n",
      "            ]\n",
      "        },\n",
      "        \"repeat\": [\n",
      "            [\n",
      "                \"could you speak louder\",\n",
      "                \"i can't hear you\",\n",
      "                \"repeat\",\n",
      "                \"repeat please\",\n",
      "                \"can you speak alittle louder?\",\n",
      "                \"pardon?\",\n",
      "                \"can you repeat?\",\n",
      "                \"could you repeat?\",\n",
      "                \"मैले बुझिन\",\n",
      "                \"मलाई फेरी भनि दिनुस न\",\n",
      "                \"हजुरले के भन्नु भएको मैले बुझिन\",\n",
      "                \"हजुर के भन्नु भाको?\"\n",
      "            ]\n",
      "        ]\n",
      "    },\n",
      "    \"out_state\": 4,\n",
      "    \"question_audio_for_tts\": {\n",
      "        \"1\": {\n",
      "            \"true\": \"नमस्ते! म ग्लोबल बैंकबाट प्रतिवा बोल्दैछु! के तपाईं {name} जी बोल्दै हुनुहुन्छ!\"\n",
      "        },\n",
      "        \"2\": {\n",
      "            \"false\": \"तपाईंको समयको लागि धन्यवाद। म कुनै पनि अवरोधको लागि क्षमा चाहन्छु।\",\n",
      "            \"true\": \"तपाईंको एटीएम कार्ड क्याप्चर भएको विषयमा कुरा गर्नु थियो। अहिले हजुरसँग कुरा गर्न मिल्छ?\"\n",
      "        },\n",
      "        \"3\": {\n",
      "            \"false\": \"मैले तपाईंको प्रतिक्रिया रेकर्ड गरेकी छु। तपाईंको समयको लागि धन्यवाद।\",\n",
      "            \"true\": \"हामीले तपाईंको कार्डलाई अस्थायी रूपमा ब्लक गरेका छौं। तपाईंको कार्ड एक हप्ता पछि मात्र बैंकमा आउनेछ र कार्ड फिर्ता लिनको लागि तपाईं आफ्नो नागरिकता वा ड्राइभिङ लाइसेन्स वा पासपोर्ट लिएर ग्लोबल बैंकको कमलादी शाखामा जानुहोला।\"\n",
      "        },\n",
      "        \"4\": {\n",
      "            \"false\": \"मैले तपाईंको प्रतिक्रिया रेकर्ड गरेकी छु, तपाईंको समयको लागि धन्यवाद।\"\n",
      "        },\n",
      "        \"5\": {\n",
      "            \"true\": \"हुन्छ, तपाईंको समयको लागि धन्यवाद। केही गार्हो पर्यो भने सम्पर्क गर्नुहोला।\"\n",
      "        }\n",
      "    },\n",
      "    \"tts_next_states\": {\n",
      "        \"1\": {\n",
      "            \"false\": {\n",
      "                \"audio_file\": \"atm_capture2no.wav\",\n",
      "                \"next_state\": \"out_state\"\n",
      "            },\n",
      "            \"repeat\": {\n",
      "                \"audio_file\": \"atm_capture1.wav\",\n",
      "                \"next_state\": 1\n",
      "            },\n",
      "            \"true\": {\n",
      "                \"audio_file\": \"atm_capture2yes.wav\",\n",
      "                \"next_state\": 2\n",
      "            }\n",
      "        },\n",
      "        \"2\": {\n",
      "            \"false\": {\n",
      "                \"audio_file\": \"atm_capture3no.wav\",\n",
      "                \"next_state\": \"out_state\"\n",
      "            },\n",
      "            \"repeat\": {\n",
      "                \"audio_file\": \"atm_capture2yes.wav\",\n",
      "                \"next_state\": 2\n",
      "            },\n",
      "            \"true\": {\n",
      "                \"audio_file\": \"atm_capture3yes.wav\",\n",
      "                \"next_state\": 3\n",
      "            }\n",
      "        },\n",
      "        \"3\": {\n",
      "            \"false\": {\n",
      "                \"audio_file\": \"atm_capture4no.wav\",\n",
      "                \"next_state\": \"out_state\"\n",
      "            },\n",
      "            \"repeat\": {\n",
      "                \"audio_file\": \"atm_capture3yes.wav\",\n",
      "                \"next_state\": 3\n",
      "            },\n",
      "            \"true\": {\n",
      "                \"audio_file\": \"atm_capture5.wav\",\n",
      "                \"next_state\": 4\n",
      "            }\n",
      "        },\n",
      "        \"4\": {\n",
      "            \"false\": {\n",
      "                \"audio_file\": \"atm_capture5.wav\"\n",
      "            },\n",
      "            \"repeat\": {\n",
      "                \"audio_file\": \"atm_capture5.wav\",\n",
      "                \"next_state\": 4\n",
      "            },\n",
      "            \"true\": {\n",
      "                \"audio_file\": \"atm_capture5.wav\"\n",
      "            }\n",
      "        }\n",
      "    },\n",
      "    \"type\": \"atm_capture\"\n",
      "}\n"
     ]
    }
   ],
   "source": [
    "# Convert YAML to Python dictionary\n",
    "with open('/home/bumblebee/wiseyak/abhi/global/audio-socket/calltype_json_template/atm_template.yaml', 'r') as yaml_file:\n",
    "    data = yaml.safe_load(yaml_file, )\n",
    "\n",
    "# Convert dictionary to JSON and print\n",
    "json_data = json.dumps(data, indent=4, ensure_ascii=False)\n",
    "print(json_data)"
   ]
  },
  {
   "cell_type": "code",
   "execution_count": 18,
   "metadata": {},
   "outputs": [
    {
     "data": {
      "text/plain": [
       "{'llm_states': {'1': {'negative': ['हैन',\n",
       "    'हैन नि',\n",
       "    'म त अर्कै मान्छे हो',\n",
       "    'मेरो नाम त रमेश हो',\n",
       "    'रंग नम्बर पर्यो',\n",
       "    'रङ नम्बर पर्\\u200dयो',\n",
       "    'होइन'],\n",
       "   'positive': ['हो म {name} बोल्दै छु',\n",
       "    'हजुर हो',\n",
       "    'हजुर बोल्दै छु',\n",
       "    'के कुरा को लागि हो',\n",
       "    'हजुर भन्नुस म सुनिरहेको छु',\n",
       "    'ओभाओ भन्नुस् न',\n",
       "    'हजार भनोस् न के काम पर्\\u200dयो',\n",
       "    'हजार भनोस् न']},\n",
       "  '2': {'negative': ['अहिले त मिल्दैन',\n",
       "    'मिल्दैन',\n",
       "    'भोलि मात्रै मिल्छ',\n",
       "    'एकै छिन पछि मात्रै मिल्छ',\n",
       "    'अहिले मिल्दैन',\n",
       "    'हजुर मिल दैन'],\n",
       "   'positive': ['मिल्छ',\n",
       "    'मिल्छ मिल्छ',\n",
       "    'हजुर भन्नुस न',\n",
       "    'अहिले मिल्छ',\n",
       "    'हजुर मिल छ']},\n",
       "  '3': {'negative': ['हुँदैन',\n",
       "    'अलि छिटो गर्न मिल्दैन?',\n",
       "    'मलाई हतार छ, अलि चाँडो मिल्छ कि?',\n",
       "    'म सँग अहिले डकुमेन्टहरू केही पनि छैन',\n",
       "    'अलि समय पछि जाँदा पनि हुन्छ?'],\n",
       "   'positive': ['हुन्छ',\n",
       "    'हुन्छ, समय मिलाएर जान पर्ला',\n",
       "    'धन्यवाद, म जान्छु',\n",
       "    'म छिट्टै जान्छु']},\n",
       "  '4': {'negative': ['बुझिन', 'बुझिएन'],\n",
       "   'positive': ['बुझे', 'राम्ररी बुझे', 'बुझे नि, धन्यवाद']},\n",
       "  'repeat': [['could you speak louder',\n",
       "    \"i can't hear you\",\n",
       "    'repeat',\n",
       "    'repeat please',\n",
       "    'can you speak alittle louder?',\n",
       "    'pardon?',\n",
       "    'can you repeat?',\n",
       "    'could you repeat?',\n",
       "    'मैले बुझिन',\n",
       "    'मलाई फेरी भनि दिनुस न',\n",
       "    'हजुरले के भन्नु भएको मैले बुझिन',\n",
       "    'हजुर के भन्नु भाको?']]},\n",
       " 'out_state': 4,\n",
       " 'question_audio_for_tts': {'1': {True: 'नमस्ते! म ग्लोबल बैंकबाट प्रतिवा बोल्दैछु! के तपाईं {name} जी बोल्दै हुनुहुन्छ!'},\n",
       "  '2': {False: 'तपाईंको समयको लागि धन्यवाद। म कुनै पनि अवरोधको लागि क्षमा चाहन्छु।',\n",
       "   True: 'तपाईंको एटीएम कार्ड क्याप्चर भएको विषयमा कुरा गर्नु थियो। अहिले हजुरसँग कुरा गर्न मिल्छ?'},\n",
       "  '3': {False: 'मैले तपाईंको प्रतिक्रिया रेकर्ड गरेकी छु। तपाईंको समयको लागि धन्यवाद।',\n",
       "   True: 'हामीले तपाईंको कार्डलाई अस्थायी रूपमा ब्लक गरेका छौं। तपाईंको कार्ड एक हप्ता पछि मात्र बैंकमा आउनेछ र कार्ड फिर्ता लिनको लागि तपाईं आफ्नो नागरिकता वा ड्राइभिङ लाइसेन्स वा पासपोर्ट लिएर ग्लोबल बैंकको कमलादी शाखामा जानुहोला।'},\n",
       "  '4': {False: 'मैले तपाईंको प्रतिक्रिया रेकर्ड गरेकी छु, तपाईंको समयको लागि धन्यवाद।'},\n",
       "  '5': {True: 'हुन्छ, तपाईंको समयको लागि धन्यवाद। केही गार्हो पर्यो भने सम्पर्क गर्नुहोला।'}},\n",
       " 'tts_next_states': {'1': {False: {'audio_file': 'atm_capture2no.wav',\n",
       "    'next_state': 'out_state'},\n",
       "   'repeat': {'audio_file': 'atm_capture1.wav', 'next_state': 1},\n",
       "   True: {'audio_file': 'atm_capture2yes.wav', 'next_state': 2}},\n",
       "  '2': {False: {'audio_file': 'atm_capture3no.wav', 'next_state': 'out_state'},\n",
       "   'repeat': {'audio_file': 'atm_capture2yes.wav', 'next_state': 2},\n",
       "   True: {'audio_file': 'atm_capture3yes.wav', 'next_state': 3}},\n",
       "  '3': {False: {'audio_file': 'atm_capture4no.wav', 'next_state': 'out_state'},\n",
       "   'repeat': {'audio_file': 'atm_capture3yes.wav', 'next_state': 3},\n",
       "   True: {'audio_file': 'atm_capture5.wav', 'next_state': 4}},\n",
       "  '4': {False: {'audio_file': 'atm_capture5.wav'},\n",
       "   'repeat': {'audio_file': 'atm_capture5.wav', 'next_state': 4},\n",
       "   True: {'audio_file': 'atm_capture5.wav'}}},\n",
       " 'type': 'atm_capture'}"
      ]
     },
     "execution_count": 18,
     "metadata": {},
     "output_type": "execute_result"
    }
   ],
   "source": [
    "data"
   ]
  },
  {
   "cell_type": "code",
   "execution_count": null,
   "metadata": {},
   "outputs": [],
   "source": [
    "'''\n",
    "    select\n",
    "        *\n",
    "    from user_details\n",
    "    where \n",
    "        scheduled_for_utc is null and\n",
    "        call_type is null\n",
    "'''"
   ]
  }
 ],
 "metadata": {
  "kernelspec": {
   "display_name": "Python 3",
   "language": "python",
   "name": "python3"
  },
  "language_info": {
   "codemirror_mode": {
    "name": "ipython",
    "version": 3
   },
   "file_extension": ".py",
   "mimetype": "text/x-python",
   "name": "python",
   "nbconvert_exporter": "python",
   "pygments_lexer": "ipython3",
   "version": "3.10.12"
  }
 },
 "nbformat": 4,
 "nbformat_minor": 2
}
